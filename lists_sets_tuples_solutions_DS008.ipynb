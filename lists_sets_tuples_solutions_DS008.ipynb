{
  "cells": [
    {
      "cell_type": "markdown",
      "metadata": {
        "id": "view-in-github",
        "colab_type": "text"
      },
      "source": [
        "<a href=\"https://colab.research.google.com/github/aslam7861/Python/blob/main/lists_sets_tuples_solutions_DS008.ipynb\" target=\"_parent\"><img src=\"https://colab.research.google.com/assets/colab-badge.svg\" alt=\"Open In Colab\"/></a>"
      ]
    },
    {
      "cell_type": "markdown",
      "metadata": {
        "id": "evJ2TrGx-IJn"
      },
      "source": [
        "# Lists\n",
        "\n",
        "As we are to become Data Scientists, we are going to need objects that can store multiple elements. In Python, the list is one of the most useful of these. You can create a list with `[]`, and separate each element with a comma:"
      ]
    },
    {
      "cell_type": "code",
      "execution_count": null,
      "metadata": {
        "id": "2WTRWUWU-IJu"
      },
      "outputs": [],
      "source": [
        "# https://www.w3schools.com/python/python_lists.asp\n",
        "\n",
        "weekdays = [\"Monday\", \"Tuesday\", \"Wednesday\", \"Thursday\", \"Friday\"]"
      ]
    },
    {
      "cell_type": "markdown",
      "metadata": {
        "id": "PD2FdgHZ-IJv"
      },
      "source": [
        "A list can also contain numbers:"
      ]
    },
    {
      "cell_type": "code",
      "execution_count": null,
      "metadata": {
        "id": "T8jYjrlB-IJw"
      },
      "outputs": [],
      "source": [
        "leap_years = [2000, 2004, 2008, 2012, 2016, 2020]"
      ]
    },
    {
      "cell_type": "markdown",
      "metadata": {
        "id": "ln8aKeZc-IJw"
      },
      "source": [
        "You can create a list out of something else with `list()`:"
      ]
    },
    {
      "cell_type": "code",
      "execution_count": null,
      "metadata": {
        "id": "M3ynuQNH-IJw",
        "outputId": "1109fbb3-368b-4515-ee87-cd5416ca8450",
        "colab": {
          "base_uri": "https://localhost:8080/"
        }
      },
      "outputs": [
        {
          "output_type": "execute_result",
          "data": {
            "text/plain": [
              "['W', 'B', 'S', 'C', 'S']"
            ]
          },
          "metadata": {},
          "execution_count": 5
        }
      ],
      "source": [
        "# https://www.w3schools.com/python/ref_func_list.asp\n",
        "\n",
        "list(\"WBSCS\")"
      ]
    },
    {
      "cell_type": "markdown",
      "metadata": {
        "id": "H5yWiS0X-IJx"
      },
      "source": [
        "You can extract single or multiple values from a list by especifying their index inside of square brackets:"
      ]
    },
    {
      "cell_type": "code",
      "execution_count": null,
      "metadata": {
        "id": "86cEoKzp-IJx",
        "outputId": "856e2d63-e375-4084-9a1c-730e9ce10f22",
        "colab": {
          "base_uri": "https://localhost:8080/",
          "height": 36
        }
      },
      "outputs": [
        {
          "output_type": "execute_result",
          "data": {
            "text/plain": [
              "'Monday'"
            ],
            "application/vnd.google.colaboratory.intrinsic+json": {
              "type": "string"
            }
          },
          "metadata": {},
          "execution_count": 6
        }
      ],
      "source": [
        "weekdays[0]"
      ]
    },
    {
      "cell_type": "code",
      "execution_count": null,
      "metadata": {
        "id": "bt9Xhvg9-IJy",
        "outputId": "2af68c35-4991-4247-c296-0b0e478e9b7e",
        "colab": {
          "base_uri": "https://localhost:8080/"
        }
      },
      "outputs": [
        {
          "output_type": "execute_result",
          "data": {
            "text/plain": [
              "2020"
            ]
          },
          "metadata": {},
          "execution_count": 7
        }
      ],
      "source": [
        "leap_years[-1]"
      ]
    },
    {
      "cell_type": "code",
      "execution_count": null,
      "metadata": {
        "id": "W_Hcp3_C-IJy",
        "outputId": "0ba85570-0e83-4f23-bd40-c6c880858d41",
        "colab": {
          "base_uri": "https://localhost:8080/"
        }
      },
      "outputs": [
        {
          "output_type": "execute_result",
          "data": {
            "text/plain": [
              "['Monday']"
            ]
          },
          "metadata": {},
          "execution_count": 8
        }
      ],
      "source": [
        "weekdays[0:1]"
      ]
    },
    {
      "cell_type": "markdown",
      "metadata": {
        "id": "ngqN-AnY-IJy"
      },
      "source": [
        "One of the most useful functions we will use in combination with lists is `append()`: it just adds an element at the end of the list:"
      ]
    },
    {
      "cell_type": "code",
      "execution_count": null,
      "metadata": {
        "id": "BYfc6SML-IJz",
        "outputId": "06435773-b746-406f-98a6-0ac279d31e1c",
        "colab": {
          "base_uri": "https://localhost:8080/"
        }
      },
      "outputs": [
        {
          "output_type": "stream",
          "name": "stdout",
          "text": [
            "[2000, 2004, 2008, 2012, 2016, 2020, 2024]\n"
          ]
        }
      ],
      "source": [
        "# https://www.w3schools.com/python/ref_list_append.asp\n",
        "\n",
        "leap_years.append(2024)\n",
        "print(leap_years)"
      ]
    },
    {
      "cell_type": "code",
      "source": [
        "temp = []\n",
        "\n",
        "for i in range(5): \n",
        "    temp.append(i)\n",
        "\n",
        "temp"
      ],
      "metadata": {
        "colab": {
          "base_uri": "https://localhost:8080/"
        },
        "id": "6DbP27Xdftvx",
        "outputId": "788331d7-8091-49f5-b813-23f062d83656"
      },
      "execution_count": null,
      "outputs": [
        {
          "output_type": "execute_result",
          "data": {
            "text/plain": [
              "[0, 1, 2, 3, 4]"
            ]
          },
          "metadata": {},
          "execution_count": 13
        }
      ]
    },
    {
      "cell_type": "markdown",
      "metadata": {
        "id": "Mb2QbYFE-IJz"
      },
      "source": [
        "This is possible because lists, unlike strings or numbers, are mutable: you can change them without having to define them again."
      ]
    },
    {
      "cell_type": "markdown",
      "metadata": {
        "id": "Pbow42kU-IJz"
      },
      "source": [
        "The `insert()` function does the same, but at any specified position:"
      ]
    },
    {
      "cell_type": "code",
      "execution_count": null,
      "metadata": {
        "id": "LlX6vM1a-IJz",
        "outputId": "3ac56572-ae04-405d-85eb-f0d1b9c7fab8",
        "colab": {
          "base_uri": "https://localhost:8080/"
        }
      },
      "outputs": [
        {
          "output_type": "stream",
          "name": "stdout",
          "text": [
            "[1996, 2000, 2004, 2008, 2012, 2016, 2020]\n"
          ]
        }
      ],
      "source": [
        "# https://www.w3schools.com/python/ref_list_insert.asp\n",
        "\n",
        "leap_years.insert(0, 1996)\n",
        "print(leap_years)"
      ]
    },
    {
      "cell_type": "code",
      "execution_count": null,
      "metadata": {
        "id": "CzHEG0Tu-IJ0",
        "outputId": "36dcc75e-f246-4627-af3d-4b14b14aef6b",
        "colab": {
          "base_uri": "https://localhost:8080/"
        }
      },
      "outputs": [
        {
          "output_type": "stream",
          "name": "stdout",
          "text": [
            "[1996, 2000, 'Happy new millenia', 2004, 2008, 2012, 2016, 2020, 2024]\n"
          ]
        }
      ],
      "source": [
        "leap_years.insert(2, \"Happy new millenia\")\n",
        "print(leap_years)"
      ]
    },
    {
      "cell_type": "markdown",
      "metadata": {
        "id": "UAvH2X8K-IJ0"
      },
      "source": [
        "As you can see, lists support elements from different data types. They're heterogeneous.\n",
        "\n",
        "There are some other built-in methods that you can use to manipulate lists. Check them out here (https://www.w3schools.com/python/python_lists_methods.asp) and complete the following exercises:"
      ]
    },
    {
      "cell_type": "code",
      "execution_count": null,
      "metadata": {
        "id": "ll49LIKx-IJ0"
      },
      "outputs": [],
      "source": [
        "# some lists to work with\n",
        "car_brands = [\"BMW\", \"Volkswagen\", \"Mercedes\", \"Ford\", \"Apple\", \"Toyota\", \n",
        "              \"Tesla\", \"Kia\", \"Porsche\", \"Mazda\", \"Honda\", \"Jaguar\", \n",
        "              \"Mitsubishi\", \"Audi\", \"Bentley\", \"Bugatti\", \"Chrisler\"]\n",
        "\n",
        "fibonacci = [0, 1, 1, 2, 3, 5, 8, 13, 21, 34, 53, 89, 144]\n",
        "\n",
        "characters = [[\"Harry\", \"Hermoine\", \"Ron\"], \n",
        "              [\"Daenerys Targaryen\", \"Jon Snow\", \"Tyrion Lannister\", \n",
        "               \"Cercei Lannister\", \"Arya Stark\", \"Sansa Stark\"],\n",
        "              [\"Aragorn\", \"Gandalf\", \"Frodo\", \"Legolas\", \"Gollum\", \"Gimli\"],\n",
        "              [\"Walter White\", \"Jesse Pinkman\", \"Gus Fring\"]\n",
        "             ]\n",
        "\n",
        "sex_and_the_city = [\"Carrie\", \"Samantha\", \"Charlotte\", \"Miranda\"]\n",
        "\n",
        "numbers = [[1, 51, 59, 2, 95, 25, 28, 67, 14, 63, 84, 33, 56, 31, 54, 97, 77, \n",
        "            98, 46, 84, 6, 66, 86, 77, 69, 19, 77, 7, 76, 19, 59, 77, 28, 34, \n",
        "            94, 4, 45, 95, 41, 66, 5, 38, 35, 57, 84, 38, 94, 65, 45, 80, 83, \n",
        "            22, 12, 100, 52, 55, 31, 69, 29, 67, 4, 39, 87, 49, 81, 82, 96, 4, \n",
        "            85, 62, 90, 72, 70, 26, 29, 63, 48, 94, 58, 9, 49, 79, 33, 63, 41, \n",
        "            13, 90, 37, 31, 3, 11, 54, 56, 72, 91, 97, 2, 83, 82, 6]]"
      ]
    },
    {
      "cell_type": "markdown",
      "metadata": {
        "id": "xlx6IauS-IJ0"
      },
      "source": [
        "###### **Exercise 1:**\n",
        "find out the position of \"Bugatti\" in the `car_brands` list (whether it's the 3rd element, the 5th...)."
      ]
    },
    {
      "cell_type": "code",
      "execution_count": null,
      "metadata": {
        "tags": [],
        "id": "JSOkYULM-IJ1",
        "outputId": "3c2dec8c-84d8-4e95-b85d-453a758e5030",
        "colab": {
          "base_uri": "https://localhost:8080/"
        }
      },
      "outputs": [
        {
          "output_type": "execute_result",
          "data": {
            "text/plain": [
              "16"
            ]
          },
          "metadata": {},
          "execution_count": 23
        }
      ],
      "source": [
        "# https://www.w3schools.com/python/ref_list_index.asp\n",
        "\n",
        "bugatti_index = car_brands.index('Bugatti') + 1\n",
        "bugatti_index"
      ]
    },
    {
      "cell_type": "markdown",
      "metadata": {
        "id": "uY0v5oU6-IJ1"
      },
      "source": [
        "###### **Exercise 2:**\n",
        "remove \"Apple\" from the `car_brands` list."
      ]
    },
    {
      "cell_type": "code",
      "execution_count": null,
      "metadata": {
        "id": "7P6_IQoQ-IJ1",
        "outputId": "bff8c303-47ec-42f1-fd45-efa6876ac02d",
        "colab": {
          "base_uri": "https://localhost:8080/"
        }
      },
      "outputs": [
        {
          "output_type": "execute_result",
          "data": {
            "text/plain": [
              "['BMW',\n",
              " 'Volkswagen',\n",
              " 'Mercedes',\n",
              " 'Ford',\n",
              " 'Toyota',\n",
              " 'Tesla',\n",
              " 'Kia',\n",
              " 'Porsche',\n",
              " 'Mazda',\n",
              " 'Honda',\n",
              " 'Jaguar',\n",
              " 'Mitsubishi',\n",
              " 'Audi',\n",
              " 'Bentley',\n",
              " 'Bugatti',\n",
              " 'Chrisler']"
            ]
          },
          "metadata": {},
          "execution_count": 12
        }
      ],
      "source": [
        "#https://www.w3schools.com/python/ref_list_remove.asp\n",
        "\n",
        "car_brands.remove('Apple')\n",
        "car_brands"
      ]
    },
    {
      "cell_type": "markdown",
      "source": [
        ""
      ],
      "metadata": {
        "id": "s272exJGZbcQ"
      }
    },
    {
      "cell_type": "markdown",
      "metadata": {
        "id": "FBddT04e-IJ1"
      },
      "source": [
        "###### **Exercise 3:**\n",
        "order alphabetically the `car_brands` list."
      ]
    },
    {
      "cell_type": "code",
      "execution_count": null,
      "metadata": {
        "id": "mz9fI6tl-IJ2",
        "colab": {
          "base_uri": "https://localhost:8080/"
        },
        "outputId": "29e90fe1-3206-431c-a346-c153208b1e46"
      },
      "outputs": [
        {
          "output_type": "execute_result",
          "data": {
            "text/plain": [
              "['Apple',\n",
              " 'Audi',\n",
              " 'BMW',\n",
              " 'Bentley',\n",
              " 'Bugatti',\n",
              " 'Chrisler',\n",
              " 'Ford',\n",
              " 'Honda',\n",
              " 'Jaguar',\n",
              " 'Kia',\n",
              " 'Mazda',\n",
              " 'Mercedes',\n",
              " 'Mitsubishi',\n",
              " 'Porsche',\n",
              " 'Tesla',\n",
              " 'Toyota',\n",
              " 'Volkswagen']"
            ]
          },
          "metadata": {},
          "execution_count": 31
        }
      ],
      "source": [
        "# https://www.w3schools.com/python/ref_list_sort.asp\n",
        "\n",
        "car_brands.sort()\n",
        "car_brands"
      ]
    },
    {
      "cell_type": "markdown",
      "metadata": {
        "id": "i9kwIGR9-IJ2"
      },
      "source": [
        "###### **Exercise 4:**\n",
        "there's a mistake in the list with fibonacci sequence, fix it."
      ]
    },
    {
      "cell_type": "code",
      "execution_count": null,
      "metadata": {
        "id": "W8ZJ10Ui-IJ2",
        "outputId": "c2e0fff5-731e-4141-b785-fcb943e75145",
        "colab": {
          "base_uri": "https://localhost:8080/"
        }
      },
      "outputs": [
        {
          "output_type": "stream",
          "name": "stdout",
          "text": [
            "[144, 89, 55, 34, 21, 13, 8, 5, 3, 2, 55, 1, 0]\n"
          ]
        }
      ],
      "source": [
        "# https://www.w3schools.com/python/ref_list_pop.asp\n",
        "# https://www.w3schools.com/python/ref_list_insert.asp\n",
        "\n",
        "fibonacci.pop(10)\n",
        "fibonacci.insert(10,55)\n",
        "print(fibonacci)"
      ]
    },
    {
      "cell_type": "markdown",
      "metadata": {
        "id": "TNiW1faP-IJ2"
      },
      "source": [
        "###### **Exercise 5:**\n",
        "order the `fibonacci` list descendingly."
      ]
    },
    {
      "cell_type": "code",
      "execution_count": null,
      "metadata": {
        "id": "9WihLuby-IJ2",
        "outputId": "140118df-7de4-4c6a-f9bb-1f861ca50590",
        "colab": {
          "base_uri": "https://localhost:8080/"
        }
      },
      "outputs": [
        {
          "output_type": "execute_result",
          "data": {
            "text/plain": [
              "[144, 89, 55, 34, 21, 13, 8, 5, 3, 2, 1, 1, 0]"
            ]
          },
          "metadata": {},
          "execution_count": 12
        }
      ],
      "source": [
        "fibonacci.sort(reverse=True)\n",
        "fibonacci"
      ]
    },
    {
      "cell_type": "markdown",
      "metadata": {
        "id": "pn8eWBXx-IJ2"
      },
      "source": [
        "###### **Exercise 6:**\n",
        "add \"Hagrid\" and \"Dumbledore\" to the first list inside the `characters` list."
      ]
    },
    {
      "cell_type": "code",
      "source": [
        "characters"
      ],
      "metadata": {
        "colab": {
          "base_uri": "https://localhost:8080/"
        },
        "id": "4lwTP3UThqqe",
        "outputId": "5980cd37-6675-4a61-93e4-6af168bfff02"
      },
      "execution_count": null,
      "outputs": [
        {
          "output_type": "execute_result",
          "data": {
            "text/plain": [
              "[['Harry', 'Hermoine', 'Ron'],\n",
              " ['Daenerys Targaryen',\n",
              "  'Jon Snow',\n",
              "  'Tyrion Lannister',\n",
              "  'Cercei Lannister',\n",
              "  'Arya Stark',\n",
              "  'Sansa Stark'],\n",
              " ['Aragorn', 'Gandalf', 'Frodo', 'Legolas', 'Gollum', 'Gimli'],\n",
              " ['Walter White', 'Jesse Pinkman', 'Gus Fring']]"
            ]
          },
          "metadata": {},
          "execution_count": 24
        }
      ]
    },
    {
      "cell_type": "code",
      "execution_count": null,
      "metadata": {
        "id": "gICkANM8-IJ2",
        "outputId": "59aee1ee-ff66-4c49-d33c-8bbbde804aff",
        "colab": {
          "base_uri": "https://localhost:8080/"
        }
      },
      "outputs": [
        {
          "output_type": "execute_result",
          "data": {
            "text/plain": [
              "[['Harry', 'Hermoine', 'Ron', 'Hagrid', 'Dumbledore'],\n",
              " ['Daenerys Targaryen',\n",
              "  'Jon Snow',\n",
              "  'Tyrion Lannister',\n",
              "  'Cercei Lannister',\n",
              "  'Arya Stark',\n",
              "  'Sansa Stark'],\n",
              " ['Aragorn', 'Gandalf', 'Frodo', 'Legolas', 'Gollum', 'Gimli'],\n",
              " ['Walter White', 'Jesse Pinkman', 'Gus Fring']]"
            ]
          },
          "metadata": {},
          "execution_count": 16
        }
      ],
      "source": [
        "# https://www.w3schools.com/python/ref_list_append.asp\n",
        "\n",
        "characters[0].append('Hagrid')\n",
        "characters[0].append('Dumbledore')\n",
        "characters"
      ]
    },
    {
      "cell_type": "markdown",
      "metadata": {
        "id": "CTKCzkdF-IJ3"
      },
      "source": [
        "###### **Exercise 7:**\n",
        "add the `sex_and_the_city` list in the `characters` list."
      ]
    },
    {
      "cell_type": "code",
      "execution_count": null,
      "metadata": {
        "id": "iFO2iyJJ-IJ3",
        "outputId": "1c62bcd9-0439-43ec-db8c-3160497b9ac8",
        "colab": {
          "base_uri": "https://localhost:8080/"
        }
      },
      "outputs": [
        {
          "output_type": "execute_result",
          "data": {
            "text/plain": [
              "[['Harry', 'Hermoine', 'Ron', 'Hagrid', 'Dumbledore'],\n",
              " ['Daenerys Targaryen',\n",
              "  'Jon Snow',\n",
              "  'Tyrion Lannister',\n",
              "  'Cercei Lannister',\n",
              "  'Arya Stark',\n",
              "  'Sansa Stark'],\n",
              " ['Aragorn', 'Gandalf', 'Frodo', 'Legolas', 'Gollum', 'Gimli'],\n",
              " ['Walter White', 'Jesse Pinkman', 'Gus Fring'],\n",
              " ['Carrie', 'Samantha', 'Charlotte', 'Miranda']]"
            ]
          },
          "metadata": {},
          "execution_count": 17
        }
      ],
      "source": [
        "characters.append(sex_and_the_city)\n",
        "characters"
      ]
    },
    {
      "cell_type": "markdown",
      "metadata": {
        "id": "pPTFwOyf-IJ3"
      },
      "source": [
        "###### **Exercise 8:**\n",
        "remove all elements from the `sex_and_the_city` list."
      ]
    },
    {
      "cell_type": "code",
      "execution_count": null,
      "metadata": {
        "id": "fqxP26tM-IJ3",
        "outputId": "8ad36246-0eef-48da-cffc-43cab121fd4a",
        "colab": {
          "base_uri": "https://localhost:8080/"
        }
      },
      "outputs": [
        {
          "output_type": "execute_result",
          "data": {
            "text/plain": [
              "[]"
            ]
          },
          "metadata": {},
          "execution_count": 18
        }
      ],
      "source": [
        "# https://www.w3schools.com/python/ref_list_clear.asp\n",
        "\n",
        "sex_and_the_city.clear()\n",
        "sex_and_the_city"
      ]
    },
    {
      "cell_type": "markdown",
      "metadata": {
        "id": "xMDuxfVV-IJ3"
      },
      "source": [
        "###### **Exercise 9:**\n",
        "sum all elements in the `numbers` list."
      ]
    },
    {
      "cell_type": "code",
      "source": [
        "numbers"
      ],
      "metadata": {
        "colab": {
          "base_uri": "https://localhost:8080/"
        },
        "id": "JZHE6hq3h67Y",
        "outputId": "600691b3-d28c-411c-f0d2-03129a0acb65"
      },
      "execution_count": null,
      "outputs": [
        {
          "output_type": "execute_result",
          "data": {
            "text/plain": [
              "[[1,\n",
              "  51,\n",
              "  59,\n",
              "  2,\n",
              "  95,\n",
              "  25,\n",
              "  28,\n",
              "  67,\n",
              "  14,\n",
              "  63,\n",
              "  84,\n",
              "  33,\n",
              "  56,\n",
              "  31,\n",
              "  54,\n",
              "  97,\n",
              "  77,\n",
              "  98,\n",
              "  46,\n",
              "  84,\n",
              "  6,\n",
              "  66,\n",
              "  86,\n",
              "  77,\n",
              "  69,\n",
              "  19,\n",
              "  77,\n",
              "  7,\n",
              "  76,\n",
              "  19,\n",
              "  59,\n",
              "  77,\n",
              "  28,\n",
              "  34,\n",
              "  94,\n",
              "  4,\n",
              "  45,\n",
              "  95,\n",
              "  41,\n",
              "  66,\n",
              "  5,\n",
              "  38,\n",
              "  35,\n",
              "  57,\n",
              "  84,\n",
              "  38,\n",
              "  94,\n",
              "  65,\n",
              "  45,\n",
              "  80,\n",
              "  83,\n",
              "  22,\n",
              "  12,\n",
              "  100,\n",
              "  52,\n",
              "  55,\n",
              "  31,\n",
              "  69,\n",
              "  29,\n",
              "  67,\n",
              "  4,\n",
              "  39,\n",
              "  87,\n",
              "  49,\n",
              "  81,\n",
              "  82,\n",
              "  96,\n",
              "  4,\n",
              "  85,\n",
              "  62,\n",
              "  90,\n",
              "  72,\n",
              "  70,\n",
              "  26,\n",
              "  29,\n",
              "  63,\n",
              "  48,\n",
              "  94,\n",
              "  58,\n",
              "  9,\n",
              "  49,\n",
              "  79,\n",
              "  33,\n",
              "  63,\n",
              "  41,\n",
              "  13,\n",
              "  90,\n",
              "  37,\n",
              "  31,\n",
              "  3,\n",
              "  11,\n",
              "  54,\n",
              "  56,\n",
              "  72,\n",
              "  91,\n",
              "  97,\n",
              "  2,\n",
              "  83,\n",
              "  82,\n",
              "  6]]"
            ]
          },
          "metadata": {},
          "execution_count": 25
        }
      ]
    },
    {
      "cell_type": "code",
      "execution_count": null,
      "metadata": {
        "id": "hjxZKVTE-IJ3",
        "outputId": "4207c0b2-fbb0-4524-8b5e-eec80b4cf25b",
        "colab": {
          "base_uri": "https://localhost:8080/"
        }
      },
      "outputs": [
        {
          "output_type": "execute_result",
          "data": {
            "text/plain": [
              "5312"
            ]
          },
          "metadata": {},
          "execution_count": 10
        }
      ],
      "source": [
        "#https://www.w3schools.com/python/ref_func_sum.asp\n",
        "\n",
        "total = sum(numbers[0])\n",
        "total"
      ]
    },
    {
      "cell_type": "markdown",
      "metadata": {
        "id": "NaXyaWbl-IJ3"
      },
      "source": [
        "###### **Exercise 10:**\n",
        "find out how many times the number `77` appears in the `numbers` list."
      ]
    },
    {
      "cell_type": "code",
      "execution_count": null,
      "metadata": {
        "id": "fot_ZUxV-IJ3",
        "outputId": "4d1780b8-cca9-4ae1-8841-aa657c789c0f",
        "colab": {
          "base_uri": "https://localhost:8080/"
        }
      },
      "outputs": [
        {
          "output_type": "execute_result",
          "data": {
            "text/plain": [
              "4"
            ]
          },
          "metadata": {},
          "execution_count": 20
        }
      ],
      "source": [
        "# https://www.w3schools.com/python/ref_list_count.asp\n",
        "\n",
        "cnt = numbers[0].count(77)\n",
        "cnt"
      ]
    },
    {
      "cell_type": "markdown",
      "source": [
        "# Tuples and Sets\n",
        "\n",
        "**Tuples** are almost exactly like lists, the only difference is that they're unmutable. You'll see what that means in a second. They are defined by regular parentheses `()` instead of square brackets `[]`:"
      ],
      "metadata": {
        "id": "Yv3AieQ5W54V"
      }
    },
    {
      "cell_type": "code",
      "source": [
        "my_tuple = (\"a\", \"b\", \"c\", \"d\")\n",
        "print(my_tuple)"
      ],
      "metadata": {
        "colab": {
          "base_uri": "https://localhost:8080/"
        },
        "id": "90Yca7rWKEN9",
        "outputId": "f63a12c9-dea9-4ca9-bb77-97a8d479092e"
      },
      "execution_count": null,
      "outputs": [
        {
          "output_type": "stream",
          "name": "stdout",
          "text": [
            "('a', 'b', 'c', 'd')\n"
          ]
        }
      ]
    },
    {
      "cell_type": "markdown",
      "source": [
        "Tuples are ordered. You can select items inside of a tuple by indexing with `[]`, just like lists:"
      ],
      "metadata": {
        "id": "HF6rQ5ZfKjoW"
      }
    },
    {
      "cell_type": "code",
      "source": [
        "my_tuple[2]"
      ],
      "metadata": {
        "colab": {
          "base_uri": "https://localhost:8080/",
          "height": 36
        },
        "id": "ywI8Ls0zKHfm",
        "outputId": "daa87ebe-8572-4ce8-ed1a-9835959a5050"
      },
      "execution_count": null,
      "outputs": [
        {
          "output_type": "execute_result",
          "data": {
            "text/plain": [
              "'c'"
            ],
            "application/vnd.google.colaboratory.intrinsic+json": {
              "type": "string"
            }
          },
          "metadata": {},
          "execution_count": 22
        }
      ]
    },
    {
      "cell_type": "markdown",
      "source": [
        "But you can not update the value of an element inside of a tuple. Trying to do so will result in a `TypeError`:\n",
        "\n"
      ],
      "metadata": {
        "id": "Ygt4oqOzK5xq"
      }
    },
    {
      "cell_type": "code",
      "source": [
        "my_tuple[2] = \"e\""
      ],
      "metadata": {
        "colab": {
          "base_uri": "https://localhost:8080/",
          "height": 171
        },
        "id": "Xx0D8XzWKhMl",
        "outputId": "81b27ef1-758b-4a9f-d586-6f275aff801a"
      },
      "execution_count": null,
      "outputs": [
        {
          "output_type": "error",
          "ename": "TypeError",
          "evalue": "ignored",
          "traceback": [
            "\u001b[0;31m---------------------------------------------------------------------------\u001b[0m",
            "\u001b[0;31mTypeError\u001b[0m                                 Traceback (most recent call last)",
            "\u001b[0;32m<ipython-input-23-e34fd2f38e8a>\u001b[0m in \u001b[0;36m<module>\u001b[0;34m()\u001b[0m\n\u001b[0;32m----> 1\u001b[0;31m \u001b[0mmy_tuple\u001b[0m\u001b[0;34m[\u001b[0m\u001b[0;36m2\u001b[0m\u001b[0;34m]\u001b[0m \u001b[0;34m=\u001b[0m \u001b[0;34m\"e\"\u001b[0m\u001b[0;34m\u001b[0m\u001b[0;34m\u001b[0m\u001b[0m\n\u001b[0m",
            "\u001b[0;31mTypeError\u001b[0m: 'tuple' object does not support item assignment"
          ]
        }
      ]
    },
    {
      "cell_type": "markdown",
      "source": [
        "**Sets** are collections of items, just like lists and tuples, but they have the following properties:\n",
        "\n",
        "* They're not ordered.\n",
        "* They're unchangeable.\n",
        "* They cannot contain duplicate items."
      ],
      "metadata": {
        "id": "PqltEjSlLU_X"
      }
    },
    {
      "cell_type": "code",
      "source": [
        "my_set = {1, 2, 3, 4}"
      ],
      "metadata": {
        "id": "d0krvDFxKfNd"
      },
      "execution_count": null,
      "outputs": []
    },
    {
      "cell_type": "markdown",
      "source": [
        "If you try to include a duplicate into a set, it will simply not get stored:"
      ],
      "metadata": {
        "id": "etD845CPMSs_"
      }
    },
    {
      "cell_type": "code",
      "source": [
        "my_fibonacci_set = {1, 1, 2, 3, 5}\n",
        "print(my_fibonacci_set)"
      ],
      "metadata": {
        "colab": {
          "base_uri": "https://localhost:8080/"
        },
        "id": "AqB52ehOMQwW",
        "outputId": "e141f055-c541-4de7-be08-8abcbd37a2be"
      },
      "execution_count": null,
      "outputs": [
        {
          "output_type": "stream",
          "name": "stdout",
          "text": [
            "{1, 2, 3, 5}\n"
          ]
        }
      ]
    },
    {
      "cell_type": "markdown",
      "source": [
        "This characteristic makes them useful to extract unique values from other python collections. You can transform another collection into a set using the `set()` function:"
      ],
      "metadata": {
        "id": "5YxifWyWMrZB"
      }
    },
    {
      "cell_type": "code",
      "source": [
        "# https://www.w3schools.com/python/ref_func_set.asp\n",
        "\n",
        "price_list = [3.99, 2.5, 9.99, 1, 4.95, \n",
        "              3, 2.5, 6, 8, 1, 9.99, 4, \n",
        "              11.25, 14, 3.99, 4, 6, 1]\n",
        "unique_prices = set(price_list)\n",
        "print(unique_prices)"
      ],
      "metadata": {
        "colab": {
          "base_uri": "https://localhost:8080/"
        },
        "id": "GncBABY0Mmdl",
        "outputId": "b935c9f1-ed9b-4ec6-cc1f-355b468d3ca9"
      },
      "execution_count": null,
      "outputs": [
        {
          "output_type": "stream",
          "name": "stdout",
          "text": [
            "{1, 2.5, 3.99, 4.95, 3, 6, 4, 8, 9.99, 11.25, 14}\n"
          ]
        }
      ]
    },
    {
      "cell_type": "code",
      "source": [
        "print(\n",
        "    \"There are\", len(price_list), \"prices listed, but only\",\n",
        "    len(unique_prices), \"unique price values.\"\n",
        "    )"
      ],
      "metadata": {
        "colab": {
          "base_uri": "https://localhost:8080/"
        },
        "id": "Y4JYpJ0GNMJ8",
        "outputId": "39fef6e9-77b4-4fb5-d7a0-7166cd7a1cde"
      },
      "execution_count": null,
      "outputs": [
        {
          "output_type": "stream",
          "name": "stdout",
          "text": [
            "There are 18 prices listed, but only 11 unique price values.\n"
          ]
        }
      ]
    },
    {
      "cell_type": "code",
      "source": [
        "temp_dict = {\n",
        "    'Nabil':[23, 45, \"fr\"], \n",
        "    'Icaro':(34, 'we')\n",
        "}"
      ],
      "metadata": {
        "id": "W74HpSNVjwFr"
      },
      "execution_count": null,
      "outputs": []
    },
    {
      "cell_type": "code",
      "source": [
        "temp_dict"
      ],
      "metadata": {
        "colab": {
          "base_uri": "https://localhost:8080/"
        },
        "id": "7827oUrlkFuc",
        "outputId": "0ae3dd17-49d6-44b1-f0d7-7b6f8a41aa01"
      },
      "execution_count": null,
      "outputs": [
        {
          "output_type": "execute_result",
          "data": {
            "text/plain": [
              "{'Icaro': (34, 'we'), 'Nabil': [23, 45, 'fr']}"
            ]
          },
          "metadata": {},
          "execution_count": 45
        }
      ]
    },
    {
      "cell_type": "markdown",
      "source": [
        "###### **Exercise 11:**\n",
        "create a tuple with 10 elements and store it in a variable named `first_tuple`."
      ],
      "metadata": {
        "id": "yJUZXN9iqkfk"
      }
    },
    {
      "cell_type": "code",
      "source": [
        "first_tuple = (1, 2, 3, 4, 5, 4, 3, 2, 1)\n",
        "print(first_tuple)"
      ],
      "metadata": {
        "colab": {
          "base_uri": "https://localhost:8080/"
        },
        "id": "yhx7opXvN9rf",
        "outputId": "482b1842-9156-47d4-d24c-e80d1e50268d"
      },
      "execution_count": null,
      "outputs": [
        {
          "output_type": "stream",
          "name": "stdout",
          "text": [
            "(1, 2, 3, 4, 5, 4, 3, 2, 1)\n"
          ]
        }
      ]
    },
    {
      "cell_type": "markdown",
      "source": [
        "###### **Exercise 12:**\n",
        "using `[]`, select only the first 6 elements of the tuple you created and store them into a new variable named `second_tuple`."
      ],
      "metadata": {
        "id": "SMnCg1RuqvS6"
      }
    },
    {
      "cell_type": "code",
      "source": [
        "second_tuple = first_tuple[:6]\n",
        "print(second_tuple)"
      ],
      "metadata": {
        "colab": {
          "base_uri": "https://localhost:8080/"
        },
        "id": "ZP7hNknrPF4w",
        "outputId": "3e8b32b2-fe6f-4115-af59-abfc7b824672"
      },
      "execution_count": null,
      "outputs": [
        {
          "output_type": "stream",
          "name": "stdout",
          "text": [
            "(1, 2, 3, 4, 5, 4)\n"
          ]
        }
      ]
    },
    {
      "cell_type": "markdown",
      "source": [
        "###### **exercise 13:**\n",
        "convert the `second_tuple` into a set and store it in a variable called `first_set`."
      ],
      "metadata": {
        "id": "65yfj8Y7q35T"
      }
    },
    {
      "cell_type": "code",
      "source": [
        "first_set = set(second_tuple)\n",
        "print(first_set)"
      ],
      "metadata": {
        "colab": {
          "base_uri": "https://localhost:8080/"
        },
        "id": "1lzpXTtUPJ-z",
        "outputId": "5b206d4f-17d4-4af3-874f-c481467a633e"
      },
      "execution_count": null,
      "outputs": [
        {
          "output_type": "stream",
          "name": "stdout",
          "text": [
            "{1, 2, 3, 4, 5}\n"
          ]
        }
      ]
    },
    {
      "cell_type": "markdown",
      "source": [
        "###### **Exercise 14:**\n",
        "can you select the first element of the `first_set`?"
      ],
      "metadata": {
        "id": "XoYk14mEq92Z"
      }
    },
    {
      "cell_type": "code",
      "source": [
        "# A set is a collection which is unordered, unchangeable*, and unindexed.\n",
        "# So the answer is, no, as there is no first element"
      ],
      "metadata": {
        "id": "7pqnQriaPQUq"
      },
      "execution_count": null,
      "outputs": []
    },
    {
      "cell_type": "code",
      "source": [
        "list(first_set)[0]"
      ],
      "metadata": {
        "colab": {
          "base_uri": "https://localhost:8080/"
        },
        "id": "CRJbP3FIi7uY",
        "outputId": "3013b9b8-d33a-4b39-8f85-3519f6949fe9"
      },
      "execution_count": null,
      "outputs": [
        {
          "output_type": "execute_result",
          "data": {
            "text/plain": [
              "1"
            ]
          },
          "metadata": {},
          "execution_count": 36
        }
      ]
    },
    {
      "cell_type": "markdown",
      "source": [
        "###### **Exercise 15:** \n",
        "Below, you have a set with healthy ingredients and another one with vegan ingredients. Using [set methods you will find here](https://www.w3schools.com/python/python_ref_set.asp), print out a set with ingredients that are both healthy and vegan."
      ],
      "metadata": {
        "id": "Alx_Dh-xPgSQ"
      }
    },
    {
      "cell_type": "code",
      "source": [
        "healthy_food = {\"apple\", \"salmon\", \"avocado\", \"seafood\", \"olive oil\", \"spinach\", \"yogurt\"}\n",
        "vegan_food = {\"cookies\", \"apple\", \"avocado\", \"candy\", \"olive oil\", \"fake chiken\", \"spinach\"}\n",
        "\n",
        "# your code here\n",
        "\n",
        "#https://www.w3schools.com/python/ref_set_intersection.asp\n",
        "\n",
        "vegan_healthy = healthy_food.intersection(vegan_food)\n",
        "print(vegan_healthy)"
      ],
      "metadata": {
        "colab": {
          "base_uri": "https://localhost:8080/"
        },
        "id": "yOFgsQ5aPSN7",
        "outputId": "81d6e07a-c82a-4f2f-be04-dbdb003a60c1"
      },
      "execution_count": null,
      "outputs": [
        {
          "output_type": "stream",
          "name": "stdout",
          "text": [
            "{'avocado', 'apple', 'olive oil', 'spinach'}\n"
          ]
        }
      ]
    }
  ],
  "metadata": {
    "kernelspec": {
      "display_name": "Python 3",
      "language": "python",
      "name": "python3"
    },
    "language_info": {
      "codemirror_mode": {
        "name": "ipython",
        "version": 3
      },
      "file_extension": ".py",
      "mimetype": "text/x-python",
      "name": "python",
      "nbconvert_exporter": "python",
      "pygments_lexer": "ipython3",
      "version": "3.8.8"
    },
    "colab": {
      "name": "2-lists-sets-tuples-solutions-DS008.ipynb",
      "provenance": [],
      "collapsed_sections": [],
      "include_colab_link": true
    }
  },
  "nbformat": 4,
  "nbformat_minor": 0
}