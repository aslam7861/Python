{
  "cells": [
    {
      "cell_type": "markdown",
      "metadata": {
        "id": "view-in-github",
        "colab_type": "text"
      },
      "source": [
        "<a href=\"https://colab.research.google.com/github/aslam7861/Python/blob/main/lists_and_loops.ipynb\" target=\"_parent\"><img src=\"https://colab.research.google.com/assets/colab-badge.svg\" alt=\"Open In Colab\"/></a>"
      ]
    },
    {
      "cell_type": "markdown",
      "metadata": {
        "id": "ZtqawBuv8sQY"
      },
      "source": [
        "# Lists and loops\n",
        "\n",
        "As we are to become Data Scientists, we are going to need objects that can store multiple elements. In Python, the list is one of the most useful ones. You can create a list with `[]`, and separating its elements with commas:"
      ]
    },
    {
      "cell_type": "code",
      "execution_count": null,
      "metadata": {
        "id": "R68YOdSy8sQa"
      },
      "outputs": [],
      "source": [
        "weekdays = [\"Monday\", \"Tuesday\", \"Wednesday\", \"Thursday\", \"Friday\"]"
      ]
    },
    {
      "cell_type": "markdown",
      "metadata": {
        "id": "Cgfw6PEy8sQc"
      },
      "source": [
        "A list can also contain numbers:"
      ]
    },
    {
      "cell_type": "code",
      "execution_count": null,
      "metadata": {
        "id": "Cx_EtpHL8sQc"
      },
      "outputs": [],
      "source": [
        "leap_years = [2000, 2004, 2008, 2012, 2016, 2020]"
      ]
    },
    {
      "cell_type": "markdown",
      "metadata": {
        "id": "Cg3EKLxn8sQd"
      },
      "source": [
        "You can create a list out of something else with `list()`:"
      ]
    },
    {
      "cell_type": "code",
      "execution_count": null,
      "metadata": {
        "colab": {
          "base_uri": "https://localhost:8080/"
        },
        "id": "wmIh-Sf68sQd",
        "outputId": "adcad94e-51ea-43de-89c7-fe460a57830d"
      },
      "outputs": [
        {
          "output_type": "execute_result",
          "data": {
            "text/plain": [
              "['W', 'B', 'S', 'C', 'S']"
            ]
          },
          "metadata": {},
          "execution_count": 3
        }
      ],
      "source": [
        "list(\"WBSCS\")"
      ]
    },
    {
      "cell_type": "markdown",
      "metadata": {
        "id": "LtqLXJC-8sQe"
      },
      "source": [
        "You can extract single or multiple values from a list by especifying their position inside of square brackets:"
      ]
    },
    {
      "cell_type": "code",
      "execution_count": null,
      "metadata": {
        "colab": {
          "base_uri": "https://localhost:8080/",
          "height": 37
        },
        "id": "PArUWwqe8sQe",
        "outputId": "8a1a4956-5885-4328-c59c-63409b762778"
      },
      "outputs": [
        {
          "output_type": "execute_result",
          "data": {
            "text/plain": [
              "'Monday'"
            ],
            "application/vnd.google.colaboratory.intrinsic+json": {
              "type": "string"
            }
          },
          "metadata": {},
          "execution_count": 4
        }
      ],
      "source": [
        "weekdays[0]"
      ]
    },
    {
      "cell_type": "code",
      "execution_count": null,
      "metadata": {
        "colab": {
          "base_uri": "https://localhost:8080/"
        },
        "id": "Sgw0eqpQ8sQf",
        "outputId": "e178200d-1154-46c3-9dc0-ae989313060b"
      },
      "outputs": [
        {
          "output_type": "execute_result",
          "data": {
            "text/plain": [
              "2020"
            ]
          },
          "metadata": {},
          "execution_count": 5
        }
      ],
      "source": [
        "leap_years[-1]"
      ]
    },
    {
      "cell_type": "code",
      "execution_count": null,
      "metadata": {
        "colab": {
          "base_uri": "https://localhost:8080/"
        },
        "id": "GMDJD-7A8sQf",
        "outputId": "73a12dcd-b534-4310-8eff-cf9470948c3e"
      },
      "outputs": [
        {
          "output_type": "execute_result",
          "data": {
            "text/plain": [
              "['Monday', 'Tuesday', 'Wednesday']"
            ]
          },
          "metadata": {},
          "execution_count": 6
        }
      ],
      "source": [
        "weekdays[0:3]"
      ]
    },
    {
      "cell_type": "markdown",
      "metadata": {
        "id": "JWTqAIym8sQg"
      },
      "source": [
        "One of the most useful functions we will use in combination with lists is `append()`: it just adds an element at the end of the list:"
      ]
    },
    {
      "cell_type": "code",
      "execution_count": null,
      "metadata": {
        "colab": {
          "base_uri": "https://localhost:8080/"
        },
        "id": "FYJ8sK-C8sQg",
        "outputId": "4c2dbed9-a623-4a75-c35c-974219fa7611"
      },
      "outputs": [
        {
          "output_type": "stream",
          "name": "stdout",
          "text": [
            "[2000, 2004, 2008, 2012, 2016, 2020, 2024, 2024]\n"
          ]
        }
      ],
      "source": [
        "leap_years.append(2024)\n",
        "print(leap_years)"
      ]
    },
    {
      "cell_type": "markdown",
      "metadata": {
        "id": "7M2KUaAW8sQg"
      },
      "source": [
        "This is possible because lists, unlike strings or numbers, are mutable: you can change them without having to define them again."
      ]
    },
    {
      "cell_type": "markdown",
      "metadata": {
        "id": "HyEYhsRk8sQh"
      },
      "source": [
        "The `insert()` function does the same, but at any specified position:"
      ]
    },
    {
      "cell_type": "code",
      "execution_count": null,
      "metadata": {
        "colab": {
          "base_uri": "https://localhost:8080/"
        },
        "id": "UQ_qbUhr8sQh",
        "outputId": "240aa492-26ea-4113-9aad-5661f010869e"
      },
      "outputs": [
        {
          "output_type": "stream",
          "name": "stdout",
          "text": [
            "[1996, 2000, 2004, 2008, 2012, 2016, 2020, 2024, 2024]\n"
          ]
        }
      ],
      "source": [
        "leap_years.insert(0, 1996)\n",
        "print(leap_years)"
      ]
    },
    {
      "cell_type": "code",
      "execution_count": null,
      "metadata": {
        "colab": {
          "base_uri": "https://localhost:8080/"
        },
        "id": "qv4MSwVy8sQi",
        "outputId": "5187027d-c7b3-48c2-d11a-9b3541a0529e"
      },
      "outputs": [
        {
          "output_type": "stream",
          "name": "stdout",
          "text": [
            "[1996, 2000, 'Happy new millenia', 2004, 2008, 2012, 2016, 2020, 2024, 2024]\n"
          ]
        }
      ],
      "source": [
        "leap_years.insert(2, \"Happy new millenia\")\n",
        "print(leap_years)"
      ]
    },
    {
      "cell_type": "markdown",
      "metadata": {
        "id": "TA1gIPvx8sQi"
      },
      "source": [
        "As you can see, lists support containing elements from different data types. They're heterogeneous.\n",
        "\n",
        "There are some other built-in methods that you can use to manipulate lists. Check them out here (https://www.w3schools.com/python/python_lists_methods.asp) and complete the following exercises:"
      ]
    },
    {
      "cell_type": "code",
      "execution_count": null,
      "metadata": {
        "id": "5Sb1j6GF8sQi"
      },
      "outputs": [],
      "source": [
        "# some lists to work with\n",
        "car_brands = [\"BMW\", \"Volkswagen\", \"Mercedes\", \"Ford\", \"Apple\", \"Toyota\", \n",
        "              \"Tesla\", \"Kia\", \"Porsche\", \"Mazda\", \"Honda\", \"Jaguar\", \n",
        "              \"Mitsubishi\", \"Audi\", \"Bentley\", \"Bugatti\", \"Chrisler\"]\n",
        "\n",
        "fibonacci = [0, 1, 1, 2, 3, 5, 8, 13, 21, 34, 53, 89, 144]\n",
        "\n",
        "characters = [[\"Harry\", \"Hermoine\", \"Ron\"], \n",
        "              [\"Daenerys Targaryen\", \"Jon Snow\", \"Tyrion Lannister\", \n",
        "               \"Cercei Lannister\", \"Arya Stark\", \"Sansa Stark\"],\n",
        "              [\"Aragorn\", \"Gandalf\", \"Frodo\", \"Legolas\", \"Gollum\", \"Gimli\"],\n",
        "              [\"Walter White\", \"Jesse Pinkman\", \"Gus Fring\"]\n",
        "             ]\n",
        "\n",
        "sex_and_the_city = [\"Carrie\", \"Samantha\", \"Charlotte\", \"Miranda\"]\n",
        "\n",
        "numbers = [[1, 51, 59, 2, 95, 25, 28, 67, 14, 63, 84, 33, 56, 31, 54, 97, 77, \n",
        "            98, 46, 84, 6, 66, 86, 77, 69, 19, 77, 7, 76, 19, 59, 77, 28, 34, \n",
        "            94, 4, 45, 95, 41, 66, 5, 38, 35, 57, 84, 38, 94, 65, 45, 80, 83, \n",
        "            22, 12, 100, 52, 55, 31, 69, 29, 67, 4, 39, 87, 49, 81, 82, 96, 4, \n",
        "            85, 62, 90, 72, 70, 26, 29, 63, 48, 94, 58, 9, 49, 79, 33, 63, 41, \n",
        "            13, 90, 37, 31, 3, 11, 54, 56, 72, 91, 97, 2, 83, 82, 6]]"
      ]
    },
    {
      "cell_type": "markdown",
      "metadata": {
        "id": "ZbKnsjWk8sQj"
      },
      "source": [
        "1. Find out the position of \"Bugatti\" in the `car_brands` list (whether it is the 3rd element, the 5th...)."
      ]
    },
    {
      "cell_type": "code",
      "execution_count": null,
      "metadata": {
        "colab": {
          "base_uri": "https://localhost:8080/",
          "height": 37
        },
        "id": "BpE_Rqo_8sQj",
        "outputId": "103831a4-ddcc-4632-ea23-17d9c60ef9e8"
      },
      "outputs": [
        {
          "output_type": "execute_result",
          "data": {
            "text/plain": [
              "'Bugatti'"
            ],
            "application/vnd.google.colaboratory.intrinsic+json": {
              "type": "string"
            }
          },
          "metadata": {},
          "execution_count": 18
        }
      ],
      "source": [
        "# code here\n",
        "car_brands[-2]"
      ]
    },
    {
      "cell_type": "markdown",
      "metadata": {
        "id": "QHaoHrWk8sQk"
      },
      "source": [
        "2. Remove \"Apple\" from the `car_brands` list."
      ]
    },
    {
      "cell_type": "code",
      "execution_count": null,
      "metadata": {
        "colab": {
          "base_uri": "https://localhost:8080/",
          "height": 74
        },
        "id": "cL2CzF-08sQk",
        "outputId": "59b7a953-ca67-4846-9a4b-64aa9aca97c6"
      },
      "outputs": [
        {
          "output_type": "stream",
          "name": "stdout",
          "text": [
            "['BMW', 'Volkswagen', 'Mercedes', 'Ford', 'Toyota', 'Tesla', 'Kia', 'Porsche', 'Mazda', 'Honda', 'Jaguar', 'Mitsubishi', 'Audi', 'Bentley', 'Bugatti', 'Chrisler']\n"
          ]
        },
        {
          "output_type": "execute_result",
          "data": {
            "text/plain": [
              "'Toyota'"
            ],
            "application/vnd.google.colaboratory.intrinsic+json": {
              "type": "string"
            }
          },
          "metadata": {},
          "execution_count": 27
        }
      ],
      "source": [
        "# code here\n",
        "print(car_brands)\n",
        "car_brands[4]\n",
        "\n"
      ]
    },
    {
      "cell_type": "markdown",
      "metadata": {
        "id": "_xhsR9hD8sQk"
      },
      "source": [
        "3. Order alphabetically the `car_brands` list."
      ]
    },
    {
      "cell_type": "code",
      "execution_count": null,
      "metadata": {
        "colab": {
          "base_uri": "https://localhost:8080/"
        },
        "id": "uAczjVWh8sQl",
        "outputId": "26a04cb2-81f3-4f37-d47a-95cd38be48dd"
      },
      "outputs": [
        {
          "output_type": "stream",
          "name": "stdout",
          "text": [
            "['Audi', 'BMW', 'Bentley', 'Bugatti', 'Chrisler', 'Ford', 'Honda', 'Jaguar', 'Kia', 'Mazda', 'Mercedes', 'Mitsubishi', 'Porsche', 'Tesla', 'Toyota', 'Volkswagen']\n"
          ]
        }
      ],
      "source": [
        "# code here\n",
        "car_brands.sort()\n",
        "print(car_brands)"
      ]
    },
    {
      "cell_type": "markdown",
      "metadata": {
        "id": "kx1silV98sQl"
      },
      "source": [
        "4. There is a mistake in the list with fibonacci sequence: fix it."
      ]
    },
    {
      "cell_type": "code",
      "execution_count": null,
      "metadata": {
        "colab": {
          "base_uri": "https://localhost:8080/"
        },
        "id": "wTTHddkG8sQl",
        "outputId": "5c0d0a8f-2708-47be-9c95-208144c28665"
      },
      "outputs": [
        {
          "output_type": "stream",
          "name": "stdout",
          "text": [
            "[0, 1, 1, 2, 3, 5, 8, 13, 21, 34, 53, 89, 144]\n",
            "[0, 1, 2, 3, 5, 8, 13, 21, 34, 53, 89, 144]\n"
          ]
        }
      ],
      "source": [
        "# code here\n",
        "print(fibonacci)\n",
        "fibonacci.sort()\n",
        "fibonacci.remove(1)\n",
        "print(fibonacci)"
      ]
    },
    {
      "cell_type": "markdown",
      "metadata": {
        "id": "HmwyFreN8sQl"
      },
      "source": [
        "5. Order descendingly the `fibonacci` list."
      ]
    },
    {
      "cell_type": "code",
      "execution_count": null,
      "metadata": {
        "colab": {
          "base_uri": "https://localhost:8080/"
        },
        "id": "LWIlVi5X8sQm",
        "outputId": "f21ad5f6-5cd9-46e8-cf56-21953f55d05b"
      },
      "outputs": [
        {
          "output_type": "stream",
          "name": "stdout",
          "text": [
            "[144, 89, 53, 34, 21, 13, 8, 5, 3, 2, 1, 0]\n"
          ]
        }
      ],
      "source": [
        "# code here\n",
        "fibonacci.sort(reverse=True)\n",
        "print(fibonacci)"
      ]
    },
    {
      "cell_type": "markdown",
      "metadata": {
        "id": "3uHGJIQH8sQm"
      },
      "source": [
        "6. Add \"Hagrid\" and \"Dumbledore\" to the first list inside the `characters` list."
      ]
    },
    {
      "cell_type": "code",
      "execution_count": null,
      "metadata": {
        "colab": {
          "base_uri": "https://localhost:8080/"
        },
        "id": "ST0Y_mJD8sQm",
        "outputId": "92cb914e-c794-4908-8a44-a011b67b9592"
      },
      "outputs": [
        {
          "output_type": "stream",
          "name": "stdout",
          "text": [
            "[['Hagrid', 'Dumbledore'], ['Hagrid', 'Dumbledore'], ['Harry', 'Hermoine', 'Ron'], ['Daenerys Targaryen', 'Jon Snow', 'Tyrion Lannister', 'Cercei Lannister', 'Arya Stark', 'Sansa Stark'], ['Aragorn', 'Gandalf', 'Frodo', 'Legolas', 'Gollum', 'Gimli'], ['Walter White', 'Jesse Pinkman', 'Gus Fring']]\n",
            "[['Hagrid', 'Dumbledore'], ['Harry', 'Hermoine', 'Ron'], ['Daenerys Targaryen', 'Jon Snow', 'Tyrion Lannister', 'Cercei Lannister', 'Arya Stark', 'Sansa Stark'], ['Aragorn', 'Gandalf', 'Frodo', 'Legolas', 'Gollum', 'Gimli'], ['Walter White', 'Jesse Pinkman', 'Gus Fring']]\n"
          ]
        }
      ],
      "source": [
        "# code here\n",
        "print(characters)\n",
        "characters.insert(0,[\"Hagrid\",\"Dumbledore\"])\n",
        "characters=characters[2:len(characters)]\n",
        "print(characters)"
      ]
    },
    {
      "cell_type": "markdown",
      "metadata": {
        "id": "-Q-QNZim8sQn"
      },
      "source": [
        "7. Add the `sex_and_the_city` list in the `characters` list."
      ]
    },
    {
      "cell_type": "code",
      "execution_count": null,
      "metadata": {
        "id": "UjW6CHvK8sQn"
      },
      "outputs": [],
      "source": [
        "# code here\n",
        "characters.append([sex_and_the_city])"
      ]
    },
    {
      "cell_type": "markdown",
      "metadata": {
        "id": "SWRFPQe68sQn"
      },
      "source": [
        "8. Remove all elements from the `sex_and_the_city` list."
      ]
    },
    {
      "cell_type": "code",
      "execution_count": null,
      "metadata": {
        "colab": {
          "base_uri": "https://localhost:8080/"
        },
        "id": "--n1dXiZ8sQn",
        "outputId": "4e30b608-361f-410c-d2e8-27ea7e93b7ca"
      },
      "outputs": [
        {
          "output_type": "stream",
          "name": "stdout",
          "text": [
            "[['Hagrid', 'Dumbledore'], ['Harry', 'Hermoine', 'Ron'], ['Daenerys Targaryen', 'Jon Snow', 'Tyrion Lannister', 'Cercei Lannister', 'Arya Stark', 'Sansa Stark'], ['Aragorn', 'Gandalf', 'Frodo', 'Legolas', 'Gollum', 'Gimli'], ['Walter White', 'Jesse Pinkman', 'Gus Fring'], [['Carrie', 'Samantha', 'Charlotte', 'Miranda']]]\n"
          ]
        }
      ],
      "source": [
        "# code here\n",
        "print(characters)"
      ]
    },
    {
      "cell_type": "markdown",
      "metadata": {
        "id": "UsjjhOXP8sQo"
      },
      "source": [
        "9. Sum all elements in the `numbers` list."
      ]
    },
    {
      "cell_type": "code",
      "execution_count": null,
      "metadata": {
        "colab": {
          "base_uri": "https://localhost:8080/"
        },
        "id": "Uy3w5kt-8sQo",
        "outputId": "434c2c47-cc75-4cfa-ae5d-5fd2d77ae765"
      },
      "outputs": [
        {
          "output_type": "stream",
          "name": "stdout",
          "text": [
            "[[1, 51, 59, 2, 95, 25, 28, 67, 14, 63, 84, 33, 56, 31, 54, 97, 77, 98, 46, 84, 6, 66, 86, 77, 69, 19, 77, 7, 76, 19, 59, 77, 28, 34, 94, 4, 45, 95, 41, 66, 5, 38, 35, 57, 84, 38, 94, 65, 45, 80, 83, 22, 12, 100, 52, 55, 31, 69, 29, 67, 4, 39, 87, 49, 81, 82, 96, 4, 85, 62, 90, 72, 70, 26, 29, 63, 48, 94, 58, 9, 49, 79, 33, 63, 41, 13, 90, 37, 31, 3, 11, 54, 56, 72, 91, 97, 2, 83, 82, 6]]\n",
            "[1, 51, 59, 2, 95, 25, 28, 67, 14, 63, 84, 33, 56, 31, 54, 97, 77, 98, 46, 84, 6, 66, 86, 77, 69, 19, 77, 7, 76, 19, 59, 77, 28, 34, 94, 4, 45, 95, 41, 66, 5, 38, 35, 57, 84, 38, 94, 65, 45, 80, 83, 22, 12, 100, 52, 55, 31, 69, 29, 67, 4, 39, 87, 49, 81, 82, 96, 4, 85, 62, 90, 72, 70, 26, 29, 63, 48, 94, 58, 9, 49, 79, 33, 63, 41, 13, 90, 37, 31, 3, 11, 54, 56, 72, 91, 97, 2, 83, 82, 6]\n"
          ]
        },
        {
          "output_type": "execute_result",
          "data": {
            "text/plain": [
              "5312"
            ]
          },
          "metadata": {},
          "execution_count": 64
        }
      ],
      "source": [
        "# code here\n",
        "print(numbers)\n",
        "print(numbers[0])\n",
        "sum(numbers[0])"
      ]
    },
    {
      "cell_type": "markdown",
      "metadata": {
        "id": "JKe45ZSm8sQo"
      },
      "source": [
        "10. Find out how many times does the number `77` appear in the `numbers` list."
      ]
    },
    {
      "cell_type": "code",
      "execution_count": null,
      "metadata": {
        "colab": {
          "base_uri": "https://localhost:8080/"
        },
        "id": "CJBeOGOE8sQo",
        "outputId": "c1da0d85-7565-4ca2-cf22-ad469313aed4"
      },
      "outputs": [
        {
          "output_type": "stream",
          "name": "stdout",
          "text": [
            "4\n"
          ]
        }
      ],
      "source": [
        "# code here\n",
        "i = 0 \n",
        "for a in numbers[0]:\n",
        "  if a == 77:\n",
        "      i +=1\n",
        "\n",
        "\n",
        "print(i)"
      ]
    },
    {
      "cell_type": "markdown",
      "metadata": {
        "id": "wo9Ul5o08sQp"
      },
      "source": [
        "### For loops\n",
        "\n",
        "Whenever you want to apply any transformation to all elements in a list, you iterate through them with a `for` loop."
      ]
    },
    {
      "cell_type": "code",
      "execution_count": null,
      "metadata": {
        "colab": {
          "base_uri": "https://localhost:8080/"
        },
        "id": "apx_23K68sQp",
        "outputId": "5e8a27d8-ed1f-45e2-afd3-c826c18566b3"
      },
      "outputs": [
        {
          "output_type": "stream",
          "name": "stdout",
          "text": [
            "Hello Justine!\n",
            "Hello Amabel!\n",
            "Hello Karl!\n"
          ]
        }
      ],
      "source": [
        "names_list = [\"Justine\", \"Amabel\", \"Karl\"]\n",
        "\n",
        "for name in names_list:\n",
        "    print(\"Hello \" + name + \"!\")"
      ]
    },
    {
      "cell_type": "markdown",
      "metadata": {
        "id": "es_YwMt68sQp"
      },
      "source": [
        "Here, the word `name` could really be anything. It is just a placeholder that takes the value of each element in the for loop in every sucessive iteration, until the loop reaches the end of the list. Using a diferent name does not change the result:"
      ]
    },
    {
      "cell_type": "code",
      "execution_count": null,
      "metadata": {
        "colab": {
          "base_uri": "https://localhost:8080/"
        },
        "id": "qszb3tjW8sQp",
        "outputId": "2b04ae71-80ce-4f35-c1e4-287069af4813"
      },
      "outputs": [
        {
          "output_type": "stream",
          "name": "stdout",
          "text": [
            "Hello Justine!\n",
            "Hello Amabel!\n",
            "Hello Karl!\n"
          ]
        }
      ],
      "source": [
        "for dinosaur in names_list:\n",
        "    print(\"Hello \" + dinosaur + \"!\")"
      ]
    },
    {
      "cell_type": "markdown",
      "metadata": {
        "id": "YvcjJjja8sQq"
      },
      "source": [
        "Replicate the same greeting loop, but using the f-strings that you learned in the previous lesson:"
      ]
    },
    {
      "cell_type": "code",
      "execution_count": null,
      "metadata": {
        "id": "uCsnFp2Q8sQq"
      },
      "outputs": [],
      "source": [
        "# code here\n",
        "for aa in names_list:\n",
        "    \"Hello %s!\" % aa\n"
      ]
    },
    {
      "cell_type": "markdown",
      "metadata": {
        "id": "eaCMgsRi8sQq"
      },
      "source": [
        "If we wanted to store the resulting transformations of our loop into a new list, we would define an empty list first, and then `append()` all the elements as we iterate through the loop:"
      ]
    },
    {
      "cell_type": "code",
      "execution_count": null,
      "metadata": {
        "id": "yGcJOaaM8sQr"
      },
      "outputs": [],
      "source": [
        "greetings = []\n",
        "\n",
        "for name in names_list:\n",
        "    greetings.append(\"Hello \" + name + \"!\")"
      ]
    },
    {
      "cell_type": "code",
      "execution_count": null,
      "metadata": {
        "colab": {
          "base_uri": "https://localhost:8080/"
        },
        "id": "Rr_kldfQ8sQr",
        "outputId": "2cc8b786-0cc1-4c31-e925-18fbe9132ca4"
      },
      "outputs": [
        {
          "output_type": "execute_result",
          "data": {
            "text/plain": [
              "['Hello Justine!', 'Hello Amabel!', 'Hello Karl!']"
            ]
          },
          "metadata": {},
          "execution_count": 72
        }
      ],
      "source": [
        "greetings"
      ]
    },
    {
      "cell_type": "markdown",
      "metadata": {
        "id": "SIQLjWcQ8sQr"
      },
      "source": [
        "**Exercise:** \n",
        "\n",
        "1. Create a List named `lower_names` with all the names of the students in your batch. Include name and surname, all in lowercase (like `john doe`)."
      ]
    },
    {
      "cell_type": "code",
      "execution_count": null,
      "metadata": {
        "colab": {
          "base_uri": "https://localhost:8080/"
        },
        "id": "efaPErO78sQs",
        "outputId": "3e6f2aad-e5a7-472a-a9d9-0aa318b1cb39"
      },
      "outputs": [
        {
          "output_type": "stream",
          "name": "stdout",
          "text": [
            "['aslam ali', 'tobias abc', 'daniel efg', 'komal ind']\n"
          ]
        }
      ],
      "source": [
        "# code here\n",
        "batch_name = [\"Aslam Ali\", \"Tobias abc\", \"Daniel efg\", \"Komal ind\"]\n",
        "for i in range(len(batch_name)):\n",
        "  batch_name[i]=batch_name[i].lower()\n",
        "\n",
        "print(batch_name)\n"
      ]
    },
    {
      "cell_type": "markdown",
      "metadata": {
        "id": "NSMu6TUD8sQs"
      },
      "source": [
        "2. Create a new list `capital_names`  with both the names and surnames capitalized (like `John Doe`), by iterating through the first list with a `for` loop."
      ]
    },
    {
      "cell_type": "code",
      "execution_count": null,
      "metadata": {
        "colab": {
          "base_uri": "https://localhost:8080/"
        },
        "id": "Y8EMBdgY8sQs",
        "outputId": "98d47866-5410-4d98-9aa7-07f920aec1f8"
      },
      "outputs": [
        {
          "output_type": "stream",
          "name": "stdout",
          "text": [
            "['ASLAM ALI', 'TOBIAS ABC', 'DANIEL EFG', 'KOMAL IND']\n"
          ]
        }
      ],
      "source": [
        "# code here\n",
        "for i in range(len(batch_name)):\n",
        "  batch_name[i]=batch_name[i].upper()\n",
        "\n",
        "print(batch_name)"
      ]
    },
    {
      "cell_type": "markdown",
      "metadata": {
        "id": "3iYEwqRs8sQs"
      },
      "source": [
        "### Conditions with `if`\n",
        "\n",
        "Whenever you want to do something only if a condition is met, you will need an `if` statement. Let's say we want to greet people only if their name starts with \"A\". We will add a few more names to our list:"
      ]
    },
    {
      "cell_type": "code",
      "execution_count": null,
      "metadata": {
        "id": "1giA9d6e8sQt"
      },
      "outputs": [],
      "source": [
        "names_list = [\"Justine\", \"Amabel\", \"Karl\", \"Anna\", \"Lina\", \"Sergei\", \"Magnus\", \"Aurora\"]"
      ]
    },
    {
      "cell_type": "markdown",
      "metadata": {
        "id": "AsMfBejZ8sQt"
      },
      "source": [
        "We can check one by one whether they start with \"A\" by selecting them from the list by their position using `[]`, and using the string method you already learned `starts_with()`:"
      ]
    },
    {
      "cell_type": "code",
      "execution_count": null,
      "metadata": {
        "colab": {
          "base_uri": "https://localhost:8080/"
        },
        "id": "6gxtBn2n8sQt",
        "outputId": "74966017-2324-49a9-c0c5-999e42a87e90"
      },
      "outputs": [
        {
          "output_type": "stream",
          "name": "stdout",
          "text": [
            "False\n",
            "True\n"
          ]
        }
      ],
      "source": [
        "# Justine\n",
        "print(names_list[0].startswith(\"A\"))\n",
        "\n",
        "# Amabel\n",
        "print(names_list[1].startswith(\"A\"))"
      ]
    },
    {
      "cell_type": "markdown",
      "metadata": {
        "id": "1LGhV6q28sQt"
      },
      "source": [
        "These booleans, `True` or `False`, are exactly what `if` statements need. Whenever a condition is true, the code below the `if` statement runs; if the condition is false, the code is skipped and nothing happens:"
      ]
    },
    {
      "cell_type": "code",
      "execution_count": null,
      "metadata": {
        "colab": {
          "base_uri": "https://localhost:8080/"
        },
        "id": "Di7Q7x5u8sQu",
        "outputId": "282f13cb-91dd-443f-f2b2-f2ddd26b45a2"
      },
      "outputs": [
        {
          "output_type": "stream",
          "name": "stdout",
          "text": [
            "yay\n"
          ]
        }
      ],
      "source": [
        "condition = True\n",
        "\n",
        "if condition:\n",
        "    print(\"yay\")"
      ]
    },
    {
      "cell_type": "code",
      "execution_count": null,
      "metadata": {
        "id": "qLbg8IF38sQu"
      },
      "outputs": [],
      "source": [
        "condition = False\n",
        "\n",
        "if condition:\n",
        "    print(\"yay\")"
      ]
    },
    {
      "cell_type": "markdown",
      "metadata": {
        "id": "yj2sTQ968sQu"
      },
      "source": [
        "So we can now tie everything together:\n",
        "\n",
        "- A for loop that iterates through the names.\n",
        "\n",
        "- An `if` statment that checks whether the name starts with \"A\".\n",
        "\n",
        "- A greeting."
      ]
    },
    {
      "cell_type": "code",
      "execution_count": null,
      "metadata": {
        "colab": {
          "base_uri": "https://localhost:8080/"
        },
        "id": "RoWnzb8s8sQv",
        "outputId": "8d683939-8db0-4a5b-db92-809806d6a222"
      },
      "outputs": [
        {
          "output_type": "stream",
          "name": "stdout",
          "text": [
            "Hello Amabel!\n",
            "Hello Anna!\n",
            "Hello Aurora!\n"
          ]
        }
      ],
      "source": [
        "for name in names_list:\n",
        "    if name.startswith(\"A\"):\n",
        "        print(\"Hello \" + name + \"!\")"
      ]
    },
    {
      "cell_type": "markdown",
      "metadata": {
        "id": "0lBbjcVa8sQv"
      },
      "source": [
        "An `else` statement can be added if you want to do something witht the elements that did not meet the condition. \n",
        "\n",
        "After the `if` and the `else` statements, you can continue coding normally —and the code will run independently of any conditions. Here, we print some text and a line break:"
      ]
    },
    {
      "cell_type": "code",
      "execution_count": null,
      "metadata": {
        "colab": {
          "base_uri": "https://localhost:8080/"
        },
        "id": "EJBXvxYx8sQv",
        "outputId": "b555ae5b-37a9-467b-a90c-62eb0400aed9"
      },
      "outputs": [
        {
          "output_type": "stream",
          "name": "stdout",
          "text": [
            "Bye Justine!\n",
            "next iteration incoming... \n",
            "\n",
            "Hello Amabel!\n",
            "next iteration incoming... \n",
            "\n",
            "Bye Karl!\n",
            "next iteration incoming... \n",
            "\n",
            "Hello Anna!\n",
            "next iteration incoming... \n",
            "\n",
            "Bye Lina!\n",
            "next iteration incoming... \n",
            "\n",
            "Bye Sergei!\n",
            "next iteration incoming... \n",
            "\n",
            "Bye Magnus!\n",
            "next iteration incoming... \n",
            "\n",
            "Hello Aurora!\n",
            "next iteration incoming... \n",
            "\n"
          ]
        }
      ],
      "source": [
        "for name in names_list:\n",
        "    if name.startswith(\"A\"):\n",
        "        print(\"Hello \" + name + \"!\")\n",
        "    else:\n",
        "        print(\"Bye \" + name + \"!\")\n",
        "    print(\"next iteration incoming... \\n\")"
      ]
    },
    {
      "cell_type": "markdown",
      "metadata": {
        "id": "e18uEIPV8sQw"
      },
      "source": [
        "**Exercise:** In the previous code, the \"next iteration incoming...\" text gets printed also for the last iteration, which might be confusing for whoever is reading the output of this code. Tweak the code so that this text only gets printed if we are not in the last element of our list.\n",
        "\n",
        "**Tip**: it is totally normal if you don't know how to approach this exercise right away. You might need to use something we have not seeen in this lesson or the previous one. Google is your friend! If you are stuck for a long time (above 30 min), and have already tried many things, it's time to ask for help to your instructor."
      ]
    },
    {
      "cell_type": "code",
      "execution_count": null,
      "metadata": {
        "colab": {
          "base_uri": "https://localhost:8080/"
        },
        "id": "y8jF5agQ8sQw",
        "outputId": "68e34482-a0ae-4439-f917-8a53ded886d8"
      },
      "outputs": [
        {
          "output_type": "stream",
          "name": "stdout",
          "text": [
            "Bye Justine!\n",
            "next iteration incoming... \n",
            "\n",
            "Hello Amabel!\n",
            "next iteration incoming... \n",
            "\n",
            "Bye Karl!\n",
            "next iteration incoming... \n",
            "\n",
            "Hello Anna!\n",
            "next iteration incoming... \n",
            "\n",
            "Bye Lina!\n",
            "next iteration incoming... \n",
            "\n",
            "Bye Sergei!\n",
            "next iteration incoming... \n",
            "\n",
            "Bye Magnus!\n",
            "next iteration incoming... \n",
            "\n",
            "Hello Aurora!\n"
          ]
        }
      ],
      "source": [
        "# code here\n",
        "for name in names_list:\n",
        "    if name.startswith(\"A\"):\n",
        "        print(\"Hello \" + name + \"!\")\n",
        "    else:\n",
        "        print(\"Bye \" + name + \"!\")\n",
        "    if name != names_list[len(names_list)-1]:\n",
        "        print(\"next iteration incoming... \\n\")\n",
        "\n"
      ]
    },
    {
      "cell_type": "markdown",
      "metadata": {
        "id": "IREOJdGl8sQx"
      },
      "source": [
        "### Bonus exercises\n",
        "\n",
        "1. Implement the for loop that greets people for the `characters` list you used in the previous exercises. For now, do not include any condition —just say hello to every character. What do you need to do to iterate through lists inside a list?"
      ]
    },
    {
      "cell_type": "code",
      "execution_count": null,
      "metadata": {
        "id": "P_dFcZfi8sQx"
      },
      "outputs": [],
      "source": [
        "# code here"
      ]
    },
    {
      "cell_type": "markdown",
      "metadata": {
        "id": "M1Yopc_k8sQy"
      },
      "source": [
        "2. Tweak the code of the previous exercise to greet characters based on these conditions:\n",
        "\n",
        "- If their name is composed of two words (Name Surname), the greeting should be \"Hello Name, from the house of Surname\".\n",
        "\n",
        "- If their name is shorter than 6 characters, the greeting should replicate the last letter of the name as many times as needed until it reaches 6 characters."
      ]
    },
    {
      "cell_type": "code",
      "execution_count": null,
      "metadata": {
        "id": "D0gj_RTk8sQy"
      },
      "outputs": [],
      "source": [
        "# code here"
      ]
    },
    {
      "cell_type": "code",
      "execution_count": null,
      "metadata": {
        "id": "4hmGF2vh8sQz"
      },
      "outputs": [],
      "source": [
        ""
      ]
    }
  ],
  "metadata": {
    "kernelspec": {
      "display_name": "Python 3",
      "language": "python",
      "name": "python3"
    },
    "language_info": {
      "codemirror_mode": {
        "name": "ipython",
        "version": 3
      },
      "file_extension": ".py",
      "mimetype": "text/x-python",
      "name": "python",
      "nbconvert_exporter": "python",
      "pygments_lexer": "ipython3",
      "version": "3.8.5"
    },
    "colab": {
      "name": "lists-and-loops.ipynb",
      "provenance": [],
      "collapsed_sections": [
        "IREOJdGl8sQx"
      ],
      "include_colab_link": true
    }
  },
  "nbformat": 4,
  "nbformat_minor": 0
}