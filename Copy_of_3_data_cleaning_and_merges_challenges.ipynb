{
  "cells": [
    {
      "cell_type": "markdown",
      "metadata": {
        "id": "view-in-github",
        "colab_type": "text"
      },
      "source": [
        "<a href=\"https://colab.research.google.com/github/aslam7861/Python/blob/main/Copy_of_3_data_cleaning_and_merges_challenges.ipynb\" target=\"_parent\"><img src=\"https://colab.research.google.com/assets/colab-badge.svg\" alt=\"Open In Colab\"/></a>"
      ]
    },
    {
      "cell_type": "markdown",
      "metadata": {
        "id": "afebdd73"
      },
      "source": [
        "# Data cleaning and merging dataframes"
      ],
      "id": "afebdd73"
    },
    {
      "cell_type": "markdown",
      "metadata": {
        "id": "10831a57"
      },
      "source": [
        "## Loading multiple datasets"
      ],
      "id": "10831a57"
    },
    {
      "cell_type": "markdown",
      "metadata": {
        "id": "Bev8_XC7I8_y"
      },
      "source": [
        "### Google way"
      ],
      "id": "Bev8_XC7I8_y"
    },
    {
      "cell_type": "code",
      "execution_count": 1,
      "metadata": {
        "id": "Eg50QKeNJB3C",
        "colab": {
          "base_uri": "https://localhost:8080/"
        },
        "outputId": "51eefd1f-4a6a-4344-dbc4-98307f0753cd"
      },
      "outputs": [
        {
          "output_type": "stream",
          "name": "stdout",
          "text": [
            "https://drive.google.com/uc?export=download&id=1BLEHcP-9fm9Rv7A01H3co2XBMnSr66YC\n"
          ]
        }
      ],
      "source": [
        "import pandas as pd\n",
        "\n",
        "# orderlines.csv\n",
        "url = 'https://drive.google.com/file/d/14Y7g5ITyf6LMyPoKc9wr010V9StaCUux/view?usp=sharing' \n",
        "path = 'https://drive.google.com/uc?export=download&id='+url.split('/')[-2]\n",
        "orderlines = pd.read_csv(path)\n",
        "\n",
        "# orders.csv\n",
        "url = 'https://drive.google.com/file/d/1BLEHcP-9fm9Rv7A01H3co2XBMnSr66YC/view?usp=sharing' \n",
        "path = 'https://drive.google.com/uc?export=download&id='+url.split('/')[-2]\n",
        "orders = pd.read_csv(path)\n",
        "\n",
        "print(path)\n",
        "\n",
        "# brands.csv\n",
        "url = 'https://drive.google.com/file/d/1BrNrIY0F1LbyXtyaQygUBXVxQGB3JBqx/view?usp=sharing' \n",
        "path = 'https://drive.google.com/uc?export=download&id='+url.split('/')[-2]\n",
        "brands = pd.read_csv(path)\n",
        "\n",
        "# products.csv\n",
        "url = 'https://drive.google.com/file/d/1UfsHI80cpQqGfsH2g4T4Tsw8cWayOfzC/view?usp=sharing' \n",
        "path = 'https://drive.google.com/uc?export=download&id='+url.split('/')[-2]\n",
        "products = pd.read_csv(path)\n",
        "\n",
        "df_list = [orderlines, orders, brands, products]\n",
        "files = ['orderlines','orders','brands','products']"
      ],
      "id": "Eg50QKeNJB3C"
    },
    {
      "cell_type": "markdown",
      "metadata": {
        "id": "af2ae15c"
      },
      "source": [
        "### Classical way\n",
        "\n",
        "Reading file by file"
      ],
      "id": "af2ae15c"
    },
    {
      "cell_type": "code",
      "execution_count": 2,
      "metadata": {
        "id": "6f39fa3b"
      },
      "outputs": [],
      "source": [
        "# import pandas as pd\n",
        "\n",
        "# path = '../data/eniac/'\n",
        "# orderlines = pd.read_csv(path + 'orderlines.csv')\n",
        "# orders = pd.read_csv(path + 'orders.csv')\n",
        "# brands = pd.read_csv(path + 'brands.csv')\n",
        "# products = pd.read_csv(path + 'products.csv')\n",
        "\n",
        "# df_list = [orderlines, orders, brands, products]\n",
        "# files = ['orderlines','orders','brands','products']"
      ],
      "id": "6f39fa3b"
    },
    {
      "cell_type": "markdown",
      "metadata": {
        "id": "202915d7"
      },
      "source": [
        "### Another way\n",
        "\n",
        "Using `os` and a loop to read all the files from a directory. It's also possible to read only files with a certain extension (like `.csv`):"
      ],
      "id": "202915d7"
    },
    {
      "cell_type": "code",
      "execution_count": 3,
      "metadata": {
        "id": "62853aa0"
      },
      "outputs": [],
      "source": [
        "# import pandas as pd\n",
        "# import os\n",
        "# path = '../data/eniac/'\n",
        "# path, dirs, files = next(os.walk(path))\n",
        "# #print(files)\n",
        "\n",
        "# # remove non-csv files\n",
        "# for file in files:\n",
        "#     if not file.endswith(\"csv\"):\n",
        "#         files.remove(file)"
      ],
      "id": "62853aa0"
    },
    {
      "cell_type": "code",
      "execution_count": 4,
      "metadata": {
        "id": "04654b58"
      },
      "outputs": [],
      "source": [
        "# # create empty list \n",
        "# df_list = []\n",
        "\n",
        "# # append datasets to the list\n",
        "# for file in files:\n",
        "#     temp_df = pd.read_csv(path + file, sep=',')\n",
        "#     df_list.append(temp_df)\n",
        "\n",
        "# # show results\n",
        "# products, orders, orderlines, brands = df_list[0], df_list[1], df_list[2], df_list[3]"
      ],
      "id": "04654b58"
    },
    {
      "cell_type": "markdown",
      "metadata": {
        "id": "971f5ca3"
      },
      "source": [
        "## Data quality\n",
        "\n",
        "### Missing values"
      ],
      "id": "971f5ca3"
    },
    {
      "cell_type": "code",
      "execution_count": 5,
      "metadata": {
        "colab": {
          "base_uri": "https://localhost:8080/"
        },
        "id": "VSYV0ywvkWqu",
        "outputId": "01e8cd8f-b938-47f0-9b3f-688c2b2b3271"
      },
      "outputs": [
        {
          "output_type": "execute_result",
          "data": {
            "text/plain": [
              "id                  0\n",
              "id_order            0\n",
              "product_id          0\n",
              "product_quantity    0\n",
              "sku                 0\n",
              "unit_price          0\n",
              "date                0\n",
              "dtype: int64"
            ]
          },
          "metadata": {},
          "execution_count": 5
        }
      ],
      "source": [
        "# we can check missing values column\n",
        "orderlines.isna().sum()"
      ],
      "id": "VSYV0ywvkWqu"
    },
    {
      "cell_type": "code",
      "execution_count": 6,
      "metadata": {
        "colab": {
          "base_uri": "https://localhost:8080/"
        },
        "id": "emrx9cV7kETk",
        "outputId": "25a906a3-adfb-4fdf-8ed3-01df1ae5cb96"
      },
      "outputs": [
        {
          "output_type": "execute_result",
          "data": {
            "text/plain": [
              "0"
            ]
          },
          "metadata": {},
          "execution_count": 6
        }
      ],
      "source": [
        "# or for the whole dataframe\n",
        "orderlines.isna().sum().sum()"
      ],
      "id": "emrx9cV7kETk"
    },
    {
      "cell_type": "code",
      "execution_count": 7,
      "metadata": {
        "colab": {
          "base_uri": "https://localhost:8080/"
        },
        "id": "h57q7F7hOZ6T",
        "outputId": "54068b47-970f-4d9a-aef2-bb02a25f8209"
      },
      "outputs": [
        {
          "output_type": "execute_result",
          "data": {
            "text/plain": [
              "order_id        0\n",
              "created_date    0\n",
              "total_paid      5\n",
              "state           0\n",
              "dtype: int64"
            ]
          },
          "metadata": {},
          "execution_count": 7
        }
      ],
      "source": [
        "orders.isna().sum()"
      ],
      "id": "h57q7F7hOZ6T"
    },
    {
      "cell_type": "code",
      "execution_count": 8,
      "metadata": {
        "colab": {
          "base_uri": "https://localhost:8080/"
        },
        "id": "Eu2RC-YPi1k6",
        "outputId": "c2b0f079-03ce-4218-cfbd-0fbc9eef922e"
      },
      "outputs": [
        {
          "output_type": "stream",
          "name": "stdout",
          "text": [
            "<class 'pandas.core.frame.DataFrame'>\n",
            "RangeIndex: 293983 entries, 0 to 293982\n",
            "Data columns (total 7 columns):\n",
            " #   Column            Non-Null Count   Dtype \n",
            "---  ------            --------------   ----- \n",
            " 0   id                293983 non-null  int64 \n",
            " 1   id_order          293983 non-null  int64 \n",
            " 2   product_id        293983 non-null  int64 \n",
            " 3   product_quantity  293983 non-null  int64 \n",
            " 4   sku               293983 non-null  object\n",
            " 5   unit_price        293983 non-null  object\n",
            " 6   date              293983 non-null  object\n",
            "dtypes: int64(4), object(3)\n",
            "memory usage: 15.7+ MB\n"
          ]
        }
      ],
      "source": [
        "# the .info() method also tells us the \"Non-Null Count\" for each column\n",
        "orderlines.info()"
      ],
      "id": "Eu2RC-YPi1k6"
    },
    {
      "cell_type": "code",
      "execution_count": 9,
      "metadata": {
        "colab": {
          "base_uri": "https://localhost:8080/"
        },
        "id": "JEMbzoIrjGjD",
        "outputId": "d1a38aa6-d5f2-42b8-cc3f-bcacb39c522e"
      },
      "outputs": [
        {
          "output_type": "stream",
          "name": "stdout",
          "text": [
            "<class 'pandas.core.frame.DataFrame'>\n",
            "RangeIndex: 226909 entries, 0 to 226908\n",
            "Data columns (total 4 columns):\n",
            " #   Column        Non-Null Count   Dtype  \n",
            "---  ------        --------------   -----  \n",
            " 0   order_id      226909 non-null  int64  \n",
            " 1   created_date  226909 non-null  object \n",
            " 2   total_paid    226904 non-null  float64\n",
            " 3   state         226909 non-null  object \n",
            "dtypes: float64(1), int64(1), object(2)\n",
            "memory usage: 6.9+ MB\n"
          ]
        }
      ],
      "source": [
        "orders.info()"
      ],
      "id": "JEMbzoIrjGjD"
    },
    {
      "cell_type": "code",
      "execution_count": 10,
      "metadata": {
        "colab": {
          "base_uri": "https://localhost:8080/"
        },
        "id": "iIYc1FiNjJfT",
        "outputId": "f1675804-916d-415a-ab14-1e39c111baae"
      },
      "outputs": [
        {
          "output_type": "stream",
          "name": "stdout",
          "text": [
            "<class 'pandas.core.frame.DataFrame'>\n",
            "RangeIndex: 187 entries, 0 to 186\n",
            "Data columns (total 2 columns):\n",
            " #   Column  Non-Null Count  Dtype \n",
            "---  ------  --------------  ----- \n",
            " 0   short   187 non-null    object\n",
            " 1   long    187 non-null    object\n",
            "dtypes: object(2)\n",
            "memory usage: 3.0+ KB\n"
          ]
        }
      ],
      "source": [
        "brands.info()"
      ],
      "id": "iIYc1FiNjJfT"
    },
    {
      "cell_type": "code",
      "execution_count": 11,
      "metadata": {
        "colab": {
          "base_uri": "https://localhost:8080/"
        },
        "id": "CL8XtHq6jLRM",
        "outputId": "e1296079-7dd1-4c4c-bcce-88c024c1f516"
      },
      "outputs": [
        {
          "output_type": "stream",
          "name": "stdout",
          "text": [
            "<class 'pandas.core.frame.DataFrame'>\n",
            "RangeIndex: 19326 entries, 0 to 19325\n",
            "Data columns (total 7 columns):\n",
            " #   Column       Non-Null Count  Dtype \n",
            "---  ------       --------------  ----- \n",
            " 0   sku          19326 non-null  object\n",
            " 1   name         19326 non-null  object\n",
            " 2   desc         19319 non-null  object\n",
            " 3   price        19280 non-null  object\n",
            " 4   promo_price  19326 non-null  object\n",
            " 5   in_stock     19326 non-null  int64 \n",
            " 6   type         19276 non-null  object\n",
            "dtypes: int64(1), object(6)\n",
            "memory usage: 1.0+ MB\n"
          ]
        }
      ],
      "source": [
        "products.info()"
      ],
      "id": "CL8XtHq6jLRM"
    },
    {
      "cell_type": "code",
      "source": [
        "products.isna().sum()"
      ],
      "metadata": {
        "colab": {
          "base_uri": "https://localhost:8080/"
        },
        "id": "edBWcsk7mJvU",
        "outputId": "b5516e62-6c9c-44f9-c08f-3e0762a3b001"
      },
      "id": "edBWcsk7mJvU",
      "execution_count": 12,
      "outputs": [
        {
          "output_type": "execute_result",
          "data": {
            "text/plain": [
              "sku             0\n",
              "name            0\n",
              "desc            7\n",
              "price          46\n",
              "promo_price     0\n",
              "in_stock        0\n",
              "type           50\n",
              "dtype: int64"
            ]
          },
          "metadata": {},
          "execution_count": 12
        }
      ]
    },
    {
      "cell_type": "code",
      "source": [
        "products.shape"
      ],
      "metadata": {
        "colab": {
          "base_uri": "https://localhost:8080/"
        },
        "id": "N3hbyt_c2KwU",
        "outputId": "9a08a5de-7c1d-4746-e256-bcfbeda5c241"
      },
      "id": "N3hbyt_c2KwU",
      "execution_count": 13,
      "outputs": [
        {
          "output_type": "execute_result",
          "data": {
            "text/plain": [
              "(19326, 7)"
            ]
          },
          "metadata": {},
          "execution_count": 13
        }
      ]
    },
    {
      "cell_type": "code",
      "execution_count": 14,
      "metadata": {
        "colab": {
          "base_uri": "https://localhost:8080/",
          "height": 142
        },
        "id": "ToVfIqZeNIc9",
        "outputId": "6b58802e-8a72-430c-bdff-87e3a21f3001"
      },
      "outputs": [
        {
          "output_type": "execute_result",
          "data": {
            "text/plain": [
              "             id  id_order  product_id  product_quantity      sku unit_price  \\\n",
              "224291  1538263    482307           0                 1  MIC0036      64.99   \n",
              "259461  1595363    503981           0                 1  DLK0008      49.99   \n",
              "195360  1486354    458835           0                 1  MMW0016      22.99   \n",
              "\n",
              "                       date  \n",
              "224291  2018-01-04 19:18:09  \n",
              "259461  2018-02-01 20:19:52  \n",
              "195360  2017-12-10 09:51:19  "
            ],
            "text/html": [
              "\n",
              "  <div id=\"df-ecfc3a8d-2551-4b37-a657-13d8ca16ead9\">\n",
              "    <div class=\"colab-df-container\">\n",
              "      <div>\n",
              "<style scoped>\n",
              "    .dataframe tbody tr th:only-of-type {\n",
              "        vertical-align: middle;\n",
              "    }\n",
              "\n",
              "    .dataframe tbody tr th {\n",
              "        vertical-align: top;\n",
              "    }\n",
              "\n",
              "    .dataframe thead th {\n",
              "        text-align: right;\n",
              "    }\n",
              "</style>\n",
              "<table border=\"1\" class=\"dataframe\">\n",
              "  <thead>\n",
              "    <tr style=\"text-align: right;\">\n",
              "      <th></th>\n",
              "      <th>id</th>\n",
              "      <th>id_order</th>\n",
              "      <th>product_id</th>\n",
              "      <th>product_quantity</th>\n",
              "      <th>sku</th>\n",
              "      <th>unit_price</th>\n",
              "      <th>date</th>\n",
              "    </tr>\n",
              "  </thead>\n",
              "  <tbody>\n",
              "    <tr>\n",
              "      <th>224291</th>\n",
              "      <td>1538263</td>\n",
              "      <td>482307</td>\n",
              "      <td>0</td>\n",
              "      <td>1</td>\n",
              "      <td>MIC0036</td>\n",
              "      <td>64.99</td>\n",
              "      <td>2018-01-04 19:18:09</td>\n",
              "    </tr>\n",
              "    <tr>\n",
              "      <th>259461</th>\n",
              "      <td>1595363</td>\n",
              "      <td>503981</td>\n",
              "      <td>0</td>\n",
              "      <td>1</td>\n",
              "      <td>DLK0008</td>\n",
              "      <td>49.99</td>\n",
              "      <td>2018-02-01 20:19:52</td>\n",
              "    </tr>\n",
              "    <tr>\n",
              "      <th>195360</th>\n",
              "      <td>1486354</td>\n",
              "      <td>458835</td>\n",
              "      <td>0</td>\n",
              "      <td>1</td>\n",
              "      <td>MMW0016</td>\n",
              "      <td>22.99</td>\n",
              "      <td>2017-12-10 09:51:19</td>\n",
              "    </tr>\n",
              "  </tbody>\n",
              "</table>\n",
              "</div>\n",
              "      <button class=\"colab-df-convert\" onclick=\"convertToInteractive('df-ecfc3a8d-2551-4b37-a657-13d8ca16ead9')\"\n",
              "              title=\"Convert this dataframe to an interactive table.\"\n",
              "              style=\"display:none;\">\n",
              "        \n",
              "  <svg xmlns=\"http://www.w3.org/2000/svg\" height=\"24px\"viewBox=\"0 0 24 24\"\n",
              "       width=\"24px\">\n",
              "    <path d=\"M0 0h24v24H0V0z\" fill=\"none\"/>\n",
              "    <path d=\"M18.56 5.44l.94 2.06.94-2.06 2.06-.94-2.06-.94-.94-2.06-.94 2.06-2.06.94zm-11 1L8.5 8.5l.94-2.06 2.06-.94-2.06-.94L8.5 2.5l-.94 2.06-2.06.94zm10 10l.94 2.06.94-2.06 2.06-.94-2.06-.94-.94-2.06-.94 2.06-2.06.94z\"/><path d=\"M17.41 7.96l-1.37-1.37c-.4-.4-.92-.59-1.43-.59-.52 0-1.04.2-1.43.59L10.3 9.45l-7.72 7.72c-.78.78-.78 2.05 0 2.83L4 21.41c.39.39.9.59 1.41.59.51 0 1.02-.2 1.41-.59l7.78-7.78 2.81-2.81c.8-.78.8-2.07 0-2.86zM5.41 20L4 18.59l7.72-7.72 1.47 1.35L5.41 20z\"/>\n",
              "  </svg>\n",
              "      </button>\n",
              "      \n",
              "  <style>\n",
              "    .colab-df-container {\n",
              "      display:flex;\n",
              "      flex-wrap:wrap;\n",
              "      gap: 12px;\n",
              "    }\n",
              "\n",
              "    .colab-df-convert {\n",
              "      background-color: #E8F0FE;\n",
              "      border: none;\n",
              "      border-radius: 50%;\n",
              "      cursor: pointer;\n",
              "      display: none;\n",
              "      fill: #1967D2;\n",
              "      height: 32px;\n",
              "      padding: 0 0 0 0;\n",
              "      width: 32px;\n",
              "    }\n",
              "\n",
              "    .colab-df-convert:hover {\n",
              "      background-color: #E2EBFA;\n",
              "      box-shadow: 0px 1px 2px rgba(60, 64, 67, 0.3), 0px 1px 3px 1px rgba(60, 64, 67, 0.15);\n",
              "      fill: #174EA6;\n",
              "    }\n",
              "\n",
              "    [theme=dark] .colab-df-convert {\n",
              "      background-color: #3B4455;\n",
              "      fill: #D2E3FC;\n",
              "    }\n",
              "\n",
              "    [theme=dark] .colab-df-convert:hover {\n",
              "      background-color: #434B5C;\n",
              "      box-shadow: 0px 1px 3px 1px rgba(0, 0, 0, 0.15);\n",
              "      filter: drop-shadow(0px 1px 2px rgba(0, 0, 0, 0.3));\n",
              "      fill: #FFFFFF;\n",
              "    }\n",
              "  </style>\n",
              "\n",
              "      <script>\n",
              "        const buttonEl =\n",
              "          document.querySelector('#df-ecfc3a8d-2551-4b37-a657-13d8ca16ead9 button.colab-df-convert');\n",
              "        buttonEl.style.display =\n",
              "          google.colab.kernel.accessAllowed ? 'block' : 'none';\n",
              "\n",
              "        async function convertToInteractive(key) {\n",
              "          const element = document.querySelector('#df-ecfc3a8d-2551-4b37-a657-13d8ca16ead9');\n",
              "          const dataTable =\n",
              "            await google.colab.kernel.invokeFunction('convertToInteractive',\n",
              "                                                     [key], {});\n",
              "          if (!dataTable) return;\n",
              "\n",
              "          const docLinkHtml = 'Like what you see? Visit the ' +\n",
              "            '<a target=\"_blank\" href=https://colab.research.google.com/notebooks/data_table.ipynb>data table notebook</a>'\n",
              "            + ' to learn more about interactive tables.';\n",
              "          element.innerHTML = '';\n",
              "          dataTable['output_type'] = 'display_data';\n",
              "          await google.colab.output.renderOutput(dataTable, element);\n",
              "          const docLink = document.createElement('div');\n",
              "          docLink.innerHTML = docLinkHtml;\n",
              "          element.appendChild(docLink);\n",
              "        }\n",
              "      </script>\n",
              "    </div>\n",
              "  </div>\n",
              "  "
            ]
          },
          "metadata": {},
          "execution_count": 14
        }
      ],
      "source": [
        "orderlines.sample(3)"
      ],
      "id": "ToVfIqZeNIc9"
    },
    {
      "cell_type": "markdown",
      "metadata": {
        "id": "3fda10bd"
      },
      "source": [
        "### Duplicates\n",
        "\n",
        "The presence of duplicate rows is generally a sign that the data is not clean, and will deserve further exploration."
      ],
      "id": "3fda10bd"
    },
    {
      "cell_type": "code",
      "execution_count": 15,
      "metadata": {
        "colab": {
          "base_uri": "https://localhost:8080/"
        },
        "id": "WTOZeTUtjkWm",
        "outputId": "7676acf1-d8c2-44ef-8f16-36e1392363d5"
      },
      "outputs": [
        {
          "output_type": "execute_result",
          "data": {
            "text/plain": [
              "0"
            ]
          },
          "metadata": {},
          "execution_count": 15
        }
      ],
      "source": [
        "orderlines.duplicated().sum()"
      ],
      "id": "WTOZeTUtjkWm"
    },
    {
      "cell_type": "code",
      "execution_count": 16,
      "metadata": {
        "colab": {
          "base_uri": "https://localhost:8080/"
        },
        "id": "CcUGyTajjpdu",
        "outputId": "6a4a8f6a-deb5-4e9d-b5d7-6c44cf0102e7"
      },
      "outputs": [
        {
          "output_type": "execute_result",
          "data": {
            "text/plain": [
              "0"
            ]
          },
          "metadata": {},
          "execution_count": 16
        }
      ],
      "source": [
        "orders.duplicated().sum()"
      ],
      "id": "CcUGyTajjpdu"
    },
    {
      "cell_type": "code",
      "execution_count": 17,
      "metadata": {
        "colab": {
          "base_uri": "https://localhost:8080/"
        },
        "id": "whXHDGl1jsjH",
        "outputId": "13aa8243-b2b9-4c0d-9951-3714632cc46c"
      },
      "outputs": [
        {
          "output_type": "execute_result",
          "data": {
            "text/plain": [
              "0"
            ]
          },
          "metadata": {},
          "execution_count": 17
        }
      ],
      "source": [
        "brands.duplicated().sum()"
      ],
      "id": "whXHDGl1jsjH"
    },
    {
      "cell_type": "code",
      "execution_count": 18,
      "metadata": {
        "colab": {
          "base_uri": "https://localhost:8080/"
        },
        "id": "K7Cpgeu9jvm8",
        "outputId": "d53abcf0-bb27-453c-e986-24b2a8416c6e"
      },
      "outputs": [
        {
          "output_type": "execute_result",
          "data": {
            "text/plain": [
              "8746"
            ]
          },
          "metadata": {},
          "execution_count": 18
        }
      ],
      "source": [
        "products.duplicated().sum()"
      ],
      "id": "K7Cpgeu9jvm8"
    },
    {
      "cell_type": "code",
      "source": [
        "products.info()"
      ],
      "metadata": {
        "colab": {
          "base_uri": "https://localhost:8080/"
        },
        "id": "Zy6eygXunaiD",
        "outputId": "813db974-0905-4a90-d918-3c3a2289c1e5"
      },
      "id": "Zy6eygXunaiD",
      "execution_count": 19,
      "outputs": [
        {
          "output_type": "stream",
          "name": "stdout",
          "text": [
            "<class 'pandas.core.frame.DataFrame'>\n",
            "RangeIndex: 19326 entries, 0 to 19325\n",
            "Data columns (total 7 columns):\n",
            " #   Column       Non-Null Count  Dtype \n",
            "---  ------       --------------  ----- \n",
            " 0   sku          19326 non-null  object\n",
            " 1   name         19326 non-null  object\n",
            " 2   desc         19319 non-null  object\n",
            " 3   price        19280 non-null  object\n",
            " 4   promo_price  19326 non-null  object\n",
            " 5   in_stock     19326 non-null  int64 \n",
            " 6   type         19276 non-null  object\n",
            "dtypes: int64(1), object(6)\n",
            "memory usage: 1.0+ MB\n"
          ]
        }
      ]
    },
    {
      "cell_type": "markdown",
      "metadata": {
        "id": "bae86fb5"
      },
      "source": [
        "### Data cleanliness - initial assessment"
      ],
      "id": "bae86fb5"
    },
    {
      "cell_type": "code",
      "source": [
        ""
      ],
      "metadata": {
        "id": "IzHfx5ponnKy"
      },
      "id": "IzHfx5ponnKy",
      "execution_count": 19,
      "outputs": []
    },
    {
      "cell_type": "markdown",
      "metadata": {
        "id": "a1b9a1e1"
      },
      "source": [
        ""
      ],
      "id": "a1b9a1e1"
    },
    {
      "cell_type": "markdown",
      "metadata": {
        "id": "89a0e311"
      },
      "source": [
        "Based on our initial exploration, we know we will need to deal with some missing values. The biggest issue so far are the duplicates on the `products` DataFrame. Here are some aspects that we will need to fix or, at least, explore further:\n",
        "\n",
        "* **products**: \n",
        "    * `price` and `promo_price` are loaded as objects. They should be floats. \n",
        "    * Missing values: \n",
        "        * `description`: 7 missing values. Maybe that could be inferred from the product name?\n",
        "        * `price`: the missing values could be filled from the `orderlines` dataset. But first we will need to clean it. \n",
        "    * Duplicates: a total of 8746 duplicates seems to indicate this DataFrame has been seriously corrupted.\n",
        "    \n",
        "* **orders**: \n",
        "    * `created_date` should have a date data type. Then, it would be a good quality check to see if the created date for `orders` mathces with the created dates for `orderlines`. \n",
        "    \n",
        "* **orderlines**: \n",
        "    * `unit_price` has to be a float, something is wrong there. \n",
        "    * `date` has to be transformed to a date data type. Then, as we said, check that it with matches with the `orders` dataset. \n",
        "    \n",
        "* **brands**: looks fine. \n",
        "\n",
        "Where do we have to start? \n",
        "\n",
        "1. **Data consistency:** Since `orders` and `orderlines` seem very crucial to the analysis, we will start by cleaning them and checking that the information present in both DataFrames match.\n",
        "\n",
        "2. **The \"products mess\":** This file seems to have many issues. We will leave it out for now and perform a proper exploration later to understand better what's going on there."
      ],
      "id": "89a0e311"
    },
    {
      "cell_type": "markdown",
      "metadata": {
        "id": "b1acf29c"
      },
      "source": [
        "## Cleaning orders"
      ],
      "id": "b1acf29c"
    },
    {
      "cell_type": "markdown",
      "metadata": {
        "id": "02df9b51"
      },
      "source": [
        "The data consistency check we will do with `orderlines` will involve two steps: \n",
        "\n",
        "* the initial and last dates of the orders should be the same\n",
        "* the sum of `total_paid` on both datasets should be the same\n",
        "\n",
        "Let's start by transforming the `created_date` of the orders DataFrame and looking for its earliest and latest values:"
      ],
      "id": "02df9b51"
    },
    {
      "cell_type": "code",
      "source": [
        "orders.info()"
      ],
      "metadata": {
        "colab": {
          "base_uri": "https://localhost:8080/"
        },
        "id": "Wn7ny8wVorJD",
        "outputId": "b39705f8-4c2e-41a8-94a6-4d42baecc6cc"
      },
      "id": "Wn7ny8wVorJD",
      "execution_count": 20,
      "outputs": [
        {
          "output_type": "stream",
          "name": "stdout",
          "text": [
            "<class 'pandas.core.frame.DataFrame'>\n",
            "RangeIndex: 226909 entries, 0 to 226908\n",
            "Data columns (total 4 columns):\n",
            " #   Column        Non-Null Count   Dtype  \n",
            "---  ------        --------------   -----  \n",
            " 0   order_id      226909 non-null  int64  \n",
            " 1   created_date  226909 non-null  object \n",
            " 2   total_paid    226904 non-null  float64\n",
            " 3   state         226909 non-null  object \n",
            "dtypes: float64(1), int64(1), object(2)\n",
            "memory usage: 6.9+ MB\n"
          ]
        }
      ]
    },
    {
      "cell_type": "code",
      "source": [
        "orders['created_date'][1]"
      ],
      "metadata": {
        "colab": {
          "base_uri": "https://localhost:8080/",
          "height": 37
        },
        "id": "Pbta7dSP3gkm",
        "outputId": "8dc20716-d640-49d2-e83d-e29681faff53"
      },
      "id": "Pbta7dSP3gkm",
      "execution_count": 21,
      "outputs": [
        {
          "output_type": "execute_result",
          "data": {
            "text/plain": [
              "'2017-11-06 13:10:02'"
            ],
            "application/vnd.google.colaboratory.intrinsic+json": {
              "type": "string"
            }
          },
          "metadata": {},
          "execution_count": 21
        }
      ]
    },
    {
      "cell_type": "code",
      "execution_count": 22,
      "metadata": {
        "id": "0273f61a"
      },
      "outputs": [],
      "source": [
        "# change date datatype\n",
        "orders['created_date'] = pd.to_datetime(orders['created_date'])"
      ],
      "id": "0273f61a"
    },
    {
      "cell_type": "code",
      "source": [
        "orders['created_date'][1]"
      ],
      "metadata": {
        "colab": {
          "base_uri": "https://localhost:8080/"
        },
        "id": "mDY3qmZx3m0u",
        "outputId": "c87dec8d-1eeb-4d5e-e85e-e4fa38830df2"
      },
      "id": "mDY3qmZx3m0u",
      "execution_count": 23,
      "outputs": [
        {
          "output_type": "execute_result",
          "data": {
            "text/plain": [
              "Timestamp('2017-11-06 13:10:02')"
            ]
          },
          "metadata": {},
          "execution_count": 23
        }
      ]
    },
    {
      "cell_type": "code",
      "execution_count": 24,
      "metadata": {
        "colab": {
          "base_uri": "https://localhost:8080/"
        },
        "id": "27f0383c",
        "outputId": "3ce08126-e4eb-4d3a-e1f9-70aef041ad22"
      },
      "outputs": [
        {
          "output_type": "execute_result",
          "data": {
            "text/plain": [
              "Timestamp('2017-01-01 00:07:19')"
            ]
          },
          "metadata": {},
          "execution_count": 24
        }
      ],
      "source": [
        "# earliest value\n",
        "min(orders['created_date'])"
      ],
      "id": "27f0383c"
    },
    {
      "cell_type": "code",
      "execution_count": 25,
      "metadata": {
        "colab": {
          "base_uri": "https://localhost:8080/"
        },
        "id": "5eb7bbd1",
        "outputId": "b7d4354b-4a00-4f12-b6aa-e88069f96d65"
      },
      "outputs": [
        {
          "output_type": "execute_result",
          "data": {
            "text/plain": [
              "Timestamp('2018-03-14 13:58:36')"
            ]
          },
          "metadata": {},
          "execution_count": 25
        }
      ],
      "source": [
        "# latest value\n",
        "max(orders['created_date'])"
      ],
      "id": "5eb7bbd1"
    },
    {
      "cell_type": "markdown",
      "metadata": {
        "id": "F6pOv2PQWboH"
      },
      "source": [
        "Now we will look at the overall sum of `total_paid` for the orders table:"
      ],
      "id": "F6pOv2PQWboH"
    },
    {
      "cell_type": "code",
      "execution_count": 26,
      "metadata": {
        "colab": {
          "base_uri": "https://localhost:8080/"
        },
        "id": "ba857c3c",
        "outputId": "600061b8-610a-4b27-af4d-ac1dab8a5cf5"
      },
      "outputs": [
        {
          "output_type": "execute_result",
          "data": {
            "text/plain": [
              "nan"
            ]
          },
          "metadata": {},
          "execution_count": 26
        }
      ],
      "source": [
        "sum(orders['total_paid'])"
      ],
      "id": "ba857c3c"
    },
    {
      "cell_type": "markdown",
      "metadata": {
        "id": "6c10d77a"
      },
      "source": [
        "Why do you think the result of the sum is a nan (not a number)?"
      ],
      "id": "6c10d77a"
    },
    {
      "cell_type": "code",
      "execution_count": 27,
      "metadata": {
        "colab": {
          "base_uri": "https://localhost:8080/"
        },
        "id": "cfd8f549",
        "outputId": "c17477fe-59d1-415c-c236-c25a308282e7"
      },
      "outputs": [
        {
          "output_type": "execute_result",
          "data": {
            "text/plain": [
              "5"
            ]
          },
          "metadata": {},
          "execution_count": 27
        }
      ],
      "source": [
        "orders[\"total_paid\"].isna().sum()"
      ],
      "id": "cfd8f549"
    },
    {
      "cell_type": "markdown",
      "metadata": {
        "id": "5ZpWv0uagUK-"
      },
      "source": [
        "There are missing values! We can explore them and see how they are all \"Pending\" orders:"
      ],
      "id": "5ZpWv0uagUK-"
    },
    {
      "cell_type": "code",
      "execution_count": 28,
      "metadata": {
        "colab": {
          "base_uri": "https://localhost:8080/",
          "height": 204
        },
        "id": "ffbd6f9a",
        "outputId": "d2ff6397-e4fb-406c-8af9-27611263672e"
      },
      "outputs": [
        {
          "output_type": "execute_result",
          "data": {
            "text/plain": [
              "        order_id        created_date  total_paid    state\n",
              "127701    427314 2017-11-20 18:54:39         NaN  Pending\n",
              "132013    431655 2017-11-22 12:15:24         NaN  Pending\n",
              "147316    447411 2017-11-27 10:32:37         NaN  Pending\n",
              "148833    448966 2017-11-27 18:54:15         NaN  Pending\n",
              "149434    449596 2017-11-27 21:52:08         NaN  Pending"
            ],
            "text/html": [
              "\n",
              "  <div id=\"df-6bd18ec3-4517-4c2f-99d6-809538d8d893\">\n",
              "    <div class=\"colab-df-container\">\n",
              "      <div>\n",
              "<style scoped>\n",
              "    .dataframe tbody tr th:only-of-type {\n",
              "        vertical-align: middle;\n",
              "    }\n",
              "\n",
              "    .dataframe tbody tr th {\n",
              "        vertical-align: top;\n",
              "    }\n",
              "\n",
              "    .dataframe thead th {\n",
              "        text-align: right;\n",
              "    }\n",
              "</style>\n",
              "<table border=\"1\" class=\"dataframe\">\n",
              "  <thead>\n",
              "    <tr style=\"text-align: right;\">\n",
              "      <th></th>\n",
              "      <th>order_id</th>\n",
              "      <th>created_date</th>\n",
              "      <th>total_paid</th>\n",
              "      <th>state</th>\n",
              "    </tr>\n",
              "  </thead>\n",
              "  <tbody>\n",
              "    <tr>\n",
              "      <th>127701</th>\n",
              "      <td>427314</td>\n",
              "      <td>2017-11-20 18:54:39</td>\n",
              "      <td>NaN</td>\n",
              "      <td>Pending</td>\n",
              "    </tr>\n",
              "    <tr>\n",
              "      <th>132013</th>\n",
              "      <td>431655</td>\n",
              "      <td>2017-11-22 12:15:24</td>\n",
              "      <td>NaN</td>\n",
              "      <td>Pending</td>\n",
              "    </tr>\n",
              "    <tr>\n",
              "      <th>147316</th>\n",
              "      <td>447411</td>\n",
              "      <td>2017-11-27 10:32:37</td>\n",
              "      <td>NaN</td>\n",
              "      <td>Pending</td>\n",
              "    </tr>\n",
              "    <tr>\n",
              "      <th>148833</th>\n",
              "      <td>448966</td>\n",
              "      <td>2017-11-27 18:54:15</td>\n",
              "      <td>NaN</td>\n",
              "      <td>Pending</td>\n",
              "    </tr>\n",
              "    <tr>\n",
              "      <th>149434</th>\n",
              "      <td>449596</td>\n",
              "      <td>2017-11-27 21:52:08</td>\n",
              "      <td>NaN</td>\n",
              "      <td>Pending</td>\n",
              "    </tr>\n",
              "  </tbody>\n",
              "</table>\n",
              "</div>\n",
              "      <button class=\"colab-df-convert\" onclick=\"convertToInteractive('df-6bd18ec3-4517-4c2f-99d6-809538d8d893')\"\n",
              "              title=\"Convert this dataframe to an interactive table.\"\n",
              "              style=\"display:none;\">\n",
              "        \n",
              "  <svg xmlns=\"http://www.w3.org/2000/svg\" height=\"24px\"viewBox=\"0 0 24 24\"\n",
              "       width=\"24px\">\n",
              "    <path d=\"M0 0h24v24H0V0z\" fill=\"none\"/>\n",
              "    <path d=\"M18.56 5.44l.94 2.06.94-2.06 2.06-.94-2.06-.94-.94-2.06-.94 2.06-2.06.94zm-11 1L8.5 8.5l.94-2.06 2.06-.94-2.06-.94L8.5 2.5l-.94 2.06-2.06.94zm10 10l.94 2.06.94-2.06 2.06-.94-2.06-.94-.94-2.06-.94 2.06-2.06.94z\"/><path d=\"M17.41 7.96l-1.37-1.37c-.4-.4-.92-.59-1.43-.59-.52 0-1.04.2-1.43.59L10.3 9.45l-7.72 7.72c-.78.78-.78 2.05 0 2.83L4 21.41c.39.39.9.59 1.41.59.51 0 1.02-.2 1.41-.59l7.78-7.78 2.81-2.81c.8-.78.8-2.07 0-2.86zM5.41 20L4 18.59l7.72-7.72 1.47 1.35L5.41 20z\"/>\n",
              "  </svg>\n",
              "      </button>\n",
              "      \n",
              "  <style>\n",
              "    .colab-df-container {\n",
              "      display:flex;\n",
              "      flex-wrap:wrap;\n",
              "      gap: 12px;\n",
              "    }\n",
              "\n",
              "    .colab-df-convert {\n",
              "      background-color: #E8F0FE;\n",
              "      border: none;\n",
              "      border-radius: 50%;\n",
              "      cursor: pointer;\n",
              "      display: none;\n",
              "      fill: #1967D2;\n",
              "      height: 32px;\n",
              "      padding: 0 0 0 0;\n",
              "      width: 32px;\n",
              "    }\n",
              "\n",
              "    .colab-df-convert:hover {\n",
              "      background-color: #E2EBFA;\n",
              "      box-shadow: 0px 1px 2px rgba(60, 64, 67, 0.3), 0px 1px 3px 1px rgba(60, 64, 67, 0.15);\n",
              "      fill: #174EA6;\n",
              "    }\n",
              "\n",
              "    [theme=dark] .colab-df-convert {\n",
              "      background-color: #3B4455;\n",
              "      fill: #D2E3FC;\n",
              "    }\n",
              "\n",
              "    [theme=dark] .colab-df-convert:hover {\n",
              "      background-color: #434B5C;\n",
              "      box-shadow: 0px 1px 3px 1px rgba(0, 0, 0, 0.15);\n",
              "      filter: drop-shadow(0px 1px 2px rgba(0, 0, 0, 0.3));\n",
              "      fill: #FFFFFF;\n",
              "    }\n",
              "  </style>\n",
              "\n",
              "      <script>\n",
              "        const buttonEl =\n",
              "          document.querySelector('#df-6bd18ec3-4517-4c2f-99d6-809538d8d893 button.colab-df-convert');\n",
              "        buttonEl.style.display =\n",
              "          google.colab.kernel.accessAllowed ? 'block' : 'none';\n",
              "\n",
              "        async function convertToInteractive(key) {\n",
              "          const element = document.querySelector('#df-6bd18ec3-4517-4c2f-99d6-809538d8d893');\n",
              "          const dataTable =\n",
              "            await google.colab.kernel.invokeFunction('convertToInteractive',\n",
              "                                                     [key], {});\n",
              "          if (!dataTable) return;\n",
              "\n",
              "          const docLinkHtml = 'Like what you see? Visit the ' +\n",
              "            '<a target=\"_blank\" href=https://colab.research.google.com/notebooks/data_table.ipynb>data table notebook</a>'\n",
              "            + ' to learn more about interactive tables.';\n",
              "          element.innerHTML = '';\n",
              "          dataTable['output_type'] = 'display_data';\n",
              "          await google.colab.output.renderOutput(dataTable, element);\n",
              "          const docLink = document.createElement('div');\n",
              "          docLink.innerHTML = docLinkHtml;\n",
              "          element.appendChild(docLink);\n",
              "        }\n",
              "      </script>\n",
              "    </div>\n",
              "  </div>\n",
              "  "
            ]
          },
          "metadata": {},
          "execution_count": 28
        }
      ],
      "source": [
        "orders.loc[orders['total_paid'].isna()]"
      ],
      "id": "ffbd6f9a"
    },
    {
      "cell_type": "code",
      "source": [
        "orders.shape"
      ],
      "metadata": {
        "colab": {
          "base_uri": "https://localhost:8080/"
        },
        "id": "6ZvN1GoB4Jg7",
        "outputId": "a00a5b28-7a94-4886-8852-259fc30798ed"
      },
      "id": "6ZvN1GoB4Jg7",
      "execution_count": 29,
      "outputs": [
        {
          "output_type": "execute_result",
          "data": {
            "text/plain": [
              "(226909, 4)"
            ]
          },
          "metadata": {},
          "execution_count": 29
        }
      ]
    },
    {
      "cell_type": "markdown",
      "metadata": {
        "id": "c2b676c9"
      },
      "source": [
        "Since these orders are only a tiny fraction and there's a valid reason why the `total_paid` value is missing, we will simply exclude them from the dataset:"
      ],
      "id": "c2b676c9"
    },
    {
      "cell_type": "code",
      "execution_count": 30,
      "metadata": {
        "id": "d7f5f92c"
      },
      "outputs": [],
      "source": [
        "orders.dropna(inplace=True)"
      ],
      "id": "d7f5f92c"
    },
    {
      "cell_type": "code",
      "source": [
        "orders.shape"
      ],
      "metadata": {
        "colab": {
          "base_uri": "https://localhost:8080/"
        },
        "id": "fR1ieK0t4M-o",
        "outputId": "a8c5c63e-7077-46e3-c8a5-21c46f337a78"
      },
      "id": "fR1ieK0t4M-o",
      "execution_count": 31,
      "outputs": [
        {
          "output_type": "execute_result",
          "data": {
            "text/plain": [
              "(226904, 4)"
            ]
          },
          "metadata": {},
          "execution_count": 31
        }
      ]
    },
    {
      "cell_type": "markdown",
      "metadata": {
        "id": "add0e9a1"
      },
      "source": [
        "Now the dataset is clean. And the total paid is: "
      ],
      "id": "add0e9a1"
    },
    {
      "cell_type": "code",
      "execution_count": 32,
      "metadata": {
        "colab": {
          "base_uri": "https://localhost:8080/"
        },
        "id": "c6c44bc6",
        "outputId": "843fff41-dee8-4a2d-db57-0684c5a37150"
      },
      "outputs": [
        {
          "output_type": "execute_result",
          "data": {
            "text/plain": [
              "0"
            ]
          },
          "metadata": {},
          "execution_count": 32
        }
      ],
      "source": [
        "orders['total_paid'].isna().sum()"
      ],
      "id": "c6c44bc6"
    },
    {
      "cell_type": "code",
      "source": [
        "sum(orders['total_paid'])"
      ],
      "metadata": {
        "colab": {
          "base_uri": "https://localhost:8080/"
        },
        "id": "3Sx94kLqqmTg",
        "outputId": "4a7093ab-5951-42ca-dc40-54ad10034ee4"
      },
      "id": "3Sx94kLqqmTg",
      "execution_count": 33,
      "outputs": [
        {
          "output_type": "execute_result",
          "data": {
            "text/plain": [
              "129159615.06991275"
            ]
          },
          "metadata": {},
          "execution_count": 33
        }
      ]
    },
    {
      "cell_type": "markdown",
      "metadata": {
        "id": "c06a2c99"
      },
      "source": [
        "## Cleaning orderlines"
      ],
      "id": "c06a2c99"
    },
    {
      "cell_type": "markdown",
      "metadata": {
        "id": "4c5d56af"
      },
      "source": [
        "Following our data consistency check, will now gather in the orderlines DataFrame the same information we got from orders:\n",
        "\n",
        "* the initial and last dates\n",
        "* the sum of `total_paid`\n",
        "\n",
        "\n",
        "First let's transform our date time:"
      ],
      "id": "4c5d56af"
    },
    {
      "cell_type": "code",
      "execution_count": 34,
      "metadata": {
        "id": "91193c28"
      },
      "outputs": [],
      "source": [
        "orderlines['date'] = pd.to_datetime(orderlines['date'])"
      ],
      "id": "91193c28"
    },
    {
      "cell_type": "code",
      "execution_count": 35,
      "metadata": {
        "colab": {
          "base_uri": "https://localhost:8080/"
        },
        "id": "f0689fd6",
        "outputId": "f1f0a0b0-22bd-46b8-e728-130cd6e90872"
      },
      "outputs": [
        {
          "output_type": "execute_result",
          "data": {
            "text/plain": [
              "Timestamp('2017-01-01 00:07:19')"
            ]
          },
          "metadata": {},
          "execution_count": 35
        }
      ],
      "source": [
        "min(orderlines['date'])\n",
        "# orders: Timestamp('2017-01-01 00:07:19'). #min(orders['created_date'])"
      ],
      "id": "f0689fd6"
    },
    {
      "cell_type": "code",
      "execution_count": 36,
      "metadata": {
        "colab": {
          "base_uri": "https://localhost:8080/"
        },
        "id": "c68dcd64",
        "outputId": "b8a95752-5daf-4b90-d981-787e1d2d3e0a"
      },
      "outputs": [
        {
          "output_type": "execute_result",
          "data": {
            "text/plain": [
              "Timestamp('2018-03-14 13:58:36')"
            ]
          },
          "metadata": {},
          "execution_count": 36
        }
      ],
      "source": [
        "max(orderlines['date'])\n",
        "# orders: Timestamp('2018-03-14 13:58:36')"
      ],
      "id": "c68dcd64"
    },
    {
      "cell_type": "code",
      "source": [
        "orderlines.shape"
      ],
      "metadata": {
        "colab": {
          "base_uri": "https://localhost:8080/"
        },
        "id": "lZ-r5xtT40_g",
        "outputId": "e8c456e3-e98f-46d1-a2ba-c40eef201cea"
      },
      "id": "lZ-r5xtT40_g",
      "execution_count": 37,
      "outputs": [
        {
          "output_type": "execute_result",
          "data": {
            "text/plain": [
              "(293983, 7)"
            ]
          },
          "metadata": {},
          "execution_count": 37
        }
      ]
    },
    {
      "cell_type": "markdown",
      "metadata": {
        "id": "6963a0d5"
      },
      "source": [
        "**It's a match!**\n",
        "\n",
        "Now let's check the `total_paid` for orderlines. It's not going to be as easy as with the orders DataFrame, considering the sturcture of orderlines:\n"
      ],
      "id": "6963a0d5"
    },
    {
      "cell_type": "code",
      "execution_count": 38,
      "metadata": {
        "colab": {
          "base_uri": "https://localhost:8080/",
          "height": 142
        },
        "id": "fXme7ToahfhG",
        "outputId": "79e2a0c4-62a0-4817-b311-2c0035fc6673"
      },
      "outputs": [
        {
          "output_type": "execute_result",
          "data": {
            "text/plain": [
              "             id  id_order  product_id  product_quantity      sku unit_price  \\\n",
              "10716   1145757    309291           0                 1  SAN0156      18.99   \n",
              "224251  1538215    482294           0                 1  MAT0010      59.99   \n",
              "196787  1488373    459634           0                 1  APP2231   2.895.00   \n",
              "\n",
              "                      date  \n",
              "10716  2017-01-14 11:52:08  \n",
              "224251 2018-01-04 19:08:42  \n",
              "196787 2017-12-11 11:38:12  "
            ],
            "text/html": [
              "\n",
              "  <div id=\"df-a8e55c41-41a5-4037-8c0f-6d92f9b558ed\">\n",
              "    <div class=\"colab-df-container\">\n",
              "      <div>\n",
              "<style scoped>\n",
              "    .dataframe tbody tr th:only-of-type {\n",
              "        vertical-align: middle;\n",
              "    }\n",
              "\n",
              "    .dataframe tbody tr th {\n",
              "        vertical-align: top;\n",
              "    }\n",
              "\n",
              "    .dataframe thead th {\n",
              "        text-align: right;\n",
              "    }\n",
              "</style>\n",
              "<table border=\"1\" class=\"dataframe\">\n",
              "  <thead>\n",
              "    <tr style=\"text-align: right;\">\n",
              "      <th></th>\n",
              "      <th>id</th>\n",
              "      <th>id_order</th>\n",
              "      <th>product_id</th>\n",
              "      <th>product_quantity</th>\n",
              "      <th>sku</th>\n",
              "      <th>unit_price</th>\n",
              "      <th>date</th>\n",
              "    </tr>\n",
              "  </thead>\n",
              "  <tbody>\n",
              "    <tr>\n",
              "      <th>10716</th>\n",
              "      <td>1145757</td>\n",
              "      <td>309291</td>\n",
              "      <td>0</td>\n",
              "      <td>1</td>\n",
              "      <td>SAN0156</td>\n",
              "      <td>18.99</td>\n",
              "      <td>2017-01-14 11:52:08</td>\n",
              "    </tr>\n",
              "    <tr>\n",
              "      <th>224251</th>\n",
              "      <td>1538215</td>\n",
              "      <td>482294</td>\n",
              "      <td>0</td>\n",
              "      <td>1</td>\n",
              "      <td>MAT0010</td>\n",
              "      <td>59.99</td>\n",
              "      <td>2018-01-04 19:08:42</td>\n",
              "    </tr>\n",
              "    <tr>\n",
              "      <th>196787</th>\n",
              "      <td>1488373</td>\n",
              "      <td>459634</td>\n",
              "      <td>0</td>\n",
              "      <td>1</td>\n",
              "      <td>APP2231</td>\n",
              "      <td>2.895.00</td>\n",
              "      <td>2017-12-11 11:38:12</td>\n",
              "    </tr>\n",
              "  </tbody>\n",
              "</table>\n",
              "</div>\n",
              "      <button class=\"colab-df-convert\" onclick=\"convertToInteractive('df-a8e55c41-41a5-4037-8c0f-6d92f9b558ed')\"\n",
              "              title=\"Convert this dataframe to an interactive table.\"\n",
              "              style=\"display:none;\">\n",
              "        \n",
              "  <svg xmlns=\"http://www.w3.org/2000/svg\" height=\"24px\"viewBox=\"0 0 24 24\"\n",
              "       width=\"24px\">\n",
              "    <path d=\"M0 0h24v24H0V0z\" fill=\"none\"/>\n",
              "    <path d=\"M18.56 5.44l.94 2.06.94-2.06 2.06-.94-2.06-.94-.94-2.06-.94 2.06-2.06.94zm-11 1L8.5 8.5l.94-2.06 2.06-.94-2.06-.94L8.5 2.5l-.94 2.06-2.06.94zm10 10l.94 2.06.94-2.06 2.06-.94-2.06-.94-.94-2.06-.94 2.06-2.06.94z\"/><path d=\"M17.41 7.96l-1.37-1.37c-.4-.4-.92-.59-1.43-.59-.52 0-1.04.2-1.43.59L10.3 9.45l-7.72 7.72c-.78.78-.78 2.05 0 2.83L4 21.41c.39.39.9.59 1.41.59.51 0 1.02-.2 1.41-.59l7.78-7.78 2.81-2.81c.8-.78.8-2.07 0-2.86zM5.41 20L4 18.59l7.72-7.72 1.47 1.35L5.41 20z\"/>\n",
              "  </svg>\n",
              "      </button>\n",
              "      \n",
              "  <style>\n",
              "    .colab-df-container {\n",
              "      display:flex;\n",
              "      flex-wrap:wrap;\n",
              "      gap: 12px;\n",
              "    }\n",
              "\n",
              "    .colab-df-convert {\n",
              "      background-color: #E8F0FE;\n",
              "      border: none;\n",
              "      border-radius: 50%;\n",
              "      cursor: pointer;\n",
              "      display: none;\n",
              "      fill: #1967D2;\n",
              "      height: 32px;\n",
              "      padding: 0 0 0 0;\n",
              "      width: 32px;\n",
              "    }\n",
              "\n",
              "    .colab-df-convert:hover {\n",
              "      background-color: #E2EBFA;\n",
              "      box-shadow: 0px 1px 2px rgba(60, 64, 67, 0.3), 0px 1px 3px 1px rgba(60, 64, 67, 0.15);\n",
              "      fill: #174EA6;\n",
              "    }\n",
              "\n",
              "    [theme=dark] .colab-df-convert {\n",
              "      background-color: #3B4455;\n",
              "      fill: #D2E3FC;\n",
              "    }\n",
              "\n",
              "    [theme=dark] .colab-df-convert:hover {\n",
              "      background-color: #434B5C;\n",
              "      box-shadow: 0px 1px 3px 1px rgba(0, 0, 0, 0.15);\n",
              "      filter: drop-shadow(0px 1px 2px rgba(0, 0, 0, 0.3));\n",
              "      fill: #FFFFFF;\n",
              "    }\n",
              "  </style>\n",
              "\n",
              "      <script>\n",
              "        const buttonEl =\n",
              "          document.querySelector('#df-a8e55c41-41a5-4037-8c0f-6d92f9b558ed button.colab-df-convert');\n",
              "        buttonEl.style.display =\n",
              "          google.colab.kernel.accessAllowed ? 'block' : 'none';\n",
              "\n",
              "        async function convertToInteractive(key) {\n",
              "          const element = document.querySelector('#df-a8e55c41-41a5-4037-8c0f-6d92f9b558ed');\n",
              "          const dataTable =\n",
              "            await google.colab.kernel.invokeFunction('convertToInteractive',\n",
              "                                                     [key], {});\n",
              "          if (!dataTable) return;\n",
              "\n",
              "          const docLinkHtml = 'Like what you see? Visit the ' +\n",
              "            '<a target=\"_blank\" href=https://colab.research.google.com/notebooks/data_table.ipynb>data table notebook</a>'\n",
              "            + ' to learn more about interactive tables.';\n",
              "          element.innerHTML = '';\n",
              "          dataTable['output_type'] = 'display_data';\n",
              "          await google.colab.output.renderOutput(dataTable, element);\n",
              "          const docLink = document.createElement('div');\n",
              "          docLink.innerHTML = docLinkHtml;\n",
              "          element.appendChild(docLink);\n",
              "        }\n",
              "      </script>\n",
              "    </div>\n",
              "  </div>\n",
              "  "
            ]
          },
          "metadata": {},
          "execution_count": 38
        }
      ],
      "source": [
        "orderlines.sample(3)"
      ],
      "id": "fXme7ToahfhG"
    },
    {
      "cell_type": "markdown",
      "metadata": {
        "id": "BpVdrIomhf9I"
      },
      "source": [
        "\n",
        "To get this value, we will have to calculate a new column, total price for each row. It would be `product_quantity` * `unit_price`. This operation will require that both columns have a numeric data type:"
      ],
      "id": "BpVdrIomhf9I"
    },
    {
      "cell_type": "code",
      "execution_count": 39,
      "metadata": {
        "colab": {
          "base_uri": "https://localhost:8080/"
        },
        "id": "fdSBibPwhwrb",
        "outputId": "276e8ed1-98e2-4790-d395-448169a57ed4"
      },
      "outputs": [
        {
          "output_type": "execute_result",
          "data": {
            "text/plain": [
              "id                           int64\n",
              "id_order                     int64\n",
              "product_id                   int64\n",
              "product_quantity             int64\n",
              "sku                         object\n",
              "unit_price                  object\n",
              "date                datetime64[ns]\n",
              "dtype: object"
            ]
          },
          "metadata": {},
          "execution_count": 39
        }
      ],
      "source": [
        "orderlines.dtypes"
      ],
      "id": "fdSBibPwhwrb"
    },
    {
      "cell_type": "markdown",
      "metadata": {
        "id": "QouTH_FdhxeV"
      },
      "source": [
        "...it's not the case right now, so we will have to transform the `unit_price` to a numeric data type. "
      ],
      "id": "QouTH_FdhxeV"
    },
    {
      "cell_type": "code",
      "execution_count": 40,
      "metadata": {
        "id": "229c76e3"
      },
      "outputs": [],
      "source": [
        "# uncomment the line of code below and read the error it produces:\n",
        "#orderlines['product_quantity']*pd.to_numeric(orderlines['unit_price'])"
      ],
      "id": "229c76e3"
    },
    {
      "cell_type": "markdown",
      "metadata": {
        "id": "23ef0212"
      },
      "source": [
        "While trying to transform this column to numeric an error appears. From the error message, \n",
        "\n",
        "> \"Unable to parse string '1.137.99' at position 6\"\n",
        "\n",
        "it seems that our dataset has some problems with the thousands separators: they were encoded as dots, and Python & pandas only admit one dot per number: the _decimal_ separator!\n",
        "\n",
        "Lesson learned: do not use thousand separators in databases / statistical software / programming languages! Sadly, it's too late for us, and we will have to deal with the issue.\n",
        "\n",
        "There are many ways to approach this problem. The first thing we will do is to count how many dots appear for each `unit_price` value, using string operations. If there are two or more dots a value, we will consider it corrupted —and either try to fix it, or remove it completely."
      ],
      "id": "23ef0212"
    },
    {
      "cell_type": "code",
      "execution_count": 41,
      "metadata": {
        "colab": {
          "base_uri": "https://localhost:8080/",
          "height": 419
        },
        "id": "42e6d20f",
        "outputId": "3603533c-0350-48d7-8be2-eca459bbbf4f"
      },
      "outputs": [
        {
          "output_type": "execute_result",
          "data": {
            "text/plain": [
              "             id  id_order  product_id  product_quantity      sku unit_price  \\\n",
              "6       1119115    299544           0                 1  APP1582   1.137.99   \n",
              "11      1119126    299549           0                 1  PAC0929   2.565.99   \n",
              "15      1119131    299553           0                 1  APP1854   3.278.99   \n",
              "43      1119195    299582           0                 1  PAC0961   2.616.99   \n",
              "59      1119214    299596           0                 1  PAC1599   2.873.99   \n",
              "...         ...       ...         ...               ...      ...        ...   \n",
              "293862  1649999    452946           0                 1  APP2075   2.999.00   \n",
              "293887  1650045    527321           0                 1  PAC2148   3.497.00   \n",
              "293889  1650050    527324           0                 1  PAC2117   3.075.00   \n",
              "293911  1650088    527342           0                 1  APP2492   1.329.00   \n",
              "293936  1650135    527364           0                 1  APP2491   1.329.00   \n",
              "\n",
              "                      date  dots  \n",
              "6      2017-01-01 01:17:21     2  \n",
              "11     2017-01-01 02:07:42     2  \n",
              "15     2017-01-01 02:14:47     2  \n",
              "43     2017-01-01 08:54:00     2  \n",
              "59     2017-01-01 09:53:11     2  \n",
              "...                    ...   ...  \n",
              "293862 2018-03-14 13:03:33     2  \n",
              "293887 2018-03-14 13:10:15     2  \n",
              "293889 2018-03-14 13:10:56     2  \n",
              "293911 2018-03-14 13:24:51     2  \n",
              "293936 2018-03-14 13:36:13     2  \n",
              "\n",
              "[36169 rows x 8 columns]"
            ],
            "text/html": [
              "\n",
              "  <div id=\"df-2de61e56-55a4-4923-bba8-d2972b6882cd\">\n",
              "    <div class=\"colab-df-container\">\n",
              "      <div>\n",
              "<style scoped>\n",
              "    .dataframe tbody tr th:only-of-type {\n",
              "        vertical-align: middle;\n",
              "    }\n",
              "\n",
              "    .dataframe tbody tr th {\n",
              "        vertical-align: top;\n",
              "    }\n",
              "\n",
              "    .dataframe thead th {\n",
              "        text-align: right;\n",
              "    }\n",
              "</style>\n",
              "<table border=\"1\" class=\"dataframe\">\n",
              "  <thead>\n",
              "    <tr style=\"text-align: right;\">\n",
              "      <th></th>\n",
              "      <th>id</th>\n",
              "      <th>id_order</th>\n",
              "      <th>product_id</th>\n",
              "      <th>product_quantity</th>\n",
              "      <th>sku</th>\n",
              "      <th>unit_price</th>\n",
              "      <th>date</th>\n",
              "      <th>dots</th>\n",
              "    </tr>\n",
              "  </thead>\n",
              "  <tbody>\n",
              "    <tr>\n",
              "      <th>6</th>\n",
              "      <td>1119115</td>\n",
              "      <td>299544</td>\n",
              "      <td>0</td>\n",
              "      <td>1</td>\n",
              "      <td>APP1582</td>\n",
              "      <td>1.137.99</td>\n",
              "      <td>2017-01-01 01:17:21</td>\n",
              "      <td>2</td>\n",
              "    </tr>\n",
              "    <tr>\n",
              "      <th>11</th>\n",
              "      <td>1119126</td>\n",
              "      <td>299549</td>\n",
              "      <td>0</td>\n",
              "      <td>1</td>\n",
              "      <td>PAC0929</td>\n",
              "      <td>2.565.99</td>\n",
              "      <td>2017-01-01 02:07:42</td>\n",
              "      <td>2</td>\n",
              "    </tr>\n",
              "    <tr>\n",
              "      <th>15</th>\n",
              "      <td>1119131</td>\n",
              "      <td>299553</td>\n",
              "      <td>0</td>\n",
              "      <td>1</td>\n",
              "      <td>APP1854</td>\n",
              "      <td>3.278.99</td>\n",
              "      <td>2017-01-01 02:14:47</td>\n",
              "      <td>2</td>\n",
              "    </tr>\n",
              "    <tr>\n",
              "      <th>43</th>\n",
              "      <td>1119195</td>\n",
              "      <td>299582</td>\n",
              "      <td>0</td>\n",
              "      <td>1</td>\n",
              "      <td>PAC0961</td>\n",
              "      <td>2.616.99</td>\n",
              "      <td>2017-01-01 08:54:00</td>\n",
              "      <td>2</td>\n",
              "    </tr>\n",
              "    <tr>\n",
              "      <th>59</th>\n",
              "      <td>1119214</td>\n",
              "      <td>299596</td>\n",
              "      <td>0</td>\n",
              "      <td>1</td>\n",
              "      <td>PAC1599</td>\n",
              "      <td>2.873.99</td>\n",
              "      <td>2017-01-01 09:53:11</td>\n",
              "      <td>2</td>\n",
              "    </tr>\n",
              "    <tr>\n",
              "      <th>...</th>\n",
              "      <td>...</td>\n",
              "      <td>...</td>\n",
              "      <td>...</td>\n",
              "      <td>...</td>\n",
              "      <td>...</td>\n",
              "      <td>...</td>\n",
              "      <td>...</td>\n",
              "      <td>...</td>\n",
              "    </tr>\n",
              "    <tr>\n",
              "      <th>293862</th>\n",
              "      <td>1649999</td>\n",
              "      <td>452946</td>\n",
              "      <td>0</td>\n",
              "      <td>1</td>\n",
              "      <td>APP2075</td>\n",
              "      <td>2.999.00</td>\n",
              "      <td>2018-03-14 13:03:33</td>\n",
              "      <td>2</td>\n",
              "    </tr>\n",
              "    <tr>\n",
              "      <th>293887</th>\n",
              "      <td>1650045</td>\n",
              "      <td>527321</td>\n",
              "      <td>0</td>\n",
              "      <td>1</td>\n",
              "      <td>PAC2148</td>\n",
              "      <td>3.497.00</td>\n",
              "      <td>2018-03-14 13:10:15</td>\n",
              "      <td>2</td>\n",
              "    </tr>\n",
              "    <tr>\n",
              "      <th>293889</th>\n",
              "      <td>1650050</td>\n",
              "      <td>527324</td>\n",
              "      <td>0</td>\n",
              "      <td>1</td>\n",
              "      <td>PAC2117</td>\n",
              "      <td>3.075.00</td>\n",
              "      <td>2018-03-14 13:10:56</td>\n",
              "      <td>2</td>\n",
              "    </tr>\n",
              "    <tr>\n",
              "      <th>293911</th>\n",
              "      <td>1650088</td>\n",
              "      <td>527342</td>\n",
              "      <td>0</td>\n",
              "      <td>1</td>\n",
              "      <td>APP2492</td>\n",
              "      <td>1.329.00</td>\n",
              "      <td>2018-03-14 13:24:51</td>\n",
              "      <td>2</td>\n",
              "    </tr>\n",
              "    <tr>\n",
              "      <th>293936</th>\n",
              "      <td>1650135</td>\n",
              "      <td>527364</td>\n",
              "      <td>0</td>\n",
              "      <td>1</td>\n",
              "      <td>APP2491</td>\n",
              "      <td>1.329.00</td>\n",
              "      <td>2018-03-14 13:36:13</td>\n",
              "      <td>2</td>\n",
              "    </tr>\n",
              "  </tbody>\n",
              "</table>\n",
              "<p>36169 rows × 8 columns</p>\n",
              "</div>\n",
              "      <button class=\"colab-df-convert\" onclick=\"convertToInteractive('df-2de61e56-55a4-4923-bba8-d2972b6882cd')\"\n",
              "              title=\"Convert this dataframe to an interactive table.\"\n",
              "              style=\"display:none;\">\n",
              "        \n",
              "  <svg xmlns=\"http://www.w3.org/2000/svg\" height=\"24px\"viewBox=\"0 0 24 24\"\n",
              "       width=\"24px\">\n",
              "    <path d=\"M0 0h24v24H0V0z\" fill=\"none\"/>\n",
              "    <path d=\"M18.56 5.44l.94 2.06.94-2.06 2.06-.94-2.06-.94-.94-2.06-.94 2.06-2.06.94zm-11 1L8.5 8.5l.94-2.06 2.06-.94-2.06-.94L8.5 2.5l-.94 2.06-2.06.94zm10 10l.94 2.06.94-2.06 2.06-.94-2.06-.94-.94-2.06-.94 2.06-2.06.94z\"/><path d=\"M17.41 7.96l-1.37-1.37c-.4-.4-.92-.59-1.43-.59-.52 0-1.04.2-1.43.59L10.3 9.45l-7.72 7.72c-.78.78-.78 2.05 0 2.83L4 21.41c.39.39.9.59 1.41.59.51 0 1.02-.2 1.41-.59l7.78-7.78 2.81-2.81c.8-.78.8-2.07 0-2.86zM5.41 20L4 18.59l7.72-7.72 1.47 1.35L5.41 20z\"/>\n",
              "  </svg>\n",
              "      </button>\n",
              "      \n",
              "  <style>\n",
              "    .colab-df-container {\n",
              "      display:flex;\n",
              "      flex-wrap:wrap;\n",
              "      gap: 12px;\n",
              "    }\n",
              "\n",
              "    .colab-df-convert {\n",
              "      background-color: #E8F0FE;\n",
              "      border: none;\n",
              "      border-radius: 50%;\n",
              "      cursor: pointer;\n",
              "      display: none;\n",
              "      fill: #1967D2;\n",
              "      height: 32px;\n",
              "      padding: 0 0 0 0;\n",
              "      width: 32px;\n",
              "    }\n",
              "\n",
              "    .colab-df-convert:hover {\n",
              "      background-color: #E2EBFA;\n",
              "      box-shadow: 0px 1px 2px rgba(60, 64, 67, 0.3), 0px 1px 3px 1px rgba(60, 64, 67, 0.15);\n",
              "      fill: #174EA6;\n",
              "    }\n",
              "\n",
              "    [theme=dark] .colab-df-convert {\n",
              "      background-color: #3B4455;\n",
              "      fill: #D2E3FC;\n",
              "    }\n",
              "\n",
              "    [theme=dark] .colab-df-convert:hover {\n",
              "      background-color: #434B5C;\n",
              "      box-shadow: 0px 1px 3px 1px rgba(0, 0, 0, 0.15);\n",
              "      filter: drop-shadow(0px 1px 2px rgba(0, 0, 0, 0.3));\n",
              "      fill: #FFFFFF;\n",
              "    }\n",
              "  </style>\n",
              "\n",
              "      <script>\n",
              "        const buttonEl =\n",
              "          document.querySelector('#df-2de61e56-55a4-4923-bba8-d2972b6882cd button.colab-df-convert');\n",
              "        buttonEl.style.display =\n",
              "          google.colab.kernel.accessAllowed ? 'block' : 'none';\n",
              "\n",
              "        async function convertToInteractive(key) {\n",
              "          const element = document.querySelector('#df-2de61e56-55a4-4923-bba8-d2972b6882cd');\n",
              "          const dataTable =\n",
              "            await google.colab.kernel.invokeFunction('convertToInteractive',\n",
              "                                                     [key], {});\n",
              "          if (!dataTable) return;\n",
              "\n",
              "          const docLinkHtml = 'Like what you see? Visit the ' +\n",
              "            '<a target=\"_blank\" href=https://colab.research.google.com/notebooks/data_table.ipynb>data table notebook</a>'\n",
              "            + ' to learn more about interactive tables.';\n",
              "          element.innerHTML = '';\n",
              "          dataTable['output_type'] = 'display_data';\n",
              "          await google.colab.output.renderOutput(dataTable, element);\n",
              "          const docLink = document.createElement('div');\n",
              "          docLink.innerHTML = docLinkHtml;\n",
              "          element.appendChild(docLink);\n",
              "        }\n",
              "      </script>\n",
              "    </div>\n",
              "  </div>\n",
              "  "
            ]
          },
          "metadata": {},
          "execution_count": 41
        }
      ],
      "source": [
        "# we create a copy of the dataset\n",
        "ol_temp = orderlines.copy()\n",
        "\n",
        "# create a new column with the amount of dots in the unit_price column\n",
        "ol_temp['dots'] = orderlines['unit_price'].str.count('\\.') # the backslash 'escapes' the special meaning of '.' in string operations\n",
        "\n",
        "# show the rows with more than one dot\n",
        "ol_temp.query('dots > 1')"
      ],
      "id": "42e6d20f"
    },
    {
      "cell_type": "markdown",
      "metadata": {
        "id": "b8bda3c9"
      },
      "source": [
        "Our theory about the thousands separators is confirmed. How can we solve this problem? \n",
        "\n",
        "Let's remove all the dots for all the `unit_price`, and then add a dot before the last 2 digits to all the rows. Then we will transform it into numeric values.\n",
        "\n",
        "##### step 1: remove all dots\n",
        "a) A \"corrupted\" price like `1.137.99`\twill become `113799`\n",
        "\n",
        "b) A correct price like `37.99`\twill become `3799`\n",
        "\n",
        "##### step 2: add dots two digits before the end of the number\n",
        "a) The \"corrupted\" price will go from `113799` to `1137.99`\n",
        "\n",
        "b) The correct price will go from `3799` back to `37.99`."
      ],
      "id": "b8bda3c9"
    },
    {
      "cell_type": "code",
      "execution_count": 42,
      "metadata": {
        "colab": {
          "base_uri": "https://localhost:8080/",
          "height": 204
        },
        "id": "7a1adac6",
        "outputId": "112d9ed2-4e3e-4e58-b7f7-1dce88b04ea0"
      },
      "outputs": [
        {
          "output_type": "execute_result",
          "data": {
            "text/plain": [
              "        id  id_order  product_id  product_quantity      sku unit_price  \\\n",
              "0  1119109    299539           0                 1  OTT0133      18.99   \n",
              "1  1119110    299540           0                 1  LGE0043     399.00   \n",
              "2  1119111    299541           0                 1  PAR0071     474.05   \n",
              "3  1119112    299542           0                 1  WDT0315      68.39   \n",
              "4  1119113    299543           0                 1  JBL0104      23.74   \n",
              "\n",
              "                 date unit_price_nd  \n",
              "0 2017-01-01 00:07:19          1899  \n",
              "1 2017-01-01 00:19:45         39900  \n",
              "2 2017-01-01 00:20:57         47405  \n",
              "3 2017-01-01 00:51:40          6839  \n",
              "4 2017-01-01 01:06:38          2374  "
            ],
            "text/html": [
              "\n",
              "  <div id=\"df-4c88650f-15fd-4ec6-8f35-b348a68c9edd\">\n",
              "    <div class=\"colab-df-container\">\n",
              "      <div>\n",
              "<style scoped>\n",
              "    .dataframe tbody tr th:only-of-type {\n",
              "        vertical-align: middle;\n",
              "    }\n",
              "\n",
              "    .dataframe tbody tr th {\n",
              "        vertical-align: top;\n",
              "    }\n",
              "\n",
              "    .dataframe thead th {\n",
              "        text-align: right;\n",
              "    }\n",
              "</style>\n",
              "<table border=\"1\" class=\"dataframe\">\n",
              "  <thead>\n",
              "    <tr style=\"text-align: right;\">\n",
              "      <th></th>\n",
              "      <th>id</th>\n",
              "      <th>id_order</th>\n",
              "      <th>product_id</th>\n",
              "      <th>product_quantity</th>\n",
              "      <th>sku</th>\n",
              "      <th>unit_price</th>\n",
              "      <th>date</th>\n",
              "      <th>unit_price_nd</th>\n",
              "    </tr>\n",
              "  </thead>\n",
              "  <tbody>\n",
              "    <tr>\n",
              "      <th>0</th>\n",
              "      <td>1119109</td>\n",
              "      <td>299539</td>\n",
              "      <td>0</td>\n",
              "      <td>1</td>\n",
              "      <td>OTT0133</td>\n",
              "      <td>18.99</td>\n",
              "      <td>2017-01-01 00:07:19</td>\n",
              "      <td>1899</td>\n",
              "    </tr>\n",
              "    <tr>\n",
              "      <th>1</th>\n",
              "      <td>1119110</td>\n",
              "      <td>299540</td>\n",
              "      <td>0</td>\n",
              "      <td>1</td>\n",
              "      <td>LGE0043</td>\n",
              "      <td>399.00</td>\n",
              "      <td>2017-01-01 00:19:45</td>\n",
              "      <td>39900</td>\n",
              "    </tr>\n",
              "    <tr>\n",
              "      <th>2</th>\n",
              "      <td>1119111</td>\n",
              "      <td>299541</td>\n",
              "      <td>0</td>\n",
              "      <td>1</td>\n",
              "      <td>PAR0071</td>\n",
              "      <td>474.05</td>\n",
              "      <td>2017-01-01 00:20:57</td>\n",
              "      <td>47405</td>\n",
              "    </tr>\n",
              "    <tr>\n",
              "      <th>3</th>\n",
              "      <td>1119112</td>\n",
              "      <td>299542</td>\n",
              "      <td>0</td>\n",
              "      <td>1</td>\n",
              "      <td>WDT0315</td>\n",
              "      <td>68.39</td>\n",
              "      <td>2017-01-01 00:51:40</td>\n",
              "      <td>6839</td>\n",
              "    </tr>\n",
              "    <tr>\n",
              "      <th>4</th>\n",
              "      <td>1119113</td>\n",
              "      <td>299543</td>\n",
              "      <td>0</td>\n",
              "      <td>1</td>\n",
              "      <td>JBL0104</td>\n",
              "      <td>23.74</td>\n",
              "      <td>2017-01-01 01:06:38</td>\n",
              "      <td>2374</td>\n",
              "    </tr>\n",
              "  </tbody>\n",
              "</table>\n",
              "</div>\n",
              "      <button class=\"colab-df-convert\" onclick=\"convertToInteractive('df-4c88650f-15fd-4ec6-8f35-b348a68c9edd')\"\n",
              "              title=\"Convert this dataframe to an interactive table.\"\n",
              "              style=\"display:none;\">\n",
              "        \n",
              "  <svg xmlns=\"http://www.w3.org/2000/svg\" height=\"24px\"viewBox=\"0 0 24 24\"\n",
              "       width=\"24px\">\n",
              "    <path d=\"M0 0h24v24H0V0z\" fill=\"none\"/>\n",
              "    <path d=\"M18.56 5.44l.94 2.06.94-2.06 2.06-.94-2.06-.94-.94-2.06-.94 2.06-2.06.94zm-11 1L8.5 8.5l.94-2.06 2.06-.94-2.06-.94L8.5 2.5l-.94 2.06-2.06.94zm10 10l.94 2.06.94-2.06 2.06-.94-2.06-.94-.94-2.06-.94 2.06-2.06.94z\"/><path d=\"M17.41 7.96l-1.37-1.37c-.4-.4-.92-.59-1.43-.59-.52 0-1.04.2-1.43.59L10.3 9.45l-7.72 7.72c-.78.78-.78 2.05 0 2.83L4 21.41c.39.39.9.59 1.41.59.51 0 1.02-.2 1.41-.59l7.78-7.78 2.81-2.81c.8-.78.8-2.07 0-2.86zM5.41 20L4 18.59l7.72-7.72 1.47 1.35L5.41 20z\"/>\n",
              "  </svg>\n",
              "      </button>\n",
              "      \n",
              "  <style>\n",
              "    .colab-df-container {\n",
              "      display:flex;\n",
              "      flex-wrap:wrap;\n",
              "      gap: 12px;\n",
              "    }\n",
              "\n",
              "    .colab-df-convert {\n",
              "      background-color: #E8F0FE;\n",
              "      border: none;\n",
              "      border-radius: 50%;\n",
              "      cursor: pointer;\n",
              "      display: none;\n",
              "      fill: #1967D2;\n",
              "      height: 32px;\n",
              "      padding: 0 0 0 0;\n",
              "      width: 32px;\n",
              "    }\n",
              "\n",
              "    .colab-df-convert:hover {\n",
              "      background-color: #E2EBFA;\n",
              "      box-shadow: 0px 1px 2px rgba(60, 64, 67, 0.3), 0px 1px 3px 1px rgba(60, 64, 67, 0.15);\n",
              "      fill: #174EA6;\n",
              "    }\n",
              "\n",
              "    [theme=dark] .colab-df-convert {\n",
              "      background-color: #3B4455;\n",
              "      fill: #D2E3FC;\n",
              "    }\n",
              "\n",
              "    [theme=dark] .colab-df-convert:hover {\n",
              "      background-color: #434B5C;\n",
              "      box-shadow: 0px 1px 3px 1px rgba(0, 0, 0, 0.15);\n",
              "      filter: drop-shadow(0px 1px 2px rgba(0, 0, 0, 0.3));\n",
              "      fill: #FFFFFF;\n",
              "    }\n",
              "  </style>\n",
              "\n",
              "      <script>\n",
              "        const buttonEl =\n",
              "          document.querySelector('#df-4c88650f-15fd-4ec6-8f35-b348a68c9edd button.colab-df-convert');\n",
              "        buttonEl.style.display =\n",
              "          google.colab.kernel.accessAllowed ? 'block' : 'none';\n",
              "\n",
              "        async function convertToInteractive(key) {\n",
              "          const element = document.querySelector('#df-4c88650f-15fd-4ec6-8f35-b348a68c9edd');\n",
              "          const dataTable =\n",
              "            await google.colab.kernel.invokeFunction('convertToInteractive',\n",
              "                                                     [key], {});\n",
              "          if (!dataTable) return;\n",
              "\n",
              "          const docLinkHtml = 'Like what you see? Visit the ' +\n",
              "            '<a target=\"_blank\" href=https://colab.research.google.com/notebooks/data_table.ipynb>data table notebook</a>'\n",
              "            + ' to learn more about interactive tables.';\n",
              "          element.innerHTML = '';\n",
              "          dataTable['output_type'] = 'display_data';\n",
              "          await google.colab.output.renderOutput(dataTable, element);\n",
              "          const docLink = document.createElement('div');\n",
              "          docLink.innerHTML = docLinkHtml;\n",
              "          element.appendChild(docLink);\n",
              "        }\n",
              "      </script>\n",
              "    </div>\n",
              "  </div>\n",
              "  "
            ]
          },
          "metadata": {},
          "execution_count": 42
        }
      ],
      "source": [
        "# step 1: to remove the dots, we replace them for... nothing\n",
        "orderlines = orderlines.assign(unit_price_nd = orderlines['unit_price'].str.replace('\\.','', regex=True))\n",
        "orderlines.head()"
      ],
      "id": "7a1adac6"
    },
    {
      "cell_type": "code",
      "execution_count": 43,
      "metadata": {
        "colab": {
          "base_uri": "https://localhost:8080/",
          "height": 248
        },
        "id": "4e5d9bbc",
        "outputId": "60ebff04-b11a-46c6-d81e-726425c7cb35"
      },
      "outputs": [
        {
          "output_type": "execute_result",
          "data": {
            "text/plain": [
              "        id  id_order  product_id  product_quantity      sku unit_price  \\\n",
              "0  1119109    299539           0                 1  OTT0133      18.99   \n",
              "1  1119110    299540           0                 1  LGE0043     399.00   \n",
              "2  1119111    299541           0                 1  PAR0071     474.05   \n",
              "3  1119112    299542           0                 1  WDT0315      68.39   \n",
              "4  1119113    299543           0                 1  JBL0104      23.74   \n",
              "\n",
              "                 date unit_price_nd integers decimals  \n",
              "0 2017-01-01 00:07:19          1899       18       99  \n",
              "1 2017-01-01 00:19:45         39900      399       00  \n",
              "2 2017-01-01 00:20:57         47405      474       05  \n",
              "3 2017-01-01 00:51:40          6839       68       39  \n",
              "4 2017-01-01 01:06:38          2374       23       74  "
            ],
            "text/html": [
              "\n",
              "  <div id=\"df-8c0a72dc-f56c-4b7d-a7c8-c02fe5f6246e\">\n",
              "    <div class=\"colab-df-container\">\n",
              "      <div>\n",
              "<style scoped>\n",
              "    .dataframe tbody tr th:only-of-type {\n",
              "        vertical-align: middle;\n",
              "    }\n",
              "\n",
              "    .dataframe tbody tr th {\n",
              "        vertical-align: top;\n",
              "    }\n",
              "\n",
              "    .dataframe thead th {\n",
              "        text-align: right;\n",
              "    }\n",
              "</style>\n",
              "<table border=\"1\" class=\"dataframe\">\n",
              "  <thead>\n",
              "    <tr style=\"text-align: right;\">\n",
              "      <th></th>\n",
              "      <th>id</th>\n",
              "      <th>id_order</th>\n",
              "      <th>product_id</th>\n",
              "      <th>product_quantity</th>\n",
              "      <th>sku</th>\n",
              "      <th>unit_price</th>\n",
              "      <th>date</th>\n",
              "      <th>unit_price_nd</th>\n",
              "      <th>integers</th>\n",
              "      <th>decimals</th>\n",
              "    </tr>\n",
              "  </thead>\n",
              "  <tbody>\n",
              "    <tr>\n",
              "      <th>0</th>\n",
              "      <td>1119109</td>\n",
              "      <td>299539</td>\n",
              "      <td>0</td>\n",
              "      <td>1</td>\n",
              "      <td>OTT0133</td>\n",
              "      <td>18.99</td>\n",
              "      <td>2017-01-01 00:07:19</td>\n",
              "      <td>1899</td>\n",
              "      <td>18</td>\n",
              "      <td>99</td>\n",
              "    </tr>\n",
              "    <tr>\n",
              "      <th>1</th>\n",
              "      <td>1119110</td>\n",
              "      <td>299540</td>\n",
              "      <td>0</td>\n",
              "      <td>1</td>\n",
              "      <td>LGE0043</td>\n",
              "      <td>399.00</td>\n",
              "      <td>2017-01-01 00:19:45</td>\n",
              "      <td>39900</td>\n",
              "      <td>399</td>\n",
              "      <td>00</td>\n",
              "    </tr>\n",
              "    <tr>\n",
              "      <th>2</th>\n",
              "      <td>1119111</td>\n",
              "      <td>299541</td>\n",
              "      <td>0</td>\n",
              "      <td>1</td>\n",
              "      <td>PAR0071</td>\n",
              "      <td>474.05</td>\n",
              "      <td>2017-01-01 00:20:57</td>\n",
              "      <td>47405</td>\n",
              "      <td>474</td>\n",
              "      <td>05</td>\n",
              "    </tr>\n",
              "    <tr>\n",
              "      <th>3</th>\n",
              "      <td>1119112</td>\n",
              "      <td>299542</td>\n",
              "      <td>0</td>\n",
              "      <td>1</td>\n",
              "      <td>WDT0315</td>\n",
              "      <td>68.39</td>\n",
              "      <td>2017-01-01 00:51:40</td>\n",
              "      <td>6839</td>\n",
              "      <td>68</td>\n",
              "      <td>39</td>\n",
              "    </tr>\n",
              "    <tr>\n",
              "      <th>4</th>\n",
              "      <td>1119113</td>\n",
              "      <td>299543</td>\n",
              "      <td>0</td>\n",
              "      <td>1</td>\n",
              "      <td>JBL0104</td>\n",
              "      <td>23.74</td>\n",
              "      <td>2017-01-01 01:06:38</td>\n",
              "      <td>2374</td>\n",
              "      <td>23</td>\n",
              "      <td>74</td>\n",
              "    </tr>\n",
              "  </tbody>\n",
              "</table>\n",
              "</div>\n",
              "      <button class=\"colab-df-convert\" onclick=\"convertToInteractive('df-8c0a72dc-f56c-4b7d-a7c8-c02fe5f6246e')\"\n",
              "              title=\"Convert this dataframe to an interactive table.\"\n",
              "              style=\"display:none;\">\n",
              "        \n",
              "  <svg xmlns=\"http://www.w3.org/2000/svg\" height=\"24px\"viewBox=\"0 0 24 24\"\n",
              "       width=\"24px\">\n",
              "    <path d=\"M0 0h24v24H0V0z\" fill=\"none\"/>\n",
              "    <path d=\"M18.56 5.44l.94 2.06.94-2.06 2.06-.94-2.06-.94-.94-2.06-.94 2.06-2.06.94zm-11 1L8.5 8.5l.94-2.06 2.06-.94-2.06-.94L8.5 2.5l-.94 2.06-2.06.94zm10 10l.94 2.06.94-2.06 2.06-.94-2.06-.94-.94-2.06-.94 2.06-2.06.94z\"/><path d=\"M17.41 7.96l-1.37-1.37c-.4-.4-.92-.59-1.43-.59-.52 0-1.04.2-1.43.59L10.3 9.45l-7.72 7.72c-.78.78-.78 2.05 0 2.83L4 21.41c.39.39.9.59 1.41.59.51 0 1.02-.2 1.41-.59l7.78-7.78 2.81-2.81c.8-.78.8-2.07 0-2.86zM5.41 20L4 18.59l7.72-7.72 1.47 1.35L5.41 20z\"/>\n",
              "  </svg>\n",
              "      </button>\n",
              "      \n",
              "  <style>\n",
              "    .colab-df-container {\n",
              "      display:flex;\n",
              "      flex-wrap:wrap;\n",
              "      gap: 12px;\n",
              "    }\n",
              "\n",
              "    .colab-df-convert {\n",
              "      background-color: #E8F0FE;\n",
              "      border: none;\n",
              "      border-radius: 50%;\n",
              "      cursor: pointer;\n",
              "      display: none;\n",
              "      fill: #1967D2;\n",
              "      height: 32px;\n",
              "      padding: 0 0 0 0;\n",
              "      width: 32px;\n",
              "    }\n",
              "\n",
              "    .colab-df-convert:hover {\n",
              "      background-color: #E2EBFA;\n",
              "      box-shadow: 0px 1px 2px rgba(60, 64, 67, 0.3), 0px 1px 3px 1px rgba(60, 64, 67, 0.15);\n",
              "      fill: #174EA6;\n",
              "    }\n",
              "\n",
              "    [theme=dark] .colab-df-convert {\n",
              "      background-color: #3B4455;\n",
              "      fill: #D2E3FC;\n",
              "    }\n",
              "\n",
              "    [theme=dark] .colab-df-convert:hover {\n",
              "      background-color: #434B5C;\n",
              "      box-shadow: 0px 1px 3px 1px rgba(0, 0, 0, 0.15);\n",
              "      filter: drop-shadow(0px 1px 2px rgba(0, 0, 0, 0.3));\n",
              "      fill: #FFFFFF;\n",
              "    }\n",
              "  </style>\n",
              "\n",
              "      <script>\n",
              "        const buttonEl =\n",
              "          document.querySelector('#df-8c0a72dc-f56c-4b7d-a7c8-c02fe5f6246e button.colab-df-convert');\n",
              "        buttonEl.style.display =\n",
              "          google.colab.kernel.accessAllowed ? 'block' : 'none';\n",
              "\n",
              "        async function convertToInteractive(key) {\n",
              "          const element = document.querySelector('#df-8c0a72dc-f56c-4b7d-a7c8-c02fe5f6246e');\n",
              "          const dataTable =\n",
              "            await google.colab.kernel.invokeFunction('convertToInteractive',\n",
              "                                                     [key], {});\n",
              "          if (!dataTable) return;\n",
              "\n",
              "          const docLinkHtml = 'Like what you see? Visit the ' +\n",
              "            '<a target=\"_blank\" href=https://colab.research.google.com/notebooks/data_table.ipynb>data table notebook</a>'\n",
              "            + ' to learn more about interactive tables.';\n",
              "          element.innerHTML = '';\n",
              "          dataTable['output_type'] = 'display_data';\n",
              "          await google.colab.output.renderOutput(dataTable, element);\n",
              "          const docLink = document.createElement('div');\n",
              "          docLink.innerHTML = docLinkHtml;\n",
              "          element.appendChild(docLink);\n",
              "        }\n",
              "      </script>\n",
              "    </div>\n",
              "  </div>\n",
              "  "
            ]
          },
          "metadata": {},
          "execution_count": 43
        }
      ],
      "source": [
        "# step 2.1: we first separate all numbers between the part that goes before the\n",
        "# decimal point (integers) and the part that goes afterwards (deimals)\n",
        "orderlines['integers'] = orderlines['unit_price_nd'].str[:-2]\n",
        "orderlines['decimals'] = orderlines['unit_price_nd'].str[-2:]\n",
        "orderlines.head()"
      ],
      "id": "4e5d9bbc"
    },
    {
      "cell_type": "code",
      "execution_count": 44,
      "metadata": {
        "colab": {
          "base_uri": "https://localhost:8080/",
          "height": 438
        },
        "id": "420fc5ce",
        "outputId": "eecde5f7-5659-41a7-926f-00021f4baa26"
      },
      "outputs": [
        {
          "output_type": "execute_result",
          "data": {
            "text/plain": [
              "        id  id_order  product_id  product_quantity      sku unit_price  \\\n",
              "0  1119109    299539           0                 1  OTT0133      18.99   \n",
              "1  1119110    299540           0                 1  LGE0043     399.00   \n",
              "2  1119111    299541           0                 1  PAR0071     474.05   \n",
              "3  1119112    299542           0                 1  WDT0315      68.39   \n",
              "4  1119113    299543           0                 1  JBL0104      23.74   \n",
              "\n",
              "                 date unit_price_nd integers decimals new_unit_price  \n",
              "0 2017-01-01 00:07:19          1899       18       99          18.99  \n",
              "1 2017-01-01 00:19:45         39900      399       00         399.00  \n",
              "2 2017-01-01 00:20:57         47405      474       05         474.05  \n",
              "3 2017-01-01 00:51:40          6839       68       39          68.39  \n",
              "4 2017-01-01 01:06:38          2374       23       74          23.74  "
            ],
            "text/html": [
              "\n",
              "  <div id=\"df-f9eb6a63-d2c7-4f3a-83b5-41cf3f6c462d\">\n",
              "    <div class=\"colab-df-container\">\n",
              "      <div>\n",
              "<style scoped>\n",
              "    .dataframe tbody tr th:only-of-type {\n",
              "        vertical-align: middle;\n",
              "    }\n",
              "\n",
              "    .dataframe tbody tr th {\n",
              "        vertical-align: top;\n",
              "    }\n",
              "\n",
              "    .dataframe thead th {\n",
              "        text-align: right;\n",
              "    }\n",
              "</style>\n",
              "<table border=\"1\" class=\"dataframe\">\n",
              "  <thead>\n",
              "    <tr style=\"text-align: right;\">\n",
              "      <th></th>\n",
              "      <th>id</th>\n",
              "      <th>id_order</th>\n",
              "      <th>product_id</th>\n",
              "      <th>product_quantity</th>\n",
              "      <th>sku</th>\n",
              "      <th>unit_price</th>\n",
              "      <th>date</th>\n",
              "      <th>unit_price_nd</th>\n",
              "      <th>integers</th>\n",
              "      <th>decimals</th>\n",
              "      <th>new_unit_price</th>\n",
              "    </tr>\n",
              "  </thead>\n",
              "  <tbody>\n",
              "    <tr>\n",
              "      <th>0</th>\n",
              "      <td>1119109</td>\n",
              "      <td>299539</td>\n",
              "      <td>0</td>\n",
              "      <td>1</td>\n",
              "      <td>OTT0133</td>\n",
              "      <td>18.99</td>\n",
              "      <td>2017-01-01 00:07:19</td>\n",
              "      <td>1899</td>\n",
              "      <td>18</td>\n",
              "      <td>99</td>\n",
              "      <td>18.99</td>\n",
              "    </tr>\n",
              "    <tr>\n",
              "      <th>1</th>\n",
              "      <td>1119110</td>\n",
              "      <td>299540</td>\n",
              "      <td>0</td>\n",
              "      <td>1</td>\n",
              "      <td>LGE0043</td>\n",
              "      <td>399.00</td>\n",
              "      <td>2017-01-01 00:19:45</td>\n",
              "      <td>39900</td>\n",
              "      <td>399</td>\n",
              "      <td>00</td>\n",
              "      <td>399.00</td>\n",
              "    </tr>\n",
              "    <tr>\n",
              "      <th>2</th>\n",
              "      <td>1119111</td>\n",
              "      <td>299541</td>\n",
              "      <td>0</td>\n",
              "      <td>1</td>\n",
              "      <td>PAR0071</td>\n",
              "      <td>474.05</td>\n",
              "      <td>2017-01-01 00:20:57</td>\n",
              "      <td>47405</td>\n",
              "      <td>474</td>\n",
              "      <td>05</td>\n",
              "      <td>474.05</td>\n",
              "    </tr>\n",
              "    <tr>\n",
              "      <th>3</th>\n",
              "      <td>1119112</td>\n",
              "      <td>299542</td>\n",
              "      <td>0</td>\n",
              "      <td>1</td>\n",
              "      <td>WDT0315</td>\n",
              "      <td>68.39</td>\n",
              "      <td>2017-01-01 00:51:40</td>\n",
              "      <td>6839</td>\n",
              "      <td>68</td>\n",
              "      <td>39</td>\n",
              "      <td>68.39</td>\n",
              "    </tr>\n",
              "    <tr>\n",
              "      <th>4</th>\n",
              "      <td>1119113</td>\n",
              "      <td>299543</td>\n",
              "      <td>0</td>\n",
              "      <td>1</td>\n",
              "      <td>JBL0104</td>\n",
              "      <td>23.74</td>\n",
              "      <td>2017-01-01 01:06:38</td>\n",
              "      <td>2374</td>\n",
              "      <td>23</td>\n",
              "      <td>74</td>\n",
              "      <td>23.74</td>\n",
              "    </tr>\n",
              "  </tbody>\n",
              "</table>\n",
              "</div>\n",
              "      <button class=\"colab-df-convert\" onclick=\"convertToInteractive('df-f9eb6a63-d2c7-4f3a-83b5-41cf3f6c462d')\"\n",
              "              title=\"Convert this dataframe to an interactive table.\"\n",
              "              style=\"display:none;\">\n",
              "        \n",
              "  <svg xmlns=\"http://www.w3.org/2000/svg\" height=\"24px\"viewBox=\"0 0 24 24\"\n",
              "       width=\"24px\">\n",
              "    <path d=\"M0 0h24v24H0V0z\" fill=\"none\"/>\n",
              "    <path d=\"M18.56 5.44l.94 2.06.94-2.06 2.06-.94-2.06-.94-.94-2.06-.94 2.06-2.06.94zm-11 1L8.5 8.5l.94-2.06 2.06-.94-2.06-.94L8.5 2.5l-.94 2.06-2.06.94zm10 10l.94 2.06.94-2.06 2.06-.94-2.06-.94-.94-2.06-.94 2.06-2.06.94z\"/><path d=\"M17.41 7.96l-1.37-1.37c-.4-.4-.92-.59-1.43-.59-.52 0-1.04.2-1.43.59L10.3 9.45l-7.72 7.72c-.78.78-.78 2.05 0 2.83L4 21.41c.39.39.9.59 1.41.59.51 0 1.02-.2 1.41-.59l7.78-7.78 2.81-2.81c.8-.78.8-2.07 0-2.86zM5.41 20L4 18.59l7.72-7.72 1.47 1.35L5.41 20z\"/>\n",
              "  </svg>\n",
              "      </button>\n",
              "      \n",
              "  <style>\n",
              "    .colab-df-container {\n",
              "      display:flex;\n",
              "      flex-wrap:wrap;\n",
              "      gap: 12px;\n",
              "    }\n",
              "\n",
              "    .colab-df-convert {\n",
              "      background-color: #E8F0FE;\n",
              "      border: none;\n",
              "      border-radius: 50%;\n",
              "      cursor: pointer;\n",
              "      display: none;\n",
              "      fill: #1967D2;\n",
              "      height: 32px;\n",
              "      padding: 0 0 0 0;\n",
              "      width: 32px;\n",
              "    }\n",
              "\n",
              "    .colab-df-convert:hover {\n",
              "      background-color: #E2EBFA;\n",
              "      box-shadow: 0px 1px 2px rgba(60, 64, 67, 0.3), 0px 1px 3px 1px rgba(60, 64, 67, 0.15);\n",
              "      fill: #174EA6;\n",
              "    }\n",
              "\n",
              "    [theme=dark] .colab-df-convert {\n",
              "      background-color: #3B4455;\n",
              "      fill: #D2E3FC;\n",
              "    }\n",
              "\n",
              "    [theme=dark] .colab-df-convert:hover {\n",
              "      background-color: #434B5C;\n",
              "      box-shadow: 0px 1px 3px 1px rgba(0, 0, 0, 0.15);\n",
              "      filter: drop-shadow(0px 1px 2px rgba(0, 0, 0, 0.3));\n",
              "      fill: #FFFFFF;\n",
              "    }\n",
              "  </style>\n",
              "\n",
              "      <script>\n",
              "        const buttonEl =\n",
              "          document.querySelector('#df-f9eb6a63-d2c7-4f3a-83b5-41cf3f6c462d button.colab-df-convert');\n",
              "        buttonEl.style.display =\n",
              "          google.colab.kernel.accessAllowed ? 'block' : 'none';\n",
              "\n",
              "        async function convertToInteractive(key) {\n",
              "          const element = document.querySelector('#df-f9eb6a63-d2c7-4f3a-83b5-41cf3f6c462d');\n",
              "          const dataTable =\n",
              "            await google.colab.kernel.invokeFunction('convertToInteractive',\n",
              "                                                     [key], {});\n",
              "          if (!dataTable) return;\n",
              "\n",
              "          const docLinkHtml = 'Like what you see? Visit the ' +\n",
              "            '<a target=\"_blank\" href=https://colab.research.google.com/notebooks/data_table.ipynb>data table notebook</a>'\n",
              "            + ' to learn more about interactive tables.';\n",
              "          element.innerHTML = '';\n",
              "          dataTable['output_type'] = 'display_data';\n",
              "          await google.colab.output.renderOutput(dataTable, element);\n",
              "          const docLink = document.createElement('div');\n",
              "          docLink.innerHTML = docLinkHtml;\n",
              "          element.appendChild(docLink);\n",
              "        }\n",
              "      </script>\n",
              "    </div>\n",
              "  </div>\n",
              "  "
            ]
          },
          "metadata": {},
          "execution_count": 44
        }
      ],
      "source": [
        "# step 2.2: we now concatenate those two parts of the number, with a dot in between\n",
        "orderlines['new_unit_price'] = orderlines['integers'] + '.' + orderlines['decimals']\n",
        "orderlines.head()"
      ],
      "id": "420fc5ce"
    },
    {
      "cell_type": "markdown",
      "metadata": {
        "id": "MmYD-ku6mbn3"
      },
      "source": [
        "We will now try again to convert this column to a numeric data type:"
      ],
      "id": "MmYD-ku6mbn3"
    },
    {
      "cell_type": "code",
      "execution_count": 45,
      "metadata": {
        "colab": {
          "base_uri": "https://localhost:8080/"
        },
        "id": "0c0b744b",
        "outputId": "89be072a-b17c-45c7-82ca-96baeec10064"
      },
      "outputs": [
        {
          "output_type": "stream",
          "name": "stdout",
          "text": [
            "<class 'pandas.core.frame.DataFrame'>\n",
            "RangeIndex: 293983 entries, 0 to 293982\n",
            "Data columns (total 11 columns):\n",
            " #   Column            Non-Null Count   Dtype         \n",
            "---  ------            --------------   -----         \n",
            " 0   id                293983 non-null  int64         \n",
            " 1   id_order          293983 non-null  int64         \n",
            " 2   product_id        293983 non-null  int64         \n",
            " 3   product_quantity  293983 non-null  int64         \n",
            " 4   sku               293983 non-null  object        \n",
            " 5   unit_price        293983 non-null  float64       \n",
            " 6   date              293983 non-null  datetime64[ns]\n",
            " 7   unit_price_nd     293983 non-null  object        \n",
            " 8   integers          293983 non-null  object        \n",
            " 9   decimals          293983 non-null  object        \n",
            " 10  new_unit_price    293983 non-null  object        \n",
            "dtypes: datetime64[ns](1), float64(1), int64(4), object(5)\n",
            "memory usage: 24.7+ MB\n"
          ]
        }
      ],
      "source": [
        "orderlines['unit_price'] = pd.to_numeric(orderlines['new_unit_price'])\n",
        "orderlines.info()"
      ],
      "id": "0c0b744b"
    },
    {
      "cell_type": "markdown",
      "metadata": {
        "id": "0c795ffe"
      },
      "source": [
        "Data cleaning done! \n",
        "\n",
        "Back to data consistency: Now it is time to multiply `product_quantity` and `unit price`, sum all the rows and check whether the value matches the sum of the `total_paid` from the orders DataFrame: "
      ],
      "id": "0c795ffe"
    },
    {
      "cell_type": "code",
      "execution_count": 46,
      "metadata": {
        "colab": {
          "base_uri": "https://localhost:8080/"
        },
        "id": "e58357b3",
        "outputId": "3d1885c6-1b5e-47e7-cc81-210c5ff47163"
      },
      "outputs": [
        {
          "output_type": "execute_result",
          "data": {
            "text/plain": [
              "128776222.0298095"
            ]
          },
          "metadata": {},
          "execution_count": 46
        }
      ],
      "source": [
        "# drop 'auxiliary' columns\n",
        "orderlines.drop(['unit_price_nd','decimals','integers','new_unit_price'], axis=1, inplace=True)\n",
        "\n",
        "# create a new column \"total_price\" by multiplying product_quantity times unit_price\n",
        "orderlines['total_price'] = orderlines['product_quantity'] * orderlines['unit_price']\n",
        "\n",
        "# sum of the new column \"total_price\":\n",
        "sum(orderlines['total_price'])"
      ],
      "id": "e58357b3"
    },
    {
      "cell_type": "markdown",
      "metadata": {
        "id": "20xqjZAonlVW"
      },
      "source": [
        "Sadly, it does not match exactly with the sum of `total_paid` from orders:"
      ],
      "id": "20xqjZAonlVW"
    },
    {
      "cell_type": "code",
      "execution_count": 47,
      "metadata": {
        "colab": {
          "base_uri": "https://localhost:8080/"
        },
        "id": "VXsidsznncfP",
        "outputId": "4e26e701-53e8-466c-90fc-6c5256001ac8"
      },
      "outputs": [
        {
          "output_type": "execute_result",
          "data": {
            "text/plain": [
              "129159615.07000001"
            ]
          },
          "metadata": {},
          "execution_count": 47
        }
      ],
      "source": [
        "orders['total_paid'].sum()"
      ],
      "id": "VXsidsznncfP"
    },
    {
      "cell_type": "markdown",
      "metadata": {
        "id": "1FCcUyBPoIrI"
      },
      "source": [
        "The mismatch is about 383 thousand dollars, a non-neglegible amount of money:"
      ],
      "id": "1FCcUyBPoIrI"
    },
    {
      "cell_type": "code",
      "execution_count": 48,
      "metadata": {
        "colab": {
          "base_uri": "https://localhost:8080/"
        },
        "id": "hxOGFXoFoEUl",
        "outputId": "15635fe0-d1d3-4b31-9fba-efb6b0af1e25"
      },
      "outputs": [
        {
          "output_type": "execute_result",
          "data": {
            "text/plain": [
              "-383393.040190503"
            ]
          },
          "metadata": {},
          "execution_count": 48
        }
      ],
      "source": [
        "sum(orderlines['total_price']) - orders['total_paid'].sum()"
      ],
      "id": "hxOGFXoFoEUl"
    },
    {
      "cell_type": "markdown",
      "metadata": {
        "id": "8656b2d4"
      },
      "source": [
        "How can we figure out where does the difference come from? "
      ],
      "id": "8656b2d4"
    },
    {
      "cell_type": "markdown",
      "metadata": {
        "id": "56559fb9"
      },
      "source": [
        "## Matching `orders` and `orderlines`\n",
        "\n",
        "It is possible that some orders exist in one dataset but not in the other one. This would be a potential source for this price mismatch. Let's find out!"
      ],
      "id": "56559fb9"
    },
    {
      "cell_type": "markdown",
      "metadata": {
        "id": "b8cd08f5"
      },
      "source": [
        "We first create a new column in the `orderlines` dataset using `assign`. We also use `isin()` to create a boolen value (True/False) that checks whether the `id_order` is present in the `orders` dataset:"
      ],
      "id": "b8cd08f5"
    },
    {
      "cell_type": "code",
      "source": [
        "orderlines.columns"
      ],
      "metadata": {
        "colab": {
          "base_uri": "https://localhost:8080/"
        },
        "id": "K3HjSNdc--dV",
        "outputId": "e9a81f06-fd5b-4d8b-e492-e8d2772e653e"
      },
      "id": "K3HjSNdc--dV",
      "execution_count": 49,
      "outputs": [
        {
          "output_type": "execute_result",
          "data": {
            "text/plain": [
              "Index(['id', 'id_order', 'product_id', 'product_quantity', 'sku', 'unit_price',\n",
              "       'date', 'total_price'],\n",
              "      dtype='object')"
            ]
          },
          "metadata": {},
          "execution_count": 49
        }
      ]
    },
    {
      "cell_type": "code",
      "execution_count": 50,
      "metadata": {
        "colab": {
          "base_uri": "https://localhost:8080/",
          "height": 204
        },
        "id": "1df36725",
        "outputId": "3c448934-93c5-4612-eebf-47d0c944790a"
      },
      "outputs": [
        {
          "output_type": "execute_result",
          "data": {
            "text/plain": [
              "        id  id_order  product_id  product_quantity      sku  unit_price  \\\n",
              "0  1119109    299539           0                 1  OTT0133       18.99   \n",
              "1  1119110    299540           0                 1  LGE0043      399.00   \n",
              "2  1119111    299541           0                 1  PAR0071      474.05   \n",
              "3  1119112    299542           0                 1  WDT0315       68.39   \n",
              "4  1119113    299543           0                 1  JBL0104       23.74   \n",
              "\n",
              "                 date  total_price  check_orders  \n",
              "0 2017-01-01 00:07:19        18.99          True  \n",
              "1 2017-01-01 00:19:45       399.00          True  \n",
              "2 2017-01-01 00:20:57       474.05          True  \n",
              "3 2017-01-01 00:51:40        68.39          True  \n",
              "4 2017-01-01 01:06:38        23.74          True  "
            ],
            "text/html": [
              "\n",
              "  <div id=\"df-2c76af2f-007d-4543-927d-29ca44a09ebd\">\n",
              "    <div class=\"colab-df-container\">\n",
              "      <div>\n",
              "<style scoped>\n",
              "    .dataframe tbody tr th:only-of-type {\n",
              "        vertical-align: middle;\n",
              "    }\n",
              "\n",
              "    .dataframe tbody tr th {\n",
              "        vertical-align: top;\n",
              "    }\n",
              "\n",
              "    .dataframe thead th {\n",
              "        text-align: right;\n",
              "    }\n",
              "</style>\n",
              "<table border=\"1\" class=\"dataframe\">\n",
              "  <thead>\n",
              "    <tr style=\"text-align: right;\">\n",
              "      <th></th>\n",
              "      <th>id</th>\n",
              "      <th>id_order</th>\n",
              "      <th>product_id</th>\n",
              "      <th>product_quantity</th>\n",
              "      <th>sku</th>\n",
              "      <th>unit_price</th>\n",
              "      <th>date</th>\n",
              "      <th>total_price</th>\n",
              "      <th>check_orders</th>\n",
              "    </tr>\n",
              "  </thead>\n",
              "  <tbody>\n",
              "    <tr>\n",
              "      <th>0</th>\n",
              "      <td>1119109</td>\n",
              "      <td>299539</td>\n",
              "      <td>0</td>\n",
              "      <td>1</td>\n",
              "      <td>OTT0133</td>\n",
              "      <td>18.99</td>\n",
              "      <td>2017-01-01 00:07:19</td>\n",
              "      <td>18.99</td>\n",
              "      <td>True</td>\n",
              "    </tr>\n",
              "    <tr>\n",
              "      <th>1</th>\n",
              "      <td>1119110</td>\n",
              "      <td>299540</td>\n",
              "      <td>0</td>\n",
              "      <td>1</td>\n",
              "      <td>LGE0043</td>\n",
              "      <td>399.00</td>\n",
              "      <td>2017-01-01 00:19:45</td>\n",
              "      <td>399.00</td>\n",
              "      <td>True</td>\n",
              "    </tr>\n",
              "    <tr>\n",
              "      <th>2</th>\n",
              "      <td>1119111</td>\n",
              "      <td>299541</td>\n",
              "      <td>0</td>\n",
              "      <td>1</td>\n",
              "      <td>PAR0071</td>\n",
              "      <td>474.05</td>\n",
              "      <td>2017-01-01 00:20:57</td>\n",
              "      <td>474.05</td>\n",
              "      <td>True</td>\n",
              "    </tr>\n",
              "    <tr>\n",
              "      <th>3</th>\n",
              "      <td>1119112</td>\n",
              "      <td>299542</td>\n",
              "      <td>0</td>\n",
              "      <td>1</td>\n",
              "      <td>WDT0315</td>\n",
              "      <td>68.39</td>\n",
              "      <td>2017-01-01 00:51:40</td>\n",
              "      <td>68.39</td>\n",
              "      <td>True</td>\n",
              "    </tr>\n",
              "    <tr>\n",
              "      <th>4</th>\n",
              "      <td>1119113</td>\n",
              "      <td>299543</td>\n",
              "      <td>0</td>\n",
              "      <td>1</td>\n",
              "      <td>JBL0104</td>\n",
              "      <td>23.74</td>\n",
              "      <td>2017-01-01 01:06:38</td>\n",
              "      <td>23.74</td>\n",
              "      <td>True</td>\n",
              "    </tr>\n",
              "  </tbody>\n",
              "</table>\n",
              "</div>\n",
              "      <button class=\"colab-df-convert\" onclick=\"convertToInteractive('df-2c76af2f-007d-4543-927d-29ca44a09ebd')\"\n",
              "              title=\"Convert this dataframe to an interactive table.\"\n",
              "              style=\"display:none;\">\n",
              "        \n",
              "  <svg xmlns=\"http://www.w3.org/2000/svg\" height=\"24px\"viewBox=\"0 0 24 24\"\n",
              "       width=\"24px\">\n",
              "    <path d=\"M0 0h24v24H0V0z\" fill=\"none\"/>\n",
              "    <path d=\"M18.56 5.44l.94 2.06.94-2.06 2.06-.94-2.06-.94-.94-2.06-.94 2.06-2.06.94zm-11 1L8.5 8.5l.94-2.06 2.06-.94-2.06-.94L8.5 2.5l-.94 2.06-2.06.94zm10 10l.94 2.06.94-2.06 2.06-.94-2.06-.94-.94-2.06-.94 2.06-2.06.94z\"/><path d=\"M17.41 7.96l-1.37-1.37c-.4-.4-.92-.59-1.43-.59-.52 0-1.04.2-1.43.59L10.3 9.45l-7.72 7.72c-.78.78-.78 2.05 0 2.83L4 21.41c.39.39.9.59 1.41.59.51 0 1.02-.2 1.41-.59l7.78-7.78 2.81-2.81c.8-.78.8-2.07 0-2.86zM5.41 20L4 18.59l7.72-7.72 1.47 1.35L5.41 20z\"/>\n",
              "  </svg>\n",
              "      </button>\n",
              "      \n",
              "  <style>\n",
              "    .colab-df-container {\n",
              "      display:flex;\n",
              "      flex-wrap:wrap;\n",
              "      gap: 12px;\n",
              "    }\n",
              "\n",
              "    .colab-df-convert {\n",
              "      background-color: #E8F0FE;\n",
              "      border: none;\n",
              "      border-radius: 50%;\n",
              "      cursor: pointer;\n",
              "      display: none;\n",
              "      fill: #1967D2;\n",
              "      height: 32px;\n",
              "      padding: 0 0 0 0;\n",
              "      width: 32px;\n",
              "    }\n",
              "\n",
              "    .colab-df-convert:hover {\n",
              "      background-color: #E2EBFA;\n",
              "      box-shadow: 0px 1px 2px rgba(60, 64, 67, 0.3), 0px 1px 3px 1px rgba(60, 64, 67, 0.15);\n",
              "      fill: #174EA6;\n",
              "    }\n",
              "\n",
              "    [theme=dark] .colab-df-convert {\n",
              "      background-color: #3B4455;\n",
              "      fill: #D2E3FC;\n",
              "    }\n",
              "\n",
              "    [theme=dark] .colab-df-convert:hover {\n",
              "      background-color: #434B5C;\n",
              "      box-shadow: 0px 1px 3px 1px rgba(0, 0, 0, 0.15);\n",
              "      filter: drop-shadow(0px 1px 2px rgba(0, 0, 0, 0.3));\n",
              "      fill: #FFFFFF;\n",
              "    }\n",
              "  </style>\n",
              "\n",
              "      <script>\n",
              "        const buttonEl =\n",
              "          document.querySelector('#df-2c76af2f-007d-4543-927d-29ca44a09ebd button.colab-df-convert');\n",
              "        buttonEl.style.display =\n",
              "          google.colab.kernel.accessAllowed ? 'block' : 'none';\n",
              "\n",
              "        async function convertToInteractive(key) {\n",
              "          const element = document.querySelector('#df-2c76af2f-007d-4543-927d-29ca44a09ebd');\n",
              "          const dataTable =\n",
              "            await google.colab.kernel.invokeFunction('convertToInteractive',\n",
              "                                                     [key], {});\n",
              "          if (!dataTable) return;\n",
              "\n",
              "          const docLinkHtml = 'Like what you see? Visit the ' +\n",
              "            '<a target=\"_blank\" href=https://colab.research.google.com/notebooks/data_table.ipynb>data table notebook</a>'\n",
              "            + ' to learn more about interactive tables.';\n",
              "          element.innerHTML = '';\n",
              "          dataTable['output_type'] = 'display_data';\n",
              "          await google.colab.output.renderOutput(dataTable, element);\n",
              "          const docLink = document.createElement('div');\n",
              "          docLink.innerHTML = docLinkHtml;\n",
              "          element.appendChild(docLink);\n",
              "        }\n",
              "      </script>\n",
              "    </div>\n",
              "  </div>\n",
              "  "
            ]
          },
          "metadata": {},
          "execution_count": 50
        }
      ],
      "source": [
        "new_df=orderlines.assign(check_orders = orderlines['id_order'].isin(orders['order_id']))\n",
        "new_df.head()"
      ],
      "id": "1df36725"
    },
    {
      "cell_type": "code",
      "source": [
        "new_df.shape, orderlines.shape, orders.shape"
      ],
      "metadata": {
        "colab": {
          "base_uri": "https://localhost:8080/"
        },
        "id": "dDu3VL-e_ydE",
        "outputId": "5d140b52-5ea7-4d36-c6d7-d0d092bcc2fb"
      },
      "id": "dDu3VL-e_ydE",
      "execution_count": 51,
      "outputs": [
        {
          "output_type": "execute_result",
          "data": {
            "text/plain": [
              "((293983, 9), (293983, 8), (226904, 4))"
            ]
          },
          "metadata": {},
          "execution_count": 51
        }
      ]
    },
    {
      "cell_type": "code",
      "execution_count": 52,
      "metadata": {
        "colab": {
          "base_uri": "https://localhost:8080/",
          "height": 204
        },
        "id": "IK5grgx9TmAt",
        "outputId": "e6b74582-9756-4060-d1a6-8410c51ea14b"
      },
      "outputs": [
        {
          "output_type": "execute_result",
          "data": {
            "text/plain": [
              "        id  id_order  product_id  product_quantity      sku  unit_price  \\\n",
              "0  1119109    299539           0                 1  OTT0133       18.99   \n",
              "1  1119110    299540           0                 1  LGE0043      399.00   \n",
              "2  1119111    299541           0                 1  PAR0071      474.05   \n",
              "3  1119112    299542           0                 1  WDT0315       68.39   \n",
              "4  1119113    299543           0                 1  JBL0104       23.74   \n",
              "\n",
              "                 date  total_price  check_orders  \n",
              "0 2017-01-01 00:07:19        18.99          True  \n",
              "1 2017-01-01 00:19:45       399.00          True  \n",
              "2 2017-01-01 00:20:57       474.05          True  \n",
              "3 2017-01-01 00:51:40        68.39          True  \n",
              "4 2017-01-01 01:06:38        23.74          True  "
            ],
            "text/html": [
              "\n",
              "  <div id=\"df-c9a6628a-e362-4aeb-9adb-d23497ffd1ac\">\n",
              "    <div class=\"colab-df-container\">\n",
              "      <div>\n",
              "<style scoped>\n",
              "    .dataframe tbody tr th:only-of-type {\n",
              "        vertical-align: middle;\n",
              "    }\n",
              "\n",
              "    .dataframe tbody tr th {\n",
              "        vertical-align: top;\n",
              "    }\n",
              "\n",
              "    .dataframe thead th {\n",
              "        text-align: right;\n",
              "    }\n",
              "</style>\n",
              "<table border=\"1\" class=\"dataframe\">\n",
              "  <thead>\n",
              "    <tr style=\"text-align: right;\">\n",
              "      <th></th>\n",
              "      <th>id</th>\n",
              "      <th>id_order</th>\n",
              "      <th>product_id</th>\n",
              "      <th>product_quantity</th>\n",
              "      <th>sku</th>\n",
              "      <th>unit_price</th>\n",
              "      <th>date</th>\n",
              "      <th>total_price</th>\n",
              "      <th>check_orders</th>\n",
              "    </tr>\n",
              "  </thead>\n",
              "  <tbody>\n",
              "    <tr>\n",
              "      <th>0</th>\n",
              "      <td>1119109</td>\n",
              "      <td>299539</td>\n",
              "      <td>0</td>\n",
              "      <td>1</td>\n",
              "      <td>OTT0133</td>\n",
              "      <td>18.99</td>\n",
              "      <td>2017-01-01 00:07:19</td>\n",
              "      <td>18.99</td>\n",
              "      <td>True</td>\n",
              "    </tr>\n",
              "    <tr>\n",
              "      <th>1</th>\n",
              "      <td>1119110</td>\n",
              "      <td>299540</td>\n",
              "      <td>0</td>\n",
              "      <td>1</td>\n",
              "      <td>LGE0043</td>\n",
              "      <td>399.00</td>\n",
              "      <td>2017-01-01 00:19:45</td>\n",
              "      <td>399.00</td>\n",
              "      <td>True</td>\n",
              "    </tr>\n",
              "    <tr>\n",
              "      <th>2</th>\n",
              "      <td>1119111</td>\n",
              "      <td>299541</td>\n",
              "      <td>0</td>\n",
              "      <td>1</td>\n",
              "      <td>PAR0071</td>\n",
              "      <td>474.05</td>\n",
              "      <td>2017-01-01 00:20:57</td>\n",
              "      <td>474.05</td>\n",
              "      <td>True</td>\n",
              "    </tr>\n",
              "    <tr>\n",
              "      <th>3</th>\n",
              "      <td>1119112</td>\n",
              "      <td>299542</td>\n",
              "      <td>0</td>\n",
              "      <td>1</td>\n",
              "      <td>WDT0315</td>\n",
              "      <td>68.39</td>\n",
              "      <td>2017-01-01 00:51:40</td>\n",
              "      <td>68.39</td>\n",
              "      <td>True</td>\n",
              "    </tr>\n",
              "    <tr>\n",
              "      <th>4</th>\n",
              "      <td>1119113</td>\n",
              "      <td>299543</td>\n",
              "      <td>0</td>\n",
              "      <td>1</td>\n",
              "      <td>JBL0104</td>\n",
              "      <td>23.74</td>\n",
              "      <td>2017-01-01 01:06:38</td>\n",
              "      <td>23.74</td>\n",
              "      <td>True</td>\n",
              "    </tr>\n",
              "  </tbody>\n",
              "</table>\n",
              "</div>\n",
              "      <button class=\"colab-df-convert\" onclick=\"convertToInteractive('df-c9a6628a-e362-4aeb-9adb-d23497ffd1ac')\"\n",
              "              title=\"Convert this dataframe to an interactive table.\"\n",
              "              style=\"display:none;\">\n",
              "        \n",
              "  <svg xmlns=\"http://www.w3.org/2000/svg\" height=\"24px\"viewBox=\"0 0 24 24\"\n",
              "       width=\"24px\">\n",
              "    <path d=\"M0 0h24v24H0V0z\" fill=\"none\"/>\n",
              "    <path d=\"M18.56 5.44l.94 2.06.94-2.06 2.06-.94-2.06-.94-.94-2.06-.94 2.06-2.06.94zm-11 1L8.5 8.5l.94-2.06 2.06-.94-2.06-.94L8.5 2.5l-.94 2.06-2.06.94zm10 10l.94 2.06.94-2.06 2.06-.94-2.06-.94-.94-2.06-.94 2.06-2.06.94z\"/><path d=\"M17.41 7.96l-1.37-1.37c-.4-.4-.92-.59-1.43-.59-.52 0-1.04.2-1.43.59L10.3 9.45l-7.72 7.72c-.78.78-.78 2.05 0 2.83L4 21.41c.39.39.9.59 1.41.59.51 0 1.02-.2 1.41-.59l7.78-7.78 2.81-2.81c.8-.78.8-2.07 0-2.86zM5.41 20L4 18.59l7.72-7.72 1.47 1.35L5.41 20z\"/>\n",
              "  </svg>\n",
              "      </button>\n",
              "      \n",
              "  <style>\n",
              "    .colab-df-container {\n",
              "      display:flex;\n",
              "      flex-wrap:wrap;\n",
              "      gap: 12px;\n",
              "    }\n",
              "\n",
              "    .colab-df-convert {\n",
              "      background-color: #E8F0FE;\n",
              "      border: none;\n",
              "      border-radius: 50%;\n",
              "      cursor: pointer;\n",
              "      display: none;\n",
              "      fill: #1967D2;\n",
              "      height: 32px;\n",
              "      padding: 0 0 0 0;\n",
              "      width: 32px;\n",
              "    }\n",
              "\n",
              "    .colab-df-convert:hover {\n",
              "      background-color: #E2EBFA;\n",
              "      box-shadow: 0px 1px 2px rgba(60, 64, 67, 0.3), 0px 1px 3px 1px rgba(60, 64, 67, 0.15);\n",
              "      fill: #174EA6;\n",
              "    }\n",
              "\n",
              "    [theme=dark] .colab-df-convert {\n",
              "      background-color: #3B4455;\n",
              "      fill: #D2E3FC;\n",
              "    }\n",
              "\n",
              "    [theme=dark] .colab-df-convert:hover {\n",
              "      background-color: #434B5C;\n",
              "      box-shadow: 0px 1px 3px 1px rgba(0, 0, 0, 0.15);\n",
              "      filter: drop-shadow(0px 1px 2px rgba(0, 0, 0, 0.3));\n",
              "      fill: #FFFFFF;\n",
              "    }\n",
              "  </style>\n",
              "\n",
              "      <script>\n",
              "        const buttonEl =\n",
              "          document.querySelector('#df-c9a6628a-e362-4aeb-9adb-d23497ffd1ac button.colab-df-convert');\n",
              "        buttonEl.style.display =\n",
              "          google.colab.kernel.accessAllowed ? 'block' : 'none';\n",
              "\n",
              "        async function convertToInteractive(key) {\n",
              "          const element = document.querySelector('#df-c9a6628a-e362-4aeb-9adb-d23497ffd1ac');\n",
              "          const dataTable =\n",
              "            await google.colab.kernel.invokeFunction('convertToInteractive',\n",
              "                                                     [key], {});\n",
              "          if (!dataTable) return;\n",
              "\n",
              "          const docLinkHtml = 'Like what you see? Visit the ' +\n",
              "            '<a target=\"_blank\" href=https://colab.research.google.com/notebooks/data_table.ipynb>data table notebook</a>'\n",
              "            + ' to learn more about interactive tables.';\n",
              "          element.innerHTML = '';\n",
              "          dataTable['output_type'] = 'display_data';\n",
              "          await google.colab.output.renderOutput(dataTable, element);\n",
              "          const docLink = document.createElement('div');\n",
              "          docLink.innerHTML = docLinkHtml;\n",
              "          element.appendChild(docLink);\n",
              "        }\n",
              "      </script>\n",
              "    </div>\n",
              "  </div>\n",
              "  "
            ]
          },
          "metadata": {},
          "execution_count": 52
        }
      ],
      "source": [
        "orderlines[\"check_orders\"]=orderlines['id_order'].isin(orders['order_id'])\n",
        "orderlines.head()"
      ],
      "id": "IK5grgx9TmAt"
    },
    {
      "cell_type": "markdown",
      "metadata": {
        "id": "920ecd36"
      },
      "source": [
        "Then, using `.query` we select rows where the value in this new column is `False`:"
      ],
      "id": "920ecd36"
    },
    {
      "cell_type": "code",
      "execution_count": 53,
      "metadata": {
        "colab": {
          "base_uri": "https://localhost:8080/",
          "height": 419
        },
        "id": "1e8fd1d2",
        "outputId": "491980ce-6772-48b3-f642-306ea3a9008e"
      },
      "outputs": [
        {
          "output_type": "execute_result",
          "data": {
            "text/plain": [
              "             id  id_order  product_id  product_quantity      sku  unit_price  \\\n",
              "5       1119114    295310           0                10  WDT0249      231.79   \n",
              "63      1119218    296284           0                 1  BNQ0042      699.00   \n",
              "67      1119223    294806           0                 1  APP1849     2558.99   \n",
              "69      1119226    294806           0                 1  APP1864     2797.99   \n",
              "70      1119235    297261           0                 1  QNA0177      304.99   \n",
              "...         ...       ...         ...               ...      ...         ...   \n",
              "275665  1621177    244328           0                 1  OWC0260      349.00   \n",
              "280055  1628699    261391           0                 1  APP2352     3343.00   \n",
              "280352  1629247    287797           0                 1  SYN0182      484.11   \n",
              "280856  1630150    261391           0                 1  SAT0091       44.99   \n",
              "280869  1630178    261391           0                 1  SAT0062       49.99   \n",
              "\n",
              "                      date  total_price  check_orders  \n",
              "5      2017-01-01 01:14:27      2317.90         False  \n",
              "63     2017-01-01 09:58:35       699.00         False  \n",
              "67     2017-01-01 10:09:15      2558.99         False  \n",
              "69     2017-01-01 10:15:14      2797.99         False  \n",
              "70     2017-01-01 10:17:59       304.99         False  \n",
              "...                    ...          ...           ...  \n",
              "275665 2018-02-20 13:00:45       349.00         False  \n",
              "280055 2018-02-27 11:43:25      3343.00         False  \n",
              "280352 2018-02-27 19:16:26       484.11         False  \n",
              "280856 2018-02-28 12:18:26        44.99         False  \n",
              "280869 2018-02-28 12:30:57        49.99         False  \n",
              "\n",
              "[240 rows x 9 columns]"
            ],
            "text/html": [
              "\n",
              "  <div id=\"df-1d5756f6-de20-4346-a63e-44c740792bf4\">\n",
              "    <div class=\"colab-df-container\">\n",
              "      <div>\n",
              "<style scoped>\n",
              "    .dataframe tbody tr th:only-of-type {\n",
              "        vertical-align: middle;\n",
              "    }\n",
              "\n",
              "    .dataframe tbody tr th {\n",
              "        vertical-align: top;\n",
              "    }\n",
              "\n",
              "    .dataframe thead th {\n",
              "        text-align: right;\n",
              "    }\n",
              "</style>\n",
              "<table border=\"1\" class=\"dataframe\">\n",
              "  <thead>\n",
              "    <tr style=\"text-align: right;\">\n",
              "      <th></th>\n",
              "      <th>id</th>\n",
              "      <th>id_order</th>\n",
              "      <th>product_id</th>\n",
              "      <th>product_quantity</th>\n",
              "      <th>sku</th>\n",
              "      <th>unit_price</th>\n",
              "      <th>date</th>\n",
              "      <th>total_price</th>\n",
              "      <th>check_orders</th>\n",
              "    </tr>\n",
              "  </thead>\n",
              "  <tbody>\n",
              "    <tr>\n",
              "      <th>5</th>\n",
              "      <td>1119114</td>\n",
              "      <td>295310</td>\n",
              "      <td>0</td>\n",
              "      <td>10</td>\n",
              "      <td>WDT0249</td>\n",
              "      <td>231.79</td>\n",
              "      <td>2017-01-01 01:14:27</td>\n",
              "      <td>2317.90</td>\n",
              "      <td>False</td>\n",
              "    </tr>\n",
              "    <tr>\n",
              "      <th>63</th>\n",
              "      <td>1119218</td>\n",
              "      <td>296284</td>\n",
              "      <td>0</td>\n",
              "      <td>1</td>\n",
              "      <td>BNQ0042</td>\n",
              "      <td>699.00</td>\n",
              "      <td>2017-01-01 09:58:35</td>\n",
              "      <td>699.00</td>\n",
              "      <td>False</td>\n",
              "    </tr>\n",
              "    <tr>\n",
              "      <th>67</th>\n",
              "      <td>1119223</td>\n",
              "      <td>294806</td>\n",
              "      <td>0</td>\n",
              "      <td>1</td>\n",
              "      <td>APP1849</td>\n",
              "      <td>2558.99</td>\n",
              "      <td>2017-01-01 10:09:15</td>\n",
              "      <td>2558.99</td>\n",
              "      <td>False</td>\n",
              "    </tr>\n",
              "    <tr>\n",
              "      <th>69</th>\n",
              "      <td>1119226</td>\n",
              "      <td>294806</td>\n",
              "      <td>0</td>\n",
              "      <td>1</td>\n",
              "      <td>APP1864</td>\n",
              "      <td>2797.99</td>\n",
              "      <td>2017-01-01 10:15:14</td>\n",
              "      <td>2797.99</td>\n",
              "      <td>False</td>\n",
              "    </tr>\n",
              "    <tr>\n",
              "      <th>70</th>\n",
              "      <td>1119235</td>\n",
              "      <td>297261</td>\n",
              "      <td>0</td>\n",
              "      <td>1</td>\n",
              "      <td>QNA0177</td>\n",
              "      <td>304.99</td>\n",
              "      <td>2017-01-01 10:17:59</td>\n",
              "      <td>304.99</td>\n",
              "      <td>False</td>\n",
              "    </tr>\n",
              "    <tr>\n",
              "      <th>...</th>\n",
              "      <td>...</td>\n",
              "      <td>...</td>\n",
              "      <td>...</td>\n",
              "      <td>...</td>\n",
              "      <td>...</td>\n",
              "      <td>...</td>\n",
              "      <td>...</td>\n",
              "      <td>...</td>\n",
              "      <td>...</td>\n",
              "    </tr>\n",
              "    <tr>\n",
              "      <th>275665</th>\n",
              "      <td>1621177</td>\n",
              "      <td>244328</td>\n",
              "      <td>0</td>\n",
              "      <td>1</td>\n",
              "      <td>OWC0260</td>\n",
              "      <td>349.00</td>\n",
              "      <td>2018-02-20 13:00:45</td>\n",
              "      <td>349.00</td>\n",
              "      <td>False</td>\n",
              "    </tr>\n",
              "    <tr>\n",
              "      <th>280055</th>\n",
              "      <td>1628699</td>\n",
              "      <td>261391</td>\n",
              "      <td>0</td>\n",
              "      <td>1</td>\n",
              "      <td>APP2352</td>\n",
              "      <td>3343.00</td>\n",
              "      <td>2018-02-27 11:43:25</td>\n",
              "      <td>3343.00</td>\n",
              "      <td>False</td>\n",
              "    </tr>\n",
              "    <tr>\n",
              "      <th>280352</th>\n",
              "      <td>1629247</td>\n",
              "      <td>287797</td>\n",
              "      <td>0</td>\n",
              "      <td>1</td>\n",
              "      <td>SYN0182</td>\n",
              "      <td>484.11</td>\n",
              "      <td>2018-02-27 19:16:26</td>\n",
              "      <td>484.11</td>\n",
              "      <td>False</td>\n",
              "    </tr>\n",
              "    <tr>\n",
              "      <th>280856</th>\n",
              "      <td>1630150</td>\n",
              "      <td>261391</td>\n",
              "      <td>0</td>\n",
              "      <td>1</td>\n",
              "      <td>SAT0091</td>\n",
              "      <td>44.99</td>\n",
              "      <td>2018-02-28 12:18:26</td>\n",
              "      <td>44.99</td>\n",
              "      <td>False</td>\n",
              "    </tr>\n",
              "    <tr>\n",
              "      <th>280869</th>\n",
              "      <td>1630178</td>\n",
              "      <td>261391</td>\n",
              "      <td>0</td>\n",
              "      <td>1</td>\n",
              "      <td>SAT0062</td>\n",
              "      <td>49.99</td>\n",
              "      <td>2018-02-28 12:30:57</td>\n",
              "      <td>49.99</td>\n",
              "      <td>False</td>\n",
              "    </tr>\n",
              "  </tbody>\n",
              "</table>\n",
              "<p>240 rows × 9 columns</p>\n",
              "</div>\n",
              "      <button class=\"colab-df-convert\" onclick=\"convertToInteractive('df-1d5756f6-de20-4346-a63e-44c740792bf4')\"\n",
              "              title=\"Convert this dataframe to an interactive table.\"\n",
              "              style=\"display:none;\">\n",
              "        \n",
              "  <svg xmlns=\"http://www.w3.org/2000/svg\" height=\"24px\"viewBox=\"0 0 24 24\"\n",
              "       width=\"24px\">\n",
              "    <path d=\"M0 0h24v24H0V0z\" fill=\"none\"/>\n",
              "    <path d=\"M18.56 5.44l.94 2.06.94-2.06 2.06-.94-2.06-.94-.94-2.06-.94 2.06-2.06.94zm-11 1L8.5 8.5l.94-2.06 2.06-.94-2.06-.94L8.5 2.5l-.94 2.06-2.06.94zm10 10l.94 2.06.94-2.06 2.06-.94-2.06-.94-.94-2.06-.94 2.06-2.06.94z\"/><path d=\"M17.41 7.96l-1.37-1.37c-.4-.4-.92-.59-1.43-.59-.52 0-1.04.2-1.43.59L10.3 9.45l-7.72 7.72c-.78.78-.78 2.05 0 2.83L4 21.41c.39.39.9.59 1.41.59.51 0 1.02-.2 1.41-.59l7.78-7.78 2.81-2.81c.8-.78.8-2.07 0-2.86zM5.41 20L4 18.59l7.72-7.72 1.47 1.35L5.41 20z\"/>\n",
              "  </svg>\n",
              "      </button>\n",
              "      \n",
              "  <style>\n",
              "    .colab-df-container {\n",
              "      display:flex;\n",
              "      flex-wrap:wrap;\n",
              "      gap: 12px;\n",
              "    }\n",
              "\n",
              "    .colab-df-convert {\n",
              "      background-color: #E8F0FE;\n",
              "      border: none;\n",
              "      border-radius: 50%;\n",
              "      cursor: pointer;\n",
              "      display: none;\n",
              "      fill: #1967D2;\n",
              "      height: 32px;\n",
              "      padding: 0 0 0 0;\n",
              "      width: 32px;\n",
              "    }\n",
              "\n",
              "    .colab-df-convert:hover {\n",
              "      background-color: #E2EBFA;\n",
              "      box-shadow: 0px 1px 2px rgba(60, 64, 67, 0.3), 0px 1px 3px 1px rgba(60, 64, 67, 0.15);\n",
              "      fill: #174EA6;\n",
              "    }\n",
              "\n",
              "    [theme=dark] .colab-df-convert {\n",
              "      background-color: #3B4455;\n",
              "      fill: #D2E3FC;\n",
              "    }\n",
              "\n",
              "    [theme=dark] .colab-df-convert:hover {\n",
              "      background-color: #434B5C;\n",
              "      box-shadow: 0px 1px 3px 1px rgba(0, 0, 0, 0.15);\n",
              "      filter: drop-shadow(0px 1px 2px rgba(0, 0, 0, 0.3));\n",
              "      fill: #FFFFFF;\n",
              "    }\n",
              "  </style>\n",
              "\n",
              "      <script>\n",
              "        const buttonEl =\n",
              "          document.querySelector('#df-1d5756f6-de20-4346-a63e-44c740792bf4 button.colab-df-convert');\n",
              "        buttonEl.style.display =\n",
              "          google.colab.kernel.accessAllowed ? 'block' : 'none';\n",
              "\n",
              "        async function convertToInteractive(key) {\n",
              "          const element = document.querySelector('#df-1d5756f6-de20-4346-a63e-44c740792bf4');\n",
              "          const dataTable =\n",
              "            await google.colab.kernel.invokeFunction('convertToInteractive',\n",
              "                                                     [key], {});\n",
              "          if (!dataTable) return;\n",
              "\n",
              "          const docLinkHtml = 'Like what you see? Visit the ' +\n",
              "            '<a target=\"_blank\" href=https://colab.research.google.com/notebooks/data_table.ipynb>data table notebook</a>'\n",
              "            + ' to learn more about interactive tables.';\n",
              "          element.innerHTML = '';\n",
              "          dataTable['output_type'] = 'display_data';\n",
              "          await google.colab.output.renderOutput(dataTable, element);\n",
              "          const docLink = document.createElement('div');\n",
              "          docLink.innerHTML = docLinkHtml;\n",
              "          element.appendChild(docLink);\n",
              "        }\n",
              "      </script>\n",
              "    </div>\n",
              "  </div>\n",
              "  "
            ]
          },
          "metadata": {},
          "execution_count": 53
        }
      ],
      "source": [
        "(\n",
        "new_df\n",
        "    .query(\"check_orders==False\")\n",
        ")"
      ],
      "id": "1e8fd1d2"
    },
    {
      "cell_type": "markdown",
      "metadata": {
        "id": "61d0c2c4"
      },
      "source": [
        "It looks like 240 rows in `orderlines` come from orders not present in the `orders` dataset. This is quite inconsistent, since the `orders` dataset should be the one and only source of truth for orders: if an order is not there, it should not exist. We will definitely report this anomaly, but for now, let's just remove those \"ghost\" orders:"
      ],
      "id": "61d0c2c4"
    },
    {
      "cell_type": "code",
      "execution_count": 54,
      "metadata": {
        "id": "c409cd73"
      },
      "outputs": [],
      "source": [
        "orderlines = (orderlines\n",
        "              .assign(check_orders = orderlines['id_order'].isin(orders['order_id']))\n",
        "              .query(\"check_orders==True\"))\n"
      ],
      "id": "c409cd73"
    },
    {
      "cell_type": "code",
      "source": [
        "orderlines.shape"
      ],
      "metadata": {
        "colab": {
          "base_uri": "https://localhost:8080/"
        },
        "id": "EEbhJ5HIB7Ww",
        "outputId": "860c6626-52a4-46db-9536-7aed3c6418b3"
      },
      "id": "EEbhJ5HIB7Ww",
      "execution_count": 55,
      "outputs": [
        {
          "output_type": "execute_result",
          "data": {
            "text/plain": [
              "(293743, 9)"
            ]
          },
          "metadata": {},
          "execution_count": 55
        }
      ]
    },
    {
      "cell_type": "markdown",
      "metadata": {
        "id": "a1f3c0c1"
      },
      "source": [
        "Now let's look at this problem in the opposite direction: are there orders in the `orders` dataset not prsent in `orderlines`?"
      ],
      "id": "a1f3c0c1"
    },
    {
      "cell_type": "code",
      "execution_count": 56,
      "metadata": {
        "colab": {
          "base_uri": "https://localhost:8080/",
          "height": 419
        },
        "id": "2ecf88dd",
        "outputId": "1e7df516-52e4-492f-81de-12b3f24c7737"
      },
      "outputs": [
        {
          "output_type": "execute_result",
          "data": {
            "text/plain": [
              "        order_id        created_date  total_paid            state  \\\n",
              "8         245941 2017-01-01 10:32:23      183.52        Completed   \n",
              "65        268629 2017-01-31 11:27:25       73.23        Completed   \n",
              "75        272862 2017-04-18 18:17:10      128.99          Pending   \n",
              "82        277655 2017-02-01 08:44:55        9.99          Pending   \n",
              "83        277994 2017-01-23 18:30:11       52.99        Completed   \n",
              "...          ...                 ...         ...              ...   \n",
              "226835    527328 2018-03-14 13:14:12        0.00  Shopping Basket   \n",
              "226851    527344 2018-03-14 13:25:21        0.00      Place Order   \n",
              "226853    527346 2018-03-14 13:26:14        0.00      Place Order   \n",
              "226855    527348 2018-03-14 13:28:18        0.00      Place Order   \n",
              "226889    527382 2018-03-14 13:47:43        0.00  Shopping Basket   \n",
              "\n",
              "        check_orders  \n",
              "8              False  \n",
              "65             False  \n",
              "75             False  \n",
              "82             False  \n",
              "83             False  \n",
              "...              ...  \n",
              "226835         False  \n",
              "226851         False  \n",
              "226853         False  \n",
              "226855         False  \n",
              "226889         False  \n",
              "\n",
              "[22213 rows x 5 columns]"
            ],
            "text/html": [
              "\n",
              "  <div id=\"df-c7f53ad9-5564-4949-b169-93b813884fb9\">\n",
              "    <div class=\"colab-df-container\">\n",
              "      <div>\n",
              "<style scoped>\n",
              "    .dataframe tbody tr th:only-of-type {\n",
              "        vertical-align: middle;\n",
              "    }\n",
              "\n",
              "    .dataframe tbody tr th {\n",
              "        vertical-align: top;\n",
              "    }\n",
              "\n",
              "    .dataframe thead th {\n",
              "        text-align: right;\n",
              "    }\n",
              "</style>\n",
              "<table border=\"1\" class=\"dataframe\">\n",
              "  <thead>\n",
              "    <tr style=\"text-align: right;\">\n",
              "      <th></th>\n",
              "      <th>order_id</th>\n",
              "      <th>created_date</th>\n",
              "      <th>total_paid</th>\n",
              "      <th>state</th>\n",
              "      <th>check_orders</th>\n",
              "    </tr>\n",
              "  </thead>\n",
              "  <tbody>\n",
              "    <tr>\n",
              "      <th>8</th>\n",
              "      <td>245941</td>\n",
              "      <td>2017-01-01 10:32:23</td>\n",
              "      <td>183.52</td>\n",
              "      <td>Completed</td>\n",
              "      <td>False</td>\n",
              "    </tr>\n",
              "    <tr>\n",
              "      <th>65</th>\n",
              "      <td>268629</td>\n",
              "      <td>2017-01-31 11:27:25</td>\n",
              "      <td>73.23</td>\n",
              "      <td>Completed</td>\n",
              "      <td>False</td>\n",
              "    </tr>\n",
              "    <tr>\n",
              "      <th>75</th>\n",
              "      <td>272862</td>\n",
              "      <td>2017-04-18 18:17:10</td>\n",
              "      <td>128.99</td>\n",
              "      <td>Pending</td>\n",
              "      <td>False</td>\n",
              "    </tr>\n",
              "    <tr>\n",
              "      <th>82</th>\n",
              "      <td>277655</td>\n",
              "      <td>2017-02-01 08:44:55</td>\n",
              "      <td>9.99</td>\n",
              "      <td>Pending</td>\n",
              "      <td>False</td>\n",
              "    </tr>\n",
              "    <tr>\n",
              "      <th>83</th>\n",
              "      <td>277994</td>\n",
              "      <td>2017-01-23 18:30:11</td>\n",
              "      <td>52.99</td>\n",
              "      <td>Completed</td>\n",
              "      <td>False</td>\n",
              "    </tr>\n",
              "    <tr>\n",
              "      <th>...</th>\n",
              "      <td>...</td>\n",
              "      <td>...</td>\n",
              "      <td>...</td>\n",
              "      <td>...</td>\n",
              "      <td>...</td>\n",
              "    </tr>\n",
              "    <tr>\n",
              "      <th>226835</th>\n",
              "      <td>527328</td>\n",
              "      <td>2018-03-14 13:14:12</td>\n",
              "      <td>0.00</td>\n",
              "      <td>Shopping Basket</td>\n",
              "      <td>False</td>\n",
              "    </tr>\n",
              "    <tr>\n",
              "      <th>226851</th>\n",
              "      <td>527344</td>\n",
              "      <td>2018-03-14 13:25:21</td>\n",
              "      <td>0.00</td>\n",
              "      <td>Place Order</td>\n",
              "      <td>False</td>\n",
              "    </tr>\n",
              "    <tr>\n",
              "      <th>226853</th>\n",
              "      <td>527346</td>\n",
              "      <td>2018-03-14 13:26:14</td>\n",
              "      <td>0.00</td>\n",
              "      <td>Place Order</td>\n",
              "      <td>False</td>\n",
              "    </tr>\n",
              "    <tr>\n",
              "      <th>226855</th>\n",
              "      <td>527348</td>\n",
              "      <td>2018-03-14 13:28:18</td>\n",
              "      <td>0.00</td>\n",
              "      <td>Place Order</td>\n",
              "      <td>False</td>\n",
              "    </tr>\n",
              "    <tr>\n",
              "      <th>226889</th>\n",
              "      <td>527382</td>\n",
              "      <td>2018-03-14 13:47:43</td>\n",
              "      <td>0.00</td>\n",
              "      <td>Shopping Basket</td>\n",
              "      <td>False</td>\n",
              "    </tr>\n",
              "  </tbody>\n",
              "</table>\n",
              "<p>22213 rows × 5 columns</p>\n",
              "</div>\n",
              "      <button class=\"colab-df-convert\" onclick=\"convertToInteractive('df-c7f53ad9-5564-4949-b169-93b813884fb9')\"\n",
              "              title=\"Convert this dataframe to an interactive table.\"\n",
              "              style=\"display:none;\">\n",
              "        \n",
              "  <svg xmlns=\"http://www.w3.org/2000/svg\" height=\"24px\"viewBox=\"0 0 24 24\"\n",
              "       width=\"24px\">\n",
              "    <path d=\"M0 0h24v24H0V0z\" fill=\"none\"/>\n",
              "    <path d=\"M18.56 5.44l.94 2.06.94-2.06 2.06-.94-2.06-.94-.94-2.06-.94 2.06-2.06.94zm-11 1L8.5 8.5l.94-2.06 2.06-.94-2.06-.94L8.5 2.5l-.94 2.06-2.06.94zm10 10l.94 2.06.94-2.06 2.06-.94-2.06-.94-.94-2.06-.94 2.06-2.06.94z\"/><path d=\"M17.41 7.96l-1.37-1.37c-.4-.4-.92-.59-1.43-.59-.52 0-1.04.2-1.43.59L10.3 9.45l-7.72 7.72c-.78.78-.78 2.05 0 2.83L4 21.41c.39.39.9.59 1.41.59.51 0 1.02-.2 1.41-.59l7.78-7.78 2.81-2.81c.8-.78.8-2.07 0-2.86zM5.41 20L4 18.59l7.72-7.72 1.47 1.35L5.41 20z\"/>\n",
              "  </svg>\n",
              "      </button>\n",
              "      \n",
              "  <style>\n",
              "    .colab-df-container {\n",
              "      display:flex;\n",
              "      flex-wrap:wrap;\n",
              "      gap: 12px;\n",
              "    }\n",
              "\n",
              "    .colab-df-convert {\n",
              "      background-color: #E8F0FE;\n",
              "      border: none;\n",
              "      border-radius: 50%;\n",
              "      cursor: pointer;\n",
              "      display: none;\n",
              "      fill: #1967D2;\n",
              "      height: 32px;\n",
              "      padding: 0 0 0 0;\n",
              "      width: 32px;\n",
              "    }\n",
              "\n",
              "    .colab-df-convert:hover {\n",
              "      background-color: #E2EBFA;\n",
              "      box-shadow: 0px 1px 2px rgba(60, 64, 67, 0.3), 0px 1px 3px 1px rgba(60, 64, 67, 0.15);\n",
              "      fill: #174EA6;\n",
              "    }\n",
              "\n",
              "    [theme=dark] .colab-df-convert {\n",
              "      background-color: #3B4455;\n",
              "      fill: #D2E3FC;\n",
              "    }\n",
              "\n",
              "    [theme=dark] .colab-df-convert:hover {\n",
              "      background-color: #434B5C;\n",
              "      box-shadow: 0px 1px 3px 1px rgba(0, 0, 0, 0.15);\n",
              "      filter: drop-shadow(0px 1px 2px rgba(0, 0, 0, 0.3));\n",
              "      fill: #FFFFFF;\n",
              "    }\n",
              "  </style>\n",
              "\n",
              "      <script>\n",
              "        const buttonEl =\n",
              "          document.querySelector('#df-c7f53ad9-5564-4949-b169-93b813884fb9 button.colab-df-convert');\n",
              "        buttonEl.style.display =\n",
              "          google.colab.kernel.accessAllowed ? 'block' : 'none';\n",
              "\n",
              "        async function convertToInteractive(key) {\n",
              "          const element = document.querySelector('#df-c7f53ad9-5564-4949-b169-93b813884fb9');\n",
              "          const dataTable =\n",
              "            await google.colab.kernel.invokeFunction('convertToInteractive',\n",
              "                                                     [key], {});\n",
              "          if (!dataTable) return;\n",
              "\n",
              "          const docLinkHtml = 'Like what you see? Visit the ' +\n",
              "            '<a target=\"_blank\" href=https://colab.research.google.com/notebooks/data_table.ipynb>data table notebook</a>'\n",
              "            + ' to learn more about interactive tables.';\n",
              "          element.innerHTML = '';\n",
              "          dataTable['output_type'] = 'display_data';\n",
              "          await google.colab.output.renderOutput(dataTable, element);\n",
              "          const docLink = document.createElement('div');\n",
              "          docLink.innerHTML = docLinkHtml;\n",
              "          element.appendChild(docLink);\n",
              "        }\n",
              "      </script>\n",
              "    </div>\n",
              "  </div>\n",
              "  "
            ]
          },
          "metadata": {},
          "execution_count": 56
        }
      ],
      "source": [
        "(orders\n",
        " .assign(check_orders = orders['order_id'].isin(orderlines['id_order']))\n",
        " .query(\"check_orders==False\"))"
      ],
      "id": "2ecf88dd"
    },
    {
      "cell_type": "markdown",
      "metadata": {
        "id": "3742ba27"
      },
      "source": [
        "There are more than 22000 orders in the `orders` dataset that are not present on the `orderlines` dataset!!! We can try to find out why by looking at the state of these orders:"
      ],
      "id": "3742ba27"
    },
    {
      "cell_type": "code",
      "execution_count": 57,
      "metadata": {
        "colab": {
          "base_uri": "https://localhost:8080/"
        },
        "id": "4e64d092",
        "outputId": "b5da7c14-1bb4-41c8-9799-8ddb585bb7c0"
      },
      "outputs": [
        {
          "output_type": "execute_result",
          "data": {
            "text/plain": [
              "Place Order        12304\n",
              "Shopping Basket     9810\n",
              "Completed             45\n",
              "Cancelled             41\n",
              "Pending               13\n",
              "Name: state, dtype: int64"
            ]
          },
          "metadata": {},
          "execution_count": 57
        }
      ],
      "source": [
        "(orders\n",
        " .assign(check_orders = orders['order_id'].isin(orderlines['id_order']))\n",
        " .query(\"check_orders==False\")\n",
        " ['state'].value_counts())"
      ],
      "id": "4e64d092"
    },
    {
      "cell_type": "markdown",
      "metadata": {
        "id": "794fbbb0"
      },
      "source": [
        "It looks like most of them are orders that were not fully completed: the products were left in the shopping basket or the order was \"placed\" but maybe not paid (hence the state \"Place Order\". Some of them were \"Completed\", though. \n",
        "\n",
        "This will require further research, and we might have to come back to these orders if we have to explore consumer behaviour (e.g. why are orders left in the shopping basket?), but for now, for the sake of data consistency, let's drop all of these unmatched orders:"
      ],
      "id": "794fbbb0"
    },
    {
      "cell_type": "code",
      "execution_count": 58,
      "metadata": {
        "id": "d2097e18"
      },
      "outputs": [],
      "source": [
        "orders = (orders\n",
        "          .assign(check_orders = orders['order_id'].isin(orderlines['id_order']))\n",
        "          .query(\"check_orders==True\")\n",
        "         )"
      ],
      "id": "d2097e18"
    },
    {
      "cell_type": "code",
      "source": [
        "orders.shape"
      ],
      "metadata": {
        "colab": {
          "base_uri": "https://localhost:8080/"
        },
        "id": "1QVNU8eyDF1F",
        "outputId": "4ff10f86-cd57-41e6-df6e-d5035b039c90"
      },
      "id": "1QVNU8eyDF1F",
      "execution_count": 59,
      "outputs": [
        {
          "output_type": "execute_result",
          "data": {
            "text/plain": [
              "(204691, 5)"
            ]
          },
          "metadata": {},
          "execution_count": 59
        }
      ]
    },
    {
      "cell_type": "markdown",
      "metadata": {
        "id": "9fc91152"
      },
      "source": [
        "Let's now check again if the total paid matches:"
      ],
      "id": "9fc91152"
    },
    {
      "cell_type": "code",
      "execution_count": 60,
      "metadata": {
        "colab": {
          "base_uri": "https://localhost:8080/"
        },
        "id": "6f7f2432",
        "outputId": "cb3a5f26-e8e7-4d1b-d60a-98ee8aadf43e"
      },
      "outputs": [
        {
          "output_type": "execute_result",
          "data": {
            "text/plain": [
              "129130877.18"
            ]
          },
          "metadata": {},
          "execution_count": 60
        }
      ],
      "source": [
        "orders['total_paid'].sum()"
      ],
      "id": "6f7f2432"
    },
    {
      "cell_type": "code",
      "execution_count": 61,
      "metadata": {
        "colab": {
          "base_uri": "https://localhost:8080/"
        },
        "id": "26dcd21f",
        "outputId": "6d284bd8-42e4-498e-87a2-04db0f174800"
      },
      "outputs": [
        {
          "output_type": "execute_result",
          "data": {
            "text/plain": [
              "128659393.77"
            ]
          },
          "metadata": {},
          "execution_count": 61
        }
      ],
      "source": [
        "orderlines['total_price'].sum()"
      ],
      "id": "26dcd21f"
    },
    {
      "cell_type": "markdown",
      "metadata": {
        "id": "481dce88"
      },
      "source": [
        "STILL NOT MATCHING!!! And actually, the difference got larger. This is outrageous. Let's keep exploring."
      ],
      "id": "481dce88"
    },
    {
      "cell_type": "code",
      "execution_count": 62,
      "metadata": {
        "colab": {
          "base_uri": "https://localhost:8080/"
        },
        "id": "gq4NUPQwWlyV",
        "outputId": "02a67f7d-9ce5-47dd-d3f5-0b05810d1118"
      },
      "outputs": [
        {
          "output_type": "execute_result",
          "data": {
            "text/plain": [
              "-471483.4100000113"
            ]
          },
          "metadata": {},
          "execution_count": 62
        }
      ],
      "source": [
        "orderlines['total_price'].sum() - orders['total_paid'].sum()"
      ],
      "id": "gq4NUPQwWlyV"
    },
    {
      "cell_type": "markdown",
      "metadata": {
        "id": "bcab7f3f"
      },
      "source": [
        "## Solving the price mismatch\n",
        "\n",
        "Let's merge both datasets and compare, order by order, the `total_price`. We will call this new merged dataset `orders_info`.\n",
        "\n",
        "*Note: Remember that the `orderlines` dataset contains one row per product bought: an order where 3 different products were purchased will result in 3 rows there. Therefore, to merge `orderlines` with `orders`, we have to group `orderlines` by its `id_order` and aggregate it by taking the sum of the `total_price`."
      ],
      "id": "bcab7f3f"
    },
    {
      "cell_type": "code",
      "source": [
        ""
      ],
      "metadata": {
        "id": "sXWnYgeV0B_s"
      },
      "id": "sXWnYgeV0B_s",
      "execution_count": 62,
      "outputs": []
    },
    {
      "cell_type": "code",
      "source": [
        "orderlines_agg = orderlines\\\n",
        "    .groupby('id_order')\\\n",
        "    .agg({'total_price':'sum'})\n",
        "\n",
        "orders_info = (\n",
        "    orderlines_agg.merge(orders, how='left', left_on='id_order', right_on='order_id')\n",
        "    .copy()\n",
        ")\n",
        "orders_info"
      ],
      "metadata": {
        "id": "xkZ-jvcp0ei9",
        "colab": {
          "base_uri": "https://localhost:8080/",
          "height": 419
        },
        "outputId": "90c7c477-845a-4079-bab1-96ed3cff2809"
      },
      "id": "xkZ-jvcp0ei9",
      "execution_count": 63,
      "outputs": [
        {
          "output_type": "execute_result",
          "data": {
            "text/plain": [
              "        total_price  order_id        created_date  total_paid  \\\n",
              "0             44.99    241319 2017-01-02 13:35:40       44.99   \n",
              "1            129.16    241423 2017-11-06 13:10:02      136.15   \n",
              "2             10.77    242832 2017-12-31 17:40:03       15.76   \n",
              "3             77.99    243330 2017-02-16 10:59:38       84.98   \n",
              "4            153.87    243784 2017-11-24 13:35:19      157.86   \n",
              "...             ...       ...                 ...         ...   \n",
              "204686        42.99    527397 2018-03-14 13:56:38       42.99   \n",
              "204687        42.99    527398 2018-03-14 13:57:25       42.99   \n",
              "204688       141.58    527399 2018-03-14 13:57:34      141.58   \n",
              "204689        19.98    527400 2018-03-14 13:57:41       19.98   \n",
              "204690        13.99    527401 2018-03-14 13:58:36       18.98   \n",
              "\n",
              "                  state  check_orders  \n",
              "0             Cancelled          True  \n",
              "1             Completed          True  \n",
              "2             Completed          True  \n",
              "3             Completed          True  \n",
              "4             Cancelled          True  \n",
              "...                 ...           ...  \n",
              "204686      Place Order          True  \n",
              "204687  Shopping Basket          True  \n",
              "204688  Shopping Basket          True  \n",
              "204689  Shopping Basket          True  \n",
              "204690      Place Order          True  \n",
              "\n",
              "[204691 rows x 6 columns]"
            ],
            "text/html": [
              "\n",
              "  <div id=\"df-03cb30ba-a100-4760-9228-84dbd5aaf7a0\">\n",
              "    <div class=\"colab-df-container\">\n",
              "      <div>\n",
              "<style scoped>\n",
              "    .dataframe tbody tr th:only-of-type {\n",
              "        vertical-align: middle;\n",
              "    }\n",
              "\n",
              "    .dataframe tbody tr th {\n",
              "        vertical-align: top;\n",
              "    }\n",
              "\n",
              "    .dataframe thead th {\n",
              "        text-align: right;\n",
              "    }\n",
              "</style>\n",
              "<table border=\"1\" class=\"dataframe\">\n",
              "  <thead>\n",
              "    <tr style=\"text-align: right;\">\n",
              "      <th></th>\n",
              "      <th>total_price</th>\n",
              "      <th>order_id</th>\n",
              "      <th>created_date</th>\n",
              "      <th>total_paid</th>\n",
              "      <th>state</th>\n",
              "      <th>check_orders</th>\n",
              "    </tr>\n",
              "  </thead>\n",
              "  <tbody>\n",
              "    <tr>\n",
              "      <th>0</th>\n",
              "      <td>44.99</td>\n",
              "      <td>241319</td>\n",
              "      <td>2017-01-02 13:35:40</td>\n",
              "      <td>44.99</td>\n",
              "      <td>Cancelled</td>\n",
              "      <td>True</td>\n",
              "    </tr>\n",
              "    <tr>\n",
              "      <th>1</th>\n",
              "      <td>129.16</td>\n",
              "      <td>241423</td>\n",
              "      <td>2017-11-06 13:10:02</td>\n",
              "      <td>136.15</td>\n",
              "      <td>Completed</td>\n",
              "      <td>True</td>\n",
              "    </tr>\n",
              "    <tr>\n",
              "      <th>2</th>\n",
              "      <td>10.77</td>\n",
              "      <td>242832</td>\n",
              "      <td>2017-12-31 17:40:03</td>\n",
              "      <td>15.76</td>\n",
              "      <td>Completed</td>\n",
              "      <td>True</td>\n",
              "    </tr>\n",
              "    <tr>\n",
              "      <th>3</th>\n",
              "      <td>77.99</td>\n",
              "      <td>243330</td>\n",
              "      <td>2017-02-16 10:59:38</td>\n",
              "      <td>84.98</td>\n",
              "      <td>Completed</td>\n",
              "      <td>True</td>\n",
              "    </tr>\n",
              "    <tr>\n",
              "      <th>4</th>\n",
              "      <td>153.87</td>\n",
              "      <td>243784</td>\n",
              "      <td>2017-11-24 13:35:19</td>\n",
              "      <td>157.86</td>\n",
              "      <td>Cancelled</td>\n",
              "      <td>True</td>\n",
              "    </tr>\n",
              "    <tr>\n",
              "      <th>...</th>\n",
              "      <td>...</td>\n",
              "      <td>...</td>\n",
              "      <td>...</td>\n",
              "      <td>...</td>\n",
              "      <td>...</td>\n",
              "      <td>...</td>\n",
              "    </tr>\n",
              "    <tr>\n",
              "      <th>204686</th>\n",
              "      <td>42.99</td>\n",
              "      <td>527397</td>\n",
              "      <td>2018-03-14 13:56:38</td>\n",
              "      <td>42.99</td>\n",
              "      <td>Place Order</td>\n",
              "      <td>True</td>\n",
              "    </tr>\n",
              "    <tr>\n",
              "      <th>204687</th>\n",
              "      <td>42.99</td>\n",
              "      <td>527398</td>\n",
              "      <td>2018-03-14 13:57:25</td>\n",
              "      <td>42.99</td>\n",
              "      <td>Shopping Basket</td>\n",
              "      <td>True</td>\n",
              "    </tr>\n",
              "    <tr>\n",
              "      <th>204688</th>\n",
              "      <td>141.58</td>\n",
              "      <td>527399</td>\n",
              "      <td>2018-03-14 13:57:34</td>\n",
              "      <td>141.58</td>\n",
              "      <td>Shopping Basket</td>\n",
              "      <td>True</td>\n",
              "    </tr>\n",
              "    <tr>\n",
              "      <th>204689</th>\n",
              "      <td>19.98</td>\n",
              "      <td>527400</td>\n",
              "      <td>2018-03-14 13:57:41</td>\n",
              "      <td>19.98</td>\n",
              "      <td>Shopping Basket</td>\n",
              "      <td>True</td>\n",
              "    </tr>\n",
              "    <tr>\n",
              "      <th>204690</th>\n",
              "      <td>13.99</td>\n",
              "      <td>527401</td>\n",
              "      <td>2018-03-14 13:58:36</td>\n",
              "      <td>18.98</td>\n",
              "      <td>Place Order</td>\n",
              "      <td>True</td>\n",
              "    </tr>\n",
              "  </tbody>\n",
              "</table>\n",
              "<p>204691 rows × 6 columns</p>\n",
              "</div>\n",
              "      <button class=\"colab-df-convert\" onclick=\"convertToInteractive('df-03cb30ba-a100-4760-9228-84dbd5aaf7a0')\"\n",
              "              title=\"Convert this dataframe to an interactive table.\"\n",
              "              style=\"display:none;\">\n",
              "        \n",
              "  <svg xmlns=\"http://www.w3.org/2000/svg\" height=\"24px\"viewBox=\"0 0 24 24\"\n",
              "       width=\"24px\">\n",
              "    <path d=\"M0 0h24v24H0V0z\" fill=\"none\"/>\n",
              "    <path d=\"M18.56 5.44l.94 2.06.94-2.06 2.06-.94-2.06-.94-.94-2.06-.94 2.06-2.06.94zm-11 1L8.5 8.5l.94-2.06 2.06-.94-2.06-.94L8.5 2.5l-.94 2.06-2.06.94zm10 10l.94 2.06.94-2.06 2.06-.94-2.06-.94-.94-2.06-.94 2.06-2.06.94z\"/><path d=\"M17.41 7.96l-1.37-1.37c-.4-.4-.92-.59-1.43-.59-.52 0-1.04.2-1.43.59L10.3 9.45l-7.72 7.72c-.78.78-.78 2.05 0 2.83L4 21.41c.39.39.9.59 1.41.59.51 0 1.02-.2 1.41-.59l7.78-7.78 2.81-2.81c.8-.78.8-2.07 0-2.86zM5.41 20L4 18.59l7.72-7.72 1.47 1.35L5.41 20z\"/>\n",
              "  </svg>\n",
              "      </button>\n",
              "      \n",
              "  <style>\n",
              "    .colab-df-container {\n",
              "      display:flex;\n",
              "      flex-wrap:wrap;\n",
              "      gap: 12px;\n",
              "    }\n",
              "\n",
              "    .colab-df-convert {\n",
              "      background-color: #E8F0FE;\n",
              "      border: none;\n",
              "      border-radius: 50%;\n",
              "      cursor: pointer;\n",
              "      display: none;\n",
              "      fill: #1967D2;\n",
              "      height: 32px;\n",
              "      padding: 0 0 0 0;\n",
              "      width: 32px;\n",
              "    }\n",
              "\n",
              "    .colab-df-convert:hover {\n",
              "      background-color: #E2EBFA;\n",
              "      box-shadow: 0px 1px 2px rgba(60, 64, 67, 0.3), 0px 1px 3px 1px rgba(60, 64, 67, 0.15);\n",
              "      fill: #174EA6;\n",
              "    }\n",
              "\n",
              "    [theme=dark] .colab-df-convert {\n",
              "      background-color: #3B4455;\n",
              "      fill: #D2E3FC;\n",
              "    }\n",
              "\n",
              "    [theme=dark] .colab-df-convert:hover {\n",
              "      background-color: #434B5C;\n",
              "      box-shadow: 0px 1px 3px 1px rgba(0, 0, 0, 0.15);\n",
              "      filter: drop-shadow(0px 1px 2px rgba(0, 0, 0, 0.3));\n",
              "      fill: #FFFFFF;\n",
              "    }\n",
              "  </style>\n",
              "\n",
              "      <script>\n",
              "        const buttonEl =\n",
              "          document.querySelector('#df-03cb30ba-a100-4760-9228-84dbd5aaf7a0 button.colab-df-convert');\n",
              "        buttonEl.style.display =\n",
              "          google.colab.kernel.accessAllowed ? 'block' : 'none';\n",
              "\n",
              "        async function convertToInteractive(key) {\n",
              "          const element = document.querySelector('#df-03cb30ba-a100-4760-9228-84dbd5aaf7a0');\n",
              "          const dataTable =\n",
              "            await google.colab.kernel.invokeFunction('convertToInteractive',\n",
              "                                                     [key], {});\n",
              "          if (!dataTable) return;\n",
              "\n",
              "          const docLinkHtml = 'Like what you see? Visit the ' +\n",
              "            '<a target=\"_blank\" href=https://colab.research.google.com/notebooks/data_table.ipynb>data table notebook</a>'\n",
              "            + ' to learn more about interactive tables.';\n",
              "          element.innerHTML = '';\n",
              "          dataTable['output_type'] = 'display_data';\n",
              "          await google.colab.output.renderOutput(dataTable, element);\n",
              "          const docLink = document.createElement('div');\n",
              "          docLink.innerHTML = docLinkHtml;\n",
              "          element.appendChild(docLink);\n",
              "        }\n",
              "      </script>\n",
              "    </div>\n",
              "  </div>\n",
              "  "
            ]
          },
          "metadata": {},
          "execution_count": 63
        }
      ]
    },
    {
      "cell_type": "code",
      "execution_count": 64,
      "metadata": {
        "colab": {
          "base_uri": "https://localhost:8080/",
          "height": 419
        },
        "id": "d46b6c49",
        "outputId": "f3a3eb1b-a2f0-4a27-9aba-341c075e558c"
      },
      "outputs": [
        {
          "output_type": "execute_result",
          "data": {
            "text/plain": [
              "        total_price  order_id        created_date  total_paid  \\\n",
              "0             44.99    241319 2017-01-02 13:35:40       44.99   \n",
              "1            129.16    241423 2017-11-06 13:10:02      136.15   \n",
              "2             10.77    242832 2017-12-31 17:40:03       15.76   \n",
              "3             77.99    243330 2017-02-16 10:59:38       84.98   \n",
              "4            153.87    243784 2017-11-24 13:35:19      157.86   \n",
              "...             ...       ...                 ...         ...   \n",
              "204686        42.99    527397 2018-03-14 13:56:38       42.99   \n",
              "204687        42.99    527398 2018-03-14 13:57:25       42.99   \n",
              "204688       141.58    527399 2018-03-14 13:57:34      141.58   \n",
              "204689        19.98    527400 2018-03-14 13:57:41       19.98   \n",
              "204690        13.99    527401 2018-03-14 13:58:36       18.98   \n",
              "\n",
              "                  state  check_orders  \n",
              "0             Cancelled          True  \n",
              "1             Completed          True  \n",
              "2             Completed          True  \n",
              "3             Completed          True  \n",
              "4             Cancelled          True  \n",
              "...                 ...           ...  \n",
              "204686      Place Order          True  \n",
              "204687  Shopping Basket          True  \n",
              "204688  Shopping Basket          True  \n",
              "204689  Shopping Basket          True  \n",
              "204690      Place Order          True  \n",
              "\n",
              "[204691 rows x 6 columns]"
            ],
            "text/html": [
              "\n",
              "  <div id=\"df-844b6c2e-b42b-4b4b-8038-f21aa7f75c80\">\n",
              "    <div class=\"colab-df-container\">\n",
              "      <div>\n",
              "<style scoped>\n",
              "    .dataframe tbody tr th:only-of-type {\n",
              "        vertical-align: middle;\n",
              "    }\n",
              "\n",
              "    .dataframe tbody tr th {\n",
              "        vertical-align: top;\n",
              "    }\n",
              "\n",
              "    .dataframe thead th {\n",
              "        text-align: right;\n",
              "    }\n",
              "</style>\n",
              "<table border=\"1\" class=\"dataframe\">\n",
              "  <thead>\n",
              "    <tr style=\"text-align: right;\">\n",
              "      <th></th>\n",
              "      <th>total_price</th>\n",
              "      <th>order_id</th>\n",
              "      <th>created_date</th>\n",
              "      <th>total_paid</th>\n",
              "      <th>state</th>\n",
              "      <th>check_orders</th>\n",
              "    </tr>\n",
              "  </thead>\n",
              "  <tbody>\n",
              "    <tr>\n",
              "      <th>0</th>\n",
              "      <td>44.99</td>\n",
              "      <td>241319</td>\n",
              "      <td>2017-01-02 13:35:40</td>\n",
              "      <td>44.99</td>\n",
              "      <td>Cancelled</td>\n",
              "      <td>True</td>\n",
              "    </tr>\n",
              "    <tr>\n",
              "      <th>1</th>\n",
              "      <td>129.16</td>\n",
              "      <td>241423</td>\n",
              "      <td>2017-11-06 13:10:02</td>\n",
              "      <td>136.15</td>\n",
              "      <td>Completed</td>\n",
              "      <td>True</td>\n",
              "    </tr>\n",
              "    <tr>\n",
              "      <th>2</th>\n",
              "      <td>10.77</td>\n",
              "      <td>242832</td>\n",
              "      <td>2017-12-31 17:40:03</td>\n",
              "      <td>15.76</td>\n",
              "      <td>Completed</td>\n",
              "      <td>True</td>\n",
              "    </tr>\n",
              "    <tr>\n",
              "      <th>3</th>\n",
              "      <td>77.99</td>\n",
              "      <td>243330</td>\n",
              "      <td>2017-02-16 10:59:38</td>\n",
              "      <td>84.98</td>\n",
              "      <td>Completed</td>\n",
              "      <td>True</td>\n",
              "    </tr>\n",
              "    <tr>\n",
              "      <th>4</th>\n",
              "      <td>153.87</td>\n",
              "      <td>243784</td>\n",
              "      <td>2017-11-24 13:35:19</td>\n",
              "      <td>157.86</td>\n",
              "      <td>Cancelled</td>\n",
              "      <td>True</td>\n",
              "    </tr>\n",
              "    <tr>\n",
              "      <th>...</th>\n",
              "      <td>...</td>\n",
              "      <td>...</td>\n",
              "      <td>...</td>\n",
              "      <td>...</td>\n",
              "      <td>...</td>\n",
              "      <td>...</td>\n",
              "    </tr>\n",
              "    <tr>\n",
              "      <th>204686</th>\n",
              "      <td>42.99</td>\n",
              "      <td>527397</td>\n",
              "      <td>2018-03-14 13:56:38</td>\n",
              "      <td>42.99</td>\n",
              "      <td>Place Order</td>\n",
              "      <td>True</td>\n",
              "    </tr>\n",
              "    <tr>\n",
              "      <th>204687</th>\n",
              "      <td>42.99</td>\n",
              "      <td>527398</td>\n",
              "      <td>2018-03-14 13:57:25</td>\n",
              "      <td>42.99</td>\n",
              "      <td>Shopping Basket</td>\n",
              "      <td>True</td>\n",
              "    </tr>\n",
              "    <tr>\n",
              "      <th>204688</th>\n",
              "      <td>141.58</td>\n",
              "      <td>527399</td>\n",
              "      <td>2018-03-14 13:57:34</td>\n",
              "      <td>141.58</td>\n",
              "      <td>Shopping Basket</td>\n",
              "      <td>True</td>\n",
              "    </tr>\n",
              "    <tr>\n",
              "      <th>204689</th>\n",
              "      <td>19.98</td>\n",
              "      <td>527400</td>\n",
              "      <td>2018-03-14 13:57:41</td>\n",
              "      <td>19.98</td>\n",
              "      <td>Shopping Basket</td>\n",
              "      <td>True</td>\n",
              "    </tr>\n",
              "    <tr>\n",
              "      <th>204690</th>\n",
              "      <td>13.99</td>\n",
              "      <td>527401</td>\n",
              "      <td>2018-03-14 13:58:36</td>\n",
              "      <td>18.98</td>\n",
              "      <td>Place Order</td>\n",
              "      <td>True</td>\n",
              "    </tr>\n",
              "  </tbody>\n",
              "</table>\n",
              "<p>204691 rows × 6 columns</p>\n",
              "</div>\n",
              "      <button class=\"colab-df-convert\" onclick=\"convertToInteractive('df-844b6c2e-b42b-4b4b-8038-f21aa7f75c80')\"\n",
              "              title=\"Convert this dataframe to an interactive table.\"\n",
              "              style=\"display:none;\">\n",
              "        \n",
              "  <svg xmlns=\"http://www.w3.org/2000/svg\" height=\"24px\"viewBox=\"0 0 24 24\"\n",
              "       width=\"24px\">\n",
              "    <path d=\"M0 0h24v24H0V0z\" fill=\"none\"/>\n",
              "    <path d=\"M18.56 5.44l.94 2.06.94-2.06 2.06-.94-2.06-.94-.94-2.06-.94 2.06-2.06.94zm-11 1L8.5 8.5l.94-2.06 2.06-.94-2.06-.94L8.5 2.5l-.94 2.06-2.06.94zm10 10l.94 2.06.94-2.06 2.06-.94-2.06-.94-.94-2.06-.94 2.06-2.06.94z\"/><path d=\"M17.41 7.96l-1.37-1.37c-.4-.4-.92-.59-1.43-.59-.52 0-1.04.2-1.43.59L10.3 9.45l-7.72 7.72c-.78.78-.78 2.05 0 2.83L4 21.41c.39.39.9.59 1.41.59.51 0 1.02-.2 1.41-.59l7.78-7.78 2.81-2.81c.8-.78.8-2.07 0-2.86zM5.41 20L4 18.59l7.72-7.72 1.47 1.35L5.41 20z\"/>\n",
              "  </svg>\n",
              "      </button>\n",
              "      \n",
              "  <style>\n",
              "    .colab-df-container {\n",
              "      display:flex;\n",
              "      flex-wrap:wrap;\n",
              "      gap: 12px;\n",
              "    }\n",
              "\n",
              "    .colab-df-convert {\n",
              "      background-color: #E8F0FE;\n",
              "      border: none;\n",
              "      border-radius: 50%;\n",
              "      cursor: pointer;\n",
              "      display: none;\n",
              "      fill: #1967D2;\n",
              "      height: 32px;\n",
              "      padding: 0 0 0 0;\n",
              "      width: 32px;\n",
              "    }\n",
              "\n",
              "    .colab-df-convert:hover {\n",
              "      background-color: #E2EBFA;\n",
              "      box-shadow: 0px 1px 2px rgba(60, 64, 67, 0.3), 0px 1px 3px 1px rgba(60, 64, 67, 0.15);\n",
              "      fill: #174EA6;\n",
              "    }\n",
              "\n",
              "    [theme=dark] .colab-df-convert {\n",
              "      background-color: #3B4455;\n",
              "      fill: #D2E3FC;\n",
              "    }\n",
              "\n",
              "    [theme=dark] .colab-df-convert:hover {\n",
              "      background-color: #434B5C;\n",
              "      box-shadow: 0px 1px 3px 1px rgba(0, 0, 0, 0.15);\n",
              "      filter: drop-shadow(0px 1px 2px rgba(0, 0, 0, 0.3));\n",
              "      fill: #FFFFFF;\n",
              "    }\n",
              "  </style>\n",
              "\n",
              "      <script>\n",
              "        const buttonEl =\n",
              "          document.querySelector('#df-844b6c2e-b42b-4b4b-8038-f21aa7f75c80 button.colab-df-convert');\n",
              "        buttonEl.style.display =\n",
              "          google.colab.kernel.accessAllowed ? 'block' : 'none';\n",
              "\n",
              "        async function convertToInteractive(key) {\n",
              "          const element = document.querySelector('#df-844b6c2e-b42b-4b4b-8038-f21aa7f75c80');\n",
              "          const dataTable =\n",
              "            await google.colab.kernel.invokeFunction('convertToInteractive',\n",
              "                                                     [key], {});\n",
              "          if (!dataTable) return;\n",
              "\n",
              "          const docLinkHtml = 'Like what you see? Visit the ' +\n",
              "            '<a target=\"_blank\" href=https://colab.research.google.com/notebooks/data_table.ipynb>data table notebook</a>'\n",
              "            + ' to learn more about interactive tables.';\n",
              "          element.innerHTML = '';\n",
              "          dataTable['output_type'] = 'display_data';\n",
              "          await google.colab.output.renderOutput(dataTable, element);\n",
              "          const docLink = document.createElement('div');\n",
              "          docLink.innerHTML = docLinkHtml;\n",
              "          element.appendChild(docLink);\n",
              "        }\n",
              "      </script>\n",
              "    </div>\n",
              "  </div>\n",
              "  "
            ]
          },
          "metadata": {},
          "execution_count": 64
        }
      ],
      "source": [
        "orders_info = (\n",
        "orderlines\n",
        "    .groupby('id_order')\n",
        "    .agg({'total_price':'sum'})\n",
        "    .merge(orders, how='left', left_on='id_order', right_on='order_id')\n",
        "    .copy()\n",
        ")\n",
        "orders_info"
      ],
      "id": "d46b6c49"
    },
    {
      "cell_type": "code",
      "execution_count": 65,
      "metadata": {
        "colab": {
          "base_uri": "https://localhost:8080/",
          "height": 111
        },
        "id": "aegneco1Vny7",
        "outputId": "837b92e2-a028-4ea7-e35d-90b5ddf7c668"
      },
      "outputs": [
        {
          "output_type": "execute_result",
          "data": {
            "text/plain": [
              "        id  order_id  product_id  product_quantity      sku  unit_price  \\\n",
              "0  1119109    299539           0                 1  OTT0133       18.99   \n",
              "1  1119110    299540           0                 1  LGE0043      399.00   \n",
              "\n",
              "                 date  total_price  check_orders  \n",
              "0 2017-01-01 00:07:19        18.99          True  \n",
              "1 2017-01-01 00:19:45       399.00          True  "
            ],
            "text/html": [
              "\n",
              "  <div id=\"df-a1625359-45f2-4893-90c8-26d6117ec440\">\n",
              "    <div class=\"colab-df-container\">\n",
              "      <div>\n",
              "<style scoped>\n",
              "    .dataframe tbody tr th:only-of-type {\n",
              "        vertical-align: middle;\n",
              "    }\n",
              "\n",
              "    .dataframe tbody tr th {\n",
              "        vertical-align: top;\n",
              "    }\n",
              "\n",
              "    .dataframe thead th {\n",
              "        text-align: right;\n",
              "    }\n",
              "</style>\n",
              "<table border=\"1\" class=\"dataframe\">\n",
              "  <thead>\n",
              "    <tr style=\"text-align: right;\">\n",
              "      <th></th>\n",
              "      <th>id</th>\n",
              "      <th>order_id</th>\n",
              "      <th>product_id</th>\n",
              "      <th>product_quantity</th>\n",
              "      <th>sku</th>\n",
              "      <th>unit_price</th>\n",
              "      <th>date</th>\n",
              "      <th>total_price</th>\n",
              "      <th>check_orders</th>\n",
              "    </tr>\n",
              "  </thead>\n",
              "  <tbody>\n",
              "    <tr>\n",
              "      <th>0</th>\n",
              "      <td>1119109</td>\n",
              "      <td>299539</td>\n",
              "      <td>0</td>\n",
              "      <td>1</td>\n",
              "      <td>OTT0133</td>\n",
              "      <td>18.99</td>\n",
              "      <td>2017-01-01 00:07:19</td>\n",
              "      <td>18.99</td>\n",
              "      <td>True</td>\n",
              "    </tr>\n",
              "    <tr>\n",
              "      <th>1</th>\n",
              "      <td>1119110</td>\n",
              "      <td>299540</td>\n",
              "      <td>0</td>\n",
              "      <td>1</td>\n",
              "      <td>LGE0043</td>\n",
              "      <td>399.00</td>\n",
              "      <td>2017-01-01 00:19:45</td>\n",
              "      <td>399.00</td>\n",
              "      <td>True</td>\n",
              "    </tr>\n",
              "  </tbody>\n",
              "</table>\n",
              "</div>\n",
              "      <button class=\"colab-df-convert\" onclick=\"convertToInteractive('df-a1625359-45f2-4893-90c8-26d6117ec440')\"\n",
              "              title=\"Convert this dataframe to an interactive table.\"\n",
              "              style=\"display:none;\">\n",
              "        \n",
              "  <svg xmlns=\"http://www.w3.org/2000/svg\" height=\"24px\"viewBox=\"0 0 24 24\"\n",
              "       width=\"24px\">\n",
              "    <path d=\"M0 0h24v24H0V0z\" fill=\"none\"/>\n",
              "    <path d=\"M18.56 5.44l.94 2.06.94-2.06 2.06-.94-2.06-.94-.94-2.06-.94 2.06-2.06.94zm-11 1L8.5 8.5l.94-2.06 2.06-.94-2.06-.94L8.5 2.5l-.94 2.06-2.06.94zm10 10l.94 2.06.94-2.06 2.06-.94-2.06-.94-.94-2.06-.94 2.06-2.06.94z\"/><path d=\"M17.41 7.96l-1.37-1.37c-.4-.4-.92-.59-1.43-.59-.52 0-1.04.2-1.43.59L10.3 9.45l-7.72 7.72c-.78.78-.78 2.05 0 2.83L4 21.41c.39.39.9.59 1.41.59.51 0 1.02-.2 1.41-.59l7.78-7.78 2.81-2.81c.8-.78.8-2.07 0-2.86zM5.41 20L4 18.59l7.72-7.72 1.47 1.35L5.41 20z\"/>\n",
              "  </svg>\n",
              "      </button>\n",
              "      \n",
              "  <style>\n",
              "    .colab-df-container {\n",
              "      display:flex;\n",
              "      flex-wrap:wrap;\n",
              "      gap: 12px;\n",
              "    }\n",
              "\n",
              "    .colab-df-convert {\n",
              "      background-color: #E8F0FE;\n",
              "      border: none;\n",
              "      border-radius: 50%;\n",
              "      cursor: pointer;\n",
              "      display: none;\n",
              "      fill: #1967D2;\n",
              "      height: 32px;\n",
              "      padding: 0 0 0 0;\n",
              "      width: 32px;\n",
              "    }\n",
              "\n",
              "    .colab-df-convert:hover {\n",
              "      background-color: #E2EBFA;\n",
              "      box-shadow: 0px 1px 2px rgba(60, 64, 67, 0.3), 0px 1px 3px 1px rgba(60, 64, 67, 0.15);\n",
              "      fill: #174EA6;\n",
              "    }\n",
              "\n",
              "    [theme=dark] .colab-df-convert {\n",
              "      background-color: #3B4455;\n",
              "      fill: #D2E3FC;\n",
              "    }\n",
              "\n",
              "    [theme=dark] .colab-df-convert:hover {\n",
              "      background-color: #434B5C;\n",
              "      box-shadow: 0px 1px 3px 1px rgba(0, 0, 0, 0.15);\n",
              "      filter: drop-shadow(0px 1px 2px rgba(0, 0, 0, 0.3));\n",
              "      fill: #FFFFFF;\n",
              "    }\n",
              "  </style>\n",
              "\n",
              "      <script>\n",
              "        const buttonEl =\n",
              "          document.querySelector('#df-a1625359-45f2-4893-90c8-26d6117ec440 button.colab-df-convert');\n",
              "        buttonEl.style.display =\n",
              "          google.colab.kernel.accessAllowed ? 'block' : 'none';\n",
              "\n",
              "        async function convertToInteractive(key) {\n",
              "          const element = document.querySelector('#df-a1625359-45f2-4893-90c8-26d6117ec440');\n",
              "          const dataTable =\n",
              "            await google.colab.kernel.invokeFunction('convertToInteractive',\n",
              "                                                     [key], {});\n",
              "          if (!dataTable) return;\n",
              "\n",
              "          const docLinkHtml = 'Like what you see? Visit the ' +\n",
              "            '<a target=\"_blank\" href=https://colab.research.google.com/notebooks/data_table.ipynb>data table notebook</a>'\n",
              "            + ' to learn more about interactive tables.';\n",
              "          element.innerHTML = '';\n",
              "          dataTable['output_type'] = 'display_data';\n",
              "          await google.colab.output.renderOutput(dataTable, element);\n",
              "          const docLink = document.createElement('div');\n",
              "          docLink.innerHTML = docLinkHtml;\n",
              "          element.appendChild(docLink);\n",
              "        }\n",
              "      </script>\n",
              "    </div>\n",
              "  </div>\n",
              "  "
            ]
          },
          "metadata": {},
          "execution_count": 65
        }
      ],
      "source": [
        "orderlines.rename(columns={'id_order':'order_id'}, \n",
        "                   inplace=True)\n",
        "orderlines.head(2)"
      ],
      "id": "aegneco1Vny7"
    },
    {
      "cell_type": "code",
      "execution_count": 66,
      "metadata": {
        "id": "K60pT-x4V_hg"
      },
      "outputs": [],
      "source": [
        "#merged_orders = pd.merge(orderlines, orders, on='order_id', how='outer')\n",
        "#merged_orders\n",
        "#merged_orders.head(30)"
      ],
      "id": "K60pT-x4V_hg"
    },
    {
      "cell_type": "markdown",
      "metadata": {
        "id": "6ecf9771"
      },
      "source": [
        "Now that the `total` from both datasets is in the same dataframe, we can create a new column with the difference:"
      ],
      "id": "6ecf9771"
    },
    {
      "cell_type": "code",
      "execution_count": 78,
      "metadata": {
        "colab": {
          "base_uri": "https://localhost:8080/",
          "height": 142
        },
        "id": "403e3bff",
        "outputId": "e92a3e84-9018-40ee-a5c4-5fce8f7c87e0"
      },
      "outputs": [
        {
          "output_type": "execute_result",
          "data": {
            "text/plain": [
              "        total_price  order_id        created_date  total_paid  \\\n",
              "188169      3112.59    508818 2018-02-09 13:43:30        6.59   \n",
              "197889      7771.23    519801 2018-03-02 08:59:34       31.22   \n",
              "56804     250802.37    361200 2017-06-01 11:55:02   214642.47   \n",
              "\n",
              "                  state  check_orders  price_difference  \n",
              "188169  Shopping Basket          True           3106.00  \n",
              "197889  Shopping Basket          True           7740.01  \n",
              "56804   Shopping Basket          True          36159.90  "
            ],
            "text/html": [
              "\n",
              "  <div id=\"df-e552f9b4-6e8a-4a76-8e6a-145a2847c94b\">\n",
              "    <div class=\"colab-df-container\">\n",
              "      <div>\n",
              "<style scoped>\n",
              "    .dataframe tbody tr th:only-of-type {\n",
              "        vertical-align: middle;\n",
              "    }\n",
              "\n",
              "    .dataframe tbody tr th {\n",
              "        vertical-align: top;\n",
              "    }\n",
              "\n",
              "    .dataframe thead th {\n",
              "        text-align: right;\n",
              "    }\n",
              "</style>\n",
              "<table border=\"1\" class=\"dataframe\">\n",
              "  <thead>\n",
              "    <tr style=\"text-align: right;\">\n",
              "      <th></th>\n",
              "      <th>total_price</th>\n",
              "      <th>order_id</th>\n",
              "      <th>created_date</th>\n",
              "      <th>total_paid</th>\n",
              "      <th>state</th>\n",
              "      <th>check_orders</th>\n",
              "      <th>price_difference</th>\n",
              "    </tr>\n",
              "  </thead>\n",
              "  <tbody>\n",
              "    <tr>\n",
              "      <th>188169</th>\n",
              "      <td>3112.59</td>\n",
              "      <td>508818</td>\n",
              "      <td>2018-02-09 13:43:30</td>\n",
              "      <td>6.59</td>\n",
              "      <td>Shopping Basket</td>\n",
              "      <td>True</td>\n",
              "      <td>3106.00</td>\n",
              "    </tr>\n",
              "    <tr>\n",
              "      <th>197889</th>\n",
              "      <td>7771.23</td>\n",
              "      <td>519801</td>\n",
              "      <td>2018-03-02 08:59:34</td>\n",
              "      <td>31.22</td>\n",
              "      <td>Shopping Basket</td>\n",
              "      <td>True</td>\n",
              "      <td>7740.01</td>\n",
              "    </tr>\n",
              "    <tr>\n",
              "      <th>56804</th>\n",
              "      <td>250802.37</td>\n",
              "      <td>361200</td>\n",
              "      <td>2017-06-01 11:55:02</td>\n",
              "      <td>214642.47</td>\n",
              "      <td>Shopping Basket</td>\n",
              "      <td>True</td>\n",
              "      <td>36159.90</td>\n",
              "    </tr>\n",
              "  </tbody>\n",
              "</table>\n",
              "</div>\n",
              "      <button class=\"colab-df-convert\" onclick=\"convertToInteractive('df-e552f9b4-6e8a-4a76-8e6a-145a2847c94b')\"\n",
              "              title=\"Convert this dataframe to an interactive table.\"\n",
              "              style=\"display:none;\">\n",
              "        \n",
              "  <svg xmlns=\"http://www.w3.org/2000/svg\" height=\"24px\"viewBox=\"0 0 24 24\"\n",
              "       width=\"24px\">\n",
              "    <path d=\"M0 0h24v24H0V0z\" fill=\"none\"/>\n",
              "    <path d=\"M18.56 5.44l.94 2.06.94-2.06 2.06-.94-2.06-.94-.94-2.06-.94 2.06-2.06.94zm-11 1L8.5 8.5l.94-2.06 2.06-.94-2.06-.94L8.5 2.5l-.94 2.06-2.06.94zm10 10l.94 2.06.94-2.06 2.06-.94-2.06-.94-.94-2.06-.94 2.06-2.06.94z\"/><path d=\"M17.41 7.96l-1.37-1.37c-.4-.4-.92-.59-1.43-.59-.52 0-1.04.2-1.43.59L10.3 9.45l-7.72 7.72c-.78.78-.78 2.05 0 2.83L4 21.41c.39.39.9.59 1.41.59.51 0 1.02-.2 1.41-.59l7.78-7.78 2.81-2.81c.8-.78.8-2.07 0-2.86zM5.41 20L4 18.59l7.72-7.72 1.47 1.35L5.41 20z\"/>\n",
              "  </svg>\n",
              "      </button>\n",
              "      \n",
              "  <style>\n",
              "    .colab-df-container {\n",
              "      display:flex;\n",
              "      flex-wrap:wrap;\n",
              "      gap: 12px;\n",
              "    }\n",
              "\n",
              "    .colab-df-convert {\n",
              "      background-color: #E8F0FE;\n",
              "      border: none;\n",
              "      border-radius: 50%;\n",
              "      cursor: pointer;\n",
              "      display: none;\n",
              "      fill: #1967D2;\n",
              "      height: 32px;\n",
              "      padding: 0 0 0 0;\n",
              "      width: 32px;\n",
              "    }\n",
              "\n",
              "    .colab-df-convert:hover {\n",
              "      background-color: #E2EBFA;\n",
              "      box-shadow: 0px 1px 2px rgba(60, 64, 67, 0.3), 0px 1px 3px 1px rgba(60, 64, 67, 0.15);\n",
              "      fill: #174EA6;\n",
              "    }\n",
              "\n",
              "    [theme=dark] .colab-df-convert {\n",
              "      background-color: #3B4455;\n",
              "      fill: #D2E3FC;\n",
              "    }\n",
              "\n",
              "    [theme=dark] .colab-df-convert:hover {\n",
              "      background-color: #434B5C;\n",
              "      box-shadow: 0px 1px 3px 1px rgba(0, 0, 0, 0.15);\n",
              "      filter: drop-shadow(0px 1px 2px rgba(0, 0, 0, 0.3));\n",
              "      fill: #FFFFFF;\n",
              "    }\n",
              "  </style>\n",
              "\n",
              "      <script>\n",
              "        const buttonEl =\n",
              "          document.querySelector('#df-e552f9b4-6e8a-4a76-8e6a-145a2847c94b button.colab-df-convert');\n",
              "        buttonEl.style.display =\n",
              "          google.colab.kernel.accessAllowed ? 'block' : 'none';\n",
              "\n",
              "        async function convertToInteractive(key) {\n",
              "          const element = document.querySelector('#df-e552f9b4-6e8a-4a76-8e6a-145a2847c94b');\n",
              "          const dataTable =\n",
              "            await google.colab.kernel.invokeFunction('convertToInteractive',\n",
              "                                                     [key], {});\n",
              "          if (!dataTable) return;\n",
              "\n",
              "          const docLinkHtml = 'Like what you see? Visit the ' +\n",
              "            '<a target=\"_blank\" href=https://colab.research.google.com/notebooks/data_table.ipynb>data table notebook</a>'\n",
              "            + ' to learn more about interactive tables.';\n",
              "          element.innerHTML = '';\n",
              "          dataTable['output_type'] = 'display_data';\n",
              "          await google.colab.output.renderOutput(dataTable, element);\n",
              "          const docLink = document.createElement('div');\n",
              "          docLink.innerHTML = docLinkHtml;\n",
              "          element.appendChild(docLink);\n",
              "        }\n",
              "      </script>\n",
              "    </div>\n",
              "  </div>\n",
              "  "
            ]
          },
          "metadata": {},
          "execution_count": 78
        }
      ],
      "source": [
        "orders_info['price_difference'] = orders_info['total_price'] - orders_info['total_paid']\n",
        "orders_info.sort_values('price_difference').tail(3)"
      ],
      "id": "403e3bff"
    },
    {
      "cell_type": "code",
      "execution_count": 68,
      "metadata": {
        "colab": {
          "base_uri": "https://localhost:8080/"
        },
        "id": "b57e57f2",
        "outputId": "9be5ffec-94a4-47a9-e4a9-09140d01cac8"
      },
      "outputs": [
        {
          "output_type": "execute_result",
          "data": {
            "text/plain": [
              "count    204691.000000\n",
              "mean         -2.303391\n",
              "std         297.461827\n",
              "min      -90898.610000\n",
              "25%          -0.010000\n",
              "50%           0.000000\n",
              "75%           0.000000\n",
              "max       36159.900000\n",
              "Name: price_difference, dtype: float64"
            ]
          },
          "metadata": {},
          "execution_count": 68
        }
      ],
      "source": [
        "orders_info['price_difference'].describe()"
      ],
      "id": "b57e57f2"
    },
    {
      "cell_type": "code",
      "source": [
        "sum(orders.total_paid), sum(orderlines_agg.total_price), orders.shape[0], orderlines_agg.shape[0]"
      ],
      "metadata": {
        "colab": {
          "base_uri": "https://localhost:8080/"
        },
        "id": "fkdtf9dZOu50",
        "outputId": "33af9b94-8916-48f6-a208-bf4e8b6eea4a"
      },
      "id": "fkdtf9dZOu50",
      "execution_count": 84,
      "outputs": [
        {
          "output_type": "execute_result",
          "data": {
            "text/plain": [
              "(129130877.17991917, 128659393.7698862, 204691, 204691)"
            ]
          },
          "metadata": {},
          "execution_count": 84
        }
      ]
    },
    {
      "cell_type": "markdown",
      "metadata": {
        "id": "f6f3d1e3"
      },
      "source": [
        "Looks like the maximum and minimun price differences are huge: some orders are really corrupted. But we also see from the mean and the quartiles that the price difference is neglegible for most orders."
      ],
      "id": "f6f3d1e3"
    },
    {
      "cell_type": "markdown",
      "metadata": {
        "id": "0643a5f2"
      },
      "source": [
        "## Challenge: Remove outliers\n",
        "\n",
        "Decide on a criteria for removing orders whenever you cannot trust the price difference between `orders` and `orderlines`. \n",
        "\n",
        "Note: this solution does not completely achieve 100% trustable data, but the objective here is to end up with the best possible data with a limited amount of time, which makes a complete revision of the database protocols and the data pipelines is not feasable - and business questions are pending. Documenting and reporting this data cleaning process, including the criteria that you will use for determining what do you consider an \"outlier\", is key. Not being paralized by it is also important!"
      ],
      "id": "0643a5f2"
    },
    {
      "cell_type": "code",
      "execution_count": 69,
      "metadata": {
        "id": "287a234f"
      },
      "outputs": [],
      "source": [
        "# you code here"
      ],
      "id": "287a234f"
    },
    {
      "cell_type": "markdown",
      "metadata": {
        "id": "c73cf6c5"
      },
      "source": [
        "Save the data once you are sure you can trust it!"
      ],
      "id": "c73cf6c5"
    },
    {
      "cell_type": "code",
      "execution_count": 70,
      "metadata": {
        "id": "55ca71ef"
      },
      "outputs": [],
      "source": [
        "# run the code only once your \"orderlines\" and \"orders\" are clean\n",
        "#orderlines.to_csv('orderlines_clean.csv', index=False)\n",
        "#orders.to_csv('orders_clean.csv', index=False)\n",
        "\n",
        "#from google.colab import files\n",
        "#files.download(\"orderlines_clean.csv\")\n",
        "#files.download(\"orders_clean.csv\")"
      ],
      "id": "55ca71ef"
    },
    {
      "cell_type": "markdown",
      "metadata": {
        "id": "c223538b"
      },
      "source": [
        "## Challenge: Cleaning products"
      ],
      "id": "c223538b"
    },
    {
      "cell_type": "markdown",
      "metadata": {
        "id": "97cd73c1"
      },
      "source": [
        "Now it is time to clean the products dataset. Let's do a quick review of its major problems: "
      ],
      "id": "97cd73c1"
    },
    {
      "cell_type": "code",
      "execution_count": 71,
      "metadata": {
        "colab": {
          "base_uri": "https://localhost:8080/"
        },
        "id": "17aa882f",
        "outputId": "5500cfda-e7c8-41d8-d96f-6b50ea8ac74b"
      },
      "outputs": [
        {
          "output_type": "stream",
          "name": "stdout",
          "text": [
            "<class 'pandas.core.frame.DataFrame'>\n",
            "RangeIndex: 19326 entries, 0 to 19325\n",
            "Data columns (total 7 columns):\n",
            " #   Column       Non-Null Count  Dtype \n",
            "---  ------       --------------  ----- \n",
            " 0   sku          19326 non-null  object\n",
            " 1   name         19326 non-null  object\n",
            " 2   desc         19319 non-null  object\n",
            " 3   price        19280 non-null  object\n",
            " 4   promo_price  19326 non-null  object\n",
            " 5   in_stock     19326 non-null  int64 \n",
            " 6   type         19276 non-null  object\n",
            "dtypes: int64(1), object(6)\n",
            "memory usage: 1.0+ MB\n",
            "None \n",
            "\n",
            "Missing values: sku             0\n",
            "name            0\n",
            "desc            7\n",
            "price          46\n",
            "promo_price     0\n",
            "in_stock        0\n",
            "type           50\n",
            "dtype: int64 \n",
            "\n",
            "Duplicate rows: 8746\n"
          ]
        }
      ],
      "source": [
        "print(products.info(), \"\\n\")\n",
        "print(\"Missing values:\", products.isna().sum(), \"\\n\")\n",
        "print(\"Duplicate rows:\", products.duplicated().sum())"
      ],
      "id": "17aa882f"
    },
    {
      "cell_type": "markdown",
      "metadata": {
        "id": "fb3f1882"
      },
      "source": [
        "Looking at this overview, we can see that there are different things that have to be changed: \n",
        "\n",
        "* Data types: \n",
        "    * `price` should be a float\n",
        "    * `promo price` should be a float\n",
        "* Duplicated rows. They have to be removed. \n",
        "    * To accomplish this step you can use the method `pd.DataFrame.drop_duplicates()`. Be sure you drop all the duplicates based on the column **sku**, as it is the one you will use to merge with orderlines. \n",
        "* Missing values: \n",
        "    * Description maybe can be inferred by the name\n",
        "    * `price`. Is there a way we can extract the information from another table?\n",
        "    * `type`. Do we need this column for our analysis?\n",
        "    \n",
        "This task can be accomoplished by using all the methods you already know."
      ],
      "id": "fb3f1882"
    },
    {
      "cell_type": "markdown",
      "metadata": {
        "id": "ae90ce67"
      },
      "source": [
        "### Start of the challenge"
      ],
      "id": "ae90ce67"
    },
    {
      "cell_type": "markdown",
      "metadata": {
        "id": "3303b57d"
      },
      "source": [
        "#### Duplicates"
      ],
      "id": "3303b57d"
    },
    {
      "cell_type": "code",
      "execution_count": 72,
      "metadata": {
        "id": "ca4251ef-45fd-4e64-bb6d-e8a2dc4de6bb"
      },
      "outputs": [],
      "source": [
        "# code here"
      ],
      "id": "ca4251ef-45fd-4e64-bb6d-e8a2dc4de6bb"
    },
    {
      "cell_type": "code",
      "source": [
        "products.shape"
      ],
      "metadata": {
        "colab": {
          "base_uri": "https://localhost:8080/"
        },
        "id": "X85tiFcYRa04",
        "outputId": "dd19007e-a595-41d8-98d0-118d1c3f93f3"
      },
      "id": "X85tiFcYRa04",
      "execution_count": 85,
      "outputs": [
        {
          "output_type": "execute_result",
          "data": {
            "text/plain": [
              "(19326, 7)"
            ]
          },
          "metadata": {},
          "execution_count": 85
        }
      ]
    },
    {
      "cell_type": "markdown",
      "metadata": {
        "id": "4182e575"
      },
      "source": [
        "#### Fix data types"
      ],
      "id": "4182e575"
    },
    {
      "cell_type": "code",
      "execution_count": 73,
      "metadata": {
        "id": "62b6afb0"
      },
      "outputs": [],
      "source": [
        "# code here"
      ],
      "id": "62b6afb0"
    },
    {
      "cell_type": "markdown",
      "metadata": {
        "id": "45d4cc4b-2e8a-4ca1-abf8-fdde96350a42"
      },
      "source": [
        "##### Deal with the \"price\" column"
      ],
      "id": "45d4cc4b-2e8a-4ca1-abf8-fdde96350a42"
    },
    {
      "cell_type": "code",
      "execution_count": 74,
      "metadata": {
        "id": "66903b66"
      },
      "outputs": [],
      "source": [
        "# code here"
      ],
      "id": "66903b66"
    },
    {
      "cell_type": "markdown",
      "metadata": {
        "id": "bb163b82"
      },
      "source": [
        "#### Missing values"
      ],
      "id": "bb163b82"
    },
    {
      "cell_type": "code",
      "execution_count": 75,
      "metadata": {
        "id": "WIeohS8sdUNh"
      },
      "outputs": [],
      "source": [
        "# code here"
      ],
      "id": "WIeohS8sdUNh"
    },
    {
      "cell_type": "markdown",
      "metadata": {
        "id": "SxQTLd3xdKf7"
      },
      "source": [
        "#### Save & Download the clean products dataset"
      ],
      "id": "SxQTLd3xdKf7"
    },
    {
      "cell_type": "code",
      "execution_count": 76,
      "metadata": {
        "id": "HFr8DsYedWDb"
      },
      "outputs": [],
      "source": [
        "# code here"
      ],
      "id": "HFr8DsYedWDb"
    },
    {
      "cell_type": "markdown",
      "metadata": {
        "id": "50ce75f9"
      },
      "source": [
        "## Brands"
      ],
      "id": "50ce75f9"
    },
    {
      "cell_type": "markdown",
      "metadata": {
        "id": "a6608fa2"
      },
      "source": [
        "The brands csv looks fine, so we can work together with it. "
      ],
      "id": "a6608fa2"
    },
    {
      "cell_type": "code",
      "execution_count": 77,
      "metadata": {
        "id": "d2e1e436"
      },
      "outputs": [],
      "source": [
        "#brands.to_csv('brands_clean.csv', index=False)\n",
        "#files.download(\"brands_clean.csv\")"
      ],
      "id": "d2e1e436"
    }
  ],
  "metadata": {
    "colab": {
      "collapsed_sections": [],
      "name": "Copy of 3-data-cleaning-and-merges-challenges.ipynb",
      "provenance": [],
      "include_colab_link": true
    },
    "kernelspec": {
      "display_name": "Python 3",
      "language": "python",
      "name": "python3"
    },
    "language_info": {
      "codemirror_mode": {
        "name": "ipython",
        "version": 3
      },
      "file_extension": ".py",
      "mimetype": "text/x-python",
      "name": "python",
      "nbconvert_exporter": "python",
      "pygments_lexer": "ipython3",
      "version": "3.8.8"
    },
    "toc-showmarkdowntxt": false
  },
  "nbformat": 4,
  "nbformat_minor": 5
}