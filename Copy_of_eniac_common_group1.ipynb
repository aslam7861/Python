{
  "cells": [
    {
      "cell_type": "markdown",
      "metadata": {
        "id": "view-in-github",
        "colab_type": "text"
      },
      "source": [
        "<a href=\"https://colab.research.google.com/github/aslam7861/Python/blob/main/Copy_of_eniac_common_group1.ipynb\" target=\"_parent\"><img src=\"https://colab.research.google.com/assets/colab-badge.svg\" alt=\"Open In Colab\"/></a>"
      ]
    },
    {
      "cell_type": "markdown",
      "metadata": {
        "id": "2RhUrQ4niQDB"
      },
      "source": [
        "# Head"
      ]
    },
    {
      "cell_type": "code",
      "source": [
        "import pandas as pd\n",
        "import numpy as np\n",
        "import matplotlib.pyplot as plt\n",
        "import seaborn as sns"
      ],
      "metadata": {
        "id": "8dQC_rVmNcbJ"
      },
      "execution_count": 1,
      "outputs": []
    },
    {
      "cell_type": "code",
      "source": [
        "# do not display the number with scientific notation\n",
        "pd.options.display.float_format = '{:.2f}'.format"
      ],
      "metadata": {
        "id": "6UUUKePLNT2w"
      },
      "execution_count": null,
      "outputs": []
    },
    {
      "cell_type": "code",
      "source": [
        "# orderlines_cl.csv\n",
        "url = 'https://drive.google.com/file/d/1lrSr_vVbXN7QSVSScf68DpWwvCMclK5m/view?usp=sharing' \n",
        "path = 'https://drive.google.com/uc?export=download&id='+url.split('/')[-2]\n",
        "orderlines = pd.read_csv(path)\n",
        "\n",
        "# orders_cl.csv\n",
        "url = 'https://drive.google.com/file/d/1cGjJ9o3vtwjK0Sohyr3YVTccXfnTPijT/view?usp=sharing' \n",
        "path = 'https://drive.google.com/uc?export=download&id='+url.split('/')[-2]\n",
        "orders = pd.read_csv(path)\n",
        "\n",
        "# brands_cl.csv\n",
        "url = 'https://drive.google.com/file/d/1XGyabaa4mAkjixMk3XPgx_14OoSse3rs/view?usp=sharing' \n",
        "path = 'https://drive.google.com/uc?export=download&id='+url.split('/')[-2]\n",
        "brands = pd.read_csv(path)\n",
        "\n",
        "# products_cl.csv\n",
        "url = 'https://drive.google.com/file/d/1rHC8M-HG13FtVncImXBydgDtIHyCPH0g/view?usp=sharing' \n",
        "path = 'https://drive.google.com/uc?export=download&id='+url.split('/')[-2]\n",
        "products = pd.read_csv(path)\n"
      ],
      "metadata": {
        "id": "nQ5JhhhRNUd6"
      },
      "execution_count": 2,
      "outputs": []
    },
    {
      "cell_type": "markdown",
      "metadata": {
        "id": "h1cYLJUnuZtr"
      },
      "source": [
        "1) Categories-> App product, or with other beuatiful name....\n",
        "2)"
      ]
    },
    {
      "cell_type": "markdown",
      "metadata": {
        "id": "N9V7AY87rb2Y"
      },
      "source": [
        "* Clean the data(Pipeline)\n",
        "* Delete the data which are not complete probably....\n",
        "* is Revenue increasign with discounts??\n"
      ]
    },
    {
      "cell_type": "markdown",
      "metadata": {
        "id": "VnrRlmLds8pE"
      },
      "source": [
        "* Finding the black friday or some special day wherer the discounts are given a lot???\n",
        "* price - unit price to find discounts\n"
      ]
    },
    {
      "cell_type": "markdown",
      "source": [
        "# APple products"
      ],
      "metadata": {
        "id": "TEu93sjQC_r8"
      }
    },
    {
      "cell_type": "code",
      "source": [
        "def app_prod(x):\n",
        "  if (str(x).str.startswith('APP')|x.str.startswith('AP2')) == True:\n",
        "    return 'apple'\n",
        "  else: return 'non_apple'"
      ],
      "metadata": {
        "id": "JbIfSQ3rC_Yl"
      },
      "execution_count": 3,
      "outputs": []
    },
    {
      "cell_type": "code",
      "source": [
        ""
      ],
      "metadata": {
        "id": "sVnwkJ_QkC0B",
        "colab": {
          "base_uri": "https://localhost:8080/",
          "height": 164
        },
        "outputId": "ec2addc2-733e-4be5-ae5e-e40b89c1a178"
      },
      "execution_count": 4,
      "outputs": [
        {
          "output_type": "error",
          "ename": "NameError",
          "evalue": "ignored",
          "traceback": [
            "\u001b[0;31m---------------------------------------------------------------------------\u001b[0m",
            "\u001b[0;31mNameError\u001b[0m                                 Traceback (most recent call last)",
            "\u001b[0;32m<ipython-input-4-7402c5fa0c45>\u001b[0m in \u001b[0;36m<module>\u001b[0;34m()\u001b[0m\n\u001b[0;32m----> 1\u001b[0;31m \u001b[0mdf\u001b[0m\u001b[0;34m[\u001b[0m\u001b[0mdf\u001b[0m\u001b[0;34m[\u001b[0m\u001b[0;34m'sku'\u001b[0m\u001b[0;34m]\u001b[0m\u001b[0;34m.\u001b[0m\u001b[0mstr\u001b[0m\u001b[0;34m.\u001b[0m\u001b[0mstartswith\u001b[0m\u001b[0;34m(\u001b[0m\u001b[0;34m'APP'\u001b[0m\u001b[0;34m)\u001b[0m \u001b[0;34m|\u001b[0m\u001b[0mdf\u001b[0m\u001b[0;34m[\u001b[0m\u001b[0;34m'sku'\u001b[0m\u001b[0;34m]\u001b[0m\u001b[0;34m.\u001b[0m\u001b[0mstr\u001b[0m\u001b[0;34m.\u001b[0m\u001b[0mstartswith\u001b[0m\u001b[0;34m(\u001b[0m\u001b[0;34m'AP2'\u001b[0m\u001b[0;34m)\u001b[0m \u001b[0;34m]\u001b[0m\u001b[0;34m.\u001b[0m\u001b[0mshape\u001b[0m\u001b[0;34m,\u001b[0m \u001b[0mdf\u001b[0m\u001b[0;34m.\u001b[0m\u001b[0mshape\u001b[0m\u001b[0;34m\u001b[0m\u001b[0;34m\u001b[0m\u001b[0m\n\u001b[0m",
            "\u001b[0;31mNameError\u001b[0m: name 'df' is not defined"
          ]
        }
      ]
    },
    {
      "cell_type": "code",
      "source": [
        "# explore\n",
        "print(orderlines.info())\n",
        "print(orderlines.sample(3))\n",
        "print(orders.info())\n",
        "print(orders.sample(3))\n",
        "print(brands.info())\n",
        "print(brands.sample(3))\n",
        "print(products.info())\n",
        "print(products.sample(3))"
      ],
      "metadata": {
        "colab": {
          "base_uri": "https://localhost:8080/"
        },
        "id": "WS87kSvirF_q",
        "outputId": "1ec343e0-a387-44bd-8e58-a4fbb581f0a0"
      },
      "execution_count": null,
      "outputs": [
        {
          "output_type": "stream",
          "name": "stdout",
          "text": [
            "<class 'pandas.core.frame.DataFrame'>\n",
            "RangeIndex: 293743 entries, 0 to 293742\n",
            "Data columns (total 9 columns):\n",
            " #   Column            Non-Null Count   Dtype  \n",
            "---  ------            --------------   -----  \n",
            " 0   id                293743 non-null  int64  \n",
            " 1   id_order          293743 non-null  int64  \n",
            " 2   product_id        293743 non-null  int64  \n",
            " 3   product_quantity  293743 non-null  int64  \n",
            " 4   sku               293743 non-null  object \n",
            " 5   unit_price        293743 non-null  float64\n",
            " 6   date              293743 non-null  object \n",
            " 7   total_price       293743 non-null  float64\n",
            " 8   check_orders      293743 non-null  bool   \n",
            "dtypes: bool(1), float64(2), int64(4), object(2)\n",
            "memory usage: 18.2+ MB\n",
            "None\n",
            "             id  id_order  product_id  product_quantity      sku  unit_price  \\\n",
            "181547  1468469    452030           0                 1  APP2499      369.00   \n",
            "160137  1434448    437870           0                 1  WAC0172       70.39   \n",
            "268532  1609439    509602           0                 1  APP1922      169.00   \n",
            "\n",
            "                       date  total_price  check_orders  \n",
            "181547  2017-11-29 20:42:01       369.00          True  \n",
            "160137  2017-11-24 09:59:20        70.39          True  \n",
            "268532  2018-02-11 13:04:28       169.00          True  \n",
            "<class 'pandas.core.frame.DataFrame'>\n",
            "RangeIndex: 204691 entries, 0 to 204690\n",
            "Data columns (total 5 columns):\n",
            " #   Column        Non-Null Count   Dtype  \n",
            "---  ------        --------------   -----  \n",
            " 0   order_id      204691 non-null  int64  \n",
            " 1   created_date  204691 non-null  object \n",
            " 2   total_paid    204691 non-null  float64\n",
            " 3   state         204691 non-null  object \n",
            " 4   check_orders  204691 non-null  bool   \n",
            "dtypes: bool(1), float64(1), int64(1), object(2)\n",
            "memory usage: 6.4+ MB\n",
            "None\n",
            "        order_id         created_date  total_paid            state  \\\n",
            "23177     324853  2017-02-15 19:29:02        7.99  Shopping Basket   \n",
            "145478    460545  2017-12-12 10:21:01       24.99  Shopping Basket   \n",
            "91937     400532  2017-09-15 19:01:47      850.33  Shopping Basket   \n",
            "\n",
            "        check_orders  \n",
            "23177           True  \n",
            "145478          True  \n",
            "91937           True  \n",
            "<class 'pandas.core.frame.DataFrame'>\n",
            "RangeIndex: 187 entries, 0 to 186\n",
            "Data columns (total 2 columns):\n",
            " #   Column  Non-Null Count  Dtype \n",
            "---  ------  --------------  ----- \n",
            " 0   short   187 non-null    object\n",
            " 1   long    187 non-null    object\n",
            "dtypes: object(2)\n",
            "memory usage: 3.0+ KB\n",
            "None\n",
            "    short      long\n",
            "113   OLI    Olixar\n",
            "179   WIT  Withings\n",
            "80    LIB   Unknown\n",
            "<class 'pandas.core.frame.DataFrame'>\n",
            "RangeIndex: 10579 entries, 0 to 10578\n",
            "Data columns (total 6 columns):\n",
            " #   Column                Non-Null Count  Dtype  \n",
            "---  ------                --------------  -----  \n",
            " 0   sku                   10579 non-null  object \n",
            " 1   name                  10579 non-null  object \n",
            " 2   desc                  10572 non-null  object \n",
            " 3   price                 9992 non-null   float64\n",
            " 4   type                  10529 non-null  object \n",
            " 5   max_price_orderlines  342 non-null    float64\n",
            "dtypes: float64(2), object(4)\n",
            "memory usage: 496.0+ KB\n",
            "None\n",
            "          sku                                                        name  \\\n",
            "3557  PAC1345                  Synology DS216 Pack | Seagate 6TB IronWolf   \n",
            "9474  OTT0176                Otterbox Clearly Protected Gel Case iPhone X   \n",
            "3593  JMO0087  Just Mobile AutoHeal protector Crystal iPhone 6 / 6S Black   \n",
            "\n",
            "                                                                                desc  \\\n",
            "3557  Synology DS216 + Pack 6TB (2x3TB) IronWolf Seagate Hard Drives for Mac and PC.   \n",
            "9474                         a transparent cover piece and flexible TPU for iPhone X   \n",
            "3593                                  Screen Saver tempered glass for iPhone 6 / 6S.   \n",
            "\n",
            "      price      type  max_price_orderlines  \n",
            "3557 570.97  12175397                   NaN  \n",
            "9474  19.99  11865403                   NaN  \n",
            "3593  19.99  13555403                   NaN  \n"
          ]
        }
      ]
    },
    {
      "cell_type": "markdown",
      "metadata": {
        "id": "N52JE_fQirM1"
      },
      "source": [
        "# Final Code"
      ]
    },
    {
      "cell_type": "code",
      "source": [
        "# clean the dataframes\n",
        "orderlines = (\n",
        " orderlines\n",
        "     .assign(date = lambda df_: pd.to_datetime(df_['date']))\n",
        "     .drop(['product_id', 'check_orders'], axis=1)\n",
        "     )\n",
        "\n",
        "orders = (\n",
        " orders\n",
        "     .assign(created_date = lambda df_: pd.to_datetime(df_['created_date']))\n",
        "     .rename(columns={'created_date':'date','order_id' :'id_order' })\n",
        "     .drop('check_orders', axis=1)\n",
        "     )\n",
        "\n",
        "#products = (\n",
        "# products\n",
        "#     .drop(['type'], axis=1)\n",
        "#     )\n",
        "\n",
        "# %% merge orders and orderlines and calculate the discount\n",
        "df = (\n",
        "orderlines\n",
        "    .merge(orders, how=\"left\", on='id_order')\n",
        "    .drop('date_y', axis=1)\n",
        "    .rename(columns={'date_x':'date'})\n",
        "    .query('state == \"Completed\"')\n",
        "    .reset_index(drop=True)\n",
        "    .merge(products, how='left') \n",
        "    .assign(price = lambda df_: np.where(np.isnan(df_['price']),\n",
        "                                         df_['max_price_orderlines'], df_['price']))\n",
        "    .assign(discount = lambda df_: df_['price'] - df_['unit_price'],\n",
        "            discount_perc = lambda df_: round((df_['discount'] * 100) / df_['price'])\n",
        "            ))"
      ],
      "metadata": {
        "id": "a1VQD5NmVL4r",
        "colab": {
          "base_uri": "https://localhost:8080/",
          "height": 375
        },
        "outputId": "02a23ddb-9e08-40a9-a749-3e22774ac19d"
      },
      "execution_count": 112,
      "outputs": [
        {
          "output_type": "error",
          "ename": "KeyError",
          "evalue": "ignored",
          "traceback": [
            "\u001b[0;31m---------------------------------------------------------------------------\u001b[0m",
            "\u001b[0;31mKeyError\u001b[0m                                  Traceback (most recent call last)",
            "\u001b[0;32m<ipython-input-112-9a0f821e4dab>\u001b[0m in \u001b[0;36m<module>\u001b[0;34m()\u001b[0m\n\u001b[1;32m      3\u001b[0m  \u001b[0morderlines\u001b[0m\u001b[0;34m\u001b[0m\u001b[0;34m\u001b[0m\u001b[0m\n\u001b[1;32m      4\u001b[0m      \u001b[0;34m.\u001b[0m\u001b[0massign\u001b[0m\u001b[0;34m(\u001b[0m\u001b[0mdate\u001b[0m \u001b[0;34m=\u001b[0m \u001b[0;32mlambda\u001b[0m \u001b[0mdf_\u001b[0m\u001b[0;34m:\u001b[0m \u001b[0mpd\u001b[0m\u001b[0;34m.\u001b[0m\u001b[0mto_datetime\u001b[0m\u001b[0;34m(\u001b[0m\u001b[0mdf_\u001b[0m\u001b[0;34m[\u001b[0m\u001b[0;34m'date'\u001b[0m\u001b[0;34m]\u001b[0m\u001b[0;34m)\u001b[0m\u001b[0;34m)\u001b[0m\u001b[0;34m\u001b[0m\u001b[0;34m\u001b[0m\u001b[0m\n\u001b[0;32m----> 5\u001b[0;31m      \u001b[0;34m.\u001b[0m\u001b[0mdrop\u001b[0m\u001b[0;34m(\u001b[0m\u001b[0;34m[\u001b[0m\u001b[0;34m'product_id'\u001b[0m\u001b[0;34m,\u001b[0m \u001b[0;34m'check_orders'\u001b[0m\u001b[0;34m]\u001b[0m\u001b[0;34m,\u001b[0m \u001b[0maxis\u001b[0m\u001b[0;34m=\u001b[0m\u001b[0;36m1\u001b[0m\u001b[0;34m)\u001b[0m\u001b[0;34m\u001b[0m\u001b[0;34m\u001b[0m\u001b[0m\n\u001b[0m\u001b[1;32m      6\u001b[0m      )\n\u001b[1;32m      7\u001b[0m \u001b[0;34m\u001b[0m\u001b[0m\n",
            "\u001b[0;32m/usr/local/lib/python3.7/dist-packages/pandas/util/_decorators.py\u001b[0m in \u001b[0;36mwrapper\u001b[0;34m(*args, **kwargs)\u001b[0m\n\u001b[1;32m    309\u001b[0m                     \u001b[0mstacklevel\u001b[0m\u001b[0;34m=\u001b[0m\u001b[0mstacklevel\u001b[0m\u001b[0;34m,\u001b[0m\u001b[0;34m\u001b[0m\u001b[0;34m\u001b[0m\u001b[0m\n\u001b[1;32m    310\u001b[0m                 )\n\u001b[0;32m--> 311\u001b[0;31m             \u001b[0;32mreturn\u001b[0m \u001b[0mfunc\u001b[0m\u001b[0;34m(\u001b[0m\u001b[0;34m*\u001b[0m\u001b[0margs\u001b[0m\u001b[0;34m,\u001b[0m \u001b[0;34m**\u001b[0m\u001b[0mkwargs\u001b[0m\u001b[0;34m)\u001b[0m\u001b[0;34m\u001b[0m\u001b[0;34m\u001b[0m\u001b[0m\n\u001b[0m\u001b[1;32m    312\u001b[0m \u001b[0;34m\u001b[0m\u001b[0m\n\u001b[1;32m    313\u001b[0m         \u001b[0;32mreturn\u001b[0m \u001b[0mwrapper\u001b[0m\u001b[0;34m\u001b[0m\u001b[0;34m\u001b[0m\u001b[0m\n",
            "\u001b[0;32m/usr/local/lib/python3.7/dist-packages/pandas/core/frame.py\u001b[0m in \u001b[0;36mdrop\u001b[0;34m(self, labels, axis, index, columns, level, inplace, errors)\u001b[0m\n\u001b[1;32m   4911\u001b[0m             \u001b[0mlevel\u001b[0m\u001b[0;34m=\u001b[0m\u001b[0mlevel\u001b[0m\u001b[0;34m,\u001b[0m\u001b[0;34m\u001b[0m\u001b[0;34m\u001b[0m\u001b[0m\n\u001b[1;32m   4912\u001b[0m             \u001b[0minplace\u001b[0m\u001b[0;34m=\u001b[0m\u001b[0minplace\u001b[0m\u001b[0;34m,\u001b[0m\u001b[0;34m\u001b[0m\u001b[0;34m\u001b[0m\u001b[0m\n\u001b[0;32m-> 4913\u001b[0;31m             \u001b[0merrors\u001b[0m\u001b[0;34m=\u001b[0m\u001b[0merrors\u001b[0m\u001b[0;34m,\u001b[0m\u001b[0;34m\u001b[0m\u001b[0;34m\u001b[0m\u001b[0m\n\u001b[0m\u001b[1;32m   4914\u001b[0m         )\n\u001b[1;32m   4915\u001b[0m \u001b[0;34m\u001b[0m\u001b[0m\n",
            "\u001b[0;32m/usr/local/lib/python3.7/dist-packages/pandas/core/generic.py\u001b[0m in \u001b[0;36mdrop\u001b[0;34m(self, labels, axis, index, columns, level, inplace, errors)\u001b[0m\n\u001b[1;32m   4148\u001b[0m         \u001b[0;32mfor\u001b[0m \u001b[0maxis\u001b[0m\u001b[0;34m,\u001b[0m \u001b[0mlabels\u001b[0m \u001b[0;32min\u001b[0m \u001b[0maxes\u001b[0m\u001b[0;34m.\u001b[0m\u001b[0mitems\u001b[0m\u001b[0;34m(\u001b[0m\u001b[0;34m)\u001b[0m\u001b[0;34m:\u001b[0m\u001b[0;34m\u001b[0m\u001b[0;34m\u001b[0m\u001b[0m\n\u001b[1;32m   4149\u001b[0m             \u001b[0;32mif\u001b[0m \u001b[0mlabels\u001b[0m \u001b[0;32mis\u001b[0m \u001b[0;32mnot\u001b[0m \u001b[0;32mNone\u001b[0m\u001b[0;34m:\u001b[0m\u001b[0;34m\u001b[0m\u001b[0;34m\u001b[0m\u001b[0m\n\u001b[0;32m-> 4150\u001b[0;31m                 \u001b[0mobj\u001b[0m \u001b[0;34m=\u001b[0m \u001b[0mobj\u001b[0m\u001b[0;34m.\u001b[0m\u001b[0m_drop_axis\u001b[0m\u001b[0;34m(\u001b[0m\u001b[0mlabels\u001b[0m\u001b[0;34m,\u001b[0m \u001b[0maxis\u001b[0m\u001b[0;34m,\u001b[0m \u001b[0mlevel\u001b[0m\u001b[0;34m=\u001b[0m\u001b[0mlevel\u001b[0m\u001b[0;34m,\u001b[0m \u001b[0merrors\u001b[0m\u001b[0;34m=\u001b[0m\u001b[0merrors\u001b[0m\u001b[0;34m)\u001b[0m\u001b[0;34m\u001b[0m\u001b[0;34m\u001b[0m\u001b[0m\n\u001b[0m\u001b[1;32m   4151\u001b[0m \u001b[0;34m\u001b[0m\u001b[0m\n\u001b[1;32m   4152\u001b[0m         \u001b[0;32mif\u001b[0m \u001b[0minplace\u001b[0m\u001b[0;34m:\u001b[0m\u001b[0;34m\u001b[0m\u001b[0;34m\u001b[0m\u001b[0m\n",
            "\u001b[0;32m/usr/local/lib/python3.7/dist-packages/pandas/core/generic.py\u001b[0m in \u001b[0;36m_drop_axis\u001b[0;34m(self, labels, axis, level, errors)\u001b[0m\n\u001b[1;32m   4183\u001b[0m                 \u001b[0mnew_axis\u001b[0m \u001b[0;34m=\u001b[0m \u001b[0maxis\u001b[0m\u001b[0;34m.\u001b[0m\u001b[0mdrop\u001b[0m\u001b[0;34m(\u001b[0m\u001b[0mlabels\u001b[0m\u001b[0;34m,\u001b[0m \u001b[0mlevel\u001b[0m\u001b[0;34m=\u001b[0m\u001b[0mlevel\u001b[0m\u001b[0;34m,\u001b[0m \u001b[0merrors\u001b[0m\u001b[0;34m=\u001b[0m\u001b[0merrors\u001b[0m\u001b[0;34m)\u001b[0m\u001b[0;34m\u001b[0m\u001b[0;34m\u001b[0m\u001b[0m\n\u001b[1;32m   4184\u001b[0m             \u001b[0;32melse\u001b[0m\u001b[0;34m:\u001b[0m\u001b[0;34m\u001b[0m\u001b[0;34m\u001b[0m\u001b[0m\n\u001b[0;32m-> 4185\u001b[0;31m                 \u001b[0mnew_axis\u001b[0m \u001b[0;34m=\u001b[0m \u001b[0maxis\u001b[0m\u001b[0;34m.\u001b[0m\u001b[0mdrop\u001b[0m\u001b[0;34m(\u001b[0m\u001b[0mlabels\u001b[0m\u001b[0;34m,\u001b[0m \u001b[0merrors\u001b[0m\u001b[0;34m=\u001b[0m\u001b[0merrors\u001b[0m\u001b[0;34m)\u001b[0m\u001b[0;34m\u001b[0m\u001b[0;34m\u001b[0m\u001b[0m\n\u001b[0m\u001b[1;32m   4186\u001b[0m             \u001b[0mresult\u001b[0m \u001b[0;34m=\u001b[0m \u001b[0mself\u001b[0m\u001b[0;34m.\u001b[0m\u001b[0mreindex\u001b[0m\u001b[0;34m(\u001b[0m\u001b[0;34m**\u001b[0m\u001b[0;34m{\u001b[0m\u001b[0maxis_name\u001b[0m\u001b[0;34m:\u001b[0m \u001b[0mnew_axis\u001b[0m\u001b[0;34m}\u001b[0m\u001b[0;34m)\u001b[0m\u001b[0;34m\u001b[0m\u001b[0;34m\u001b[0m\u001b[0m\n\u001b[1;32m   4187\u001b[0m \u001b[0;34m\u001b[0m\u001b[0m\n",
            "\u001b[0;32m/usr/local/lib/python3.7/dist-packages/pandas/core/indexes/base.py\u001b[0m in \u001b[0;36mdrop\u001b[0;34m(self, labels, errors)\u001b[0m\n\u001b[1;32m   6015\u001b[0m         \u001b[0;32mif\u001b[0m \u001b[0mmask\u001b[0m\u001b[0;34m.\u001b[0m\u001b[0many\u001b[0m\u001b[0;34m(\u001b[0m\u001b[0;34m)\u001b[0m\u001b[0;34m:\u001b[0m\u001b[0;34m\u001b[0m\u001b[0;34m\u001b[0m\u001b[0m\n\u001b[1;32m   6016\u001b[0m             \u001b[0;32mif\u001b[0m \u001b[0merrors\u001b[0m \u001b[0;34m!=\u001b[0m \u001b[0;34m\"ignore\"\u001b[0m\u001b[0;34m:\u001b[0m\u001b[0;34m\u001b[0m\u001b[0;34m\u001b[0m\u001b[0m\n\u001b[0;32m-> 6017\u001b[0;31m                 \u001b[0;32mraise\u001b[0m \u001b[0mKeyError\u001b[0m\u001b[0;34m(\u001b[0m\u001b[0;34mf\"{labels[mask]} not found in axis\"\u001b[0m\u001b[0;34m)\u001b[0m\u001b[0;34m\u001b[0m\u001b[0;34m\u001b[0m\u001b[0m\n\u001b[0m\u001b[1;32m   6018\u001b[0m             \u001b[0mindexer\u001b[0m \u001b[0;34m=\u001b[0m \u001b[0mindexer\u001b[0m\u001b[0;34m[\u001b[0m\u001b[0;34m~\u001b[0m\u001b[0mmask\u001b[0m\u001b[0;34m]\u001b[0m\u001b[0;34m\u001b[0m\u001b[0;34m\u001b[0m\u001b[0m\n\u001b[1;32m   6019\u001b[0m         \u001b[0;32mreturn\u001b[0m \u001b[0mself\u001b[0m\u001b[0;34m.\u001b[0m\u001b[0mdelete\u001b[0m\u001b[0;34m(\u001b[0m\u001b[0mindexer\u001b[0m\u001b[0;34m)\u001b[0m\u001b[0;34m\u001b[0m\u001b[0;34m\u001b[0m\u001b[0m\n",
            "\u001b[0;31mKeyError\u001b[0m: \"['product_id' 'check_orders'] not found in axis\""
          ]
        }
      ]
    },
    {
      "cell_type": "markdown",
      "source": [
        "# Apple products vs All"
      ],
      "metadata": {
        "id": "ZL611fzrFAhj"
      }
    },
    {
      "cell_type": "code",
      "source": [
        "df[df['sku'].str.startswith('APP') |df['sku'].str.startswith('AP2') ].shape, df.shape\n"
      ],
      "metadata": {
        "id": "9cesiLuDfpQt",
        "outputId": "80e6b38d-188a-4e36-ab8e-7958bf93dc87",
        "colab": {
          "base_uri": "https://localhost:8080/"
        }
      },
      "execution_count": 6,
      "outputs": [
        {
          "output_type": "execute_result",
          "data": {
            "text/plain": [
              "((14006, 16), (62103, 16))"
            ]
          },
          "metadata": {},
          "execution_count": 6
        }
      ]
    },
    {
      "cell_type": "code",
      "execution_count": 113,
      "metadata": {
        "id": "7iXVndT3kuk5"
      },
      "outputs": [],
      "source": [
        "df['prod']= df['sku'].map(lambda x: 'apple' if ((x[:3]=='APP') | (x[:3]=='APP2')) else 'non_apple')"
      ]
    },
    {
      "cell_type": "code",
      "source": [
        ""
      ],
      "metadata": {
        "id": "tcjKqpNFE3Jg"
      },
      "execution_count": 12,
      "outputs": []
    },
    {
      "cell_type": "code",
      "source": [
        "df['year']=df['date'].dt.strftime('%Y')\n"
      ],
      "metadata": {
        "id": "Bb299BIBITj4"
      },
      "execution_count": 206,
      "outputs": []
    },
    {
      "cell_type": "code",
      "source": [
        "df['month']=df['date'].dt.strftime('%Y-%m')\n"
      ],
      "metadata": {
        "id": "ihPMGZPkQF9_"
      },
      "execution_count": 207,
      "outputs": []
    },
    {
      "cell_type": "code",
      "source": [
        ""
      ],
      "metadata": {
        "id": "ChgCTZUIbJg5"
      },
      "execution_count": null,
      "outputs": []
    },
    {
      "cell_type": "code",
      "source": [
        "dfapp=(df\n",
        ".groupby(['prod', 'year','month'])\n",
        ".agg({'id_order':'count', 'total_price':'sum', 'product_quantity':'sum', 'discount_perc':'mean'})\n",
        ".reset_index()\n",
        ")"
      ],
      "metadata": {
        "id": "jCdJAiWLLm67"
      },
      "execution_count": 208,
      "outputs": []
    },
    {
      "cell_type": "code",
      "source": [
        "qq=['Q1', 'Q2', 'Q3', 'Q4', 'Q5']"
      ],
      "metadata": {
        "id": "HqmWyrRSb5p2"
      },
      "execution_count": 209,
      "outputs": []
    },
    {
      "cell_type": "code",
      "source": [
        "dfapp.shape"
      ],
      "metadata": {
        "colab": {
          "base_uri": "https://localhost:8080/"
        },
        "id": "uvePRJO3ddyF",
        "outputId": "a44ae1e5-a11d-4e4e-bdf1-0e7ddcc1ba66"
      },
      "execution_count": 180,
      "outputs": [
        {
          "output_type": "execute_result",
          "data": {
            "text/plain": [
              "(30, 7)"
            ]
          },
          "metadata": {},
          "execution_count": 180
        }
      ]
    },
    {
      "cell_type": "code",
      "source": [
        "#ll =[int(a[-2:]) for a in dfapp['month']]\n",
        "#[a%4 for a in ll]\n",
        "def quarter(x):\n",
        "  if x=='2017-01':\n",
        "    return 'Q1'\n",
        "  if x=='2017-02':\n",
        "    return 'Q1'\n",
        "  if x=='2017-03':\n",
        "    return 'Q1'\n",
        "  if x=='2017-04':\n",
        "    return 'Q2'\n",
        "  if x=='2017-05':\n",
        "    return 'Q2'\n",
        "  if x=='2017-06':\n",
        "    return 'Q2'\n",
        "  if x=='2017-07':\n",
        "    return 'Q3'\n",
        "  if x=='2017-08':\n",
        "    return 'Q3'\n",
        "  if x=='2017-09':\n",
        "    return 'Q3'\n",
        "  if x=='2017-10':\n",
        "    return 'Q4'\n",
        "  if x=='2017-11':\n",
        "    return 'Q4'\n",
        "  if x=='2017-12':\n",
        "    return 'Q4'\n",
        "  if x=='2018-01':\n",
        "    return 'Q5'\n",
        "  if x=='2018-02':\n",
        "    return 'Q5'\n",
        "  if x=='2018-03':\n",
        "    return 'Q5'\n",
        "  return 'none'"
      ],
      "metadata": {
        "id": "ZgF79zZSdGBX"
      },
      "execution_count": 214,
      "outputs": []
    },
    {
      "cell_type": "code",
      "source": [
        "dfapp"
      ],
      "metadata": {
        "colab": {
          "base_uri": "https://localhost:8080/",
          "height": 37
        },
        "id": "XBkyiEYpcI-x",
        "outputId": "98436be5-81ba-436d-9530-e9609600cd32"
      },
      "execution_count": 203,
      "outputs": [
        {
          "output_type": "execute_result",
          "data": {
            "text/plain": [
              "'Q4'"
            ],
            "application/vnd.google.colaboratory.intrinsic+json": {
              "type": "string"
            }
          },
          "metadata": {},
          "execution_count": 203
        }
      ]
    },
    {
      "cell_type": "code",
      "source": [
        "dfapp['quarter']= dfapp['month'].map(lambda x: quarter(x))"
      ],
      "metadata": {
        "id": "5A_sduwuZpUE"
      },
      "execution_count": 218,
      "outputs": []
    },
    {
      "cell_type": "code",
      "source": [
        "dfapp"
      ],
      "metadata": {
        "colab": {
          "base_uri": "https://localhost:8080/",
          "height": 979
        },
        "id": "DtPg04FigXvr",
        "outputId": "9ab65ab7-24fa-45fe-ade4-5292c9bc7091"
      },
      "execution_count": 219,
      "outputs": [
        {
          "output_type": "execute_result",
          "data": {
            "text/plain": [
              "         prod  year    month  id_order  total_price  product_quantity  \\\n",
              "0       apple  2017  2017-01      1119    371691.97              1290   \n",
              "1       apple  2017  2017-02       421    202125.08               483   \n",
              "2       apple  2017  2017-03        49     40825.34                54   \n",
              "3       apple  2017  2017-04       360    186412.95               381   \n",
              "4       apple  2017  2017-05       447    247372.32               517   \n",
              "5       apple  2017  2017-06       432    306453.96               472   \n",
              "6       apple  2017  2017-07      1116    537330.68              1215   \n",
              "7       apple  2017  2017-08       603    314118.62               665   \n",
              "8       apple  2017  2017-09       670    451399.23               708   \n",
              "9       apple  2017  2017-10       895    500242.06               955   \n",
              "10      apple  2017  2017-11      2594   1382612.11              2782   \n",
              "11      apple  2017  2017-12      1639   1002665.86              1738   \n",
              "12      apple  2018  2018-01      1521   1017214.59              1593   \n",
              "13      apple  2018  2018-02       800    454496.05               850   \n",
              "14      apple  2018  2018-03       350    197712.55               400   \n",
              "15  non_apple  2017  2017-01      5695    803939.80              6431   \n",
              "16  non_apple  2017  2017-02      2502    404963.29              2825   \n",
              "17  non_apple  2017  2017-03       232     76184.05               260   \n",
              "18  non_apple  2017  2017-04      1862    300124.74              2119   \n",
              "19  non_apple  2017  2017-05      2102    383299.91              2482   \n",
              "20  non_apple  2017  2017-06      1747    382593.45              2069   \n",
              "21  non_apple  2017  2017-07      3601    580897.55              4048   \n",
              "22  non_apple  2017  2017-08      2538    405361.57              2829   \n",
              "23  non_apple  2017  2017-09      2275    406732.61              2551   \n",
              "24  non_apple  2017  2017-10      3255    573840.12              3673   \n",
              "25  non_apple  2017  2017-11      7369   1541484.91              8408   \n",
              "26  non_apple  2017  2017-12      5393    865745.33              5938   \n",
              "27  non_apple  2018  2018-01      5417    916557.41              6095   \n",
              "28  non_apple  2018  2018-02      3577    596150.79              4077   \n",
              "29  non_apple  2018  2018-03      1522    259155.92              1723   \n",
              "\n",
              "    discount_perc quater quarter  \n",
              "0       23.759782     Q1      Q1  \n",
              "1       15.467626     Q1      Q1  \n",
              "2       12.387755     Q1      Q1  \n",
              "3       11.375000     Q2      Q2  \n",
              "4        9.190157     Q2      Q2  \n",
              "5        8.122685     Q2      Q2  \n",
              "6       16.191031     Q3      Q3  \n",
              "7       15.026622     Q3      Q3  \n",
              "8       12.164425     Q3      Q3  \n",
              "9       12.060335     Q4      Q4  \n",
              "10      14.717978     Q4      Q4  \n",
              "11       8.856620     Q4      Q4  \n",
              "12      11.662722     Q5      Q5  \n",
              "13      11.005000     Q5      Q5  \n",
              "14      16.931429     Q5      Q5  \n",
              "15      24.114922     Q1      Q1  \n",
              "16      19.756452     Q1      Q1  \n",
              "17      18.535088     Q1      Q1  \n",
              "18      18.885965     Q2      Q2  \n",
              "19      16.434908     Q2      Q2  \n",
              "20      18.497957     Q2      Q2  \n",
              "21      26.442205     Q3      Q3  \n",
              "22      21.101210     Q3      Q3  \n",
              "23      21.735958     Q3      Q3  \n",
              "24      23.757950     Q4      Q4  \n",
              "25      23.770362     Q4      Q4  \n",
              "26      21.593605     Q4      Q4  \n",
              "27      23.311772     Q5      Q5  \n",
              "28      23.763570     Q5      Q5  \n",
              "29      21.833114     Q5      Q5  "
            ],
            "text/html": [
              "\n",
              "  <div id=\"df-f00cc067-d71c-46cb-881b-621637edd3ae\">\n",
              "    <div class=\"colab-df-container\">\n",
              "      <div>\n",
              "<style scoped>\n",
              "    .dataframe tbody tr th:only-of-type {\n",
              "        vertical-align: middle;\n",
              "    }\n",
              "\n",
              "    .dataframe tbody tr th {\n",
              "        vertical-align: top;\n",
              "    }\n",
              "\n",
              "    .dataframe thead th {\n",
              "        text-align: right;\n",
              "    }\n",
              "</style>\n",
              "<table border=\"1\" class=\"dataframe\">\n",
              "  <thead>\n",
              "    <tr style=\"text-align: right;\">\n",
              "      <th></th>\n",
              "      <th>prod</th>\n",
              "      <th>year</th>\n",
              "      <th>month</th>\n",
              "      <th>id_order</th>\n",
              "      <th>total_price</th>\n",
              "      <th>product_quantity</th>\n",
              "      <th>discount_perc</th>\n",
              "      <th>quater</th>\n",
              "      <th>quarter</th>\n",
              "    </tr>\n",
              "  </thead>\n",
              "  <tbody>\n",
              "    <tr>\n",
              "      <th>0</th>\n",
              "      <td>apple</td>\n",
              "      <td>2017</td>\n",
              "      <td>2017-01</td>\n",
              "      <td>1119</td>\n",
              "      <td>371691.97</td>\n",
              "      <td>1290</td>\n",
              "      <td>23.759782</td>\n",
              "      <td>Q1</td>\n",
              "      <td>Q1</td>\n",
              "    </tr>\n",
              "    <tr>\n",
              "      <th>1</th>\n",
              "      <td>apple</td>\n",
              "      <td>2017</td>\n",
              "      <td>2017-02</td>\n",
              "      <td>421</td>\n",
              "      <td>202125.08</td>\n",
              "      <td>483</td>\n",
              "      <td>15.467626</td>\n",
              "      <td>Q1</td>\n",
              "      <td>Q1</td>\n",
              "    </tr>\n",
              "    <tr>\n",
              "      <th>2</th>\n",
              "      <td>apple</td>\n",
              "      <td>2017</td>\n",
              "      <td>2017-03</td>\n",
              "      <td>49</td>\n",
              "      <td>40825.34</td>\n",
              "      <td>54</td>\n",
              "      <td>12.387755</td>\n",
              "      <td>Q1</td>\n",
              "      <td>Q1</td>\n",
              "    </tr>\n",
              "    <tr>\n",
              "      <th>3</th>\n",
              "      <td>apple</td>\n",
              "      <td>2017</td>\n",
              "      <td>2017-04</td>\n",
              "      <td>360</td>\n",
              "      <td>186412.95</td>\n",
              "      <td>381</td>\n",
              "      <td>11.375000</td>\n",
              "      <td>Q2</td>\n",
              "      <td>Q2</td>\n",
              "    </tr>\n",
              "    <tr>\n",
              "      <th>4</th>\n",
              "      <td>apple</td>\n",
              "      <td>2017</td>\n",
              "      <td>2017-05</td>\n",
              "      <td>447</td>\n",
              "      <td>247372.32</td>\n",
              "      <td>517</td>\n",
              "      <td>9.190157</td>\n",
              "      <td>Q2</td>\n",
              "      <td>Q2</td>\n",
              "    </tr>\n",
              "    <tr>\n",
              "      <th>5</th>\n",
              "      <td>apple</td>\n",
              "      <td>2017</td>\n",
              "      <td>2017-06</td>\n",
              "      <td>432</td>\n",
              "      <td>306453.96</td>\n",
              "      <td>472</td>\n",
              "      <td>8.122685</td>\n",
              "      <td>Q2</td>\n",
              "      <td>Q2</td>\n",
              "    </tr>\n",
              "    <tr>\n",
              "      <th>6</th>\n",
              "      <td>apple</td>\n",
              "      <td>2017</td>\n",
              "      <td>2017-07</td>\n",
              "      <td>1116</td>\n",
              "      <td>537330.68</td>\n",
              "      <td>1215</td>\n",
              "      <td>16.191031</td>\n",
              "      <td>Q3</td>\n",
              "      <td>Q3</td>\n",
              "    </tr>\n",
              "    <tr>\n",
              "      <th>7</th>\n",
              "      <td>apple</td>\n",
              "      <td>2017</td>\n",
              "      <td>2017-08</td>\n",
              "      <td>603</td>\n",
              "      <td>314118.62</td>\n",
              "      <td>665</td>\n",
              "      <td>15.026622</td>\n",
              "      <td>Q3</td>\n",
              "      <td>Q3</td>\n",
              "    </tr>\n",
              "    <tr>\n",
              "      <th>8</th>\n",
              "      <td>apple</td>\n",
              "      <td>2017</td>\n",
              "      <td>2017-09</td>\n",
              "      <td>670</td>\n",
              "      <td>451399.23</td>\n",
              "      <td>708</td>\n",
              "      <td>12.164425</td>\n",
              "      <td>Q3</td>\n",
              "      <td>Q3</td>\n",
              "    </tr>\n",
              "    <tr>\n",
              "      <th>9</th>\n",
              "      <td>apple</td>\n",
              "      <td>2017</td>\n",
              "      <td>2017-10</td>\n",
              "      <td>895</td>\n",
              "      <td>500242.06</td>\n",
              "      <td>955</td>\n",
              "      <td>12.060335</td>\n",
              "      <td>Q4</td>\n",
              "      <td>Q4</td>\n",
              "    </tr>\n",
              "    <tr>\n",
              "      <th>10</th>\n",
              "      <td>apple</td>\n",
              "      <td>2017</td>\n",
              "      <td>2017-11</td>\n",
              "      <td>2594</td>\n",
              "      <td>1382612.11</td>\n",
              "      <td>2782</td>\n",
              "      <td>14.717978</td>\n",
              "      <td>Q4</td>\n",
              "      <td>Q4</td>\n",
              "    </tr>\n",
              "    <tr>\n",
              "      <th>11</th>\n",
              "      <td>apple</td>\n",
              "      <td>2017</td>\n",
              "      <td>2017-12</td>\n",
              "      <td>1639</td>\n",
              "      <td>1002665.86</td>\n",
              "      <td>1738</td>\n",
              "      <td>8.856620</td>\n",
              "      <td>Q4</td>\n",
              "      <td>Q4</td>\n",
              "    </tr>\n",
              "    <tr>\n",
              "      <th>12</th>\n",
              "      <td>apple</td>\n",
              "      <td>2018</td>\n",
              "      <td>2018-01</td>\n",
              "      <td>1521</td>\n",
              "      <td>1017214.59</td>\n",
              "      <td>1593</td>\n",
              "      <td>11.662722</td>\n",
              "      <td>Q5</td>\n",
              "      <td>Q5</td>\n",
              "    </tr>\n",
              "    <tr>\n",
              "      <th>13</th>\n",
              "      <td>apple</td>\n",
              "      <td>2018</td>\n",
              "      <td>2018-02</td>\n",
              "      <td>800</td>\n",
              "      <td>454496.05</td>\n",
              "      <td>850</td>\n",
              "      <td>11.005000</td>\n",
              "      <td>Q5</td>\n",
              "      <td>Q5</td>\n",
              "    </tr>\n",
              "    <tr>\n",
              "      <th>14</th>\n",
              "      <td>apple</td>\n",
              "      <td>2018</td>\n",
              "      <td>2018-03</td>\n",
              "      <td>350</td>\n",
              "      <td>197712.55</td>\n",
              "      <td>400</td>\n",
              "      <td>16.931429</td>\n",
              "      <td>Q5</td>\n",
              "      <td>Q5</td>\n",
              "    </tr>\n",
              "    <tr>\n",
              "      <th>15</th>\n",
              "      <td>non_apple</td>\n",
              "      <td>2017</td>\n",
              "      <td>2017-01</td>\n",
              "      <td>5695</td>\n",
              "      <td>803939.80</td>\n",
              "      <td>6431</td>\n",
              "      <td>24.114922</td>\n",
              "      <td>Q1</td>\n",
              "      <td>Q1</td>\n",
              "    </tr>\n",
              "    <tr>\n",
              "      <th>16</th>\n",
              "      <td>non_apple</td>\n",
              "      <td>2017</td>\n",
              "      <td>2017-02</td>\n",
              "      <td>2502</td>\n",
              "      <td>404963.29</td>\n",
              "      <td>2825</td>\n",
              "      <td>19.756452</td>\n",
              "      <td>Q1</td>\n",
              "      <td>Q1</td>\n",
              "    </tr>\n",
              "    <tr>\n",
              "      <th>17</th>\n",
              "      <td>non_apple</td>\n",
              "      <td>2017</td>\n",
              "      <td>2017-03</td>\n",
              "      <td>232</td>\n",
              "      <td>76184.05</td>\n",
              "      <td>260</td>\n",
              "      <td>18.535088</td>\n",
              "      <td>Q1</td>\n",
              "      <td>Q1</td>\n",
              "    </tr>\n",
              "    <tr>\n",
              "      <th>18</th>\n",
              "      <td>non_apple</td>\n",
              "      <td>2017</td>\n",
              "      <td>2017-04</td>\n",
              "      <td>1862</td>\n",
              "      <td>300124.74</td>\n",
              "      <td>2119</td>\n",
              "      <td>18.885965</td>\n",
              "      <td>Q2</td>\n",
              "      <td>Q2</td>\n",
              "    </tr>\n",
              "    <tr>\n",
              "      <th>19</th>\n",
              "      <td>non_apple</td>\n",
              "      <td>2017</td>\n",
              "      <td>2017-05</td>\n",
              "      <td>2102</td>\n",
              "      <td>383299.91</td>\n",
              "      <td>2482</td>\n",
              "      <td>16.434908</td>\n",
              "      <td>Q2</td>\n",
              "      <td>Q2</td>\n",
              "    </tr>\n",
              "    <tr>\n",
              "      <th>20</th>\n",
              "      <td>non_apple</td>\n",
              "      <td>2017</td>\n",
              "      <td>2017-06</td>\n",
              "      <td>1747</td>\n",
              "      <td>382593.45</td>\n",
              "      <td>2069</td>\n",
              "      <td>18.497957</td>\n",
              "      <td>Q2</td>\n",
              "      <td>Q2</td>\n",
              "    </tr>\n",
              "    <tr>\n",
              "      <th>21</th>\n",
              "      <td>non_apple</td>\n",
              "      <td>2017</td>\n",
              "      <td>2017-07</td>\n",
              "      <td>3601</td>\n",
              "      <td>580897.55</td>\n",
              "      <td>4048</td>\n",
              "      <td>26.442205</td>\n",
              "      <td>Q3</td>\n",
              "      <td>Q3</td>\n",
              "    </tr>\n",
              "    <tr>\n",
              "      <th>22</th>\n",
              "      <td>non_apple</td>\n",
              "      <td>2017</td>\n",
              "      <td>2017-08</td>\n",
              "      <td>2538</td>\n",
              "      <td>405361.57</td>\n",
              "      <td>2829</td>\n",
              "      <td>21.101210</td>\n",
              "      <td>Q3</td>\n",
              "      <td>Q3</td>\n",
              "    </tr>\n",
              "    <tr>\n",
              "      <th>23</th>\n",
              "      <td>non_apple</td>\n",
              "      <td>2017</td>\n",
              "      <td>2017-09</td>\n",
              "      <td>2275</td>\n",
              "      <td>406732.61</td>\n",
              "      <td>2551</td>\n",
              "      <td>21.735958</td>\n",
              "      <td>Q3</td>\n",
              "      <td>Q3</td>\n",
              "    </tr>\n",
              "    <tr>\n",
              "      <th>24</th>\n",
              "      <td>non_apple</td>\n",
              "      <td>2017</td>\n",
              "      <td>2017-10</td>\n",
              "      <td>3255</td>\n",
              "      <td>573840.12</td>\n",
              "      <td>3673</td>\n",
              "      <td>23.757950</td>\n",
              "      <td>Q4</td>\n",
              "      <td>Q4</td>\n",
              "    </tr>\n",
              "    <tr>\n",
              "      <th>25</th>\n",
              "      <td>non_apple</td>\n",
              "      <td>2017</td>\n",
              "      <td>2017-11</td>\n",
              "      <td>7369</td>\n",
              "      <td>1541484.91</td>\n",
              "      <td>8408</td>\n",
              "      <td>23.770362</td>\n",
              "      <td>Q4</td>\n",
              "      <td>Q4</td>\n",
              "    </tr>\n",
              "    <tr>\n",
              "      <th>26</th>\n",
              "      <td>non_apple</td>\n",
              "      <td>2017</td>\n",
              "      <td>2017-12</td>\n",
              "      <td>5393</td>\n",
              "      <td>865745.33</td>\n",
              "      <td>5938</td>\n",
              "      <td>21.593605</td>\n",
              "      <td>Q4</td>\n",
              "      <td>Q4</td>\n",
              "    </tr>\n",
              "    <tr>\n",
              "      <th>27</th>\n",
              "      <td>non_apple</td>\n",
              "      <td>2018</td>\n",
              "      <td>2018-01</td>\n",
              "      <td>5417</td>\n",
              "      <td>916557.41</td>\n",
              "      <td>6095</td>\n",
              "      <td>23.311772</td>\n",
              "      <td>Q5</td>\n",
              "      <td>Q5</td>\n",
              "    </tr>\n",
              "    <tr>\n",
              "      <th>28</th>\n",
              "      <td>non_apple</td>\n",
              "      <td>2018</td>\n",
              "      <td>2018-02</td>\n",
              "      <td>3577</td>\n",
              "      <td>596150.79</td>\n",
              "      <td>4077</td>\n",
              "      <td>23.763570</td>\n",
              "      <td>Q5</td>\n",
              "      <td>Q5</td>\n",
              "    </tr>\n",
              "    <tr>\n",
              "      <th>29</th>\n",
              "      <td>non_apple</td>\n",
              "      <td>2018</td>\n",
              "      <td>2018-03</td>\n",
              "      <td>1522</td>\n",
              "      <td>259155.92</td>\n",
              "      <td>1723</td>\n",
              "      <td>21.833114</td>\n",
              "      <td>Q5</td>\n",
              "      <td>Q5</td>\n",
              "    </tr>\n",
              "  </tbody>\n",
              "</table>\n",
              "</div>\n",
              "      <button class=\"colab-df-convert\" onclick=\"convertToInteractive('df-f00cc067-d71c-46cb-881b-621637edd3ae')\"\n",
              "              title=\"Convert this dataframe to an interactive table.\"\n",
              "              style=\"display:none;\">\n",
              "        \n",
              "  <svg xmlns=\"http://www.w3.org/2000/svg\" height=\"24px\"viewBox=\"0 0 24 24\"\n",
              "       width=\"24px\">\n",
              "    <path d=\"M0 0h24v24H0V0z\" fill=\"none\"/>\n",
              "    <path d=\"M18.56 5.44l.94 2.06.94-2.06 2.06-.94-2.06-.94-.94-2.06-.94 2.06-2.06.94zm-11 1L8.5 8.5l.94-2.06 2.06-.94-2.06-.94L8.5 2.5l-.94 2.06-2.06.94zm10 10l.94 2.06.94-2.06 2.06-.94-2.06-.94-.94-2.06-.94 2.06-2.06.94z\"/><path d=\"M17.41 7.96l-1.37-1.37c-.4-.4-.92-.59-1.43-.59-.52 0-1.04.2-1.43.59L10.3 9.45l-7.72 7.72c-.78.78-.78 2.05 0 2.83L4 21.41c.39.39.9.59 1.41.59.51 0 1.02-.2 1.41-.59l7.78-7.78 2.81-2.81c.8-.78.8-2.07 0-2.86zM5.41 20L4 18.59l7.72-7.72 1.47 1.35L5.41 20z\"/>\n",
              "  </svg>\n",
              "      </button>\n",
              "      \n",
              "  <style>\n",
              "    .colab-df-container {\n",
              "      display:flex;\n",
              "      flex-wrap:wrap;\n",
              "      gap: 12px;\n",
              "    }\n",
              "\n",
              "    .colab-df-convert {\n",
              "      background-color: #E8F0FE;\n",
              "      border: none;\n",
              "      border-radius: 50%;\n",
              "      cursor: pointer;\n",
              "      display: none;\n",
              "      fill: #1967D2;\n",
              "      height: 32px;\n",
              "      padding: 0 0 0 0;\n",
              "      width: 32px;\n",
              "    }\n",
              "\n",
              "    .colab-df-convert:hover {\n",
              "      background-color: #E2EBFA;\n",
              "      box-shadow: 0px 1px 2px rgba(60, 64, 67, 0.3), 0px 1px 3px 1px rgba(60, 64, 67, 0.15);\n",
              "      fill: #174EA6;\n",
              "    }\n",
              "\n",
              "    [theme=dark] .colab-df-convert {\n",
              "      background-color: #3B4455;\n",
              "      fill: #D2E3FC;\n",
              "    }\n",
              "\n",
              "    [theme=dark] .colab-df-convert:hover {\n",
              "      background-color: #434B5C;\n",
              "      box-shadow: 0px 1px 3px 1px rgba(0, 0, 0, 0.15);\n",
              "      filter: drop-shadow(0px 1px 2px rgba(0, 0, 0, 0.3));\n",
              "      fill: #FFFFFF;\n",
              "    }\n",
              "  </style>\n",
              "\n",
              "      <script>\n",
              "        const buttonEl =\n",
              "          document.querySelector('#df-f00cc067-d71c-46cb-881b-621637edd3ae button.colab-df-convert');\n",
              "        buttonEl.style.display =\n",
              "          google.colab.kernel.accessAllowed ? 'block' : 'none';\n",
              "\n",
              "        async function convertToInteractive(key) {\n",
              "          const element = document.querySelector('#df-f00cc067-d71c-46cb-881b-621637edd3ae');\n",
              "          const dataTable =\n",
              "            await google.colab.kernel.invokeFunction('convertToInteractive',\n",
              "                                                     [key], {});\n",
              "          if (!dataTable) return;\n",
              "\n",
              "          const docLinkHtml = 'Like what you see? Visit the ' +\n",
              "            '<a target=\"_blank\" href=https://colab.research.google.com/notebooks/data_table.ipynb>data table notebook</a>'\n",
              "            + ' to learn more about interactive tables.';\n",
              "          element.innerHTML = '';\n",
              "          dataTable['output_type'] = 'display_data';\n",
              "          await google.colab.output.renderOutput(dataTable, element);\n",
              "          const docLink = document.createElement('div');\n",
              "          docLink.innerHTML = docLinkHtml;\n",
              "          element.appendChild(docLink);\n",
              "        }\n",
              "      </script>\n",
              "    </div>\n",
              "  </div>\n",
              "  "
            ]
          },
          "metadata": {},
          "execution_count": 219
        }
      ]
    },
    {
      "cell_type": "code",
      "source": [
        "dfs= dfapp.groupby(['quarter', 'prod']).agg({'id_order':'count', 'total_price':'sum', 'product_quantity':'sum', 'discount_perc':'mean' }).reset_index()"
      ],
      "metadata": {
        "id": "D0TltJUqhtFb"
      },
      "execution_count": 222,
      "outputs": []
    },
    {
      "cell_type": "code",
      "source": [
        "dfs"
      ],
      "metadata": {
        "colab": {
          "base_uri": "https://localhost:8080/",
          "height": 359
        },
        "id": "NB2eSvTPiLT1",
        "outputId": "59abe5a8-5509-45a8-ce9c-9fd248788f74"
      },
      "execution_count": 223,
      "outputs": [
        {
          "output_type": "execute_result",
          "data": {
            "text/plain": [
              "  quarter       prod  id_order  total_price  product_quantity  discount_perc\n",
              "0      Q1      apple         3    614642.39              1827      17.205054\n",
              "1      Q1  non_apple         3   1285087.14              9516      20.802154\n",
              "2      Q2      apple         3    740239.23              1370       9.562614\n",
              "3      Q2  non_apple         3   1066018.10              6670      17.939610\n",
              "4      Q3      apple         3   1302848.53              2588      14.460693\n",
              "5      Q3  non_apple         3   1392991.73              9428      23.093124\n",
              "6      Q4      apple         3   2885520.03              5475      11.878311\n",
              "7      Q4  non_apple         3   2981070.36             18019      23.040639\n",
              "8      Q5      apple         3   1669423.19              2843      13.199717\n",
              "9      Q5  non_apple         3   1771864.12             11895      22.969486"
            ],
            "text/html": [
              "\n",
              "  <div id=\"df-4dfd67ff-d26f-43b7-bff6-9525aa32cd37\">\n",
              "    <div class=\"colab-df-container\">\n",
              "      <div>\n",
              "<style scoped>\n",
              "    .dataframe tbody tr th:only-of-type {\n",
              "        vertical-align: middle;\n",
              "    }\n",
              "\n",
              "    .dataframe tbody tr th {\n",
              "        vertical-align: top;\n",
              "    }\n",
              "\n",
              "    .dataframe thead th {\n",
              "        text-align: right;\n",
              "    }\n",
              "</style>\n",
              "<table border=\"1\" class=\"dataframe\">\n",
              "  <thead>\n",
              "    <tr style=\"text-align: right;\">\n",
              "      <th></th>\n",
              "      <th>quarter</th>\n",
              "      <th>prod</th>\n",
              "      <th>id_order</th>\n",
              "      <th>total_price</th>\n",
              "      <th>product_quantity</th>\n",
              "      <th>discount_perc</th>\n",
              "    </tr>\n",
              "  </thead>\n",
              "  <tbody>\n",
              "    <tr>\n",
              "      <th>0</th>\n",
              "      <td>Q1</td>\n",
              "      <td>apple</td>\n",
              "      <td>3</td>\n",
              "      <td>614642.39</td>\n",
              "      <td>1827</td>\n",
              "      <td>17.205054</td>\n",
              "    </tr>\n",
              "    <tr>\n",
              "      <th>1</th>\n",
              "      <td>Q1</td>\n",
              "      <td>non_apple</td>\n",
              "      <td>3</td>\n",
              "      <td>1285087.14</td>\n",
              "      <td>9516</td>\n",
              "      <td>20.802154</td>\n",
              "    </tr>\n",
              "    <tr>\n",
              "      <th>2</th>\n",
              "      <td>Q2</td>\n",
              "      <td>apple</td>\n",
              "      <td>3</td>\n",
              "      <td>740239.23</td>\n",
              "      <td>1370</td>\n",
              "      <td>9.562614</td>\n",
              "    </tr>\n",
              "    <tr>\n",
              "      <th>3</th>\n",
              "      <td>Q2</td>\n",
              "      <td>non_apple</td>\n",
              "      <td>3</td>\n",
              "      <td>1066018.10</td>\n",
              "      <td>6670</td>\n",
              "      <td>17.939610</td>\n",
              "    </tr>\n",
              "    <tr>\n",
              "      <th>4</th>\n",
              "      <td>Q3</td>\n",
              "      <td>apple</td>\n",
              "      <td>3</td>\n",
              "      <td>1302848.53</td>\n",
              "      <td>2588</td>\n",
              "      <td>14.460693</td>\n",
              "    </tr>\n",
              "    <tr>\n",
              "      <th>5</th>\n",
              "      <td>Q3</td>\n",
              "      <td>non_apple</td>\n",
              "      <td>3</td>\n",
              "      <td>1392991.73</td>\n",
              "      <td>9428</td>\n",
              "      <td>23.093124</td>\n",
              "    </tr>\n",
              "    <tr>\n",
              "      <th>6</th>\n",
              "      <td>Q4</td>\n",
              "      <td>apple</td>\n",
              "      <td>3</td>\n",
              "      <td>2885520.03</td>\n",
              "      <td>5475</td>\n",
              "      <td>11.878311</td>\n",
              "    </tr>\n",
              "    <tr>\n",
              "      <th>7</th>\n",
              "      <td>Q4</td>\n",
              "      <td>non_apple</td>\n",
              "      <td>3</td>\n",
              "      <td>2981070.36</td>\n",
              "      <td>18019</td>\n",
              "      <td>23.040639</td>\n",
              "    </tr>\n",
              "    <tr>\n",
              "      <th>8</th>\n",
              "      <td>Q5</td>\n",
              "      <td>apple</td>\n",
              "      <td>3</td>\n",
              "      <td>1669423.19</td>\n",
              "      <td>2843</td>\n",
              "      <td>13.199717</td>\n",
              "    </tr>\n",
              "    <tr>\n",
              "      <th>9</th>\n",
              "      <td>Q5</td>\n",
              "      <td>non_apple</td>\n",
              "      <td>3</td>\n",
              "      <td>1771864.12</td>\n",
              "      <td>11895</td>\n",
              "      <td>22.969486</td>\n",
              "    </tr>\n",
              "  </tbody>\n",
              "</table>\n",
              "</div>\n",
              "      <button class=\"colab-df-convert\" onclick=\"convertToInteractive('df-4dfd67ff-d26f-43b7-bff6-9525aa32cd37')\"\n",
              "              title=\"Convert this dataframe to an interactive table.\"\n",
              "              style=\"display:none;\">\n",
              "        \n",
              "  <svg xmlns=\"http://www.w3.org/2000/svg\" height=\"24px\"viewBox=\"0 0 24 24\"\n",
              "       width=\"24px\">\n",
              "    <path d=\"M0 0h24v24H0V0z\" fill=\"none\"/>\n",
              "    <path d=\"M18.56 5.44l.94 2.06.94-2.06 2.06-.94-2.06-.94-.94-2.06-.94 2.06-2.06.94zm-11 1L8.5 8.5l.94-2.06 2.06-.94-2.06-.94L8.5 2.5l-.94 2.06-2.06.94zm10 10l.94 2.06.94-2.06 2.06-.94-2.06-.94-.94-2.06-.94 2.06-2.06.94z\"/><path d=\"M17.41 7.96l-1.37-1.37c-.4-.4-.92-.59-1.43-.59-.52 0-1.04.2-1.43.59L10.3 9.45l-7.72 7.72c-.78.78-.78 2.05 0 2.83L4 21.41c.39.39.9.59 1.41.59.51 0 1.02-.2 1.41-.59l7.78-7.78 2.81-2.81c.8-.78.8-2.07 0-2.86zM5.41 20L4 18.59l7.72-7.72 1.47 1.35L5.41 20z\"/>\n",
              "  </svg>\n",
              "      </button>\n",
              "      \n",
              "  <style>\n",
              "    .colab-df-container {\n",
              "      display:flex;\n",
              "      flex-wrap:wrap;\n",
              "      gap: 12px;\n",
              "    }\n",
              "\n",
              "    .colab-df-convert {\n",
              "      background-color: #E8F0FE;\n",
              "      border: none;\n",
              "      border-radius: 50%;\n",
              "      cursor: pointer;\n",
              "      display: none;\n",
              "      fill: #1967D2;\n",
              "      height: 32px;\n",
              "      padding: 0 0 0 0;\n",
              "      width: 32px;\n",
              "    }\n",
              "\n",
              "    .colab-df-convert:hover {\n",
              "      background-color: #E2EBFA;\n",
              "      box-shadow: 0px 1px 2px rgba(60, 64, 67, 0.3), 0px 1px 3px 1px rgba(60, 64, 67, 0.15);\n",
              "      fill: #174EA6;\n",
              "    }\n",
              "\n",
              "    [theme=dark] .colab-df-convert {\n",
              "      background-color: #3B4455;\n",
              "      fill: #D2E3FC;\n",
              "    }\n",
              "\n",
              "    [theme=dark] .colab-df-convert:hover {\n",
              "      background-color: #434B5C;\n",
              "      box-shadow: 0px 1px 3px 1px rgba(0, 0, 0, 0.15);\n",
              "      filter: drop-shadow(0px 1px 2px rgba(0, 0, 0, 0.3));\n",
              "      fill: #FFFFFF;\n",
              "    }\n",
              "  </style>\n",
              "\n",
              "      <script>\n",
              "        const buttonEl =\n",
              "          document.querySelector('#df-4dfd67ff-d26f-43b7-bff6-9525aa32cd37 button.colab-df-convert');\n",
              "        buttonEl.style.display =\n",
              "          google.colab.kernel.accessAllowed ? 'block' : 'none';\n",
              "\n",
              "        async function convertToInteractive(key) {\n",
              "          const element = document.querySelector('#df-4dfd67ff-d26f-43b7-bff6-9525aa32cd37');\n",
              "          const dataTable =\n",
              "            await google.colab.kernel.invokeFunction('convertToInteractive',\n",
              "                                                     [key], {});\n",
              "          if (!dataTable) return;\n",
              "\n",
              "          const docLinkHtml = 'Like what you see? Visit the ' +\n",
              "            '<a target=\"_blank\" href=https://colab.research.google.com/notebooks/data_table.ipynb>data table notebook</a>'\n",
              "            + ' to learn more about interactive tables.';\n",
              "          element.innerHTML = '';\n",
              "          dataTable['output_type'] = 'display_data';\n",
              "          await google.colab.output.renderOutput(dataTable, element);\n",
              "          const docLink = document.createElement('div');\n",
              "          docLink.innerHTML = docLinkHtml;\n",
              "          element.appendChild(docLink);\n",
              "        }\n",
              "      </script>\n",
              "    </div>\n",
              "  </div>\n",
              "  "
            ]
          },
          "metadata": {},
          "execution_count": 223
        }
      ]
    },
    {
      "cell_type": "markdown",
      "source": [
        ""
      ],
      "metadata": {
        "id": "KaPYlNeofP2w"
      }
    },
    {
      "cell_type": "code",
      "source": [
        "df['quarter']= df['month'].map(lambda x: quarter(x))"
      ],
      "metadata": {
        "id": "-e-jSxKDiovm"
      },
      "execution_count": 225,
      "outputs": []
    },
    {
      "cell_type": "code",
      "source": [
        "dfss= df.groupby(['quarter', 'prod']).agg({'id_order':'count', 'total_price':'sum', 'product_quantity':'sum', 'discount_perc':'mean' }).reset_index()"
      ],
      "metadata": {
        "id": "vzC5ia6ZiwrE"
      },
      "execution_count": 226,
      "outputs": []
    },
    {
      "cell_type": "code",
      "source": [
        "plt.subplots(figsize=(12, 8))\n",
        "sns.barplot(data= dfss, x='quarter', y='total_price', hue='prod')\n",
        "plt.xlabel('Quarter')\n",
        "plt.ylabel('total revenue')\n",
        "plt.title('Quarterly revenue and products')\n",
        "sns.despine(top=True, right=True, left=True, bottom=True)\n"
      ],
      "metadata": {
        "colab": {
          "base_uri": "https://localhost:8080/",
          "height": 513
        },
        "id": "p3TZa_L1iZIC",
        "outputId": "18283758-59df-4d2b-9dc1-f3a2796ffd40"
      },
      "execution_count": 230,
      "outputs": [
        {
          "output_type": "display_data",
          "data": {
            "text/plain": [
              "<Figure size 864x576 with 1 Axes>"
            ],
            "image/png": "[encoded data removed]"
          },
          "metadata": {
            "needs_background": "light"
          }
        }
      ]
    },
    {
      "cell_type": "code",
      "source": [
        ""
      ],
      "metadata": {
        "id": "7LDpGWCLiYvJ"
      },
      "execution_count": null,
      "outputs": []
    },
    {
      "cell_type": "code",
      "source": [
        "dfapp.head(2)"
      ],
      "metadata": {
        "colab": {
          "base_uri": "https://localhost:8080/",
          "height": 111
        },
        "id": "spzdo-fwfEai",
        "outputId": "09868bc2-3b3d-4298-9611-1c00ebff4999"
      },
      "execution_count": 197,
      "outputs": [
        {
          "output_type": "execute_result",
          "data": {
            "text/plain": [
              "    prod  year    month  id_order  total_price  product_quantity  \\\n",
              "0  apple  2017  2017-01      1119    371691.97              1290   \n",
              "1  apple  2017  2017-02       421    202125.08               483   \n",
              "\n",
              "   discount_perc quater  \n",
              "0      23.759782    nan  \n",
              "1      15.467626    nan  "
            ],
            "text/html": [
              "\n",
              "  <div id=\"df-a5257260-2ddb-43e4-a8b8-efcaf37f5f5d\">\n",
              "    <div class=\"colab-df-container\">\n",
              "      <div>\n",
              "<style scoped>\n",
              "    .dataframe tbody tr th:only-of-type {\n",
              "        vertical-align: middle;\n",
              "    }\n",
              "\n",
              "    .dataframe tbody tr th {\n",
              "        vertical-align: top;\n",
              "    }\n",
              "\n",
              "    .dataframe thead th {\n",
              "        text-align: right;\n",
              "    }\n",
              "</style>\n",
              "<table border=\"1\" class=\"dataframe\">\n",
              "  <thead>\n",
              "    <tr style=\"text-align: right;\">\n",
              "      <th></th>\n",
              "      <th>prod</th>\n",
              "      <th>year</th>\n",
              "      <th>month</th>\n",
              "      <th>id_order</th>\n",
              "      <th>total_price</th>\n",
              "      <th>product_quantity</th>\n",
              "      <th>discount_perc</th>\n",
              "      <th>quater</th>\n",
              "    </tr>\n",
              "  </thead>\n",
              "  <tbody>\n",
              "    <tr>\n",
              "      <th>0</th>\n",
              "      <td>apple</td>\n",
              "      <td>2017</td>\n",
              "      <td>2017-01</td>\n",
              "      <td>1119</td>\n",
              "      <td>371691.97</td>\n",
              "      <td>1290</td>\n",
              "      <td>23.759782</td>\n",
              "      <td>nan</td>\n",
              "    </tr>\n",
              "    <tr>\n",
              "      <th>1</th>\n",
              "      <td>apple</td>\n",
              "      <td>2017</td>\n",
              "      <td>2017-02</td>\n",
              "      <td>421</td>\n",
              "      <td>202125.08</td>\n",
              "      <td>483</td>\n",
              "      <td>15.467626</td>\n",
              "      <td>nan</td>\n",
              "    </tr>\n",
              "  </tbody>\n",
              "</table>\n",
              "</div>\n",
              "      <button class=\"colab-df-convert\" onclick=\"convertToInteractive('df-a5257260-2ddb-43e4-a8b8-efcaf37f5f5d')\"\n",
              "              title=\"Convert this dataframe to an interactive table.\"\n",
              "              style=\"display:none;\">\n",
              "        \n",
              "  <svg xmlns=\"http://www.w3.org/2000/svg\" height=\"24px\"viewBox=\"0 0 24 24\"\n",
              "       width=\"24px\">\n",
              "    <path d=\"M0 0h24v24H0V0z\" fill=\"none\"/>\n",
              "    <path d=\"M18.56 5.44l.94 2.06.94-2.06 2.06-.94-2.06-.94-.94-2.06-.94 2.06-2.06.94zm-11 1L8.5 8.5l.94-2.06 2.06-.94-2.06-.94L8.5 2.5l-.94 2.06-2.06.94zm10 10l.94 2.06.94-2.06 2.06-.94-2.06-.94-.94-2.06-.94 2.06-2.06.94z\"/><path d=\"M17.41 7.96l-1.37-1.37c-.4-.4-.92-.59-1.43-.59-.52 0-1.04.2-1.43.59L10.3 9.45l-7.72 7.72c-.78.78-.78 2.05 0 2.83L4 21.41c.39.39.9.59 1.41.59.51 0 1.02-.2 1.41-.59l7.78-7.78 2.81-2.81c.8-.78.8-2.07 0-2.86zM5.41 20L4 18.59l7.72-7.72 1.47 1.35L5.41 20z\"/>\n",
              "  </svg>\n",
              "      </button>\n",
              "      \n",
              "  <style>\n",
              "    .colab-df-container {\n",
              "      display:flex;\n",
              "      flex-wrap:wrap;\n",
              "      gap: 12px;\n",
              "    }\n",
              "\n",
              "    .colab-df-convert {\n",
              "      background-color: #E8F0FE;\n",
              "      border: none;\n",
              "      border-radius: 50%;\n",
              "      cursor: pointer;\n",
              "      display: none;\n",
              "      fill: #1967D2;\n",
              "      height: 32px;\n",
              "      padding: 0 0 0 0;\n",
              "      width: 32px;\n",
              "    }\n",
              "\n",
              "    .colab-df-convert:hover {\n",
              "      background-color: #E2EBFA;\n",
              "      box-shadow: 0px 1px 2px rgba(60, 64, 67, 0.3), 0px 1px 3px 1px rgba(60, 64, 67, 0.15);\n",
              "      fill: #174EA6;\n",
              "    }\n",
              "\n",
              "    [theme=dark] .colab-df-convert {\n",
              "      background-color: #3B4455;\n",
              "      fill: #D2E3FC;\n",
              "    }\n",
              "\n",
              "    [theme=dark] .colab-df-convert:hover {\n",
              "      background-color: #434B5C;\n",
              "      box-shadow: 0px 1px 3px 1px rgba(0, 0, 0, 0.15);\n",
              "      filter: drop-shadow(0px 1px 2px rgba(0, 0, 0, 0.3));\n",
              "      fill: #FFFFFF;\n",
              "    }\n",
              "  </style>\n",
              "\n",
              "      <script>\n",
              "        const buttonEl =\n",
              "          document.querySelector('#df-a5257260-2ddb-43e4-a8b8-efcaf37f5f5d button.colab-df-convert');\n",
              "        buttonEl.style.display =\n",
              "          google.colab.kernel.accessAllowed ? 'block' : 'none';\n",
              "\n",
              "        async function convertToInteractive(key) {\n",
              "          const element = document.querySelector('#df-a5257260-2ddb-43e4-a8b8-efcaf37f5f5d');\n",
              "          const dataTable =\n",
              "            await google.colab.kernel.invokeFunction('convertToInteractive',\n",
              "                                                     [key], {});\n",
              "          if (!dataTable) return;\n",
              "\n",
              "          const docLinkHtml = 'Like what you see? Visit the ' +\n",
              "            '<a target=\"_blank\" href=https://colab.research.google.com/notebooks/data_table.ipynb>data table notebook</a>'\n",
              "            + ' to learn more about interactive tables.';\n",
              "          element.innerHTML = '';\n",
              "          dataTable['output_type'] = 'display_data';\n",
              "          await google.colab.output.renderOutput(dataTable, element);\n",
              "          const docLink = document.createElement('div');\n",
              "          docLink.innerHTML = docLinkHtml;\n",
              "          element.appendChild(docLink);\n",
              "        }\n",
              "      </script>\n",
              "    </div>\n",
              "  </div>\n",
              "  "
            ]
          },
          "metadata": {},
          "execution_count": 197
        }
      ]
    },
    {
      "cell_type": "code",
      "source": [
        "plt.subplots(figsize=(12, 8))\n",
        "sns.barplot(data= dfapp, x='month', y='total_price', hue='prod')\n",
        "\n"
      ],
      "metadata": {
        "colab": {
          "base_uri": "https://localhost:8080/",
          "height": 525
        },
        "id": "ovkfqgqxOT88",
        "outputId": "09d4c05d-cde0-4ea1-e7d2-365df399943c"
      },
      "execution_count": 153,
      "outputs": [
        {
          "output_type": "execute_result",
          "data": {
            "text/plain": [
              "<matplotlib.axes._subplots.AxesSubplot at 0x7f2f7037b950>"
            ]
          },
          "metadata": {},
          "execution_count": 153
        },
        {
          "output_type": "display_data",
          "data": {
            "text/plain": [
              "<Figure size 864x576 with 1 Axes>"
            ],
            "image/png": "[encoded data removed]"
          },
          "metadata": {
            "needs_background": "light"
          }
        }
      ]
    },
    {
      "cell_type": "code",
      "source": [
        "df['year']=df['year'].map(lambda x: int(x))"
      ],
      "metadata": {
        "id": "i_VZbA4bTYv7"
      },
      "execution_count": 118,
      "outputs": []
    },
    {
      "cell_type": "code",
      "source": [
        "dfs = (df\n",
        "  .assign(year = df['date'].dt.strftime('%y-%m'), month = df['date'].dt.strftime('%m')) # create year and month\n",
        "  .groupby(['prod', 'year', 'month']).agg({'discount': 'sum', 'total_paid': 'sum', 'discount_perc':'mean'})\n",
        "  .sort_values(by=['year', 'month'], ascending=True).reset_index()\n",
        ")\n",
        "#discoplot['discount'] = discoplot['discount']*3 # boost discount line\n",
        "# print(discoplot)\n",
        "\n",
        "# plot by seaborn\n",
        "\n",
        "\n",
        "plt.subplots(figsize=(10, 8))\n",
        "sns.barplot(data=discoplot, x='year', y='total_paid', hue ='prod')\n",
        "x_values = range(len(dfs['month']))\n",
        "plt.plot(x_values, data=dfs['discount'])\n",
        "plt.plot(x_values, dfs['total_paid'])\n",
        "#plt.xlabel('Time')\n",
        "#plt.ylabel('Revenue')\n",
        "plt.show()"
      ],
      "metadata": {
        "colab": {
          "base_uri": "https://localhost:8080/",
          "height": 702
        },
        "id": "OYbSVLL1T7Xg",
        "outputId": "8a4e88dd-23e6-4ef0-9000-400dec946def"
      },
      "execution_count": 141,
      "outputs": [
        {
          "output_type": "error",
          "ename": "NameError",
          "evalue": "ignored",
          "traceback": [
            "\u001b[0;31m---------------------------------------------------------------------------\u001b[0m",
            "\u001b[0;31mNameError\u001b[0m                                 Traceback (most recent call last)",
            "\u001b[0;32m<ipython-input-141-7cdd2fc02855>\u001b[0m in \u001b[0;36m<module>\u001b[0;34m()\u001b[0m\n\u001b[1;32m     11\u001b[0m \u001b[0;34m\u001b[0m\u001b[0m\n\u001b[1;32m     12\u001b[0m \u001b[0mplt\u001b[0m\u001b[0;34m.\u001b[0m\u001b[0msubplots\u001b[0m\u001b[0;34m(\u001b[0m\u001b[0mfigsize\u001b[0m\u001b[0;34m=\u001b[0m\u001b[0;34m(\u001b[0m\u001b[0;36m10\u001b[0m\u001b[0;34m,\u001b[0m \u001b[0;36m8\u001b[0m\u001b[0;34m)\u001b[0m\u001b[0;34m)\u001b[0m\u001b[0;34m\u001b[0m\u001b[0;34m\u001b[0m\u001b[0m\n\u001b[0;32m---> 13\u001b[0;31m \u001b[0msns\u001b[0m\u001b[0;34m.\u001b[0m\u001b[0mbarplot\u001b[0m\u001b[0;34m(\u001b[0m\u001b[0mdata\u001b[0m\u001b[0;34m=\u001b[0m\u001b[0mdiscoplot\u001b[0m\u001b[0;34m,\u001b[0m \u001b[0mx\u001b[0m\u001b[0;34m=\u001b[0m\u001b[0;34m'year'\u001b[0m\u001b[0;34m,\u001b[0m \u001b[0my\u001b[0m\u001b[0;34m=\u001b[0m\u001b[0;34m'total_paid'\u001b[0m\u001b[0;34m,\u001b[0m \u001b[0mhue\u001b[0m \u001b[0;34m=\u001b[0m\u001b[0;34m'prod'\u001b[0m\u001b[0;34m)\u001b[0m\u001b[0;34m\u001b[0m\u001b[0;34m\u001b[0m\u001b[0m\n\u001b[0m\u001b[1;32m     14\u001b[0m \u001b[0mx_values\u001b[0m \u001b[0;34m=\u001b[0m \u001b[0mrange\u001b[0m\u001b[0;34m(\u001b[0m\u001b[0mlen\u001b[0m\u001b[0;34m(\u001b[0m\u001b[0mdfs\u001b[0m\u001b[0;34m[\u001b[0m\u001b[0;34m'month'\u001b[0m\u001b[0;34m]\u001b[0m\u001b[0;34m)\u001b[0m\u001b[0;34m)\u001b[0m\u001b[0;34m\u001b[0m\u001b[0;34m\u001b[0m\u001b[0m\n\u001b[1;32m     15\u001b[0m \u001b[0mplt\u001b[0m\u001b[0;34m.\u001b[0m\u001b[0mplot\u001b[0m\u001b[0;34m(\u001b[0m\u001b[0mx_values\u001b[0m\u001b[0;34m,\u001b[0m \u001b[0mdata\u001b[0m\u001b[0;34m=\u001b[0m\u001b[0mdfs\u001b[0m\u001b[0;34m[\u001b[0m\u001b[0;34m'discount'\u001b[0m\u001b[0;34m]\u001b[0m\u001b[0;34m)\u001b[0m\u001b[0;34m\u001b[0m\u001b[0;34m\u001b[0m\u001b[0m\n",
            "\u001b[0;31mNameError\u001b[0m: name 'discoplot' is not defined"
          ]
        },
        {
          "output_type": "display_data",
          "data": {
            "text/plain": [
              "<Figure size 720x576 with 1 Axes>"
            ],
            "image/png": "[encoded data removed]"
          },
          "metadata": {
            "needs_background": "light"
          }
        }
      ]
    },
    {
      "cell_type": "code",
      "source": [
        "plt.subplots(figsize=(8,5))\n",
        "sns.barplot(data=dfapp, x= 'prod', y='total_price', hue='year')\n",
        "plt.xlabel('products')\n",
        "plt.ylabel('Revenue')\n",
        "plt.title('yearly revenue and the aproducts')\n",
        "sns.despine(top=True, right=True, left=True, bottom=True)"
      ],
      "metadata": {
        "colab": {
          "base_uri": "https://localhost:8080/",
          "height": 351
        },
        "id": "ngFR3nK-LwdX",
        "outputId": "2566e696-714c-45ee-e5fe-eae5a58f0e07"
      },
      "execution_count": 119,
      "outputs": [
        {
          "output_type": "display_data",
          "data": {
            "text/plain": [
              "<Figure size 576x360 with 1 Axes>"
            ],
            "image/png": "[encoded data removed]"
          },
          "metadata": {
            "needs_background": "light"
          }
        }
      ]
    },
    {
      "cell_type": "code",
      "source": [
        "plt.subplots(figsize=(8,5))\n",
        "sns.barplot(data=dfapp, x= 'year', y= 'total_price', hue = 'prod')#, hue='year')\n",
        "plt.xlabel('year')\n",
        "#plt.ylabel('total revenue')\n",
        "plt.title('yearly revenue and products')\n",
        "sns.despine(top=True, right=True, left=True, bottom=True)"
      ],
      "metadata": {
        "colab": {
          "base_uri": "https://localhost:8080/",
          "height": 350
        },
        "id": "Wuu1evhlV2dH",
        "outputId": "332cbb31-a566-49a8-c230-7f20560f0597"
      },
      "execution_count": 139,
      "outputs": [
        {
          "output_type": "display_data",
          "data": {
            "text/plain": [
              "<Figure size 576x360 with 1 Axes>"
            ],
            "image/png": "[encoded data removed]"
          },
          "metadata": {
            "needs_background": "light"
          }
        }
      ]
    },
    {
      "cell_type": "code",
      "source": [
        "df['year'] = pd.to_numeric(df['year'])"
      ],
      "metadata": {
        "id": "iFSg-XXTURhj"
      },
      "execution_count": 123,
      "outputs": []
    },
    {
      "cell_type": "markdown",
      "source": [
        ""
      ],
      "metadata": {
        "id": "bmBvGNMNURIV"
      }
    },
    {
      "cell_type": "code",
      "source": [
        "dfapp"
      ],
      "metadata": {
        "colab": {
          "base_uri": "https://localhost:8080/",
          "height": 173
        },
        "id": "4MduwMDMVZ7e",
        "outputId": "9370996b-b6e8-405b-9e1f-a700dc46dc35"
      },
      "execution_count": 129,
      "outputs": [
        {
          "output_type": "execute_result",
          "data": {
            "text/plain": [
              "        prod  year  id_order  total_price  product_quantity  discount_perc\n",
              "0      apple  2017     10345   5543250.18             11260      13.917790\n",
              "1      apple  2018      2671   1669423.19              2843      12.156121\n",
              "2  non_apple  2017     38571   6725167.33             43633      22.312139\n",
              "3  non_apple  2018     10516   1771864.12             11895      23.251261"
            ],
            "text/html": [
              "\n",
              "  <div id=\"df-5bea748d-ee62-4611-96bd-518e2ce5fbd1\">\n",
              "    <div class=\"colab-df-container\">\n",
              "      <div>\n",
              "<style scoped>\n",
              "    .dataframe tbody tr th:only-of-type {\n",
              "        vertical-align: middle;\n",
              "    }\n",
              "\n",
              "    .dataframe tbody tr th {\n",
              "        vertical-align: top;\n",
              "    }\n",
              "\n",
              "    .dataframe thead th {\n",
              "        text-align: right;\n",
              "    }\n",
              "</style>\n",
              "<table border=\"1\" class=\"dataframe\">\n",
              "  <thead>\n",
              "    <tr style=\"text-align: right;\">\n",
              "      <th></th>\n",
              "      <th>prod</th>\n",
              "      <th>year</th>\n",
              "      <th>id_order</th>\n",
              "      <th>total_price</th>\n",
              "      <th>product_quantity</th>\n",
              "      <th>discount_perc</th>\n",
              "    </tr>\n",
              "  </thead>\n",
              "  <tbody>\n",
              "    <tr>\n",
              "      <th>0</th>\n",
              "      <td>apple</td>\n",
              "      <td>2017</td>\n",
              "      <td>10345</td>\n",
              "      <td>5543250.18</td>\n",
              "      <td>11260</td>\n",
              "      <td>13.917790</td>\n",
              "    </tr>\n",
              "    <tr>\n",
              "      <th>1</th>\n",
              "      <td>apple</td>\n",
              "      <td>2018</td>\n",
              "      <td>2671</td>\n",
              "      <td>1669423.19</td>\n",
              "      <td>2843</td>\n",
              "      <td>12.156121</td>\n",
              "    </tr>\n",
              "    <tr>\n",
              "      <th>2</th>\n",
              "      <td>non_apple</td>\n",
              "      <td>2017</td>\n",
              "      <td>38571</td>\n",
              "      <td>6725167.33</td>\n",
              "      <td>43633</td>\n",
              "      <td>22.312139</td>\n",
              "    </tr>\n",
              "    <tr>\n",
              "      <th>3</th>\n",
              "      <td>non_apple</td>\n",
              "      <td>2018</td>\n",
              "      <td>10516</td>\n",
              "      <td>1771864.12</td>\n",
              "      <td>11895</td>\n",
              "      <td>23.251261</td>\n",
              "    </tr>\n",
              "  </tbody>\n",
              "</table>\n",
              "</div>\n",
              "      <button class=\"colab-df-convert\" onclick=\"convertToInteractive('df-5bea748d-ee62-4611-96bd-518e2ce5fbd1')\"\n",
              "              title=\"Convert this dataframe to an interactive table.\"\n",
              "              style=\"display:none;\">\n",
              "        \n",
              "  <svg xmlns=\"http://www.w3.org/2000/svg\" height=\"24px\"viewBox=\"0 0 24 24\"\n",
              "       width=\"24px\">\n",
              "    <path d=\"M0 0h24v24H0V0z\" fill=\"none\"/>\n",
              "    <path d=\"M18.56 5.44l.94 2.06.94-2.06 2.06-.94-2.06-.94-.94-2.06-.94 2.06-2.06.94zm-11 1L8.5 8.5l.94-2.06 2.06-.94-2.06-.94L8.5 2.5l-.94 2.06-2.06.94zm10 10l.94 2.06.94-2.06 2.06-.94-2.06-.94-.94-2.06-.94 2.06-2.06.94z\"/><path d=\"M17.41 7.96l-1.37-1.37c-.4-.4-.92-.59-1.43-.59-.52 0-1.04.2-1.43.59L10.3 9.45l-7.72 7.72c-.78.78-.78 2.05 0 2.83L4 21.41c.39.39.9.59 1.41.59.51 0 1.02-.2 1.41-.59l7.78-7.78 2.81-2.81c.8-.78.8-2.07 0-2.86zM5.41 20L4 18.59l7.72-7.72 1.47 1.35L5.41 20z\"/>\n",
              "  </svg>\n",
              "      </button>\n",
              "      \n",
              "  <style>\n",
              "    .colab-df-container {\n",
              "      display:flex;\n",
              "      flex-wrap:wrap;\n",
              "      gap: 12px;\n",
              "    }\n",
              "\n",
              "    .colab-df-convert {\n",
              "      background-color: #E8F0FE;\n",
              "      border: none;\n",
              "      border-radius: 50%;\n",
              "      cursor: pointer;\n",
              "      display: none;\n",
              "      fill: #1967D2;\n",
              "      height: 32px;\n",
              "      padding: 0 0 0 0;\n",
              "      width: 32px;\n",
              "    }\n",
              "\n",
              "    .colab-df-convert:hover {\n",
              "      background-color: #E2EBFA;\n",
              "      box-shadow: 0px 1px 2px rgba(60, 64, 67, 0.3), 0px 1px 3px 1px rgba(60, 64, 67, 0.15);\n",
              "      fill: #174EA6;\n",
              "    }\n",
              "\n",
              "    [theme=dark] .colab-df-convert {\n",
              "      background-color: #3B4455;\n",
              "      fill: #D2E3FC;\n",
              "    }\n",
              "\n",
              "    [theme=dark] .colab-df-convert:hover {\n",
              "      background-color: #434B5C;\n",
              "      box-shadow: 0px 1px 3px 1px rgba(0, 0, 0, 0.15);\n",
              "      filter: drop-shadow(0px 1px 2px rgba(0, 0, 0, 0.3));\n",
              "      fill: #FFFFFF;\n",
              "    }\n",
              "  </style>\n",
              "\n",
              "      <script>\n",
              "        const buttonEl =\n",
              "          document.querySelector('#df-5bea748d-ee62-4611-96bd-518e2ce5fbd1 button.colab-df-convert');\n",
              "        buttonEl.style.display =\n",
              "          google.colab.kernel.accessAllowed ? 'block' : 'none';\n",
              "\n",
              "        async function convertToInteractive(key) {\n",
              "          const element = document.querySelector('#df-5bea748d-ee62-4611-96bd-518e2ce5fbd1');\n",
              "          const dataTable =\n",
              "            await google.colab.kernel.invokeFunction('convertToInteractive',\n",
              "                                                     [key], {});\n",
              "          if (!dataTable) return;\n",
              "\n",
              "          const docLinkHtml = 'Like what you see? Visit the ' +\n",
              "            '<a target=\"_blank\" href=https://colab.research.google.com/notebooks/data_table.ipynb>data table notebook</a>'\n",
              "            + ' to learn more about interactive tables.';\n",
              "          element.innerHTML = '';\n",
              "          dataTable['output_type'] = 'display_data';\n",
              "          await google.colab.output.renderOutput(dataTable, element);\n",
              "          const docLink = document.createElement('div');\n",
              "          docLink.innerHTML = docLinkHtml;\n",
              "          element.appendChild(docLink);\n",
              "        }\n",
              "      </script>\n",
              "    </div>\n",
              "  </div>\n",
              "  "
            ]
          },
          "metadata": {},
          "execution_count": 129
        }
      ]
    },
    {
      "cell_type": "code",
      "source": [
        "sns.displot(\n",
        "    data=dfapp,\n",
        "    x=\"year\", hue=\"prod\",\n",
        "    kind=\"kde\", height=6,\n",
        "    multiple=\"fill\", clip=(0, None),\n",
        "    palette=\"ch:rot=-.25,hue=1,light=.75\",\n",
        ")"
      ],
      "metadata": {
        "colab": {
          "base_uri": "https://localhost:8080/",
          "height": 458
        },
        "id": "-VhP5sE0Sl5H",
        "outputId": "b255a2e3-ac37-4159-b40f-19591db50503"
      },
      "execution_count": 127,
      "outputs": [
        {
          "output_type": "execute_result",
          "data": {
            "text/plain": [
              "<seaborn.axisgrid.FacetGrid at 0x7f2f776d3810>"
            ]
          },
          "metadata": {},
          "execution_count": 127
        },
        {
          "output_type": "display_data",
          "data": {
            "text/plain": [
              "<Figure size 519.375x432 with 1 Axes>"
            ],
            "image/png": "[encoded data removed]"
          },
          "metadata": {
            "needs_background": "light"
          }
        }
      ]
    },
    {
      "cell_type": "code",
      "source": [
        "plt.subplots(figsize=(8,6))\n",
        "sns.barplot(data=dfapp, x= 'prod', y='total_price')#, hue='year')\n",
        "plt.xlabel('products')\n",
        "plt.ylabel('Revenue')\n",
        "#sns.barplot(data=dfapp, x= 'prod', y='discount_perc')"
      ],
      "metadata": {
        "colab": {
          "base_uri": "https://localhost:8080/",
          "height": 417
        },
        "id": "PFR1idReF1nx",
        "outputId": "5037a899-05d3-4ff4-d0c0-b7b688cca1b0"
      },
      "execution_count": 76,
      "outputs": [
        {
          "output_type": "execute_result",
          "data": {
            "text/plain": [
              "Text(0, 0.5, 'Revenue')"
            ]
          },
          "metadata": {},
          "execution_count": 76
        },
        {
          "output_type": "display_data",
          "data": {
            "text/plain": [
              "<Figure size 576x432 with 1 Axes>"
            ],
            "image/png": "[encoded data removed]"
          },
          "metadata": {
            "needs_background": "light"
          }
        }
      ]
    },
    {
      "cell_type": "code",
      "source": [
        "plt.subplots(figsize=(8,6))\n",
        "sns.barplot(data=df, x= 'prod', y='total_price', hue='year')\n",
        "plt.xlabel('products')\n",
        "plt.ylabel('Revenue')\n",
        "#sns.barplot(data=dfapp, x= 'prod', y='discount_perc')"
      ],
      "metadata": {
        "colab": {
          "base_uri": "https://localhost:8080/",
          "height": 406
        },
        "id": "YcK_ZJqRPEkf",
        "outputId": "224bded1-aa80-4f1f-b1bf-0cffd6a4123a"
      },
      "execution_count": 83,
      "outputs": [
        {
          "output_type": "execute_result",
          "data": {
            "text/plain": [
              "Text(0, 0.5, 'Revenue')"
            ]
          },
          "metadata": {},
          "execution_count": 83
        },
        {
          "output_type": "display_data",
          "data": {
            "text/plain": [
              "<Figure size 576x432 with 1 Axes>"
            ],
            "image/png": "[encoded data removed]"
          },
          "metadata": {
            "needs_background": "light"
          }
        }
      ]
    },
    {
      "cell_type": "code",
      "source": [
        "#plt.sublots(figsize=(8,6))\n",
        "plt.subplots(figsize=(8,6))\n",
        "sns.barplot(data=df, x= 'prod', y='id_order', hue='year')"
      ],
      "metadata": {
        "colab": {
          "base_uri": "https://localhost:8080/",
          "height": 406
        },
        "id": "3vV2q8QpHLVx",
        "outputId": "936673be-2ce3-4870-9ea8-2868bf376b9f"
      },
      "execution_count": 48,
      "outputs": [
        {
          "output_type": "execute_result",
          "data": {
            "text/plain": [
              "<matplotlib.axes._subplots.AxesSubplot at 0x7f2f76b6a5d0>"
            ]
          },
          "metadata": {},
          "execution_count": 48
        },
        {
          "output_type": "display_data",
          "data": {
            "text/plain": [
              "<Figure size 576x432 with 1 Axes>"
            ],
            "image/png": "[encoded data removed]"
          },
          "metadata": {
            "needs_background": "light"
          }
        }
      ]
    },
    {
      "cell_type": "code",
      "source": [
        "sns.barplot(data=df, x= 'prod', y='product_quantity', hue='year')"
      ],
      "metadata": {
        "colab": {
          "base_uri": "https://localhost:8080/",
          "height": 300
        },
        "id": "P_JBdBCuJVJn",
        "outputId": "8647ec81-ced5-4e06-d245-ee67cace1f6f"
      },
      "execution_count": 35,
      "outputs": [
        {
          "output_type": "execute_result",
          "data": {
            "text/plain": [
              "<matplotlib.axes._subplots.AxesSubplot at 0x7f2f7715f050>"
            ]
          },
          "metadata": {},
          "execution_count": 35
        },
        {
          "output_type": "display_data",
          "data": {
            "text/plain": [
              "<Figure size 432x288 with 1 Axes>"
            ],
            "image/png": "[encoded data removed]"
          },
          "metadata": {
            "needs_background": "light"
          }
        }
      ]
    },
    {
      "cell_type": "code",
      "source": [
        "dfapp"
      ],
      "metadata": {
        "colab": {
          "base_uri": "https://localhost:8080/",
          "height": 111
        },
        "id": "3z78xSP2GIzN",
        "outputId": "2c859577-3fba-4fe0-ea8e-9666dd1e8245"
      },
      "execution_count": 14,
      "outputs": [
        {
          "output_type": "execute_result",
          "data": {
            "text/plain": [
              "        prod  id_order  total_price  discount_perc\n",
              "0      apple     13016   7212673.37      13.555444\n",
              "1  non_apple     49087   8497031.45      22.514521"
            ],
            "text/html": [
              "\n",
              "  <div id=\"df-9dc7edd7-700b-44ba-8cad-28d865f6d948\">\n",
              "    <div class=\"colab-df-container\">\n",
              "      <div>\n",
              "<style scoped>\n",
              "    .dataframe tbody tr th:only-of-type {\n",
              "        vertical-align: middle;\n",
              "    }\n",
              "\n",
              "    .dataframe tbody tr th {\n",
              "        vertical-align: top;\n",
              "    }\n",
              "\n",
              "    .dataframe thead th {\n",
              "        text-align: right;\n",
              "    }\n",
              "</style>\n",
              "<table border=\"1\" class=\"dataframe\">\n",
              "  <thead>\n",
              "    <tr style=\"text-align: right;\">\n",
              "      <th></th>\n",
              "      <th>prod</th>\n",
              "      <th>id_order</th>\n",
              "      <th>total_price</th>\n",
              "      <th>discount_perc</th>\n",
              "    </tr>\n",
              "  </thead>\n",
              "  <tbody>\n",
              "    <tr>\n",
              "      <th>0</th>\n",
              "      <td>apple</td>\n",
              "      <td>13016</td>\n",
              "      <td>7212673.37</td>\n",
              "      <td>13.555444</td>\n",
              "    </tr>\n",
              "    <tr>\n",
              "      <th>1</th>\n",
              "      <td>non_apple</td>\n",
              "      <td>49087</td>\n",
              "      <td>8497031.45</td>\n",
              "      <td>22.514521</td>\n",
              "    </tr>\n",
              "  </tbody>\n",
              "</table>\n",
              "</div>\n",
              "      <button class=\"colab-df-convert\" onclick=\"convertToInteractive('df-9dc7edd7-700b-44ba-8cad-28d865f6d948')\"\n",
              "              title=\"Convert this dataframe to an interactive table.\"\n",
              "              style=\"display:none;\">\n",
              "        \n",
              "  <svg xmlns=\"http://www.w3.org/2000/svg\" height=\"24px\"viewBox=\"0 0 24 24\"\n",
              "       width=\"24px\">\n",
              "    <path d=\"M0 0h24v24H0V0z\" fill=\"none\"/>\n",
              "    <path d=\"M18.56 5.44l.94 2.06.94-2.06 2.06-.94-2.06-.94-.94-2.06-.94 2.06-2.06.94zm-11 1L8.5 8.5l.94-2.06 2.06-.94-2.06-.94L8.5 2.5l-.94 2.06-2.06.94zm10 10l.94 2.06.94-2.06 2.06-.94-2.06-.94-.94-2.06-.94 2.06-2.06.94z\"/><path d=\"M17.41 7.96l-1.37-1.37c-.4-.4-.92-.59-1.43-.59-.52 0-1.04.2-1.43.59L10.3 9.45l-7.72 7.72c-.78.78-.78 2.05 0 2.83L4 21.41c.39.39.9.59 1.41.59.51 0 1.02-.2 1.41-.59l7.78-7.78 2.81-2.81c.8-.78.8-2.07 0-2.86zM5.41 20L4 18.59l7.72-7.72 1.47 1.35L5.41 20z\"/>\n",
              "  </svg>\n",
              "      </button>\n",
              "      \n",
              "  <style>\n",
              "    .colab-df-container {\n",
              "      display:flex;\n",
              "      flex-wrap:wrap;\n",
              "      gap: 12px;\n",
              "    }\n",
              "\n",
              "    .colab-df-convert {\n",
              "      background-color: #E8F0FE;\n",
              "      border: none;\n",
              "      border-radius: 50%;\n",
              "      cursor: pointer;\n",
              "      display: none;\n",
              "      fill: #1967D2;\n",
              "      height: 32px;\n",
              "      padding: 0 0 0 0;\n",
              "      width: 32px;\n",
              "    }\n",
              "\n",
              "    .colab-df-convert:hover {\n",
              "      background-color: #E2EBFA;\n",
              "      box-shadow: 0px 1px 2px rgba(60, 64, 67, 0.3), 0px 1px 3px 1px rgba(60, 64, 67, 0.15);\n",
              "      fill: #174EA6;\n",
              "    }\n",
              "\n",
              "    [theme=dark] .colab-df-convert {\n",
              "      background-color: #3B4455;\n",
              "      fill: #D2E3FC;\n",
              "    }\n",
              "\n",
              "    [theme=dark] .colab-df-convert:hover {\n",
              "      background-color: #434B5C;\n",
              "      box-shadow: 0px 1px 3px 1px rgba(0, 0, 0, 0.15);\n",
              "      filter: drop-shadow(0px 1px 2px rgba(0, 0, 0, 0.3));\n",
              "      fill: #FFFFFF;\n",
              "    }\n",
              "  </style>\n",
              "\n",
              "      <script>\n",
              "        const buttonEl =\n",
              "          document.querySelector('#df-9dc7edd7-700b-44ba-8cad-28d865f6d948 button.colab-df-convert');\n",
              "        buttonEl.style.display =\n",
              "          google.colab.kernel.accessAllowed ? 'block' : 'none';\n",
              "\n",
              "        async function convertToInteractive(key) {\n",
              "          const element = document.querySelector('#df-9dc7edd7-700b-44ba-8cad-28d865f6d948');\n",
              "          const dataTable =\n",
              "            await google.colab.kernel.invokeFunction('convertToInteractive',\n",
              "                                                     [key], {});\n",
              "          if (!dataTable) return;\n",
              "\n",
              "          const docLinkHtml = 'Like what you see? Visit the ' +\n",
              "            '<a target=\"_blank\" href=https://colab.research.google.com/notebooks/data_table.ipynb>data table notebook</a>'\n",
              "            + ' to learn more about interactive tables.';\n",
              "          element.innerHTML = '';\n",
              "          dataTable['output_type'] = 'display_data';\n",
              "          await google.colab.output.renderOutput(dataTable, element);\n",
              "          const docLink = document.createElement('div');\n",
              "          docLink.innerHTML = docLinkHtml;\n",
              "          element.appendChild(docLink);\n",
              "        }\n",
              "      </script>\n",
              "    </div>\n",
              "  </div>\n",
              "  "
            ]
          },
          "metadata": {},
          "execution_count": 14
        }
      ]
    },
    {
      "cell_type": "code",
      "source": [
        "sns.boxplot(data=df, x='prod', y='total_price')\n",
        "\n",
        "# new helper method to auto-label bars (matplotlib 3.4.0+)\n"
      ],
      "metadata": {
        "colab": {
          "base_uri": "https://localhost:8080/",
          "height": 300
        },
        "id": "MRZIk8fXHMP-",
        "outputId": "8817a1ce-03d6-44c6-9e2b-b8703659faf4"
      },
      "execution_count": 25,
      "outputs": [
        {
          "output_type": "execute_result",
          "data": {
            "text/plain": [
              "<matplotlib.axes._subplots.AxesSubplot at 0x7f2f7787e490>"
            ]
          },
          "metadata": {},
          "execution_count": 25
        },
        {
          "output_type": "display_data",
          "data": {
            "text/plain": [
              "<Figure size 432x288 with 1 Axes>"
            ],
            "image/png": "[encoded data removed]"
          },
          "metadata": {
            "needs_background": "light"
          }
        }
      ]
    },
    {
      "cell_type": "code",
      "source": [
        "print(df.sample(10))"
      ],
      "metadata": {
        "colab": {
          "base_uri": "https://localhost:8080/"
        },
        "id": "bLs3WBybXOp2",
        "outputId": "4cdc6b6a-188f-47a9-a423-12c6792a3285"
      },
      "execution_count": null,
      "outputs": [
        {
          "output_type": "stream",
          "name": "stdout",
          "text": [
            "            id  id_order  product_quantity      sku  unit_price  \\\n",
            "59185  1622628    515451                 1  OWC0092       49.99   \n",
            "35138  1422863    432406                 1  DLL0015      442.74   \n",
            "8026   1176417    322286                 1  LIF0097       59.99   \n",
            "30800  1387812    417320                 1  SAT0054       79.99   \n",
            "37066  1435855    438538                 1  APP1968      351.85   \n",
            "39351  1450429    444858                 1  WAC0169       79.19   \n",
            "32744  1400419    423354                 1  ALL0019       16.99   \n",
            "31314  1391592    419180                 2  MOS0225       17.84   \n",
            "9057   1183691    325487                 1  SAT0013       23.99   \n",
            "22918  1317371    389143                 1  OWC0216       44.99   \n",
            "\n",
            "                     date  total_price  total_paid      state  \\\n",
            "59185 2018-02-21 14:05:50        49.99       54.98  Completed   \n",
            "35138 2017-11-22 22:02:51       442.74      442.74  Completed   \n",
            "8026  2017-02-10 14:31:46        59.99       64.98  Completed   \n",
            "30800 2017-10-25 10:13:06        79.99      112.97  Completed   \n",
            "37066 2017-11-24 11:41:57       351.85      351.85  Completed   \n",
            "39351 2017-11-26 10:19:15        79.19       83.18  Completed   \n",
            "32744 2017-11-08 12:39:41        16.99       21.98  Completed   \n",
            "31314 2017-10-29 09:57:27        35.68       42.67  Completed   \n",
            "9057  2017-02-17 00:16:38        23.99       61.96  Completed   \n",
            "22918 2017-08-13 13:09:59        44.99      282.56  Completed   \n",
            "\n",
            "                                                                            name  \\\n",
            "59185                                       Mac OWC Memory 8GB 1066MHz DDR3 DIMM   \n",
            "35138                                     Dell U2715H Monitor 27 \"LED Slim Marco   \n",
            "8026                           LifeProof Fre Waterproof Case iPhone 6 / 6S White   \n",
            "30800                             Satechi Hub Multiport USB-C 4K HDMI Space Gray   \n",
            "37066                                                     Apple iPhone 32GB Gold   \n",
            "39351                             Wacom Intuos graphics tablet Photo Small Black   \n",
            "32744              Allocacoc PowerCube Original USB Fluorescent lamp White / Red   \n",
            "31314                               Moshi Vitros Transparent Clear Case iPhone X   \n",
            "9057                                 Satechi Support Macbook Aluminum Gray Space   \n",
            "22918  OWC Data Doubler Optical Bay Adapter Kit Installation + iMac 2009 to 2011   \n",
            "\n",
            "                                                                                                      desc  \\\n",
            "59185                                                                         Mac Pro 8GB RAM (2009/2010).   \n",
            "35138                                                                      27-inch LED Monitor Marco Slim.   \n",
            "8026                                             waterproof and extreme conditions for iPhone 6 / 6S case.   \n",
            "30800  Aluminum adapter with USB Type-C HDMI 4K three ports USB Type-A Ethernet input and SD card reade...   \n",
            "37066                                                         New iPhone SE with 4-inch screen 32 free GB.   \n",
            "39351                                  Graphical touch tablet with pen and digital toolbox for Mac and PC.   \n",
            "32744       Outlet power strip extension 15m cube-shaped with 4 to 250V electrical outlets and 2 USB ports   \n",
            "31314                                      Case designed to be fully compatible with the wireless charging   \n",
            "9057                                   Support Macbook with aluminum finish and folding design for Macbook   \n",
            "22918                        SuperDrive replacement tray or SSD hard drive for iMac Early 2009 to Mid 2011   \n",
            "\n",
            "       price      type  max_price_orderlines  discount  discount_perc  \n",
            "59185  56.99      1364                   NaN      7.00          12.00  \n",
            "35138 574.99      1296                   NaN    132.25          23.00  \n",
            "8026   79.99  11865403                   NaN     20.00          25.00  \n",
            "30800  89.99  12585395                   NaN     10.00          11.00  \n",
            "37066 419.00  51601716                   NaN     67.15          16.00  \n",
            "39351  99.99      1405                   NaN     20.80          21.00  \n",
            "32744  18.95      5395                   NaN      1.96          10.00  \n",
            "31314  25.00  11865403                   NaN      7.16          29.00  \n",
            "9057   39.99      8696                   NaN     16.00          40.00  \n",
            "22918  72.99  12755395                   NaN     28.00          38.00  \n"
          ]
        }
      ]
    },
    {
      "cell_type": "markdown",
      "source": [
        "# Kind of Plotting"
      ],
      "metadata": {
        "id": "bgsh0Xg3FBlD"
      }
    },
    {
      "cell_type": "code",
      "source": [
        "# add some plot categories (by Sebastian)\n",
        "\n",
        "# shorter version like this:\n",
        "discoplot = (df\n",
        "  .assign(year = df['date'].dt.strftime('%y-%m'), month = df['date'].dt.strftime('%m')) # create year and month\n",
        "  .groupby(['year', 'month']).agg({'discount': 'sum', 'total_paid': 'sum', 'discount_perc':'mean'})\n",
        "  .sort_values(by=['year', 'month'], ascending=True).reset_index()\n",
        ")\n",
        "discoplot['discount'] = discoplot['discount']*3 # boost discount line\n",
        "# print(discoplot)\n",
        "\n",
        "# plot by seaborn\n",
        "\n",
        "\n",
        "plt.subplots(figsize=(10, 8))\n",
        "sns.barplot(data=discoplot, x='year', y='total_paid', hue ='year')\n",
        "x_values = range(len(discoplot['month']))\n",
        "plt.plot(x_values, discoplot['discount'])\n",
        "plt.plot(x_values, discoplot['total_paid'])\n",
        "plt.show()"
      ],
      "metadata": {
        "colab": {
          "base_uri": "https://localhost:8080/",
          "height": 513
        },
        "id": "XMw-BVlQoGAD",
        "outputId": "846eeacf-7f9b-4513-ee55-cc2bbb09d56b"
      },
      "execution_count": null,
      "outputs": [
        {
          "output_type": "display_data",
          "data": {
            "text/plain": [
              "<Figure size 720x576 with 1 Axes>"
            ],
            "image/png": "[encoded data removed]"
          },
          "metadata": {}
        }
      ]
    },
    {
      "cell_type": "code",
      "source": [
        "discoplot"
      ],
      "metadata": {
        "colab": {
          "base_uri": "https://localhost:8080/",
          "height": 514
        },
        "id": "me1beutTofhE",
        "outputId": "2ed890f2-0057-4260-c6ad-557cbb39e566"
      },
      "execution_count": null,
      "outputs": [
        {
          "output_type": "execute_result",
          "data": {
            "text/plain": [
              "     year month   discount  total_paid  discount_perc\n",
              "0   17-01    01  602987.76  1838616.32          24.06\n",
              "1   17-02    02  257026.05   919384.27          19.14\n",
              "2   17-03    03   40204.35   229980.81          17.45\n",
              "3   17-04    04  185652.12   899330.97          17.65\n",
              "4   17-05    05  232529.07  1060090.01          15.15\n",
              "5   17-06    06  254086.26  1110100.67          16.41\n",
              "6   17-07    07  539749.14  1751133.39          24.00\n",
              "7   17-08    08  336108.78  1269774.21          19.92\n",
              "8   17-09    09  420924.81  1346267.46          19.55\n",
              "9   17-10    10  519595.02  1696911.21          21.23\n",
              "10  17-11    11 1382822.01  4827494.94          21.41\n",
              "11  17-12    12  718586.16  2824520.52          18.62\n",
              "12  18-01    01  805658.61  3039368.56          20.76\n",
              "13  18-02    02  478610.31  1663874.28          21.43\n",
              "14  18-03    03  205564.23   776280.29          20.92"
            ],
            "text/html": [
              "\n",
              "  <div id=\"df-29307d83-96d8-4b4a-8dbd-7a7c75f6ab21\">\n",
              "    <div class=\"colab-df-container\">\n",
              "      <div>\n",
              "<style scoped>\n",
              "    .dataframe tbody tr th:only-of-type {\n",
              "        vertical-align: middle;\n",
              "    }\n",
              "\n",
              "    .dataframe tbody tr th {\n",
              "        vertical-align: top;\n",
              "    }\n",
              "\n",
              "    .dataframe thead th {\n",
              "        text-align: right;\n",
              "    }\n",
              "</style>\n",
              "<table border=\"1\" class=\"dataframe\">\n",
              "  <thead>\n",
              "    <tr style=\"text-align: right;\">\n",
              "      <th></th>\n",
              "      <th>year</th>\n",
              "      <th>month</th>\n",
              "      <th>discount</th>\n",
              "      <th>total_paid</th>\n",
              "      <th>discount_perc</th>\n",
              "    </tr>\n",
              "  </thead>\n",
              "  <tbody>\n",
              "    <tr>\n",
              "      <th>0</th>\n",
              "      <td>17-01</td>\n",
              "      <td>01</td>\n",
              "      <td>602987.76</td>\n",
              "      <td>1838616.32</td>\n",
              "      <td>24.06</td>\n",
              "    </tr>\n",
              "    <tr>\n",
              "      <th>1</th>\n",
              "      <td>17-02</td>\n",
              "      <td>02</td>\n",
              "      <td>257026.05</td>\n",
              "      <td>919384.27</td>\n",
              "      <td>19.14</td>\n",
              "    </tr>\n",
              "    <tr>\n",
              "      <th>2</th>\n",
              "      <td>17-03</td>\n",
              "      <td>03</td>\n",
              "      <td>40204.35</td>\n",
              "      <td>229980.81</td>\n",
              "      <td>17.45</td>\n",
              "    </tr>\n",
              "    <tr>\n",
              "      <th>3</th>\n",
              "      <td>17-04</td>\n",
              "      <td>04</td>\n",
              "      <td>185652.12</td>\n",
              "      <td>899330.97</td>\n",
              "      <td>17.65</td>\n",
              "    </tr>\n",
              "    <tr>\n",
              "      <th>4</th>\n",
              "      <td>17-05</td>\n",
              "      <td>05</td>\n",
              "      <td>232529.07</td>\n",
              "      <td>1060090.01</td>\n",
              "      <td>15.15</td>\n",
              "    </tr>\n",
              "    <tr>\n",
              "      <th>5</th>\n",
              "      <td>17-06</td>\n",
              "      <td>06</td>\n",
              "      <td>254086.26</td>\n",
              "      <td>1110100.67</td>\n",
              "      <td>16.41</td>\n",
              "    </tr>\n",
              "    <tr>\n",
              "      <th>6</th>\n",
              "      <td>17-07</td>\n",
              "      <td>07</td>\n",
              "      <td>539749.14</td>\n",
              "      <td>1751133.39</td>\n",
              "      <td>24.00</td>\n",
              "    </tr>\n",
              "    <tr>\n",
              "      <th>7</th>\n",
              "      <td>17-08</td>\n",
              "      <td>08</td>\n",
              "      <td>336108.78</td>\n",
              "      <td>1269774.21</td>\n",
              "      <td>19.92</td>\n",
              "    </tr>\n",
              "    <tr>\n",
              "      <th>8</th>\n",
              "      <td>17-09</td>\n",
              "      <td>09</td>\n",
              "      <td>420924.81</td>\n",
              "      <td>1346267.46</td>\n",
              "      <td>19.55</td>\n",
              "    </tr>\n",
              "    <tr>\n",
              "      <th>9</th>\n",
              "      <td>17-10</td>\n",
              "      <td>10</td>\n",
              "      <td>519595.02</td>\n",
              "      <td>1696911.21</td>\n",
              "      <td>21.23</td>\n",
              "    </tr>\n",
              "    <tr>\n",
              "      <th>10</th>\n",
              "      <td>17-11</td>\n",
              "      <td>11</td>\n",
              "      <td>1382822.01</td>\n",
              "      <td>4827494.94</td>\n",
              "      <td>21.41</td>\n",
              "    </tr>\n",
              "    <tr>\n",
              "      <th>11</th>\n",
              "      <td>17-12</td>\n",
              "      <td>12</td>\n",
              "      <td>718586.16</td>\n",
              "      <td>2824520.52</td>\n",
              "      <td>18.62</td>\n",
              "    </tr>\n",
              "    <tr>\n",
              "      <th>12</th>\n",
              "      <td>18-01</td>\n",
              "      <td>01</td>\n",
              "      <td>805658.61</td>\n",
              "      <td>3039368.56</td>\n",
              "      <td>20.76</td>\n",
              "    </tr>\n",
              "    <tr>\n",
              "      <th>13</th>\n",
              "      <td>18-02</td>\n",
              "      <td>02</td>\n",
              "      <td>478610.31</td>\n",
              "      <td>1663874.28</td>\n",
              "      <td>21.43</td>\n",
              "    </tr>\n",
              "    <tr>\n",
              "      <th>14</th>\n",
              "      <td>18-03</td>\n",
              "      <td>03</td>\n",
              "      <td>205564.23</td>\n",
              "      <td>776280.29</td>\n",
              "      <td>20.92</td>\n",
              "    </tr>\n",
              "  </tbody>\n",
              "</table>\n",
              "</div>\n",
              "      <button class=\"colab-df-convert\" onclick=\"convertToInteractive('df-29307d83-96d8-4b4a-8dbd-7a7c75f6ab21')\"\n",
              "              title=\"Convert this dataframe to an interactive table.\"\n",
              "              style=\"display:none;\">\n",
              "        \n",
              "  <svg xmlns=\"http://www.w3.org/2000/svg\" height=\"24px\"viewBox=\"0 0 24 24\"\n",
              "       width=\"24px\">\n",
              "    <path d=\"M0 0h24v24H0V0z\" fill=\"none\"/>\n",
              "    <path d=\"M18.56 5.44l.94 2.06.94-2.06 2.06-.94-2.06-.94-.94-2.06-.94 2.06-2.06.94zm-11 1L8.5 8.5l.94-2.06 2.06-.94-2.06-.94L8.5 2.5l-.94 2.06-2.06.94zm10 10l.94 2.06.94-2.06 2.06-.94-2.06-.94-.94-2.06-.94 2.06-2.06.94z\"/><path d=\"M17.41 7.96l-1.37-1.37c-.4-.4-.92-.59-1.43-.59-.52 0-1.04.2-1.43.59L10.3 9.45l-7.72 7.72c-.78.78-.78 2.05 0 2.83L4 21.41c.39.39.9.59 1.41.59.51 0 1.02-.2 1.41-.59l7.78-7.78 2.81-2.81c.8-.78.8-2.07 0-2.86zM5.41 20L4 18.59l7.72-7.72 1.47 1.35L5.41 20z\"/>\n",
              "  </svg>\n",
              "      </button>\n",
              "      \n",
              "  <style>\n",
              "    .colab-df-container {\n",
              "      display:flex;\n",
              "      flex-wrap:wrap;\n",
              "      gap: 12px;\n",
              "    }\n",
              "\n",
              "    .colab-df-convert {\n",
              "      background-color: #E8F0FE;\n",
              "      border: none;\n",
              "      border-radius: 50%;\n",
              "      cursor: pointer;\n",
              "      display: none;\n",
              "      fill: #1967D2;\n",
              "      height: 32px;\n",
              "      padding: 0 0 0 0;\n",
              "      width: 32px;\n",
              "    }\n",
              "\n",
              "    .colab-df-convert:hover {\n",
              "      background-color: #E2EBFA;\n",
              "      box-shadow: 0px 1px 2px rgba(60, 64, 67, 0.3), 0px 1px 3px 1px rgba(60, 64, 67, 0.15);\n",
              "      fill: #174EA6;\n",
              "    }\n",
              "\n",
              "    [theme=dark] .colab-df-convert {\n",
              "      background-color: #3B4455;\n",
              "      fill: #D2E3FC;\n",
              "    }\n",
              "\n",
              "    [theme=dark] .colab-df-convert:hover {\n",
              "      background-color: #434B5C;\n",
              "      box-shadow: 0px 1px 3px 1px rgba(0, 0, 0, 0.15);\n",
              "      filter: drop-shadow(0px 1px 2px rgba(0, 0, 0, 0.3));\n",
              "      fill: #FFFFFF;\n",
              "    }\n",
              "  </style>\n",
              "\n",
              "      <script>\n",
              "        const buttonEl =\n",
              "          document.querySelector('#df-29307d83-96d8-4b4a-8dbd-7a7c75f6ab21 button.colab-df-convert');\n",
              "        buttonEl.style.display =\n",
              "          google.colab.kernel.accessAllowed ? 'block' : 'none';\n",
              "\n",
              "        async function convertToInteractive(key) {\n",
              "          const element = document.querySelector('#df-29307d83-96d8-4b4a-8dbd-7a7c75f6ab21');\n",
              "          const dataTable =\n",
              "            await google.colab.kernel.invokeFunction('convertToInteractive',\n",
              "                                                     [key], {});\n",
              "          if (!dataTable) return;\n",
              "\n",
              "          const docLinkHtml = 'Like what you see? Visit the ' +\n",
              "            '<a target=\"_blank\" href=https://colab.research.google.com/notebooks/data_table.ipynb>data table notebook</a>'\n",
              "            + ' to learn more about interactive tables.';\n",
              "          element.innerHTML = '';\n",
              "          dataTable['output_type'] = 'display_data';\n",
              "          await google.colab.output.renderOutput(dataTable, element);\n",
              "          const docLink = document.createElement('div');\n",
              "          docLink.innerHTML = docLinkHtml;\n",
              "          element.appendChild(docLink);\n",
              "        }\n",
              "      </script>\n",
              "    </div>\n",
              "  </div>\n",
              "  "
            ]
          },
          "metadata": {},
          "execution_count": 154
        }
      ]
    },
    {
      "cell_type": "code",
      "source": [
        "plt.subplots(figsize=(12,8))\n",
        "sns.barplot(data=discoplot, x= 'year', y='discount_perc')"
      ],
      "metadata": {
        "colab": {
          "base_uri": "https://localhost:8080/",
          "height": 489
        },
        "id": "x2QsD1uKt80G",
        "outputId": "32a192a4-79b3-4fd2-b697-1763debdcab9"
      },
      "execution_count": null,
      "outputs": [
        {
          "output_type": "execute_result",
          "data": {
            "text/plain": [
              "<matplotlib.axes._subplots.AxesSubplot at 0x7f318a0d4c50>"
            ]
          },
          "metadata": {},
          "execution_count": 155
        },
        {
          "output_type": "display_data",
          "data": {
            "text/plain": [
              "<Figure size 864x576 with 1 Axes>"
            ],
            "image/png": "[encoded data removed]"
          },
          "metadata": {}
        }
      ]
    },
    {
      "cell_type": "code",
      "source": [
        "# add some plot categories (by Sebastian)\n",
        "\n",
        "# shorter version like this:\n",
        "discoplot = (df\n",
        "  .assign(year = df['date'].dt.strftime('%Y'), month = df['date'].dt.strftime('%m')) # create year and month\n",
        "  .groupby(['year', 'month']).agg({'discount': 'sum', 'total_paid': sum})\n",
        "  .sort_values(by=['year', 'month'], ascending=True).reset_index()\n",
        ")\n",
        "discoplot['discount'] = discoplot['discount']*3 # boost discount line\n",
        "# print(discoplot)\n",
        "\n",
        "\"\"\"\n",
        "# plot it\n",
        "x_values = range(len(discoplot['month']))\n",
        "plt.plot(x_values, discoplot['discount'])\n",
        "plt.plot(x_values, discoplot['total_paid'])\n",
        "ax = plt.subplot(); ax.set_xticks(x_values); ax.set_xticklabels(discoplot['month'])\n",
        "plt.show()\n",
        "\"\"\"\n",
        "\n",
        "# plot by seaborn\n",
        "sns.set_theme()\n",
        "sns.set_style('white')\n",
        "x_values = range(len(discoplot['month']))\n",
        "ax = sns.lineplot(x=x_values, y=\"discount\", data=discoplot)\n",
        "ax.set(xlabel=None, ylabel=None)\n",
        "ax.set_yticks([])\n",
        "plt.plot(x_values, discoplot['total_paid'])\n",
        "plt.legend(['discount', 'revenue'], loc=2)\n",
        "sns.despine(top=True, right=True, left=True, bottom=True)\n",
        "plt.show()"
      ],
      "metadata": {
        "colab": {
          "base_uri": "https://localhost:8080/",
          "height": 268
        },
        "id": "baGQMx8D6g9t",
        "outputId": "d0dd60f5-1e74-4999-b98b-357d64ead33b"
      },
      "execution_count": null,
      "outputs": [
        {
          "output_type": "display_data",
          "data": {
            "text/plain": [
              "<Figure size 432x288 with 1 Axes>"
            ],
            "image/png": "[encoded data removed]"
          },
          "metadata": {}
        }
      ]
    },
    {
      "cell_type": "code",
      "source": [
        "# zoom in for christmas\n",
        "\n",
        "discoplot_nov_dec = (df\n",
        "  .assign(year = df['date'].dt.strftime('%Y'), month = df['date'].dt.strftime('%m'), day = df['date'].dt.strftime('%d')) # create year and month\n",
        "  .groupby(['year', 'month', 'day']).agg({'discount': 'sum', 'total_paid': sum})\n",
        "  .sort_values(by=['year', 'month', 'day'], ascending=True).reset_index()\n",
        "  .query('month == \"11\" | month == \"12\"')\n",
        ")\n",
        "discoplot_nov_dec['discount'] = discoplot_nov_dec['discount']*3 # boost discount line\n",
        "# print(discoplot_nov_dec)\n",
        "\n",
        "# plot by seaborn\n",
        "sns.set_theme()\n",
        "sns.set_style('white')\n",
        "x_values = range(len(discoplot_nov_dec['day']))\n",
        "ax = sns.lineplot(x=x_values, y=\"discount\", data=discoplot_nov_dec)\n",
        "ax.set(xlabel=None, ylabel=None)\n",
        "ax.set_yticks([])\n",
        "plt.plot(x_values, discoplot_nov_dec['total_paid'])\n",
        "plt.legend(['discount', 'revenue'], loc=2)\n",
        "sns.despine(top=True, right=True, left=True, bottom=True)\n",
        "plt.show()"
      ],
      "metadata": {
        "colab": {
          "base_uri": "https://localhost:8080/",
          "height": 268
        },
        "id": "JHeC2ROUzRBv",
        "outputId": "c333a65d-d781-4fb1-ae0e-7e1b1ee3c4f8"
      },
      "execution_count": null,
      "outputs": [
        {
          "output_type": "display_data",
          "data": {
            "text/plain": [
              "<Figure size 432x288 with 1 Axes>"
            ],
            "image/png": "[encoded data removed]"
          },
          "metadata": {}
        }
      ]
    },
    {
      "cell_type": "code",
      "source": [
        "# How many products are being discounted?\n",
        "# sum where discount.sum == 0\n",
        "# sum where discount.sum != 0\n",
        "disco_ = (df\n",
        "  .query('discount == 0')\n",
        "  .groupby(['sku']).agg({'sku': 'count'})\n",
        ")\n",
        "disco_yes=len(disco_.index)\n",
        "\n",
        "disco_ = (df\n",
        "  .query('discount != 0')\n",
        "  .groupby(['sku']).agg({'sku': 'count'})\n",
        ")\n",
        "disco_no=len(disco_.index)\n",
        "\n",
        "# plot it\n",
        "x_values = [disco_yes, disco_no]\n",
        "labeling = ['discounted', 'regular']\n",
        "\n",
        "plt.pie(x_values, labels=labeling, autopct='%0.1f%%')\n",
        "plt.show()"
      ],
      "metadata": {
        "colab": {
          "base_uri": "https://localhost:8080/",
          "height": 248
        },
        "id": "42Y29MSzFT84",
        "outputId": "2fd4b749-a14f-48fc-b224-f7fa47ceabd4"
      },
      "execution_count": null,
      "outputs": [
        {
          "output_type": "display_data",
          "data": {
            "text/plain": [
              "<Figure size 432x288 with 1 Axes>"
            ],
            "image/png": "[encoded data removed]"
          },
          "metadata": {}
        }
      ]
    },
    {
      "cell_type": "markdown",
      "source": [
        "# Creating product categories"
      ],
      "metadata": {
        "id": "fpqMBe41enJf"
      }
    },
    {
      "cell_type": "code",
      "source": [
        "import re"
      ],
      "metadata": {
        "id": "ASyxdgygeyKc"
      },
      "execution_count": null,
      "outputs": []
    },
    {
      "cell_type": "code",
      "source": [
        "pd.set_option('display.max_rows', 1000)\n",
        "pd.set_option(\"display.max_colwidth\", 100)"
      ],
      "metadata": {
        "id": "Bykg96rdeyg8"
      },
      "execution_count": null,
      "outputs": []
    },
    {
      "cell_type": "code",
      "source": [
        "categories = ['Mac', 'iPhone', 'Accessories', 'iPad', 'Watch', 'Storage', 'Services']"
      ],
      "metadata": {
        "id": "eqT4_snE2s9b"
      },
      "execution_count": null,
      "outputs": []
    },
    {
      "cell_type": "code",
      "source": [
        "products = products[products['sku'].isin(df['sku'])]"
      ],
      "metadata": {
        "id": "mBMkGrgbeyaK"
      },
      "execution_count": null,
      "outputs": []
    },
    {
      "cell_type": "code",
      "source": [
        "# adding a category column filled with nan\n",
        "products['category'] = np.nan"
      ],
      "metadata": {
        "id": "i5nAsG-ueySI"
      },
      "execution_count": null,
      "outputs": []
    },
    {
      "cell_type": "code",
      "source": [
        "# defining regex for iPhone, Mac, and iPad categories\n",
        "iphone_regex = re.compile(r\"apple iphone.*gb\", flags=re.I)\n",
        "mac_regex = re.compile(r\"apple i?mac.*gb\", flags=re.I)\n",
        "ipad_regex = re.compile(r\"apple ipad.*gb\", flags=re.I)"
      ],
      "metadata": {
        "id": "JeqYK9G-eyDs"
      },
      "execution_count": null,
      "outputs": []
    },
    {
      "cell_type": "code",
      "source": [
        "# from collections import Counter\n",
        "# Counter(\" \".join(products[products.name.str.contains(re.compile(r\"^apple i?mac\", flags=re.IGNORECASE))].name).split()).most_common(10)"
      ],
      "metadata": {
        "id": "b-RgdWMFF3zT"
      },
      "execution_count": null,
      "outputs": []
    },
    {
      "cell_type": "code",
      "source": [
        "# Creating lists of category_regex and category_names to use in the for loop to\\ \n",
        "# fill the category column\n",
        "category_regex = [iphone_regex, mac_regex, ipad_regex]\n",
        "category_names = ['iPhone', 'Mac', 'iPad']"
      ],
      "metadata": {
        "id": "r75PTstYjk4u"
      },
      "execution_count": null,
      "outputs": []
    },
    {
      "cell_type": "code",
      "source": [
        "# filling in the category column with iPhone, Mac, and iPad category names\n",
        "for x, y in zip(category_regex, category_names):\n",
        "  products.loc[products['name'].str.contains(x, regex=True), 'category'] = y"
      ],
      "metadata": {
        "id": "EY2meq-Gljvh"
      },
      "execution_count": null,
      "outputs": []
    },
    {
      "cell_type": "code",
      "source": [
        "# defining regex for Watch category\n",
        "watch_regex = re.compile(r\"apple watch\", flags=re.I)"
      ],
      "metadata": {
        "id": "B8hqxnAsexdv"
      },
      "execution_count": null,
      "outputs": []
    },
    {
      "cell_type": "code",
      "source": [
        "# filling in the category column with Watch category name using watch_regex and\\\n",
        "# a list of Watch type numbers found from exploring the name column\n",
        "(products\n",
        "    .loc[products['name'].str.contains(watch_regex, regex=True) & \n",
        "         products['type'].isin(['24885185' , '24895185']), \n",
        "         'category'] \n",
        ") = \"Watch\""
      ],
      "metadata": {
        "id": "-t_DJgFjexX6"
      },
      "execution_count": null,
      "outputs": []
    },
    {
      "cell_type": "code",
      "source": [
        "# defining lists of type numbers belonging to other categories found from exploring\\\n",
        "# the name column of the observations that so far has nan in their category column\n",
        "accessories_types = ['11865403', '11905404', '12635403', '13835403', '12585395',\\\n",
        "                    '1296', '5384', '1325', '5398', '1334', '1229', '12995397'\\\n",
        "                    '13615399', '1404', '8696', '13855401', '1387', '1230',\\\n",
        "                    '1325', '1334', '13005399','12995397', '13955395','1276',\\\n",
        "                    '12635403','12355400','1404','101781405','12085400', '9094',\\\n",
        "                    '14305406','10142', '12645406','10230','14365395','5395',\\\n",
        "                    '13555403','21485407','12575403','14035403','1216','1515',\\\n",
        "                    '1392','5,49E+11','5398','1296','1375','5405','12285400',\\\n",
        "                    '5720','15435404','24215399','11434','2425','2434','2449',\\\n",
        "                    '54864259','5403','21535407', '5407','5406','5404','54025401',\\\n",
        "                    '5401','5399','11859']\n",
        "storage_types = ['11935397', '12175397', '1364', '12215397', '1433', '57445397',\\\n",
        "                '12655397','12755395', '11935397', '1424','57445397','1280',\\\n",
        "                '11821715','42945397','4259','54085407','79201715','113464259']\n",
        "service_types = ['1,44E+11','20642062','1,46E+11','1231','1416']\n",
        "iphone_types = ['51601716','24821716','1716']\n",
        "mac_types = ['1282']\n",
        "watch_types = ['24895185']\n",
        "open_products_types = ['1298']\n"
      ],
      "metadata": {
        "id": "X_pZfgzWexSE"
      },
      "execution_count": null,
      "outputs": []
    },
    {
      "cell_type": "markdown",
      "source": [
        ""
      ],
      "metadata": {
        "id": "HiaUavJbcuBm"
      }
    },
    {
      "cell_type": "markdown",
      "source": [
        ""
      ],
      "metadata": {
        "id": "MbI-IQfGcx_e"
      }
    },
    {
      "cell_type": "code",
      "source": [
        "# defining lists of category types and category names to use in the for loop to\\ \n",
        "# replace the rest of the nan in the category column\n",
        "category_types = [accessories_types, storage_types, service_types, iphone_types, mac_types, watch_types,\\\n",
        "                  open_products_types]\n",
        "category_names = ['Accessories', 'Storage', 'Service', 'iPhone', 'Mac', 'Watch']"
      ],
      "metadata": {
        "id": "llonhXKRp5EC"
      },
      "execution_count": null,
      "outputs": []
    },
    {
      "cell_type": "code",
      "source": [
        "for x, y in zip(category_types, category_names):\n",
        "  products.loc[products['type'].isin(x), 'category'] = y"
      ],
      "metadata": {
        "id": "mkAEx2_2p6t_"
      },
      "execution_count": null,
      "outputs": []
    },
    {
      "cell_type": "code",
      "source": [
        "# using merge to add the category column in the final df\n",
        "df = pd.merge(df,products[['sku','category']],on='sku', how='left')\n",
        "df.shape"
      ],
      "metadata": {
        "id": "1SpN2PY5kGMz",
        "colab": {
          "base_uri": "https://localhost:8080/"
        },
        "outputId": "bc2b4806-adcf-4a08-ae99-15bc05b6a1d2"
      },
      "execution_count": null,
      "outputs": [
        {
          "output_type": "stream",
          "name": "stderr",
          "text": [
            "/usr/local/lib/python3.7/dist-packages/ipykernel_launcher.py:2: FutureWarning: Passing 'suffixes' which cause duplicate columns {'category_x'} in the result is deprecated and will raise a MergeError in a future version.\n",
            "  \n"
          ]
        },
        {
          "output_type": "execute_result",
          "data": {
            "text/plain": [
              "(62103, 22)"
            ]
          },
          "metadata": {},
          "execution_count": 219
        }
      ]
    },
    {
      "cell_type": "code",
      "source": [
        ""
      ],
      "metadata": {
        "colab": {
          "base_uri": "https://localhost:8080/"
        },
        "id": "KPohvohWiBAc",
        "outputId": "b49490ae-07c5-4ef3-bba8-7df2890f4fb9"
      },
      "execution_count": null,
      "outputs": [
        {
          "output_type": "execute_result",
          "data": {
            "text/plain": [
              "(5985, 7)"
            ]
          },
          "metadata": {},
          "execution_count": 221
        }
      ]
    },
    {
      "cell_type": "markdown",
      "source": [
        "#. How many products are being discounted"
      ],
      "metadata": {
        "id": "MaGFNwLvfbX-"
      }
    },
    {
      "cell_type": "code",
      "source": [
        "df['discounts'] = df['discount_perc'].map(lambda x: 'discounted' if x!=0 else 'non_discounted')\n",
        "disc_order=df.groupby('discounts').agg(total_order=('id_order','count')).reset_index()\n",
        "plt.subplots(figsize=(6, 3))\n",
        "tt=sns.barplot(data= disc_order, x='discounts', y='total_order')\n",
        "plt.xlabel('status of discount')\n",
        "plt.ylabel('total order')"
      ],
      "metadata": {
        "colab": {
          "base_uri": "https://localhost:8080/",
          "height": 250
        },
        "id": "rCEgIbGafZ89",
        "outputId": "89088b56-9030-4050-a8b3-74b6ce2f43ef"
      },
      "execution_count": null,
      "outputs": [
        {
          "output_type": "execute_result",
          "data": {
            "text/plain": [
              "Text(0, 0.5, 'total order')"
            ]
          },
          "metadata": {},
          "execution_count": 199
        },
        {
          "output_type": "display_data",
          "data": {
            "text/plain": [
              "<Figure size 432x216 with 1 Axes>"
            ],
            "image/png": "[encoded data removed]"
          },
          "metadata": {}
        }
      ]
    },
    {
      "cell_type": "code",
      "source": [
        "df.shape"
      ],
      "metadata": {
        "id": "opPDYFUUNmoe",
        "colab": {
          "base_uri": "https://localhost:8080/"
        },
        "outputId": "fa0794b3-09cd-45fd-9288-b608d320c194"
      },
      "execution_count": null,
      "outputs": [
        {
          "output_type": "execute_result",
          "data": {
            "text/plain": [
              "(62103, 19)"
            ]
          },
          "metadata": {},
          "execution_count": 190
        }
      ]
    },
    {
      "cell_type": "markdown",
      "source": [
        "# products should be classified into different categories"
      ],
      "metadata": {
        "id": "s2sFlgoBelPc"
      }
    },
    {
      "cell_type": "code",
      "source": [
        "discoplot = (df\n",
        "  .assign(year = df['date'].dt.strftime('%y-%m'), month = df['date'].dt.strftime('%m')) # create year and month\n",
        "  .groupby(['year', 'month']).agg({'discount': 'sum', 'total_paid': 'sum', 'discount_perc':'mean'})\n",
        "  .sort_values(by=['year', 'month'], ascending=True).reset_index()\n",
        ")\n",
        "discoplot['discount'] = discoplot['discount']*3 # boost discount line\n",
        "# print(discoplot)\n",
        "\n",
        "# plot by seaborn\n",
        "\n",
        "\n",
        "plt.subplots(figsize=(10, 8))\n",
        "sns.barplot(data=discoplot, x='year', y='total_paid', hue ='year')\n",
        "x_values = range(len(discoplot['month']))\n",
        "plt.plot(x_values, discoplot['discount'])\n",
        "plt.plot(x_values, discoplot['total_paid'])\n",
        "plt.show()"
      ],
      "metadata": {
        "colab": {
          "base_uri": "https://localhost:8080/",
          "height": 513
        },
        "id": "m89Mv1Qyej5G",
        "outputId": "c8068fca-474b-4111-bb92-ca1337cd0a89"
      },
      "execution_count": null,
      "outputs": [
        {
          "output_type": "display_data",
          "data": {
            "text/plain": [
              "<Figure size 720x576 with 1 Axes>"
            ],
            "image/png": "[encoded data removed]"
          },
          "metadata": {}
        }
      ]
    },
    {
      "cell_type": "code",
      "source": [
        "cat_perc=df.groupby('category', ).agg({'discount_perc':'mean'}).sort_values('discount_perc').reset_index()"
      ],
      "metadata": {
        "id": "dAXTu8NSNZ3C"
      },
      "execution_count": null,
      "outputs": []
    },
    {
      "cell_type": "code",
      "source": [
        "cat_perc['discount_perc'].sum()"
      ],
      "metadata": {
        "colab": {
          "base_uri": "https://localhost:8080/"
        },
        "id": "4pSdawg8dXL5",
        "outputId": "8c3fdd2e-e2e4-4568-ac55-fd92ca34cf32"
      },
      "execution_count": null,
      "outputs": [
        {
          "output_type": "execute_result",
          "data": {
            "text/plain": [
              "94.41081191327147"
            ]
          },
          "metadata": {},
          "execution_count": 194
        }
      ]
    },
    {
      "cell_type": "markdown",
      "source": [
        "# discounts as a percentage of the product prices."
      ],
      "metadata": {
        "id": "Dvr_ioiAgAfl"
      }
    },
    {
      "cell_type": "code",
      "source": [
        "plt.subplots(figsize=(10, 7))\n",
        "sns.barplot(data=cat_perc, x='category', y='discount_perc')"
      ],
      "metadata": {
        "colab": {
          "base_uri": "https://localhost:8080/",
          "height": 465
        },
        "id": "clujA4mYNzDi",
        "outputId": "7df91543-9f5d-4649-c82a-0318519123c6"
      },
      "execution_count": null,
      "outputs": [
        {
          "output_type": "execute_result",
          "data": {
            "text/plain": [
              "<matplotlib.axes._subplots.AxesSubplot at 0x7f31902c3e90>"
            ]
          },
          "metadata": {},
          "execution_count": 200
        },
        {
          "output_type": "display_data",
          "data": {
            "text/plain": [
              "<Figure size 720x504 with 1 Axes>"
            ],
            "image/png": "[encoded data removed]"
          },
          "metadata": {}
        }
      ]
    },
    {
      "cell_type": "code",
      "source": [
        "[a for a in cat_perc['category']]"
      ],
      "metadata": {
        "colab": {
          "base_uri": "https://localhost:8080/"
        },
        "id": "aJ2S12AXO-o4",
        "outputId": "c8d7b2e5-14ca-41f4-939b-6e658ff9e35f"
      },
      "execution_count": null,
      "outputs": [
        {
          "output_type": "execute_result",
          "data": {
            "text/plain": [
              "['Watch', 'iPad', 'iPhone', 'Mac', 'Storage', 'Service', 'Accessories']"
            ]
          },
          "metadata": {},
          "execution_count": 178
        }
      ]
    },
    {
      "cell_type": "code",
      "source": [
        "[round(a,1) for a in cat_perc['discount_perc']]"
      ],
      "metadata": {
        "colab": {
          "base_uri": "https://localhost:8080/"
        },
        "id": "0EtkyEAlPPAg",
        "outputId": "332a3e59-7ebe-457a-afe9-76e639101280"
      },
      "execution_count": null,
      "outputs": [
        {
          "output_type": "execute_result",
          "data": {
            "text/plain": [
              "[5.9, 7.4, 8.0, 11.6, 16.9, 20.0, 24.7]"
            ]
          },
          "metadata": {},
          "execution_count": 179
        }
      ]
    },
    {
      "cell_type": "code",
      "source": [
        "labels = 'Watch', 'iPad', 'iPhone', 'Mac', 'Storage', 'Service', 'Accessories'\n",
        "sizes = [5.9, 7.4, 8.0, 11.6, 16.9, 20.0, 24.7]\n",
        "#explode = (0, 0.1, 0, 0)  # only \"explode\" the 2nd slice (i.e. 'Hogs')\n",
        "\n",
        "#g1, ax1 = plt.subplots()\n",
        "ax1.pie(sizes,  labels=labels, autopct='%1.1f%%',\n",
        "        shadow=True, startangle=90)\n",
        "#ax1.axis('equal')  # Equal aspect ratio ensures that pie is drawn as a circle.\n",
        "\n",
        "plt.show()"
      ],
      "metadata": {
        "colab": {
          "base_uri": "https://localhost:8080/",
          "height": 251
        },
        "id": "NS2-nDTTO5YG",
        "outputId": "00e33b77-9f7b-4c20-81eb-a797c8c87518"
      },
      "execution_count": null,
      "outputs": [
        {
          "output_type": "display_data",
          "data": {
            "text/plain": [
              "<Figure size 432x288 with 1 Axes>"
            ],
            "image/png": "[encoded data removed]"
          },
          "metadata": {}
        }
      ]
    },
    {
      "cell_type": "markdown",
      "source": [
        "\n",
        "\n"
      ],
      "metadata": {
        "id": "L4HYD2w4Ugj9"
      }
    },
    {
      "cell_type": "markdown",
      "source": [
        "#### Some plots regarding categories"
      ],
      "metadata": {
        "id": "LvI9b_NXyjAR"
      }
    },
    {
      "cell_type": "code",
      "source": [
        "df.shape"
      ],
      "metadata": {
        "colab": {
          "base_uri": "https://localhost:8080/"
        },
        "id": "LsDbKemWXsPN",
        "outputId": "4bd4bd46-7f10-4f34-8d76-0f641860db68"
      },
      "execution_count": null,
      "outputs": [
        {
          "output_type": "execute_result",
          "data": {
            "text/plain": [
              "(62103, 18)"
            ]
          },
          "metadata": {},
          "execution_count": 182
        }
      ]
    },
    {
      "cell_type": "code",
      "source": [
        "df.head(3)"
      ],
      "metadata": {
        "colab": {
          "base_uri": "https://localhost:8080/",
          "height": 478
        },
        "id": "INsQwZKKVkJC",
        "outputId": "e8160220-5cc0-4e9d-c47e-7d31ad947743"
      },
      "execution_count": null,
      "outputs": [
        {
          "output_type": "execute_result",
          "data": {
            "text/plain": [
              "        id  id_order  product_quantity      sku  unit_price  \\\n",
              "0  1119116    299545                 1  OWC0100       47.49   \n",
              "1  1119119    299546                 1  IOT0014       18.99   \n",
              "2  1119120    295347                 1  APP0700       72.19   \n",
              "\n",
              "                 date  total_price  total_paid      state  \\\n",
              "0 2017-01-01 01:46:16        47.49       51.48  Completed   \n",
              "1 2017-01-01 01:50:34        18.99       18.99  Completed   \n",
              "2 2017-01-01 01:54:11        72.19       72.19  Completed   \n",
              "\n",
              "                                                              name  \\\n",
              "0         OWC In-line Digital Temperature Sensor Kit HDD iMac 2011   \n",
              "1                             iOttie Easy View 2 Car Black Support   \n",
              "2  Apple 85W MagSafe 2 charger MacBook Pro screen Retina 15 \"(OEM)   \n",
              "\n",
              "                                                                 desc  price  \\\n",
              "0       Kit temperature sensor for HDD iMac 21 inch and 27 inch 2011.  60.99   \n",
              "1              IPhone car holder 7 plus / 7/6 Plus / 6 / 5s / 5c / 4S  22.95   \n",
              "2  Apple MagSafe 2 Charger for MacBook Pro 15-inch Retina 85W unboxed  89.00   \n",
              "\n",
              "       type  max_price_orderlines  discount  discount_perc     category  \\\n",
              "0  12755395                   NaN     13.50          22.00      Storage   \n",
              "1      5720                   NaN      3.96          17.00  Accessories   \n",
              "2  13005399                   NaN     16.81          19.00  Accessories   \n",
              "\n",
              "         perc  \n",
              "0  discounted  \n",
              "1  discounted  \n",
              "2  discounted  "
            ],
            "text/html": [
              "\n",
              "  <div id=\"df-853b1124-0e42-4e70-b8e7-2d4aa081aa58\">\n",
              "    <div class=\"colab-df-container\">\n",
              "      <div>\n",
              "<style scoped>\n",
              "    .dataframe tbody tr th:only-of-type {\n",
              "        vertical-align: middle;\n",
              "    }\n",
              "\n",
              "    .dataframe tbody tr th {\n",
              "        vertical-align: top;\n",
              "    }\n",
              "\n",
              "    .dataframe thead th {\n",
              "        text-align: right;\n",
              "    }\n",
              "</style>\n",
              "<table border=\"1\" class=\"dataframe\">\n",
              "  <thead>\n",
              "    <tr style=\"text-align: right;\">\n",
              "      <th></th>\n",
              "      <th>id</th>\n",
              "      <th>id_order</th>\n",
              "      <th>product_quantity</th>\n",
              "      <th>sku</th>\n",
              "      <th>unit_price</th>\n",
              "      <th>date</th>\n",
              "      <th>total_price</th>\n",
              "      <th>total_paid</th>\n",
              "      <th>state</th>\n",
              "      <th>name</th>\n",
              "      <th>desc</th>\n",
              "      <th>price</th>\n",
              "      <th>type</th>\n",
              "      <th>max_price_orderlines</th>\n",
              "      <th>discount</th>\n",
              "      <th>discount_perc</th>\n",
              "      <th>category</th>\n",
              "      <th>perc</th>\n",
              "    </tr>\n",
              "  </thead>\n",
              "  <tbody>\n",
              "    <tr>\n",
              "      <th>0</th>\n",
              "      <td>1119116</td>\n",
              "      <td>299545</td>\n",
              "      <td>1</td>\n",
              "      <td>OWC0100</td>\n",
              "      <td>47.49</td>\n",
              "      <td>2017-01-01 01:46:16</td>\n",
              "      <td>47.49</td>\n",
              "      <td>51.48</td>\n",
              "      <td>Completed</td>\n",
              "      <td>OWC In-line Digital Temperature Sensor Kit HDD iMac 2011</td>\n",
              "      <td>Kit temperature sensor for HDD iMac 21 inch and 27 inch 2011.</td>\n",
              "      <td>60.99</td>\n",
              "      <td>12755395</td>\n",
              "      <td>NaN</td>\n",
              "      <td>13.50</td>\n",
              "      <td>22.00</td>\n",
              "      <td>Storage</td>\n",
              "      <td>discounted</td>\n",
              "    </tr>\n",
              "    <tr>\n",
              "      <th>1</th>\n",
              "      <td>1119119</td>\n",
              "      <td>299546</td>\n",
              "      <td>1</td>\n",
              "      <td>IOT0014</td>\n",
              "      <td>18.99</td>\n",
              "      <td>2017-01-01 01:50:34</td>\n",
              "      <td>18.99</td>\n",
              "      <td>18.99</td>\n",
              "      <td>Completed</td>\n",
              "      <td>iOttie Easy View 2 Car Black Support</td>\n",
              "      <td>IPhone car holder 7 plus / 7/6 Plus / 6 / 5s / 5c / 4S</td>\n",
              "      <td>22.95</td>\n",
              "      <td>5720</td>\n",
              "      <td>NaN</td>\n",
              "      <td>3.96</td>\n",
              "      <td>17.00</td>\n",
              "      <td>Accessories</td>\n",
              "      <td>discounted</td>\n",
              "    </tr>\n",
              "    <tr>\n",
              "      <th>2</th>\n",
              "      <td>1119120</td>\n",
              "      <td>295347</td>\n",
              "      <td>1</td>\n",
              "      <td>APP0700</td>\n",
              "      <td>72.19</td>\n",
              "      <td>2017-01-01 01:54:11</td>\n",
              "      <td>72.19</td>\n",
              "      <td>72.19</td>\n",
              "      <td>Completed</td>\n",
              "      <td>Apple 85W MagSafe 2 charger MacBook Pro screen Retina 15 \"(OEM)</td>\n",
              "      <td>Apple MagSafe 2 Charger for MacBook Pro 15-inch Retina 85W unboxed</td>\n",
              "      <td>89.00</td>\n",
              "      <td>13005399</td>\n",
              "      <td>NaN</td>\n",
              "      <td>16.81</td>\n",
              "      <td>19.00</td>\n",
              "      <td>Accessories</td>\n",
              "      <td>discounted</td>\n",
              "    </tr>\n",
              "  </tbody>\n",
              "</table>\n",
              "</div>\n",
              "      <button class=\"colab-df-convert\" onclick=\"convertToInteractive('df-853b1124-0e42-4e70-b8e7-2d4aa081aa58')\"\n",
              "              title=\"Convert this dataframe to an interactive table.\"\n",
              "              style=\"display:none;\">\n",
              "        \n",
              "  <svg xmlns=\"http://www.w3.org/2000/svg\" height=\"24px\"viewBox=\"0 0 24 24\"\n",
              "       width=\"24px\">\n",
              "    <path d=\"M0 0h24v24H0V0z\" fill=\"none\"/>\n",
              "    <path d=\"M18.56 5.44l.94 2.06.94-2.06 2.06-.94-2.06-.94-.94-2.06-.94 2.06-2.06.94zm-11 1L8.5 8.5l.94-2.06 2.06-.94-2.06-.94L8.5 2.5l-.94 2.06-2.06.94zm10 10l.94 2.06.94-2.06 2.06-.94-2.06-.94-.94-2.06-.94 2.06-2.06.94z\"/><path d=\"M17.41 7.96l-1.37-1.37c-.4-.4-.92-.59-1.43-.59-.52 0-1.04.2-1.43.59L10.3 9.45l-7.72 7.72c-.78.78-.78 2.05 0 2.83L4 21.41c.39.39.9.59 1.41.59.51 0 1.02-.2 1.41-.59l7.78-7.78 2.81-2.81c.8-.78.8-2.07 0-2.86zM5.41 20L4 18.59l7.72-7.72 1.47 1.35L5.41 20z\"/>\n",
              "  </svg>\n",
              "      </button>\n",
              "      \n",
              "  <style>\n",
              "    .colab-df-container {\n",
              "      display:flex;\n",
              "      flex-wrap:wrap;\n",
              "      gap: 12px;\n",
              "    }\n",
              "\n",
              "    .colab-df-convert {\n",
              "      background-color: #E8F0FE;\n",
              "      border: none;\n",
              "      border-radius: 50%;\n",
              "      cursor: pointer;\n",
              "      display: none;\n",
              "      fill: #1967D2;\n",
              "      height: 32px;\n",
              "      padding: 0 0 0 0;\n",
              "      width: 32px;\n",
              "    }\n",
              "\n",
              "    .colab-df-convert:hover {\n",
              "      background-color: #E2EBFA;\n",
              "      box-shadow: 0px 1px 2px rgba(60, 64, 67, 0.3), 0px 1px 3px 1px rgba(60, 64, 67, 0.15);\n",
              "      fill: #174EA6;\n",
              "    }\n",
              "\n",
              "    [theme=dark] .colab-df-convert {\n",
              "      background-color: #3B4455;\n",
              "      fill: #D2E3FC;\n",
              "    }\n",
              "\n",
              "    [theme=dark] .colab-df-convert:hover {\n",
              "      background-color: #434B5C;\n",
              "      box-shadow: 0px 1px 3px 1px rgba(0, 0, 0, 0.15);\n",
              "      filter: drop-shadow(0px 1px 2px rgba(0, 0, 0, 0.3));\n",
              "      fill: #FFFFFF;\n",
              "    }\n",
              "  </style>\n",
              "\n",
              "      <script>\n",
              "        const buttonEl =\n",
              "          document.querySelector('#df-853b1124-0e42-4e70-b8e7-2d4aa081aa58 button.colab-df-convert');\n",
              "        buttonEl.style.display =\n",
              "          google.colab.kernel.accessAllowed ? 'block' : 'none';\n",
              "\n",
              "        async function convertToInteractive(key) {\n",
              "          const element = document.querySelector('#df-853b1124-0e42-4e70-b8e7-2d4aa081aa58');\n",
              "          const dataTable =\n",
              "            await google.colab.kernel.invokeFunction('convertToInteractive',\n",
              "                                                     [key], {});\n",
              "          if (!dataTable) return;\n",
              "\n",
              "          const docLinkHtml = 'Like what you see? Visit the ' +\n",
              "            '<a target=\"_blank\" href=https://colab.research.google.com/notebooks/data_table.ipynb>data table notebook</a>'\n",
              "            + ' to learn more about interactive tables.';\n",
              "          element.innerHTML = '';\n",
              "          dataTable['output_type'] = 'display_data';\n",
              "          await google.colab.output.renderOutput(dataTable, element);\n",
              "          const docLink = document.createElement('div');\n",
              "          docLink.innerHTML = docLinkHtml;\n",
              "          element.appendChild(docLink);\n",
              "        }\n",
              "      </script>\n",
              "    </div>\n",
              "  </div>\n",
              "  "
            ]
          },
          "metadata": {},
          "execution_count": 183
        }
      ]
    },
    {
      "cell_type": "code",
      "source": [
        "df_perc_only = df.query('discount_perc >0')\n"
      ],
      "metadata": {
        "id": "2CF2Y3zJNZQh"
      },
      "execution_count": null,
      "outputs": []
    },
    {
      "cell_type": "code",
      "source": [
        "sns.boxplot(data=df_perc_only, x= 'category', y='discount_perc')"
      ],
      "metadata": {
        "colab": {
          "base_uri": "https://localhost:8080/",
          "height": 302
        },
        "id": "1FH_wUzLQpq6",
        "outputId": "829787d1-1751-4301-aad0-39c841d47872"
      },
      "execution_count": null,
      "outputs": [
        {
          "output_type": "execute_result",
          "data": {
            "text/plain": [
              "<matplotlib.axes._subplots.AxesSubplot at 0x7f318864ca90>"
            ]
          },
          "metadata": {},
          "execution_count": 185
        },
        {
          "output_type": "display_data",
          "data": {
            "text/plain": [
              "<Figure size 432x288 with 1 Axes>"
            ],
            "image/png": "[encoded data removed]"
          },
          "metadata": {}
        }
      ]
    },
    {
      "cell_type": "code",
      "source": [
        "df_perc_neg = df.query('discount_perc <0')\n",
        "df_perc_neg.shape\n",
        "sns.boxplot(data=df_perc_neg, x= 'category', y='discount_perc')"
      ],
      "metadata": {
        "colab": {
          "base_uri": "https://localhost:8080/",
          "height": 302
        },
        "id": "-5wrPSegT7DS",
        "outputId": "26f606ec-d0e2-4993-89bc-775e86b5d651"
      },
      "execution_count": null,
      "outputs": [
        {
          "output_type": "execute_result",
          "data": {
            "text/plain": [
              "<matplotlib.axes._subplots.AxesSubplot at 0x7f3189663e50>"
            ]
          },
          "metadata": {},
          "execution_count": 186
        },
        {
          "output_type": "display_data",
          "data": {
            "text/plain": [
              "<Figure size 432x288 with 1 Axes>"
            ],
            "image/png": "[encoded data removed]"
          },
          "metadata": {}
        }
      ]
    },
    {
      "cell_type": "code",
      "source": [
        "#sns.boxplot(data=df_wit_perc_only, x='category', y='discount_perc');"
      ],
      "metadata": {
        "colab": {
          "base_uri": "https://localhost:8080/",
          "height": 164
        },
        "id": "1Ro1Pqu9Qhfv",
        "outputId": "b81e4e77-ebac-4381-ee69-2d7c9da1f625"
      },
      "execution_count": null,
      "outputs": [
        {
          "output_type": "error",
          "ename": "NameError",
          "evalue": "ignored",
          "traceback": [
            "\u001b[0;31m---------------------------------------------------------------------------\u001b[0m",
            "\u001b[0;31mNameError\u001b[0m                                 Traceback (most recent call last)",
            "\u001b[0;32m<ipython-input-188-d661e6e945da>\u001b[0m in \u001b[0;36m<module>\u001b[0;34m()\u001b[0m\n\u001b[0;32m----> 1\u001b[0;31m \u001b[0msns\u001b[0m\u001b[0;34m.\u001b[0m\u001b[0mboxplot\u001b[0m\u001b[0;34m(\u001b[0m\u001b[0mdata\u001b[0m\u001b[0;34m=\u001b[0m\u001b[0mdf_wit_perc_only\u001b[0m\u001b[0;34m,\u001b[0m \u001b[0mx\u001b[0m\u001b[0;34m=\u001b[0m\u001b[0;34m'category'\u001b[0m\u001b[0;34m,\u001b[0m \u001b[0my\u001b[0m\u001b[0;34m=\u001b[0m\u001b[0;34m'discount_perc'\u001b[0m\u001b[0;34m)\u001b[0m\u001b[0;34m;\u001b[0m\u001b[0;34m\u001b[0m\u001b[0;34m\u001b[0m\u001b[0m\n\u001b[0m",
            "\u001b[0;31mNameError\u001b[0m: name 'df_wit_perc_only' is not defined"
          ]
        }
      ]
    },
    {
      "cell_type": "code",
      "source": [
        "q2 = df.groupby('category').agg({'price':'mean'}).sort_values('price', ascending=False).reset_index()\n",
        "plt.subplots(figsize=(12, 8))\n",
        "tt=sns.barplot(data=q2, x='category', y='price', ci='sd')\n",
        "tt.axhline(\n",
        "    df['price'].mean(), # value where you want to add your reference line\n",
        "    linestyle='--', # type of line you would like to see on the plot. You can find more informaiton on its documentation\n",
        "    color='gray'\n",
        ")\n",
        "plt.xlabel('Categories')\n",
        "plt.ylabel('Average price')"
      ],
      "metadata": {
        "id": "rRhutqo3xv53"
      },
      "execution_count": null,
      "outputs": []
    },
    {
      "cell_type": "code",
      "source": [
        "q2 = df.groupby('category').agg({'price':'mean'}).sort_values('price', ascending=False).reset_index()\n",
        "plt.subplots(figsize=(12, 8))\n",
        "tt=sns.violinplot(data=products, x='category', y='price', ci='sd')\n",
        "tt.axhline(\n",
        "    df['price'].mean(), # value where you want to add your reference line\n",
        "    linestyle='--', # type of line you would like to see on the plot. You can find more informaiton on its documentation\n",
        "    color='gray'\n",
        ")\n",
        "plt.xlabel('Categories')\n",
        "plt.ylabel('Average price')"
      ],
      "metadata": {
        "id": "IGrVX6xhxv55"
      },
      "execution_count": null,
      "outputs": []
    },
    {
      "cell_type": "code",
      "source": [
        "q2 = df.groupby('category').agg({'price':'mean'}).sort_values('price', ascending=False).reset_index()\n",
        "plt.subplots(figsize=(12, 8))\n",
        "tt=sns.boxplot(data=products, x='category', y='price')\n",
        "tt.axhline(\n",
        "    df['price'].mean(), # value where you want to add your reference line\n",
        "    linestyle='--', # type of line you would like to see on the plot. You can find more informaiton on its documentation\n",
        "    color='gray'\n",
        ")\n",
        "plt.xlabel('Categories')\n",
        "plt.ylabel('Average price')"
      ],
      "metadata": {
        "id": "enxyHj7_xv55"
      },
      "execution_count": null,
      "outputs": []
    },
    {
      "cell_type": "code",
      "source": [
        "dd=df.groupby('category').agg(total_products=('category','count') ).sort_values('total_products', ascending=False).reset_index()\n",
        "plt.subplots(figsize=(12, 8))\n",
        "sns.barplot(data=dd, y='category', x='total_products')\n",
        "sns.despine(top=True, right=True, left=True, bottom=True)"
      ],
      "metadata": {
        "id": "p50qAFaqxv55"
      },
      "execution_count": null,
      "outputs": []
    },
    {
      "cell_type": "markdown",
      "metadata": {
        "id": "smiwnr3piffo"
      },
      "source": [
        "# Experiments"
      ]
    },
    {
      "cell_type": "code",
      "source": [
        "df_perc_only = df.query('discount_perc > 0')\n",
        "# print(df_wit_perc)\n",
        "sns.boxplot(data=df_perc_only, x='category', y='discount_perc');\n",
        "# add range here? between 0 and 100"
      ],
      "metadata": {
        "id": "VoP7m-hLnlFL"
      },
      "execution_count": null,
      "outputs": []
    },
    {
      "cell_type": "code",
      "source": [
        "q2 = df.groupby('category').agg({'price':'mean'}).sort_values('price', ascending=False).reset_index()\n",
        "plt.subplots(figsize=(12, 8))\n",
        "tt=sns.boxplot(data=products, x='category', y='price')\n",
        "tt.axhline(\n",
        "    df['discount_perc'].mean(), # value where you want to add your reference line\n",
        "    linestyle='--', # type of line you would like to see on the plot. You can find more informaiton on its documentation\n",
        "    color='gray'\n",
        ")\n",
        "plt.xlabel('Categories')\n",
        "plt.ylabel('Average price')"
      ],
      "metadata": {
        "id": "Af--Jz8Bnlku"
      },
      "execution_count": null,
      "outputs": []
    },
    {
      "cell_type": "code",
      "execution_count": null,
      "metadata": {
        "id": "JQpe-Zl0Ajjp"
      },
      "outputs": [],
      "source": [
        "# Sebastian says\n",
        "\n",
        "# sum of products - apple/non-apple\n",
        "products['short_sku'] = products['sku'].str[0:3]\n",
        "products['cat'] = ['Apple' if (x == 'APP' or x == 'AP2') else 'Others' for x in products['short_sku']] # this is the filter\n",
        "pro_by_cat = (products[['cat', 'short_sku']]\n",
        "  .groupby('cat').count()\n",
        "  .reset_index()\n",
        ")\n",
        "# print(pro_by_cat)\n",
        "\n",
        "# plot it\n",
        "plt.bar(range(len(pro_by_cat['cat'])), pro_by_cat['short_sku'])\n",
        "plt.title('sample categories')\n",
        "plt.xlabel('sorted by')\n",
        "plt.ylabel('different products')\n",
        "ax = plt.subplot()\n",
        "ax.set_xticks(range(len(pro_by_cat['cat'])))\n",
        "ax.set_xticklabels(pro_by_cat['cat'])\n",
        "plt.show()\n",
        "\n",
        "# find prize categories\n"
      ]
    },
    {
      "cell_type": "code",
      "source": [
        "# How many products are being discounted? by category\n",
        "# sum where discount.sum == 0\n",
        "# sum where discount.sum != 0\n",
        "\n",
        "cat_list_dirty = df['category'].unique()\n",
        "cat_list = [x for x in cat_list_dirty if x == x] # remove nan from list\n",
        "# print(cat_list)\n",
        "\n",
        "plt.subplots(figsize=(18, 10))\n",
        "index_of_subplot = 0\n",
        "\n",
        "for cat_ in cat_list:\n",
        "  index_of_subplot += 1\n",
        "\n",
        "#  print(index_of_subplot%4)\n",
        "#  print(cat_)\n",
        "\n",
        "  disco_ = (df\n",
        "    .query('discount == 0')\n",
        "    .query('category == @cat_')\n",
        "    .groupby(['sku']).agg({'sku': 'count'})\n",
        "  )\n",
        "  disco_yes=len(disco_.index)\n",
        "\n",
        "  disco_ = (df\n",
        "    .query('discount != 0')\n",
        "    .query('category == @cat_')\n",
        "    .groupby(['sku']).agg({'sku': 'count'})\n",
        "  )\n",
        "  disco_no=len(disco_.index)\n",
        "\n",
        "  # def subplot\n",
        "  x_values = [disco_yes, disco_no]\n",
        "  labeling = ['discounted', 'regular']\n",
        "  plt.subplot(2, len(df['category'].unique())/2, index_of_subplot)\n",
        "  plt.title(cat_)\n",
        "  plt.pie(x_values, autopct='%0.1f%%', startangle=90, counterclock=False, colors=['orange', 'lightyellow']) # labels=labeling,\n",
        "\n",
        "# plot it all\n",
        "plt.legend(['discounted', 'regular'], loc=4)\n",
        "plt.show()"
      ],
      "metadata": {
        "id": "7gks3FK63WMY"
      },
      "execution_count": null,
      "outputs": []
    },
    {
      "cell_type": "code",
      "source": [
        "# Nabil says\n",
        "\n",
        "products[products.name.str.startswith('Apple iPad')].head(2)"
      ],
      "metadata": {
        "id": "DdVImIcUWBXA"
      },
      "execution_count": null,
      "outputs": []
    },
    {
      "cell_type": "code",
      "source": [
        "# Aslam says\n",
        "def cat_fun(x):\n",
        "  if pd.Series(x).str.lower().str.contains('apple').sum() > 0:\n",
        "    return 'app_prod'\n",
        "  elif pd.Series(x).str.lower().str.contains('hard drive|ssd|memory').sum() > 0:\n",
        "  #products['name'].str.lower().str.contains('hard drive|ssd')==True:\n",
        "    return 'hard_drive'\n",
        "  elif pd.Series(x).str.lower().str.contains('case').sum() > 0:\n",
        "  #products['name'].str.lower().str.contains('case')==True:\n",
        "    return 'cover_case'\n",
        "  elif pd.Series(x).str.lower().str.contains('backpack|aluminum').sum() > 0:\n",
        "    return 'backpack'\n",
        "  elif pd.Series(x).str.lower().str.contains('repair').sum() > 0:\n",
        "    return 'refurbished'\n",
        "  elif pd.Series(x).str.lower().str.contains('gb ram').sum() > 0:\n",
        "    return 'ram'    \n",
        "  else:\n",
        "    return 'others'\n",
        "pp=products.assign(category= products['name'].map(lambda x: cat_fun(x)))"
      ],
      "metadata": {
        "id": "_rx0e0yJMz54"
      },
      "execution_count": null,
      "outputs": []
    },
    {
      "cell_type": "code",
      "source": [
        "#Aslam\n",
        "#need to reduce others category\n",
        "plt.subplots(figsize=(12, 8))\n",
        "q1=pp.groupby('category').agg(total_products=('category','count') ).sort_values('total_products').reset_index()\n",
        "sns.barplot(data=q1, x='category', y='total_products')"
      ],
      "metadata": {
        "id": "IJk7AFdqg1SV"
      },
      "execution_count": null,
      "outputs": []
    },
    {
      "cell_type": "code",
      "source": [
        "q2 = pp.groupby('category').agg({'price':'mean'}).sort_values('price', ascending=False).reset_index()\n",
        "plt.subplots(figsize=(12, 8))\n",
        "fig=sns.barplot(data=q2, x='category', y='price', ci='sd')\n",
        "fig.axhline(\n",
        "    products['price'].mean(), # value where you want to add your reference line\n",
        "    linestyle='--', # type of line you would like to see on the plot. You can find more informaiton on its documentation\n",
        "    color='gray'\n",
        ")\n",
        "plt.xlabel('Categories')\n",
        "plt.ylabel('Average price')\n"
      ],
      "metadata": {
        "id": "TUxVCPxoiJ9t"
      },
      "execution_count": null,
      "outputs": []
    },
    {
      "cell_type": "code",
      "source": [
        "# from collections import Counter\n",
        "# Counter(\" \".join(products[products.name.str.contains(re.compile(r\"^apple i?mac\", flags=re.IGNORECASE))].name).split()).most_common(10)"
      ],
      "metadata": {
        "id": "zW8scpXj4ThK"
      },
      "execution_count": null,
      "outputs": []
    },
    {
      "cell_type": "markdown",
      "source": [
        "# 1.   Settle the ongoing debate: whether or not it’s beneficial to discount products.\n",
        "\n",
        "*   The Marketing Team Lead: \n",
        "\n",
        "> Offering discounts is beneficial in the long run - discounts improve customer acquisition, satisfaction and retention, and allow the company to grow.\n",
        "\n",
        "*   The main investors in the Board:\n",
        "\n",
        "> Prefer that the company positions itself in the quality segment, rather than competing to offer the lowest prices in the market - the company’s recent quarterly results showed an increase in orders placed, but a decrease in the total revenue."
      ],
      "metadata": {
        "id": "1FCCaL0sdxfH"
      }
    },
    {
      "cell_type": "markdown",
      "source": [
        "A critical question, hence, is whether revenue grows whenever discounts increase."
      ],
      "metadata": {
        "id": "xnbniKrTeT0N"
      }
    },
    {
      "cell_type": "code",
      "source": [
        "months = ['Jan', 'Feb', 'Mar', 'Apr', 'May', 'Jun', \n",
        "          'Jul', 'Aug', 'Sep', 'Oct', 'Nov', 'Dec']"
      ],
      "metadata": {
        "id": "WwkYijFBNKqO"
      },
      "execution_count": null,
      "outputs": []
    },
    {
      "cell_type": "code",
      "source": [
        "df_discounts = \\\n",
        "(df\n",
        "    .sort_values('date')\n",
        "    .assign(year = df['date'].dt.strftime('%Y'),\n",
        "            month = pd.Categorical(df.date.dt.strftime('%b'), categories=months, ordered=True))\n",
        "            # month = pd.Categorical(df['date'].dt.strftime('%b'))\n",
        "    .groupby(['year','month'])\n",
        "    .agg(total_product_quantity = ('product_quantity', sum), total_discount = ('discount', sum),\\\n",
        "                                    revenue = ('total_price', sum))\n",
        "    .sort_values(['year','month'])\n",
        "    .replace(0, np.nan)\n",
        "    .reset_index()\n",
        ")"
      ],
      "metadata": {
        "id": "E18_YAolzqa6"
      },
      "execution_count": null,
      "outputs": []
    },
    {
      "cell_type": "code",
      "source": [
        "# define the size of the plot\n",
        "# using matplotlib (plt), which operates together with seaborn\n",
        "\n",
        "plt.subplots(figsize=(12, 8))\n",
        "\n",
        "sns.set_style(\"darkgrid\") # darkgrid, whitegrid, dark, white, and ticks.\n",
        "sns.set_palette(\"pastel\") # deep, muted, pastel, bright, dark, and colorblind\n",
        "\n",
        "# p = sns.barplot(data=df,\n",
        "#                 x='',\n",
        "#                 y='',\n",
        "#                 hue='',\n",
        "#                 order=[],\n",
        "#                 ci=\"sd\"\n",
        "#                 estimator=) # np.median for median and len to calculate the number of times a particular value appears in the y column\n",
        "\n",
        "\n",
        "total_discount_p = (sns.lineplot(data=df_discounts,\n",
        "                 x='month',\n",
        "                 y='total_discount',\n",
        "                  hue='year', ))\n",
        "\n",
        "revenue_p = (sns.lineplot(data=df_discounts,\n",
        "                 x='month',\n",
        "                 y='revenue',\n",
        "                 hue='year', palette=\"bright\"))\n",
        "# sns.set_style(\"\") # darkgrid, whitegrid, dark, white, and ticks.\n",
        "\n",
        "# add a horizontal reference line into the chart to know where the mean value will be\n",
        "# p.axhline(\n",
        "#     df['y'].mean(), # value where you want to add your reference line\n",
        "#     linestyle='--', # type of line you would like to see on the plot. You can find more informaiton on its documentation\n",
        "#     color='gray')\n",
        "\n",
        "# plt.xlim('Oct','Dec') # define a limit to put focus on your chart\n",
        "# plt.ylim('Oct','Dec') # define a limit to put focus on your chart\n",
        "\n",
        "plt.xlabel('Months')\n",
        "plt.ylabel('Revenue')\n",
        "plt.title('Discounts and Revenue over Time 2017 vs 2018')\n",
        "\n",
        "plt.legend(labels=['2017', '2018'])\n",
        "\n",
        "plt.ticklabel_format(style='plain', axis='y') # remove scientific notation for the y axis\n",
        "\n",
        "# sns.despine() # remove the top and right margin, to make your plot prettier\n",
        "\n",
        "# sns.set_style(\"\") # darkgrid, whitegrid, dark, white, and ticks.\n",
        "\n",
        "plt.show()"
      ],
      "metadata": {
        "colab": {
          "base_uri": "https://localhost:8080/",
          "height": 513
        },
        "id": "O7ojBR87Bfym",
        "outputId": "f061de0d-a130-4a14-cc93-af32d6b77c08"
      },
      "execution_count": null,
      "outputs": [
        {
          "output_type": "display_data",
          "data": {
            "text/plain": [
              "<Figure size 864x576 with 1 Axes>"
            ],
            "image/png": "[encoded data removed]"
          },
          "metadata": {}
        }
      ]
    },
    {
      "cell_type": "markdown",
      "source": [
        "The plot supports the idea that offering discounts is beneficial in the long run"
      ],
      "metadata": {
        "id": "ldy7fkRgdLL_"
      }
    }
  ],
  "metadata": {
    "colab": {
      "collapsed_sections": [],
      "name": "Copy of eniac_common_group1.ipynb",
      "provenance": [],
      "include_colab_link": true
    },
    "kernelspec": {
      "display_name": "Python 3",
      "name": "python3"
    },
    "language_info": {
      "name": "python"
    }
  },
  "nbformat": 4,
  "nbformat_minor": 0
}